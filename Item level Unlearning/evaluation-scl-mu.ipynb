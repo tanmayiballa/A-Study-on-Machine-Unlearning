{
 "cells": [
  {
   "cell_type": "code",
   "execution_count": 1,
   "metadata": {
    "execution": {
     "iopub.execute_input": "2023-12-06T16:00:10.525223Z",
     "iopub.status.busy": "2023-12-06T16:00:10.524848Z",
     "iopub.status.idle": "2023-12-06T16:00:13.186723Z",
     "shell.execute_reply": "2023-12-06T16:00:13.185814Z",
     "shell.execute_reply.started": "2023-12-06T16:00:10.525191Z"
    }
   },
   "outputs": [
    {
     "name": "stderr",
     "output_type": "stream",
     "text": [
      "/opt/conda/lib/python3.10/site-packages/scipy/__init__.py:146: UserWarning: A NumPy version >=1.16.5 and <1.23.0 is required for this version of SciPy (detected version 1.24.3\n",
      "  warnings.warn(f\"A NumPy version >={np_minversion} and <{np_maxversion}\"\n"
     ]
    },
    {
     "name": "stdout",
     "output_type": "stream",
     "text": [
      "Running on device: CUDA\n"
     ]
    },
    {
     "data": {
      "text/plain": [
       "'cuda'"
      ]
     },
     "execution_count": 1,
     "metadata": {},
     "output_type": "execute_result"
    }
   ],
   "source": [
    "import os\n",
    "import subprocess\n",
    "\n",
    "import pandas as pd\n",
    "import torch\n",
    "import torchvision\n",
    "import torch.nn as nn\n",
    "import torch.optim as optim\n",
    "from torchvision.models import resnet18\n",
    "from torch.utils.data import DataLoader, Dataset\n",
    "import torch.nn.functional as F\n",
    "\n",
    "import os\n",
    "import requests\n",
    "import numpy as np\n",
    "import matplotlib.pyplot as plt\n",
    "from sklearn import linear_model, model_selection\n",
    "\n",
    "import torch\n",
    "from torch import nn\n",
    "from torch import optim\n",
    "from torch.utils.data import DataLoader\n",
    "\n",
    "import torchvision\n",
    "from torchvision import transforms\n",
    "from torchvision.utils import make_grid\n",
    "from torchvision.models import resnet18\n",
    "from copy import deepcopy\n",
    "import torch.nn.functional as F\n",
    "from sklearn import linear_model, model_selection\n",
    "from sklearn.metrics import make_scorer, accuracy_score\n",
    "from tqdm.notebook import tqdm\n",
    "\n",
    "DEVICE = \"cuda\" if torch.cuda.is_available() else \"cpu\"\n",
    "print(\"Running on device:\", DEVICE.upper())\n",
    "\n",
    "from typing import Callable\n",
    "\n",
    "# manual random seed is used for dataset partitioning\n",
    "# to ensure reproducible results across runs\n",
    "RNG = torch.Generator().manual_seed(42)\n",
    "\n",
    "DEVICE = 'cuda' if torch.cuda.is_available() else 'cpu' \n",
    "DEVICE"
   ]
  },
  {
   "cell_type": "code",
   "execution_count": 2,
   "metadata": {
    "execution": {
     "iopub.execute_input": "2023-12-06T16:00:13.189663Z",
     "iopub.status.busy": "2023-12-06T16:00:13.188846Z",
     "iopub.status.idle": "2023-12-06T16:00:13.204659Z",
     "shell.execute_reply": "2023-12-06T16:00:13.203799Z",
     "shell.execute_reply.started": "2023-12-06T16:00:13.189624Z"
    }
   },
   "outputs": [
    {
     "data": {
      "text/plain": [
       "<torch._C.Generator at 0x7bdfb9dbb9d0>"
      ]
     },
     "execution_count": 2,
     "metadata": {},
     "output_type": "execute_result"
    }
   ],
   "source": [
    "torch.manual_seed(3047)\n",
    "\n",
    "Gr = torch.Generator()\n",
    "Gr.manual_seed(20)\n",
    "\n",
    "Gf = torch.Generator()\n",
    "Gf.manual_seed(30)\n",
    "\n",
    "Gv = torch.Generator()\n",
    "Gv.manual_seed(40)"
   ]
  },
  {
   "cell_type": "code",
   "execution_count": 3,
   "metadata": {
    "execution": {
     "iopub.execute_input": "2023-12-06T16:00:13.206192Z",
     "iopub.status.busy": "2023-12-06T16:00:13.205832Z",
     "iopub.status.idle": "2023-12-06T16:00:13.212686Z",
     "shell.execute_reply": "2023-12-06T16:00:13.211802Z",
     "shell.execute_reply.started": "2023-12-06T16:00:13.206157Z"
    }
   },
   "outputs": [],
   "source": [
    "# Mock setting\n",
    "\n",
    "import logging\n",
    "import requests\n",
    "import tqdm\n",
    "from torch.utils.data import Subset\n",
    "from torchvision import transforms\n",
    "\n",
    "USE_MOCK: bool = True\n",
    "\n",
    "if USE_MOCK:\n",
    "    logging.warning('Running with Mock')\n",
    "    logging.warning('In this mode, internet access may be required.')\n",
    "\n",
    "    # The number of checkpoints in this mode.\n",
    "    # NOTE: 512 checkpoints are required in this competition.\n",
    "    n_checkpoints = 10\n",
    "    \n",
    "    # The directory for a dataset and a pretrained model\n",
    "    mock_dir = './mock'\n",
    "    mock_model_path = os.path.join(mock_dir, \"weights_resnet18_cifar10.pth\")\n",
    "    os.makedirs(mock_dir, exist_ok=True)"
   ]
  },
  {
   "cell_type": "code",
   "execution_count": 4,
   "metadata": {
    "execution": {
     "iopub.execute_input": "2023-12-06T16:00:13.215975Z",
     "iopub.status.busy": "2023-12-06T16:00:13.215345Z",
     "iopub.status.idle": "2023-12-06T16:00:13.223157Z",
     "shell.execute_reply": "2023-12-06T16:00:13.222278Z",
     "shell.execute_reply.started": "2023-12-06T16:00:13.215931Z"
    }
   },
   "outputs": [],
   "source": [
    "# It's really important to add an accelerator to your notebook, as otherwise the submission will fail.\n",
    "# We recomment using the P100 GPU rather than T4 as it's faster and will increase the chances of passing the time cut-off threshold.\n",
    "\n",
    "if DEVICE != 'cuda':\n",
    "    raise RuntimeError('Make sure you have added an accelerator to your notebook; the submission will fail otherwise!')"
   ]
  },
  {
   "cell_type": "code",
   "execution_count": 5,
   "metadata": {
    "execution": {
     "iopub.execute_input": "2023-12-06T16:00:13.224481Z",
     "iopub.status.busy": "2023-12-06T16:00:13.224214Z",
     "iopub.status.idle": "2023-12-06T16:00:13.244347Z",
     "shell.execute_reply": "2023-12-06T16:00:13.243388Z",
     "shell.execute_reply.started": "2023-12-06T16:00:13.224457Z"
    }
   },
   "outputs": [],
   "source": [
    "local_path = \"retrain_weights_resnet18_cifar10.pth\"\n",
    "if os.path.exists(local_path):\n",
    "    os.remove(local_path)"
   ]
  },
  {
   "cell_type": "code",
   "execution_count": 6,
   "metadata": {
    "execution": {
     "iopub.execute_input": "2023-12-06T16:00:13.245820Z",
     "iopub.status.busy": "2023-12-06T16:00:13.245478Z",
     "iopub.status.idle": "2023-12-06T16:00:13.859631Z",
     "shell.execute_reply": "2023-12-06T16:00:13.858705Z",
     "shell.execute_reply.started": "2023-12-06T16:00:13.245787Z"
    }
   },
   "outputs": [
    {
     "data": {
      "text/plain": [
       "44808169"
      ]
     },
     "execution_count": 6,
     "metadata": {},
     "output_type": "execute_result"
    }
   ],
   "source": [
    "response = requests.get(\"https://storage.googleapis.com/unlearning-challenge/\" + local_path)\n",
    "open(local_path, \"wb\").write(response.content)"
   ]
  },
  {
   "cell_type": "code",
   "execution_count": 7,
   "metadata": {
    "execution": {
     "iopub.execute_input": "2023-12-06T16:00:13.861708Z",
     "iopub.status.busy": "2023-12-06T16:00:13.861406Z",
     "iopub.status.idle": "2023-12-06T16:00:15.670638Z",
     "shell.execute_reply": "2023-12-06T16:00:15.669721Z",
     "shell.execute_reply.started": "2023-12-06T16:00:13.861680Z"
    }
   },
   "outputs": [
    {
     "data": {
      "text/plain": [
       "ResNet(\n",
       "  (conv1): Conv2d(3, 64, kernel_size=(7, 7), stride=(2, 2), padding=(3, 3), bias=False)\n",
       "  (bn1): BatchNorm2d(64, eps=1e-05, momentum=0.1, affine=True, track_running_stats=True)\n",
       "  (relu): ReLU(inplace=True)\n",
       "  (maxpool): MaxPool2d(kernel_size=3, stride=2, padding=1, dilation=1, ceil_mode=False)\n",
       "  (layer1): Sequential(\n",
       "    (0): BasicBlock(\n",
       "      (conv1): Conv2d(64, 64, kernel_size=(3, 3), stride=(1, 1), padding=(1, 1), bias=False)\n",
       "      (bn1): BatchNorm2d(64, eps=1e-05, momentum=0.1, affine=True, track_running_stats=True)\n",
       "      (relu): ReLU(inplace=True)\n",
       "      (conv2): Conv2d(64, 64, kernel_size=(3, 3), stride=(1, 1), padding=(1, 1), bias=False)\n",
       "      (bn2): BatchNorm2d(64, eps=1e-05, momentum=0.1, affine=True, track_running_stats=True)\n",
       "    )\n",
       "    (1): BasicBlock(\n",
       "      (conv1): Conv2d(64, 64, kernel_size=(3, 3), stride=(1, 1), padding=(1, 1), bias=False)\n",
       "      (bn1): BatchNorm2d(64, eps=1e-05, momentum=0.1, affine=True, track_running_stats=True)\n",
       "      (relu): ReLU(inplace=True)\n",
       "      (conv2): Conv2d(64, 64, kernel_size=(3, 3), stride=(1, 1), padding=(1, 1), bias=False)\n",
       "      (bn2): BatchNorm2d(64, eps=1e-05, momentum=0.1, affine=True, track_running_stats=True)\n",
       "    )\n",
       "  )\n",
       "  (layer2): Sequential(\n",
       "    (0): BasicBlock(\n",
       "      (conv1): Conv2d(64, 128, kernel_size=(3, 3), stride=(2, 2), padding=(1, 1), bias=False)\n",
       "      (bn1): BatchNorm2d(128, eps=1e-05, momentum=0.1, affine=True, track_running_stats=True)\n",
       "      (relu): ReLU(inplace=True)\n",
       "      (conv2): Conv2d(128, 128, kernel_size=(3, 3), stride=(1, 1), padding=(1, 1), bias=False)\n",
       "      (bn2): BatchNorm2d(128, eps=1e-05, momentum=0.1, affine=True, track_running_stats=True)\n",
       "      (downsample): Sequential(\n",
       "        (0): Conv2d(64, 128, kernel_size=(1, 1), stride=(2, 2), bias=False)\n",
       "        (1): BatchNorm2d(128, eps=1e-05, momentum=0.1, affine=True, track_running_stats=True)\n",
       "      )\n",
       "    )\n",
       "    (1): BasicBlock(\n",
       "      (conv1): Conv2d(128, 128, kernel_size=(3, 3), stride=(1, 1), padding=(1, 1), bias=False)\n",
       "      (bn1): BatchNorm2d(128, eps=1e-05, momentum=0.1, affine=True, track_running_stats=True)\n",
       "      (relu): ReLU(inplace=True)\n",
       "      (conv2): Conv2d(128, 128, kernel_size=(3, 3), stride=(1, 1), padding=(1, 1), bias=False)\n",
       "      (bn2): BatchNorm2d(128, eps=1e-05, momentum=0.1, affine=True, track_running_stats=True)\n",
       "    )\n",
       "  )\n",
       "  (layer3): Sequential(\n",
       "    (0): BasicBlock(\n",
       "      (conv1): Conv2d(128, 256, kernel_size=(3, 3), stride=(2, 2), padding=(1, 1), bias=False)\n",
       "      (bn1): BatchNorm2d(256, eps=1e-05, momentum=0.1, affine=True, track_running_stats=True)\n",
       "      (relu): ReLU(inplace=True)\n",
       "      (conv2): Conv2d(256, 256, kernel_size=(3, 3), stride=(1, 1), padding=(1, 1), bias=False)\n",
       "      (bn2): BatchNorm2d(256, eps=1e-05, momentum=0.1, affine=True, track_running_stats=True)\n",
       "      (downsample): Sequential(\n",
       "        (0): Conv2d(128, 256, kernel_size=(1, 1), stride=(2, 2), bias=False)\n",
       "        (1): BatchNorm2d(256, eps=1e-05, momentum=0.1, affine=True, track_running_stats=True)\n",
       "      )\n",
       "    )\n",
       "    (1): BasicBlock(\n",
       "      (conv1): Conv2d(256, 256, kernel_size=(3, 3), stride=(1, 1), padding=(1, 1), bias=False)\n",
       "      (bn1): BatchNorm2d(256, eps=1e-05, momentum=0.1, affine=True, track_running_stats=True)\n",
       "      (relu): ReLU(inplace=True)\n",
       "      (conv2): Conv2d(256, 256, kernel_size=(3, 3), stride=(1, 1), padding=(1, 1), bias=False)\n",
       "      (bn2): BatchNorm2d(256, eps=1e-05, momentum=0.1, affine=True, track_running_stats=True)\n",
       "    )\n",
       "  )\n",
       "  (layer4): Sequential(\n",
       "    (0): BasicBlock(\n",
       "      (conv1): Conv2d(256, 512, kernel_size=(3, 3), stride=(2, 2), padding=(1, 1), bias=False)\n",
       "      (bn1): BatchNorm2d(512, eps=1e-05, momentum=0.1, affine=True, track_running_stats=True)\n",
       "      (relu): ReLU(inplace=True)\n",
       "      (conv2): Conv2d(512, 512, kernel_size=(3, 3), stride=(1, 1), padding=(1, 1), bias=False)\n",
       "      (bn2): BatchNorm2d(512, eps=1e-05, momentum=0.1, affine=True, track_running_stats=True)\n",
       "      (downsample): Sequential(\n",
       "        (0): Conv2d(256, 512, kernel_size=(1, 1), stride=(2, 2), bias=False)\n",
       "        (1): BatchNorm2d(512, eps=1e-05, momentum=0.1, affine=True, track_running_stats=True)\n",
       "      )\n",
       "    )\n",
       "    (1): BasicBlock(\n",
       "      (conv1): Conv2d(512, 512, kernel_size=(3, 3), stride=(1, 1), padding=(1, 1), bias=False)\n",
       "      (bn1): BatchNorm2d(512, eps=1e-05, momentum=0.1, affine=True, track_running_stats=True)\n",
       "      (relu): ReLU(inplace=True)\n",
       "      (conv2): Conv2d(512, 512, kernel_size=(3, 3), stride=(1, 1), padding=(1, 1), bias=False)\n",
       "      (bn2): BatchNorm2d(512, eps=1e-05, momentum=0.1, affine=True, track_running_stats=True)\n",
       "    )\n",
       "  )\n",
       "  (avgpool): AdaptiveAvgPool2d(output_size=(1, 1))\n",
       "  (fc): Linear(in_features=512, out_features=10, bias=True)\n",
       ")"
      ]
     },
     "execution_count": 7,
     "metadata": {},
     "output_type": "execute_result"
    }
   ],
   "source": [
    "weights_pretrained = torch.load(local_path, map_location=DEVICE)\n",
    "\n",
    "# load model with pre-trained weights\n",
    "rt_model = resnet18(weights=None, num_classes=10)\n",
    "rt_model.load_state_dict(weights_pretrained)\n",
    "rt_model.to(DEVICE)\n",
    "rt_model.eval()\n",
    "\n",
    "# print its accuracy on retain and forget set\n",
    "# print(f\"Retain set accuracy: {100.0 * accuracy(rt_model, retain_loader):0.1f}%\")\n",
    "# print(f\"Forget set accuracy: {100.0 * accuracy(rt_model, forget_loader):0.1f}%\")"
   ]
  },
  {
   "cell_type": "code",
   "execution_count": 9,
   "metadata": {
    "execution": {
     "iopub.execute_input": "2023-12-06T16:00:15.681666Z",
     "iopub.status.busy": "2023-12-06T16:00:15.681388Z",
     "iopub.status.idle": "2023-12-06T16:00:17.379704Z",
     "shell.execute_reply": "2023-12-06T16:00:17.378731Z",
     "shell.execute_reply.started": "2023-12-06T16:00:15.681642Z"
    }
   },
   "outputs": [
    {
     "name": "stdout",
     "output_type": "stream",
     "text": [
      "Files already downloaded and verified\n",
      "Files already downloaded and verified\n"
     ]
    }
   ],
   "source": [
    "# download and pre-process CIFAR10\n",
    "normalize = transforms.Compose(\n",
    "    [\n",
    "        transforms.ToTensor(),\n",
    "        transforms.Normalize((0.4914, 0.4822, 0.4465), (0.2023, 0.1994, 0.2010)),\n",
    "    ]\n",
    ")\n",
    "\n",
    "train_set = torchvision.datasets.CIFAR10(\n",
    "    root=\"./data\", train=True, download=True, transform=normalize\n",
    ")\n",
    "train_loader = DataLoader(train_set, batch_size=128, shuffle=True, num_workers=2)\n",
    "\n",
    "# we split held out data into test and validation set\n",
    "held_out = torchvision.datasets.CIFAR10(\n",
    "    root=\"./data\", train=False, download=True, transform=normalize\n",
    ")\n",
    "test_set, val_set = torch.utils.data.random_split(held_out, [0.5, 0.5], generator=RNG)\n",
    "test_loader = DataLoader(test_set, batch_size=128, shuffle=False, num_workers=2)\n",
    "val_loader = DataLoader(val_set, batch_size=128, shuffle=False, num_workers=2)\n",
    "\n",
    "# download the forget and retain index split\n",
    "local_path = \"forget_idx.npy\"\n",
    "if not os.path.exists(local_path):\n",
    "    response = requests.get(\n",
    "        \"https://storage.googleapis.com/unlearning-challenge/\" + local_path\n",
    "    )\n",
    "    open(local_path, \"wb\").write(response.content)\n",
    "forget_idx = np.load(local_path)\n",
    "\n",
    "# construct indices of retain from those of the forget set\n",
    "forget_mask = np.zeros(len(train_set.targets), dtype=bool)\n",
    "forget_mask[forget_idx] = True\n",
    "retain_idx = np.arange(forget_mask.size)[~forget_mask]\n",
    "\n",
    "# split train set into a forget and a retain set\n",
    "forget_set = torch.utils.data.Subset(train_set, forget_idx)\n",
    "retain_set = torch.utils.data.Subset(train_set, retain_idx)\n",
    "\n",
    "forget_loader = torch.utils.data.DataLoader(\n",
    "    forget_set, batch_size=128, shuffle=True, num_workers=2\n",
    ")\n",
    "retain_loader = torch.utils.data.DataLoader(\n",
    "    retain_set, batch_size=128, shuffle=True, num_workers=2, generator=RNG\n",
    ")"
   ]
  },
  {
   "cell_type": "code",
   "execution_count": 10,
   "metadata": {
    "execution": {
     "iopub.execute_input": "2023-12-06T16:00:17.384710Z",
     "iopub.status.busy": "2023-12-06T16:00:17.384402Z",
     "iopub.status.idle": "2023-12-06T16:00:17.389134Z",
     "shell.execute_reply": "2023-12-06T16:00:17.388163Z",
     "shell.execute_reply.started": "2023-12-06T16:00:17.384681Z"
    }
   },
   "outputs": [],
   "source": []
  },
  {
   "cell_type": "code",
   "execution_count": 11,
   "metadata": {
    "execution": {
     "iopub.execute_input": "2023-12-06T16:00:17.390639Z",
     "iopub.status.busy": "2023-12-06T16:00:17.390340Z",
     "iopub.status.idle": "2023-12-06T16:00:17.407440Z",
     "shell.execute_reply": "2023-12-06T16:00:17.406521Z",
     "shell.execute_reply.started": "2023-12-06T16:00:17.390612Z"
    }
   },
   "outputs": [],
   "source": [
    "from torch.optim.lr_scheduler import CosineAnnealingLR,CosineAnnealingWarmRestarts,StepLR\n",
    "def kl_loss_sym(x,y):\n",
    "    kl_loss = nn.KLDivLoss(reduction='batchmean')\n",
    "    return kl_loss(nn.LogSoftmax(dim=-1)(x),y)\n",
    "def unlearning(\n",
    "        net,\n",
    "        retain_loader,\n",
    "        forget_loader,\n",
    "        val_loader,\n",
    "):\n",
    "    \"\"\"Simple unlearning by finetuning.\"\"\"\n",
    "    print('-----------------------------------')\n",
    "    epochs = 8\n",
    "    retain_bs = 256\n",
    "    criterion = nn.CrossEntropyLoss()\n",
    "    optimizer = optim.SGD(net.parameters(), lr=0.05, momentum=0.9, weight_decay=0)\n",
    "    optimizer_retain = optim.SGD(net.parameters(), lr=0.01, momentum=0.9, weight_decay=5e-4)\n",
    "    scheduler = torch.optim.lr_scheduler.CosineAnnealingLR(optimizer_retain, T_max=5)\n",
    "#     ##the learning rate is associated with the batchsize we used\n",
    "    optimizer_forget = optim.SGD(net.parameters(), lr=0.01, momentum=0.9, weight_decay=5e-4)\n",
    "    net.train()\n",
    "    for _ in range(10):\n",
    "        for inputs,target in forget_loader: ##First Stage \n",
    "    #         inputs = sample[\"image\"]\n",
    "            inputs = inputs.to(DEVICE)\n",
    "            optimizer.zero_grad()\n",
    "            outputs = net(inputs)\n",
    "            uniform_label = torch.ones_like(outputs).to(DEVICE) / outputs.shape[1] ##uniform pseudo label\n",
    "            loss = kl_loss_sym(outputs, uniform_label) ##optimize the distance between logits and pseudo labels\n",
    "            loss.backward()\n",
    "            optimizer.step()\n",
    "    net.train()\n",
    "    for ep in range(8): ##Second Stage \n",
    "        for (inputs_forget,targets_forget), (inputs_retain,targets_retain) in zip(forget_loader, retain_loader):##Forget Round\n",
    "            t = 1.15 ##temperature coefficient\n",
    "            inputs_forget, inputs_retain = inputs_forget.to(DEVICE), inputs_retain.to(DEVICE)\n",
    "            optimizer_forget.zero_grad()\n",
    "            outputs_forget = net(inputs_forget)\n",
    "            outputs_retain = net(inputs_retain)\n",
    "            loss = (-1 * nn.LogSoftmax(dim=-1)(outputs_forget @ outputs_retain.T/t)).mean() ##Contrastive Learning loss\n",
    "            loss.backward()\n",
    "            optimizer_forget.step()\n",
    "    for _ in range(8):\n",
    "        for (inputs, labels) in retain_loader: ##Retain Round\n",
    "#             inputs, labels = sample[\"image\"],sample[\"age_group\"]\n",
    "            inputs, labels = inputs.to(DEVICE), labels.to(DEVICE)\n",
    "            optimizer_retain.zero_grad()\n",
    "            outputs = net(inputs)\n",
    "            loss = criterion(outputs, labels)\n",
    "            loss.backward()\n",
    "            optimizer_retain.step()\n",
    "        scheduler.step()\n",
    "    if USE_MOCK: \n",
    "#         print(f'epoch {ep}:')\n",
    "        print('Retain')\n",
    "        evaluation(net, retain_loader, criterion)\n",
    "        print('Forget')\n",
    "        evaluation(net, forget_loader, criterion)\n",
    "        print('Valid')\n",
    "        evaluation(net, val_loader, criterion)\n",
    "    print('-----------------------------------')\n",
    "    return net"
   ]
  },
  {
   "cell_type": "code",
   "execution_count": 12,
   "metadata": {
    "execution": {
     "iopub.execute_input": "2023-12-06T16:00:17.408984Z",
     "iopub.status.busy": "2023-12-06T16:00:17.408658Z",
     "iopub.status.idle": "2023-12-06T16:00:17.422918Z",
     "shell.execute_reply": "2023-12-06T16:00:17.421957Z",
     "shell.execute_reply.started": "2023-12-06T16:00:17.408946Z"
    }
   },
   "outputs": [],
   "source": [
    "def evaluation(net, dataloader, criterion, device = 'cuda'): ##evaluation function\n",
    "    net.eval()\n",
    "    total_samp = 0\n",
    "    total_acc = 0\n",
    "    total_loss = 0.0\n",
    "    for (images, labels) in dataloader:\n",
    "        images, labels = images.to(device), labels.to(device)\n",
    "        _pred = net(images)\n",
    "        total_samp+=len(labels)\n",
    "        #print(f'total_samp={total_samp}')\n",
    "        loss = criterion(_pred, labels)\n",
    "        total_loss += loss.item()\n",
    "        total_acc+=(_pred.max(1)[1] == labels).float().sum().item()\n",
    "        #print(f'total_acc={total_acc}')\n",
    "    #print(f'total_sample={total_samp}')\n",
    "    mean_loss = total_loss / len(dataloader)\n",
    "    mean_acc = total_acc/total_samp\n",
    "    print(f'loss={mean_loss}')\n",
    "    print(f'acc={mean_acc}')\n",
    "    return mean_acc, mean_loss"
   ]
  },
  {
   "cell_type": "code",
   "execution_count": 13,
   "metadata": {
    "execution": {
     "iopub.execute_input": "2023-12-06T16:00:17.424609Z",
     "iopub.status.busy": "2023-12-06T16:00:17.424269Z",
     "iopub.status.idle": "2023-12-06T16:00:26.844544Z",
     "shell.execute_reply": "2023-12-06T16:00:26.843430Z",
     "shell.execute_reply.started": "2023-12-06T16:00:17.424583Z"
    }
   },
   "outputs": [
    {
     "name": "stdout",
     "output_type": "stream",
     "text": [
      "loss=0.01812899909815645\n",
      "acc=0.9952666666666666\n",
      "Retain set accuracy: 99.5%\n",
      "loss=0.47970084361732007\n",
      "acc=0.882\n",
      "Forget set accuracy: 88.2%\n"
     ]
    }
   ],
   "source": [
    "criterion = nn.CrossEntropyLoss()\n",
    "# retain_loader, forget_loader, validation_loader = get_dataset(64)\n",
    "print(f\"Retain set accuracy: {100.0 * evaluation(rt_model, retain_loader, criterion)[0]:0.1f}%\")\n",
    "print(f\"Forget set accuracy: {100.0 * evaluation(rt_model, forget_loader, criterion)[0]:0.1f}%\")"
   ]
  },
  {
   "cell_type": "code",
   "execution_count": 14,
   "metadata": {
    "execution": {
     "iopub.execute_input": "2023-12-06T16:00:26.846475Z",
     "iopub.status.busy": "2023-12-06T16:00:26.846145Z",
     "iopub.status.idle": "2023-12-06T16:00:26.854217Z",
     "shell.execute_reply": "2023-12-06T16:00:26.853085Z",
     "shell.execute_reply.started": "2023-12-06T16:00:26.846443Z"
    }
   },
   "outputs": [],
   "source": [
    "def compute_outputs(net, loader):\n",
    "    \"\"\"Auxiliary function to compute the logits for all datapoints.\n",
    "    Does not shuffle the data, regardless of the loader.\n",
    "    \"\"\"\n",
    "\n",
    "    # Make sure loader does not shuffle the data\n",
    "    if isinstance(loader.sampler, torch.utils.data.sampler.RandomSampler):\n",
    "        loader = DataLoader(\n",
    "            loader.dataset, \n",
    "            batch_size=loader.batch_size, \n",
    "            shuffle=False, \n",
    "            num_workers=loader.num_workers)\n",
    "    \n",
    "    all_outputs = []\n",
    "    all_targets = []\n",
    "    \n",
    "    for (inputs, targets) in loader:\n",
    "#         inputs, targets = sample[\"image\"],sample[\"age_group\"]\n",
    "        inputs, targets = inputs.to(DEVICE), targets.to(\"cpu\")\n",
    "\n",
    "        logits = net(inputs).detach().cpu().numpy() # (batch_size, num_classes)\n",
    "        \n",
    "        all_outputs.append(logits)\n",
    "        all_targets.extend(targets)\n",
    "        \n",
    "    return np.array(all_targets), np.concatenate(all_outputs) # (len(loader.dataset), num_classes)\n",
    "    "
   ]
  },
  {
   "cell_type": "code",
   "execution_count": 15,
   "metadata": {
    "execution": {
     "iopub.execute_input": "2023-12-06T16:00:26.855781Z",
     "iopub.status.busy": "2023-12-06T16:00:26.855460Z",
     "iopub.status.idle": "2023-12-06T16:00:26.866387Z",
     "shell.execute_reply": "2023-12-06T16:00:26.865462Z",
     "shell.execute_reply.started": "2023-12-06T16:00:26.855733Z"
    }
   },
   "outputs": [],
   "source": [
    "def cross_entropy_f(x, targets):\n",
    "    # Convert NumPy array to PyTorch tensor\n",
    "    x_tensor = torch.from_numpy(x)\n",
    "\n",
    "    # Apply softmax to the model output\n",
    "    x_softmax = F.softmax(x_tensor, dim=-1)\n",
    "\n",
    "    # Convert targets to one-hot encoding\n",
    "    targets_tensor = torch.from_numpy(targets)\n",
    "    targets_one_hot = F.one_hot(targets_tensor, num_classes=x_tensor.shape[-1])\n",
    "\n",
    "    # Avoiding NaN values in x\n",
    "    x_tensor[torch.isnan(x_tensor)] = 0.0\n",
    "\n",
    "    # Calculate cross-entropy loss for each example\n",
    "    loss = -torch.sum(targets_one_hot * torch.log(x_softmax), dim=-1)\n",
    "\n",
    "    # Convert the result back to a NumPy array if needed\n",
    "    loss_np = loss.numpy()\n",
    "\n",
    "    return loss_np"
   ]
  },
  {
   "cell_type": "code",
   "execution_count": 16,
   "metadata": {
    "execution": {
     "iopub.execute_input": "2023-12-06T16:00:26.867869Z",
     "iopub.status.busy": "2023-12-06T16:00:26.867553Z",
     "iopub.status.idle": "2023-12-06T16:00:26.880967Z",
     "shell.execute_reply": "2023-12-06T16:00:26.880216Z",
     "shell.execute_reply.started": "2023-12-06T16:00:26.867843Z"
    }
   },
   "outputs": [],
   "source": [
    "def false_positive_rate(y_true: np.ndarray, y_pred: np.ndarray) -> float:\n",
    "    \"\"\"Computes the false positive rate (FPR).\"\"\"\n",
    "    fp = np.sum(np.logical_and((y_pred == 1), (y_true == 0)))\n",
    "    n = np.sum(y_true == 0)\n",
    "    return fp / n\n",
    "\n",
    "\n",
    "def false_negative_rate(y_true: np.ndarray, y_pred: np.ndarray) -> float:\n",
    "    \"\"\"Computes the false negative rate (FNR).\"\"\"\n",
    "    fn = np.sum(np.logical_and((y_pred == 0), (y_true == 1)))\n",
    "    p = np.sum(y_true == 1)\n",
    "    return fn / p\n",
    "\n",
    "\n",
    "# The SCORING dictionary is used by sklearn's `cross_validate` function so that\n",
    "# we record the FPR and FNR metrics of interest when doing cross validation\n",
    "SCORING = {\n",
    "    'false_positive_rate': make_scorer(false_positive_rate),\n",
    "    'false_negative_rate': make_scorer(false_negative_rate)\n",
    "}\n",
    "\n",
    "\n",
    "def logistic_regression_attack(\n",
    "        outputs_U, outputs_R, n_splits=2, random_state=0):\n",
    "    \"\"\"Computes cross-validation score of a membership inference attack.\n",
    "\n",
    "    Args:\n",
    "      outputs_U: numpy array of shape (N)\n",
    "      outputs_R: numpy array of shape (N)\n",
    "      n_splits: int\n",
    "        number of splits to use in the cross-validation.\n",
    "    Returns:\n",
    "      fpr, fnr : float * float\n",
    "    \"\"\"\n",
    "    assert len(outputs_U) == len(outputs_R)\n",
    "    \n",
    "    samples = np.concatenate((outputs_R, outputs_U)).reshape((-1, 1))\n",
    "    labels = np.array([0] * len(outputs_R) + [1] * len(outputs_U))\n",
    "\n",
    "    attack_model = linear_model.LogisticRegression()\n",
    "    cv = model_selection.StratifiedShuffleSplit(\n",
    "        n_splits=n_splits, random_state=random_state\n",
    "    )\n",
    "    has_nan = np.isnan(samples).any()\n",
    "#     print(has_nan)\n",
    "    \n",
    "    samples = np.nan_to_num(samples, nan=0)\n",
    "    \n",
    "    scores =  model_selection.cross_validate(\n",
    "        attack_model, samples, labels, cv=cv, scoring=SCORING)\n",
    "    \n",
    "    fpr = np.mean(scores[\"test_false_positive_rate\"])\n",
    "    fnr = np.mean(scores[\"test_false_negative_rate\"])\n",
    "    \n",
    "    return fpr, fnr"
   ]
  },
  {
   "cell_type": "code",
   "execution_count": 17,
   "metadata": {
    "execution": {
     "iopub.execute_input": "2023-12-06T16:00:26.882210Z",
     "iopub.status.busy": "2023-12-06T16:00:26.881948Z",
     "iopub.status.idle": "2023-12-06T16:00:26.896186Z",
     "shell.execute_reply": "2023-12-06T16:00:26.895443Z",
     "shell.execute_reply.started": "2023-12-06T16:00:26.882185Z"
    }
   },
   "outputs": [],
   "source": [
    "def compute_epsilon_s(fpr: list[float], fnr: list[float], delta: float) -> float:\n",
    "    \"\"\"Computes the privacy degree (epsilon) of a particular forget set example, \n",
    "    given the FPRs and FNRs resulting from various attacks.\n",
    "    \n",
    "    The smaller epsilon is, the better the unlearning is.\n",
    "    \n",
    "    Args:\n",
    "      fpr: list[float] of length m = num attacks. The FPRs for a particular example. \n",
    "      fnr: list[float] of length m = num attacks. The FNRs for a particular example.\n",
    "      delta: float\n",
    "    Returns:\n",
    "      epsilon: float corresponding to the privacy degree of the particular example.\n",
    "    \"\"\"\n",
    "    assert len(fpr) == len(fnr)\n",
    "    \n",
    "    per_attack_epsilon = [0.]\n",
    "    for fpr_i, fnr_i in zip(fpr, fnr):\n",
    "        if fpr_i == 0 and fnr_i == 0:\n",
    "            per_attack_epsilon.append(np.inf)\n",
    "        elif fpr_i == 0 or fnr_i == 0:\n",
    "            pass # discard attack\n",
    "        else:\n",
    "            with np.errstate(invalid='ignore'):\n",
    "                epsilon1 = np.log(1. - delta - fpr_i) - np.log(fnr_i)\n",
    "                epsilon2 = np.log(1. - delta - fnr_i) - np.log(fpr_i)\n",
    "            if np.isnan(epsilon1) and np.isnan(epsilon2):\n",
    "                per_attack_epsilon.append(np.inf)\n",
    "            else:\n",
    "                per_attack_epsilon.append(np.nanmax([epsilon1, epsilon2]))\n",
    "            \n",
    "    return np.nanmax(per_attack_epsilon)\n",
    "\n",
    "\n",
    "def bin_index_fn(\n",
    "        epsilons: np.ndarray, \n",
    "        bin_width: float = 0.5, \n",
    "        B: int = 13\n",
    "        ) -> np.ndarray:\n",
    "    \"\"\"The bin index function.\"\"\"\n",
    "    bins = np.arange(0, B) * bin_width\n",
    "    return np.digitize(epsilons, bins)\n",
    "\n",
    "\n",
    "def H(epsilons: np.ndarray) -> float:\n",
    "    \"\"\"Computes the forgetting quality given the privacy degrees \n",
    "    of the forget set examples.\n",
    "    \"\"\"\n",
    "    ns = bin_index_fn(epsilons)\n",
    "    hs = 2. / 2 ** ns\n",
    "    return np.mean(hs)"
   ]
  },
  {
   "cell_type": "code",
   "execution_count": 18,
   "metadata": {
    "execution": {
     "iopub.execute_input": "2023-12-06T16:00:26.897560Z",
     "iopub.status.busy": "2023-12-06T16:00:26.897289Z",
     "iopub.status.idle": "2023-12-06T16:00:26.911655Z",
     "shell.execute_reply": "2023-12-06T16:00:26.910767Z",
     "shell.execute_reply.started": "2023-12-06T16:00:26.897536Z"
    }
   },
   "outputs": [],
   "source": [
    "def forgetting_quality(\n",
    "        outputs_U: np.ndarray, # (N, S)\n",
    "        outputs_R: np.ndarray, # (N, S)\n",
    "        attacks: list[Callable] = [logistic_regression_attack],\n",
    "        delta: float = 0.01\n",
    "    ):\n",
    "    \"\"\"\n",
    "    Both `outputs_U` and `outputs_R` are of numpy arrays of ndim 2:\n",
    "    * 1st dimension coresponds to the number of samples obtained from the \n",
    "      distribution of each model (N=512 in the case of the competition's leaderboard) \n",
    "    * 2nd dimension corresponds to the number of samples in the forget set (S).\n",
    "    \"\"\"\n",
    "    \n",
    "    # N = number of model samples\n",
    "    # S = number of forget samples\n",
    "    N, S = outputs_U.shape\n",
    "    \n",
    "    assert outputs_U.shape == outputs_R.shape, \\\n",
    "        \"unlearn and retrain outputs need to be of the same shape\"\n",
    "    \n",
    "    epsilons = []\n",
    "    pbar = tqdm(range(S))\n",
    "    for sample_id in pbar:\n",
    "        pbar.set_description(\"Computing F...\")\n",
    "        \n",
    "        sample_fprs, sample_fnrs = [], []\n",
    "        \n",
    "        for attack in attacks: \n",
    "            uls = outputs_U[:, sample_id]\n",
    "            rls = outputs_R[:, sample_id]\n",
    "            \n",
    "            fpr, fnr = attack(uls, rls)\n",
    "            \n",
    "            if isinstance(fpr, list):\n",
    "                sample_fprs.extend(fpr)\n",
    "                sample_fnrs.extend(fnr)\n",
    "            else:\n",
    "                sample_fprs.append(fpr)\n",
    "                sample_fnrs.append(fnr)\n",
    "        \n",
    "        sample_epsilon = compute_epsilon_s(sample_fprs, sample_fnrs, delta=delta)\n",
    "        epsilons.append(sample_epsilon)\n",
    "        \n",
    "    return H(np.array(epsilons))"
   ]
  },
  {
   "cell_type": "code",
   "execution_count": 19,
   "metadata": {
    "execution": {
     "iopub.execute_input": "2023-12-06T16:00:26.913425Z",
     "iopub.status.busy": "2023-12-06T16:00:26.912677Z",
     "iopub.status.idle": "2023-12-06T16:00:26.927202Z",
     "shell.execute_reply": "2023-12-06T16:00:26.926406Z",
     "shell.execute_reply.started": "2023-12-06T16:00:26.913399Z"
    }
   },
   "outputs": [
    {
     "data": {
      "text/plain": [
       "10"
      ]
     },
     "execution_count": 19,
     "metadata": {},
     "output_type": "execute_result"
    }
   ],
   "source": [
    "n_checkpoints"
   ]
  },
  {
   "cell_type": "code",
   "execution_count": 20,
   "metadata": {
    "execution": {
     "iopub.execute_input": "2023-12-06T16:00:26.928702Z",
     "iopub.status.busy": "2023-12-06T16:00:26.928338Z",
     "iopub.status.idle": "2023-12-06T16:43:16.618640Z",
     "shell.execute_reply": "2023-12-06T16:43:16.617359Z",
     "shell.execute_reply.started": "2023-12-06T16:00:26.928669Z"
    }
   },
   "outputs": [
    {
     "name": "stderr",
     "output_type": "stream",
     "text": [
      "  0%|          | 0/10 [00:00<?, ?it/s]"
     ]
    },
    {
     "name": "stdout",
     "output_type": "stream",
     "text": [
      "I am unlearning all the wrong things you taught me\n",
      "-----------------------------------\n",
      "Retain\n",
      "loss=0.018782297224705955\n",
      "acc=0.9978888888888889\n",
      "Forget\n",
      "loss=0.3105199750745669\n",
      "acc=0.9024\n",
      "Valid\n",
      "loss=0.5423017673194408\n",
      "acc=0.8514\n",
      "-----------------------------------\n",
      "Computing retain accuracy on Unlearning Model\n",
      "loss=0.01877035048859067\n",
      "acc=0.9978888888888889\n",
      "Retain accuracy on Unlearning Model is  0.9978888888888889\n",
      "Computing test accuracy on Unlearning model\n",
      "loss=0.5423017673194408\n",
      "acc=0.8514\n",
      "Test accuracy on Unlearning model is  0.8514\n",
      "Computing forget accuracy on Unlearning model\n"
     ]
    },
    {
     "name": "stderr",
     "output_type": "stream",
     "text": [
      " 10%|█         | 1/10 [04:13<38:01, 253.48s/it]"
     ]
    },
    {
     "name": "stdout",
     "output_type": "stream",
     "text": [
      "loss=0.3133175127208233\n",
      "acc=0.9024\n",
      "Forget accuracy on Unlearning model is  0.9024\n",
      "I am unlearning all the wrong things you taught me\n",
      "-----------------------------------\n",
      "Retain\n",
      "loss=0.018305900325437753\n",
      "acc=0.9973333333333333\n",
      "Forget\n",
      "loss=0.3199480652809143\n",
      "acc=0.9084\n",
      "Valid\n",
      "loss=0.5201928354799747\n",
      "acc=0.8582\n",
      "-----------------------------------\n",
      "Computing retain accuracy on Unlearning Model\n",
      "loss=0.01829316002840642\n",
      "acc=0.9973333333333333\n",
      "Retain accuracy on Unlearning Model is  0.9973333333333333\n",
      "Computing test accuracy on Unlearning model\n",
      "loss=0.5201928354799747\n",
      "acc=0.8582\n",
      "Test accuracy on Unlearning model is  0.8582\n",
      "Computing forget accuracy on Unlearning model\n"
     ]
    },
    {
     "name": "stderr",
     "output_type": "stream",
     "text": [
      " 20%|██        | 2/10 [08:26<33:44, 253.08s/it]"
     ]
    },
    {
     "name": "stdout",
     "output_type": "stream",
     "text": [
      "loss=0.30560381039977075\n",
      "acc=0.9084\n",
      "Forget accuracy on Unlearning model is  0.9084\n",
      "I am unlearning all the wrong things you taught me\n",
      "-----------------------------------\n",
      "Retain\n",
      "loss=0.02357461754581891\n",
      "acc=0.9966888888888888\n",
      "Forget\n",
      "loss=0.3041334804147482\n",
      "acc=0.9082\n",
      "Valid\n",
      "loss=0.49956067875027654\n",
      "acc=0.8578\n",
      "-----------------------------------\n",
      "Computing retain accuracy on Unlearning Model\n",
      "loss=0.02358904968026433\n",
      "acc=0.9966888888888888\n",
      "Retain accuracy on Unlearning Model is  0.9966888888888888\n",
      "Computing test accuracy on Unlearning model\n",
      "loss=0.49956067875027654\n",
      "acc=0.8578\n",
      "Test accuracy on Unlearning model is  0.8578\n",
      "Computing forget accuracy on Unlearning model\n"
     ]
    },
    {
     "name": "stderr",
     "output_type": "stream",
     "text": [
      " 30%|███       | 3/10 [12:39<29:30, 253.00s/it]"
     ]
    },
    {
     "name": "stdout",
     "output_type": "stream",
     "text": [
      "loss=0.28939616319257766\n",
      "acc=0.9082\n",
      "Forget accuracy on Unlearning model is  0.9082\n",
      "I am unlearning all the wrong things you taught me\n",
      "-----------------------------------\n",
      "Retain\n",
      "loss=0.031165436235658654\n",
      "acc=0.9935333333333334\n",
      "Forget\n",
      "loss=0.32858575899153947\n",
      "acc=0.8918\n",
      "Valid\n",
      "loss=0.5385737590491771\n",
      "acc=0.851\n",
      "-----------------------------------\n",
      "Computing retain accuracy on Unlearning Model\n",
      "loss=0.03119953971525485\n",
      "acc=0.9935333333333334\n",
      "Retain accuracy on Unlearning Model is  0.9935333333333334\n",
      "Computing test accuracy on Unlearning model\n",
      "loss=0.5385737590491771\n",
      "acc=0.851\n",
      "Test accuracy on Unlearning model is  0.851\n",
      "Computing forget accuracy on Unlearning model\n"
     ]
    },
    {
     "name": "stderr",
     "output_type": "stream",
     "text": [
      " 40%|████      | 4/10 [16:51<25:17, 252.87s/it]"
     ]
    },
    {
     "name": "stdout",
     "output_type": "stream",
     "text": [
      "loss=0.3342231970280409\n",
      "acc=0.8918\n",
      "Forget accuracy on Unlearning model is  0.8918\n",
      "I am unlearning all the wrong things you taught me\n",
      "-----------------------------------\n",
      "Retain\n",
      "loss=0.02841744367932816\n",
      "acc=0.9952888888888889\n",
      "Forget\n",
      "loss=0.3028279441408813\n",
      "acc=0.9066\n",
      "Valid\n",
      "loss=0.5283299338072538\n",
      "acc=0.8516\n",
      "-----------------------------------\n",
      "Computing retain accuracy on Unlearning Model\n",
      "loss=0.02839749785859815\n",
      "acc=0.9952888888888889\n",
      "Retain accuracy on Unlearning Model is  0.9952888888888889\n",
      "Computing test accuracy on Unlearning model\n",
      "loss=0.5283299338072538\n",
      "acc=0.8516\n",
      "Test accuracy on Unlearning model is  0.8516\n",
      "Computing forget accuracy on Unlearning model\n"
     ]
    },
    {
     "name": "stderr",
     "output_type": "stream",
     "text": [
      " 50%|█████     | 5/10 [21:04<21:03, 252.65s/it]"
     ]
    },
    {
     "name": "stdout",
     "output_type": "stream",
     "text": [
      "loss=0.3080935973674059\n",
      "acc=0.9066\n",
      "Forget accuracy on Unlearning model is  0.9066\n",
      "I am unlearning all the wrong things you taught me\n",
      "-----------------------------------\n",
      "Retain\n",
      "loss=0.14770191979848526\n",
      "acc=0.9557555555555556\n",
      "Forget\n",
      "loss=0.4663414925336838\n",
      "acc=0.851\n",
      "Valid\n",
      "loss=0.5719777375459671\n",
      "acc=0.8162\n",
      "-----------------------------------\n",
      "Computing retain accuracy on Unlearning Model\n",
      "loss=0.1477730749809945\n",
      "acc=0.9557555555555556\n",
      "Retain accuracy on Unlearning Model is  0.9557555555555556\n",
      "Computing test accuracy on Unlearning model\n",
      "loss=0.5719777375459671\n",
      "acc=0.8162\n",
      "Test accuracy on Unlearning model is  0.8162\n",
      "Computing forget accuracy on Unlearning model\n"
     ]
    },
    {
     "name": "stderr",
     "output_type": "stream",
     "text": [
      " 60%|██████    | 6/10 [25:16<16:50, 252.59s/it]"
     ]
    },
    {
     "name": "stdout",
     "output_type": "stream",
     "text": [
      "loss=0.45908946394920347\n",
      "acc=0.851\n",
      "Forget accuracy on Unlearning model is  0.851\n",
      "I am unlearning all the wrong things you taught me\n",
      "-----------------------------------\n",
      "Retain\n",
      "loss=0.1549909874288873\n",
      "acc=0.9525333333333333\n",
      "Forget\n",
      "loss=0.5143202930688858\n",
      "acc=0.8318\n",
      "Valid\n",
      "loss=0.6163568094372749\n",
      "acc=0.8136\n",
      "-----------------------------------\n",
      "Computing retain accuracy on Unlearning Model\n",
      "loss=0.15510774740356614\n",
      "acc=0.9525333333333333\n",
      "Retain accuracy on Unlearning Model is  0.9525333333333333\n",
      "Computing test accuracy on Unlearning model\n",
      "loss=0.6163568094372749\n",
      "acc=0.8136\n",
      "Test accuracy on Unlearning model is  0.8136\n",
      "Computing forget accuracy on Unlearning model\n"
     ]
    },
    {
     "name": "stderr",
     "output_type": "stream",
     "text": [
      " 70%|███████   | 7/10 [29:29<12:37, 252.56s/it]"
     ]
    },
    {
     "name": "stdout",
     "output_type": "stream",
     "text": [
      "loss=0.5111184174194932\n",
      "acc=0.8318\n",
      "Forget accuracy on Unlearning model is  0.8318\n",
      "I am unlearning all the wrong things you taught me\n",
      "-----------------------------------\n",
      "Retain\n",
      "loss=0.016264335094919345\n",
      "acc=0.9985111111111111\n",
      "Forget\n",
      "loss=0.2642833150923252\n",
      "acc=0.9152\n",
      "Valid\n",
      "loss=0.49907310754060746\n",
      "acc=0.8598\n",
      "-----------------------------------\n",
      "Computing retain accuracy on Unlearning Model\n",
      "loss=0.01626372257305775\n",
      "acc=0.9985111111111111\n",
      "Retain accuracy on Unlearning Model is  0.9985111111111111\n",
      "Computing test accuracy on Unlearning model\n",
      "loss=0.49907310754060746\n",
      "acc=0.8598\n",
      "Test accuracy on Unlearning model is  0.8598\n",
      "Computing forget accuracy on Unlearning model\n"
     ]
    },
    {
     "name": "stderr",
     "output_type": "stream",
     "text": [
      " 80%|████████  | 8/10 [33:41<08:25, 252.64s/it]"
     ]
    },
    {
     "name": "stdout",
     "output_type": "stream",
     "text": [
      "loss=0.2923484966158867\n",
      "acc=0.9152\n",
      "Forget accuracy on Unlearning model is  0.9152\n",
      "I am unlearning all the wrong things you taught me\n",
      "-----------------------------------\n",
      "Retain\n",
      "loss=0.041523280984785575\n",
      "acc=0.9918666666666667\n",
      "Forget\n",
      "loss=0.3676667112857103\n",
      "acc=0.8842\n",
      "Valid\n",
      "loss=0.525463854521513\n",
      "acc=0.849\n",
      "-----------------------------------\n",
      "Computing retain accuracy on Unlearning Model\n",
      "loss=0.041505148420004516\n",
      "acc=0.9918666666666667\n",
      "Retain accuracy on Unlearning Model is  0.9918666666666667\n",
      "Computing test accuracy on Unlearning model\n",
      "loss=0.525463854521513\n",
      "acc=0.849\n",
      "Test accuracy on Unlearning model is  0.849\n",
      "Computing forget accuracy on Unlearning model\n"
     ]
    },
    {
     "name": "stderr",
     "output_type": "stream",
     "text": [
      " 90%|█████████ | 9/10 [37:54<04:12, 252.60s/it]"
     ]
    },
    {
     "name": "stdout",
     "output_type": "stream",
     "text": [
      "loss=0.37084160521626475\n",
      "acc=0.8842\n",
      "Forget accuracy on Unlearning model is  0.8842\n",
      "I am unlearning all the wrong things you taught me\n",
      "-----------------------------------\n",
      "Retain\n",
      "loss=0.020059892304495654\n",
      "acc=0.9974888888888889\n",
      "Forget\n",
      "loss=0.2708876496180892\n",
      "acc=0.9134\n",
      "Valid\n",
      "loss=0.5193493746221065\n",
      "acc=0.854\n",
      "-----------------------------------\n",
      "Computing retain accuracy on Unlearning Model\n",
      "loss=0.02008085358697413\n",
      "acc=0.9974888888888889\n",
      "Retain accuracy on Unlearning Model is  0.9974888888888889\n",
      "Computing test accuracy on Unlearning model\n",
      "loss=0.5193493746221065\n",
      "acc=0.854\n",
      "Test accuracy on Unlearning model is  0.854\n",
      "Computing forget accuracy on Unlearning model\n"
     ]
    },
    {
     "name": "stderr",
     "output_type": "stream",
     "text": [
      "100%|██████████| 10/10 [42:08<00:00, 252.82s/it]"
     ]
    },
    {
     "name": "stdout",
     "output_type": "stream",
     "text": [
      "loss=0.2690510750282556\n",
      "acc=0.9134\n",
      "Forget accuracy on Unlearning model is  0.9134\n",
      "Printing outputs_U shape  (10, 5000)\n"
     ]
    },
    {
     "name": "stderr",
     "output_type": "stream",
     "text": [
      "\n"
     ]
    },
    {
     "name": "stdout",
     "output_type": "stream",
     "text": [
      "loss=0.018122820565291808\n",
      "acc=0.9952666666666666\n",
      "loss=0.4761434979736805\n",
      "acc=0.8798\n",
      "loss=0.4532230106124189\n",
      "acc=0.882\n",
      "Printing outputs_R shape  (10, 5000)\n",
      "  adding: kaggle/tmp/unlearned_checkpoint_0.pth (deflated 6%)\n",
      "  adding: kaggle/tmp/unlearned_checkpoint_1.pth (deflated 6%)\n",
      "  adding: kaggle/tmp/unlearned_checkpoint_2.pth (deflated 6%)\n",
      "  adding: kaggle/tmp/unlearned_checkpoint_3.pth (deflated 6%)\n",
      "  adding: kaggle/tmp/unlearned_checkpoint_4.pth (deflated 6%)\n",
      "  adding: kaggle/tmp/unlearned_checkpoint_5.pth (deflated 6%)\n",
      "  adding: kaggle/tmp/unlearned_checkpoint_6.pth (deflated 6%)\n",
      "  adding: kaggle/tmp/unlearned_checkpoint_7.pth (deflated 6%)\n",
      "  adding: kaggle/tmp/unlearned_checkpoint_8.pth (deflated 6%)\n",
      "  adding: kaggle/tmp/unlearned_checkpoint_9.pth (deflated 6%)\n"
     ]
    }
   ],
   "source": [
    "## This snippet is taken is provided by the orgamnizers of kaggle competition as a startup script.\n",
    "attacks = [logistic_regression_attack]\n",
    "criterion = nn.CrossEntropyLoss()\n",
    "outputs_U = []\n",
    "outputs_R = []\n",
    "retain_accuracy = []\n",
    "test_accuracy = []\n",
    "forget_accuracy = []\n",
    "\n",
    "import numpy as np\n",
    "if USE_MOCK:\n",
    "    \n",
    "    # NOTE: Almost same as the original codes\n",
    "    \n",
    "    # Download\n",
    "    if not os.path.exists(mock_model_path):\n",
    "        response = requests.get(\"https://storage.googleapis.com/unlearning-challenge/weights_resnet18_cifar10.pth\")\n",
    "        open(mock_model_path, \"wb\").write(response.content)    \n",
    "    \n",
    "    os.makedirs('/kaggle/tmp', exist_ok=True)\n",
    "#     retain_loader, forget_loader, validation_loader = get_dataset(64)\n",
    "    net = resnet18(weights=None, num_classes=10)\n",
    "    net.to(DEVICE)\n",
    "    net.load_state_dict(torch.load(mock_model_path))\n",
    "    u_model = deepcopy(net)\n",
    "    for i in tqdm.trange(n_checkpoints):\n",
    "        net.load_state_dict(torch.load(mock_model_path))\n",
    "        print(\"I am unlearning all the wrong things you taught me\")\n",
    "        u_model = unlearning(net, retain_loader, forget_loader, val_loader)\n",
    "        state = u_model.state_dict()\n",
    "        torch.save(state, f'/kaggle/tmp/unlearned_checkpoint_{i}.pth')\n",
    "        \n",
    "        targets, outputs_Ui = compute_outputs(u_model, forget_loader)\n",
    "        \n",
    "        outputs_U.append( cross_entropy_f(outputs_Ui, targets) )\n",
    "        \n",
    "        print(\"Computing retain accuracy on Unlearning Model\")\n",
    "        acc, _ = evaluation(u_model, retain_loader, criterion)\n",
    "        print(\"Retain accuracy on Unlearning Model is \",acc)\n",
    "        retain_accuracy.append(acc)\n",
    "        \n",
    "        print(\"Computing test accuracy on Unlearning model\")\n",
    "        acc,_ = evaluation(u_model, val_loader, criterion)\n",
    "        print(\"Test accuracy on Unlearning model is \", acc)\n",
    "        test_accuracy.append(acc)\n",
    "        \n",
    "        print(\"Computing forget accuracy on Unlearning model\")\n",
    "        acc,_ = evaluation(u_model, forget_loader, criterion)\n",
    "        print(\"Forget accuracy on Unlearning model is \",acc)\n",
    "        forget_accuracy.append(acc)\n",
    "    \n",
    "    outputs_U = np.array(outputs_U)\n",
    "    print(\"Printing outputs_U shape \",outputs_U.shape)\n",
    "    \n",
    "    assert outputs_U.shape == (n_checkpoints, len(forget_loader.dataset)),\\\n",
    "        \"Wrong shape for outputs_U. Should be (num_model_samples, num_forget_datapoints).\"\n",
    "    \n",
    "    \n",
    "    RAR, _ = evaluation(rt_model, retain_loader, criterion)\n",
    "    TAR, _ = evaluation(rt_model, val_loader, criterion)\n",
    "    FAR, _ = evaluation(rt_model, forget_loader, criterion)\n",
    "    \n",
    "    RAU = np.mean(retain_accuracy)\n",
    "    TAU = np.mean(test_accuracy)\n",
    "    FAU = np.mean(forget_accuracy)\n",
    "    \n",
    "    RA_ratio = RAU / RAR\n",
    "    TA_ratio = TAU / TAR\n",
    "    \n",
    "    for i in range(n_checkpoints):\n",
    "        targets, outputs_Ri = compute_outputs(rt_model, forget_loader) #(len(forget_loader.dataset), 10) \n",
    "        \n",
    "        outputs_R.append(cross_entropy_f(outputs_Ri, targets) )\n",
    "    \n",
    "    outputs_R = np.array(outputs_R)\n",
    "    print(\"Printing outputs_R shape \",outputs_R.shape)\n",
    "    \n",
    "\n",
    "    \n",
    "    # Ensure that submission.zip will contain exactly 512 checkpoints \n",
    "    # (if this is not the case, an exception will be thrown).\n",
    "    unlearned_ckpts = os.listdir('/kaggle/tmp')\n",
    "    if len(unlearned_ckpts) != n_checkpoints:\n",
    "        raise RuntimeError('Expected exactly 512 checkpoints. The submission will throw an exception otherwise.')\n",
    "\n",
    "    subprocess.run('zip submission.zip /kaggle/tmp/*.pth', shell=True)\n",
    "    \n",
    "    \n",
    "else:\n",
    "    print(\"Hi\")\n"
   ]
  },
  {
   "cell_type": "code",
   "execution_count": 21,
   "metadata": {
    "execution": {
     "iopub.execute_input": "2023-12-06T16:43:16.620861Z",
     "iopub.status.busy": "2023-12-06T16:43:16.620416Z",
     "iopub.status.idle": "2023-12-06T16:43:16.628152Z",
     "shell.execute_reply": "2023-12-06T16:43:16.627212Z",
     "shell.execute_reply.started": "2023-12-06T16:43:16.620728Z"
    }
   },
   "outputs": [
    {
     "name": "stdout",
     "output_type": "stream",
     "text": [
      "False\n",
      "False\n"
     ]
    }
   ],
   "source": [
    "import math\n",
    "\n",
    "# Assuming outputs_U is a Python list\n",
    "has_nan = np.isnan(np.array(outputs_R)).any()\n",
    "print(has_nan)\n",
    "\n",
    "has_nan = np.isnan(np.array(outputs_U)).any()\n",
    "print(has_nan)"
   ]
  },
  {
   "cell_type": "code",
   "execution_count": 22,
   "metadata": {
    "execution": {
     "iopub.execute_input": "2023-12-06T16:43:16.629470Z",
     "iopub.status.busy": "2023-12-06T16:43:16.629203Z",
     "iopub.status.idle": "2023-12-06T16:43:16.641347Z",
     "shell.execute_reply": "2023-12-06T16:43:16.640432Z",
     "shell.execute_reply.started": "2023-12-06T16:43:16.629444Z"
    }
   },
   "outputs": [
    {
     "data": {
      "text/plain": [
       "False"
      ]
     },
     "execution_count": 22,
     "metadata": {},
     "output_type": "execute_result"
    }
   ],
   "source": [
    "import math\n",
    "\n",
    "# Assuming outputs_U is a Python list\n",
    "has_nan = any(math.isnan(x) for x in outputs_U if isinstance(x, (float, int)))\n",
    "has_nan"
   ]
  },
  {
   "cell_type": "code",
   "execution_count": 23,
   "metadata": {
    "execution": {
     "iopub.execute_input": "2023-12-06T16:43:16.643419Z",
     "iopub.status.busy": "2023-12-06T16:43:16.642702Z",
     "iopub.status.idle": "2023-12-06T16:43:16.652519Z",
     "shell.execute_reply": "2023-12-06T16:43:16.651727Z",
     "shell.execute_reply.started": "2023-12-06T16:43:16.643380Z"
    }
   },
   "outputs": [],
   "source": [
    "samples = np.concatenate((outputs_R, outputs_U)).reshape((-1, 1))"
   ]
  },
  {
   "cell_type": "code",
   "execution_count": 24,
   "metadata": {
    "execution": {
     "iopub.execute_input": "2023-12-06T16:43:16.653891Z",
     "iopub.status.busy": "2023-12-06T16:43:16.653587Z",
     "iopub.status.idle": "2023-12-06T16:43:16.665111Z",
     "shell.execute_reply": "2023-12-06T16:43:16.664126Z",
     "shell.execute_reply.started": "2023-12-06T16:43:16.653864Z"
    }
   },
   "outputs": [
    {
     "data": {
      "text/plain": [
       "False"
      ]
     },
     "execution_count": 24,
     "metadata": {},
     "output_type": "execute_result"
    }
   ],
   "source": [
    "has_nan = np.isnan(samples).any()\n",
    "has_nan"
   ]
  },
  {
   "cell_type": "code",
   "execution_count": 25,
   "metadata": {
    "execution": {
     "iopub.execute_input": "2023-12-06T16:43:16.666553Z",
     "iopub.status.busy": "2023-12-06T16:43:16.666251Z",
     "iopub.status.idle": "2023-12-06T16:43:53.966365Z",
     "shell.execute_reply": "2023-12-06T16:43:53.965445Z",
     "shell.execute_reply.started": "2023-12-06T16:43:16.666527Z"
    }
   },
   "outputs": [
    {
     "name": "stderr",
     "output_type": "stream",
     "text": [
      "Computing F...: 100%|██████████| 5000/5000 [00:37<00:00, 134.10it/s]\n"
     ]
    }
   ],
   "source": [
    "from tqdm import tqdm\n",
    "\n",
    "attacks = [logistic_regression_attack]\n",
    "\n",
    "f = forgetting_quality(\n",
    "outputs_U, \n",
    "outputs_R,\n",
    "attacks=attacks,\n",
    "delta=0.01)\n",
    "\n",
    "ret = {\n",
    "    \"total_score\": f * RA_ratio * TA_ratio,\n",
    "    \"F\": f,\n",
    "    \"unlearn_retain_accuracy\": RAU,\n",
    "    \"unlearn_test_accuracy\": TAU, \n",
    "    \"unlearn_forget_accuracy\": FAU,\n",
    "    \"retrain_retain_accuracy\": RAR,\n",
    "    \"retrain_test_accuracy\": TAR, \n",
    "    \"retrain_forget_accuracy\": FAR,\n",
    "    \"retrain_outputs\": outputs_R,\n",
    "    \"unlearn_outputs\": outputs_U,\n",
    "    \"unlearning_model\": u_model\n",
    "}"
   ]
  },
  {
   "cell_type": "code",
   "execution_count": 26,
   "metadata": {
    "execution": {
     "iopub.execute_input": "2023-12-06T16:43:53.968008Z",
     "iopub.status.busy": "2023-12-06T16:43:53.967675Z",
     "iopub.status.idle": "2023-12-06T16:43:53.978228Z",
     "shell.execute_reply": "2023-12-06T16:43:53.977320Z",
     "shell.execute_reply.started": "2023-12-06T16:43:53.967978Z"
    }
   },
   "outputs": [
    {
     "data": {
      "text/plain": [
       "{'total_score': 0.6663491688640835,\n",
       " 'F': 0.69807373046875,\n",
       " 'unlearn_retain_accuracy': 0.9876888888888888,\n",
       " 'unlearn_test_accuracy': 0.84626,\n",
       " 'unlearn_forget_accuracy': 0.8913,\n",
       " 'retrain_retain_accuracy': 0.9952666666666666,\n",
       " 'retrain_test_accuracy': 0.8798,\n",
       " 'retrain_forget_accuracy': 0.882,\n",
       " 'retrain_outputs': array([[1.1427237e+00, 6.8271221e-03, 5.4480130e-05, ..., 1.4155446e-01,\n",
       "         4.6083200e-01, 2.1786564e-03],\n",
       "        [1.1427237e+00, 6.8271221e-03, 5.4480130e-05, ..., 1.4155446e-01,\n",
       "         4.6083200e-01, 2.1786564e-03],\n",
       "        [1.1427237e+00, 6.8271221e-03, 5.4480130e-05, ..., 1.4155446e-01,\n",
       "         4.6083200e-01, 2.1786564e-03],\n",
       "        ...,\n",
       "        [1.1427237e+00, 6.8271221e-03, 5.4480130e-05, ..., 1.4155446e-01,\n",
       "         4.6083200e-01, 2.1786564e-03],\n",
       "        [1.1427237e+00, 6.8271221e-03, 5.4480130e-05, ..., 1.4155446e-01,\n",
       "         4.6083200e-01, 2.1786564e-03],\n",
       "        [1.1427237e+00, 6.8271221e-03, 5.4480130e-05, ..., 1.4155446e-01,\n",
       "         4.6083200e-01, 2.1786564e-03]], dtype=float32),\n",
       " 'unlearn_outputs': array([[5.3024847e-02, 1.2243730e-03, 4.4635957e-04, ..., 5.4677315e+00,\n",
       "         3.0190624e-02, 6.2944432e-04],\n",
       "        [3.7928536e-03, 1.0549028e-03, 1.2860219e-03, ..., 2.2070093e+00,\n",
       "         8.4292644e-04, 5.5726180e-03],\n",
       "        [6.1683967e-03, 8.4793742e-04, 1.1005495e-03, ..., 3.4771249e+00,\n",
       "         4.7711655e-02, 8.0367541e-03],\n",
       "        ...,\n",
       "        [1.2856509e-01, 2.3162945e-03, 1.7475249e-03, ..., 3.7985659e+00,\n",
       "         3.0623687e-02, 2.0861840e-02],\n",
       "        [4.2405774e-04, 7.3246332e-03, 9.4953540e-04, ..., 2.7807777e+00,\n",
       "         2.8274479e-04, 3.4451755e-03],\n",
       "        [1.5919356e-03, 2.3228065e-03, 4.7599676e-04, ..., 2.6813774e+00,\n",
       "         5.5489600e-01, 1.1700678e-03]], dtype=float32),\n",
       " 'unlearning_model': ResNet(\n",
       "   (conv1): Conv2d(3, 64, kernel_size=(7, 7), stride=(2, 2), padding=(3, 3), bias=False)\n",
       "   (bn1): BatchNorm2d(64, eps=1e-05, momentum=0.1, affine=True, track_running_stats=True)\n",
       "   (relu): ReLU(inplace=True)\n",
       "   (maxpool): MaxPool2d(kernel_size=3, stride=2, padding=1, dilation=1, ceil_mode=False)\n",
       "   (layer1): Sequential(\n",
       "     (0): BasicBlock(\n",
       "       (conv1): Conv2d(64, 64, kernel_size=(3, 3), stride=(1, 1), padding=(1, 1), bias=False)\n",
       "       (bn1): BatchNorm2d(64, eps=1e-05, momentum=0.1, affine=True, track_running_stats=True)\n",
       "       (relu): ReLU(inplace=True)\n",
       "       (conv2): Conv2d(64, 64, kernel_size=(3, 3), stride=(1, 1), padding=(1, 1), bias=False)\n",
       "       (bn2): BatchNorm2d(64, eps=1e-05, momentum=0.1, affine=True, track_running_stats=True)\n",
       "     )\n",
       "     (1): BasicBlock(\n",
       "       (conv1): Conv2d(64, 64, kernel_size=(3, 3), stride=(1, 1), padding=(1, 1), bias=False)\n",
       "       (bn1): BatchNorm2d(64, eps=1e-05, momentum=0.1, affine=True, track_running_stats=True)\n",
       "       (relu): ReLU(inplace=True)\n",
       "       (conv2): Conv2d(64, 64, kernel_size=(3, 3), stride=(1, 1), padding=(1, 1), bias=False)\n",
       "       (bn2): BatchNorm2d(64, eps=1e-05, momentum=0.1, affine=True, track_running_stats=True)\n",
       "     )\n",
       "   )\n",
       "   (layer2): Sequential(\n",
       "     (0): BasicBlock(\n",
       "       (conv1): Conv2d(64, 128, kernel_size=(3, 3), stride=(2, 2), padding=(1, 1), bias=False)\n",
       "       (bn1): BatchNorm2d(128, eps=1e-05, momentum=0.1, affine=True, track_running_stats=True)\n",
       "       (relu): ReLU(inplace=True)\n",
       "       (conv2): Conv2d(128, 128, kernel_size=(3, 3), stride=(1, 1), padding=(1, 1), bias=False)\n",
       "       (bn2): BatchNorm2d(128, eps=1e-05, momentum=0.1, affine=True, track_running_stats=True)\n",
       "       (downsample): Sequential(\n",
       "         (0): Conv2d(64, 128, kernel_size=(1, 1), stride=(2, 2), bias=False)\n",
       "         (1): BatchNorm2d(128, eps=1e-05, momentum=0.1, affine=True, track_running_stats=True)\n",
       "       )\n",
       "     )\n",
       "     (1): BasicBlock(\n",
       "       (conv1): Conv2d(128, 128, kernel_size=(3, 3), stride=(1, 1), padding=(1, 1), bias=False)\n",
       "       (bn1): BatchNorm2d(128, eps=1e-05, momentum=0.1, affine=True, track_running_stats=True)\n",
       "       (relu): ReLU(inplace=True)\n",
       "       (conv2): Conv2d(128, 128, kernel_size=(3, 3), stride=(1, 1), padding=(1, 1), bias=False)\n",
       "       (bn2): BatchNorm2d(128, eps=1e-05, momentum=0.1, affine=True, track_running_stats=True)\n",
       "     )\n",
       "   )\n",
       "   (layer3): Sequential(\n",
       "     (0): BasicBlock(\n",
       "       (conv1): Conv2d(128, 256, kernel_size=(3, 3), stride=(2, 2), padding=(1, 1), bias=False)\n",
       "       (bn1): BatchNorm2d(256, eps=1e-05, momentum=0.1, affine=True, track_running_stats=True)\n",
       "       (relu): ReLU(inplace=True)\n",
       "       (conv2): Conv2d(256, 256, kernel_size=(3, 3), stride=(1, 1), padding=(1, 1), bias=False)\n",
       "       (bn2): BatchNorm2d(256, eps=1e-05, momentum=0.1, affine=True, track_running_stats=True)\n",
       "       (downsample): Sequential(\n",
       "         (0): Conv2d(128, 256, kernel_size=(1, 1), stride=(2, 2), bias=False)\n",
       "         (1): BatchNorm2d(256, eps=1e-05, momentum=0.1, affine=True, track_running_stats=True)\n",
       "       )\n",
       "     )\n",
       "     (1): BasicBlock(\n",
       "       (conv1): Conv2d(256, 256, kernel_size=(3, 3), stride=(1, 1), padding=(1, 1), bias=False)\n",
       "       (bn1): BatchNorm2d(256, eps=1e-05, momentum=0.1, affine=True, track_running_stats=True)\n",
       "       (relu): ReLU(inplace=True)\n",
       "       (conv2): Conv2d(256, 256, kernel_size=(3, 3), stride=(1, 1), padding=(1, 1), bias=False)\n",
       "       (bn2): BatchNorm2d(256, eps=1e-05, momentum=0.1, affine=True, track_running_stats=True)\n",
       "     )\n",
       "   )\n",
       "   (layer4): Sequential(\n",
       "     (0): BasicBlock(\n",
       "       (conv1): Conv2d(256, 512, kernel_size=(3, 3), stride=(2, 2), padding=(1, 1), bias=False)\n",
       "       (bn1): BatchNorm2d(512, eps=1e-05, momentum=0.1, affine=True, track_running_stats=True)\n",
       "       (relu): ReLU(inplace=True)\n",
       "       (conv2): Conv2d(512, 512, kernel_size=(3, 3), stride=(1, 1), padding=(1, 1), bias=False)\n",
       "       (bn2): BatchNorm2d(512, eps=1e-05, momentum=0.1, affine=True, track_running_stats=True)\n",
       "       (downsample): Sequential(\n",
       "         (0): Conv2d(256, 512, kernel_size=(1, 1), stride=(2, 2), bias=False)\n",
       "         (1): BatchNorm2d(512, eps=1e-05, momentum=0.1, affine=True, track_running_stats=True)\n",
       "       )\n",
       "     )\n",
       "     (1): BasicBlock(\n",
       "       (conv1): Conv2d(512, 512, kernel_size=(3, 3), stride=(1, 1), padding=(1, 1), bias=False)\n",
       "       (bn1): BatchNorm2d(512, eps=1e-05, momentum=0.1, affine=True, track_running_stats=True)\n",
       "       (relu): ReLU(inplace=True)\n",
       "       (conv2): Conv2d(512, 512, kernel_size=(3, 3), stride=(1, 1), padding=(1, 1), bias=False)\n",
       "       (bn2): BatchNorm2d(512, eps=1e-05, momentum=0.1, affine=True, track_running_stats=True)\n",
       "     )\n",
       "   )\n",
       "   (avgpool): AdaptiveAvgPool2d(output_size=(1, 1))\n",
       "   (fc): Linear(in_features=512, out_features=10, bias=True)\n",
       " )}"
      ]
     },
     "execution_count": 26,
     "metadata": {},
     "output_type": "execute_result"
    }
   ],
   "source": [
    "ret"
   ]
  },
  {
   "cell_type": "code",
   "execution_count": 27,
   "metadata": {
    "execution": {
     "iopub.execute_input": "2023-12-06T16:43:53.979735Z",
     "iopub.status.busy": "2023-12-06T16:43:53.979439Z",
     "iopub.status.idle": "2023-12-06T16:44:04.015462Z",
     "shell.execute_reply": "2023-12-06T16:44:04.014105Z",
     "shell.execute_reply.started": "2023-12-06T16:43:53.979709Z"
    }
   },
   "outputs": [],
   "source": [
    "def compute_losses(net, loader):\n",
    "    \"\"\"Auxiliary function to compute per-sample losses\"\"\"\n",
    "\n",
    "    criterion = nn.CrossEntropyLoss(reduction=\"none\")\n",
    "    all_losses = []\n",
    "\n",
    "    for inputs, targets in loader:\n",
    "        inputs, targets = inputs.to(DEVICE), targets.to(DEVICE)\n",
    "\n",
    "        logits = net(inputs)\n",
    "        losses = criterion(logits, targets).numpy(force=True)\n",
    "        for l in losses:\n",
    "            all_losses.append(l)\n",
    "\n",
    "    return np.array(all_losses)\n",
    "\n",
    "\n",
    "ut_train_losses = compute_losses(u_model, train_loader)\n",
    "ut_test_losses = compute_losses(u_model, test_loader)\n",
    "ut_forget_losses = compute_losses(u_model, forget_loader)"
   ]
  },
  {
   "cell_type": "code",
   "execution_count": 28,
   "metadata": {
    "execution": {
     "iopub.execute_input": "2023-12-06T16:44:04.022926Z",
     "iopub.status.busy": "2023-12-06T16:44:04.022554Z",
     "iopub.status.idle": "2023-12-06T16:44:13.760076Z",
     "shell.execute_reply": "2023-12-06T16:44:13.758753Z",
     "shell.execute_reply.started": "2023-12-06T16:44:04.022891Z"
    }
   },
   "outputs": [],
   "source": [
    "rt_train_losses = compute_losses(rt_model, train_loader)\n",
    "rt_test_losses = compute_losses(rt_model, test_loader)\n",
    "rt_forget_losses = compute_losses(rt_model, forget_loader)"
   ]
  },
  {
   "cell_type": "code",
   "execution_count": 29,
   "metadata": {
    "execution": {
     "iopub.execute_input": "2023-12-06T16:44:13.762751Z",
     "iopub.status.busy": "2023-12-06T16:44:13.761991Z",
     "iopub.status.idle": "2023-12-06T16:44:15.265765Z",
     "shell.execute_reply": "2023-12-06T16:44:15.264791Z",
     "shell.execute_reply.started": "2023-12-06T16:44:13.762705Z"
    }
   },
   "outputs": [
    {
     "data": {
      "image/png": "[encoded data removed]",
      "text/plain": [
       "<Figure size 1600x600 with 2 Axes>"
      ]
     },
     "metadata": {},
     "output_type": "display_data"
    }
   ],
   "source": [
    "fig, (ax1, ax2) = plt.subplots(1, 2, figsize=(16, 6))\n",
    "\n",
    "ax1.set_title(f\"Unlearned model test and forget graphs\")\n",
    "ax1.hist(ut_test_losses, density=True, alpha=0.5, bins=50, label=\"Test set\")\n",
    "ax1.hist(ut_forget_losses, density=True, alpha=0.5, bins=50, label=\"Forget set\")\n",
    "\n",
    "ax2.set_title(\n",
    "    f\"Retrain test and forget graphs\"\n",
    ")\n",
    "ax2.hist(rt_test_losses, density=True, alpha=0.5, bins=50, label=\"Test set\")\n",
    "ax2.hist(rt_forget_losses, density=True, alpha=0.5, bins=50, label=\"Forget set\")\n",
    "\n",
    "ax1.set_xlabel(\"Loss\")\n",
    "ax2.set_xlabel(\"Loss\")\n",
    "ax1.set_ylabel(\"Frequency\")\n",
    "ax1.set_yscale(\"log\")\n",
    "ax2.set_yscale(\"log\")\n",
    "ax1.set_xlim((0, np.max(ut_test_losses)))\n",
    "ax2.set_xlim((0, np.max(ut_forget_losses)))\n",
    "for ax in (ax1, ax2):\n",
    "    ax.spines[\"top\"].set_visible(False)\n",
    "    ax.spines[\"right\"].set_visible(False)\n",
    "ax1.legend(frameon=False, fontsize=14)\n",
    "plt.show()"
   ]
  },
  {
   "cell_type": "code",
   "execution_count": 30,
   "metadata": {
    "execution": {
     "iopub.execute_input": "2023-12-06T16:44:15.267204Z",
     "iopub.status.busy": "2023-12-06T16:44:15.266907Z",
     "iopub.status.idle": "2023-12-06T16:44:16.851264Z",
     "shell.execute_reply": "2023-12-06T16:44:16.850401Z",
     "shell.execute_reply.started": "2023-12-06T16:44:15.267177Z"
    }
   },
   "outputs": [
    {
     "data": {
      "image/png": "[encoded data removed]",
      "text/plain": [
       "<Figure size 1600x600 with 2 Axes>"
      ]
     },
     "metadata": {},
     "output_type": "display_data"
    }
   ],
   "source": [
    "fig, (ax1, ax2) = plt.subplots(1, 2, figsize=(16, 6))\n",
    "\n",
    "ax1.set_title(f\"Unlearned model and retrained model forget graphs\")\n",
    "ax1.hist(ut_forget_losses, density=True, alpha=0.5, bins=50, label=\"unlearned forget set graph\")\n",
    "ax1.hist(rt_forget_losses, density=True, alpha=0.5, bins=50, label=\"retrained forget set graph\")\n",
    "\n",
    "ax2.set_title(\n",
    "    f\"Test graphs for the unlearned and retrained model\"\n",
    ")\n",
    "ax2.hist(ut_test_losses, density=True, alpha=0.5, bins=50, label=\"Test set\")\n",
    "ax2.hist(rt_test_losses, density=True, alpha=0.5, bins=50, label=\"Forget set\")\n",
    "\n",
    "ax1.set_xlabel(\"Loss\")\n",
    "ax2.set_xlabel(\"Loss\")\n",
    "ax1.set_ylabel(\"Frequency\")\n",
    "ax1.set_yscale(\"log\")\n",
    "ax2.set_yscale(\"log\")\n",
    "ax1.set_xlim((0, np.max(ut_test_losses)))\n",
    "ax2.set_xlim((0, np.max(ut_forget_losses)))\n",
    "for ax in (ax1, ax2):\n",
    "    ax.spines[\"top\"].set_visible(False)\n",
    "    ax.spines[\"right\"].set_visible(False)\n",
    "ax1.legend(frameon=False, fontsize=14)\n",
    "plt.show()"
   ]
  },
  {
   "cell_type": "code",
   "execution_count": null,
   "metadata": {},
   "outputs": [],
   "source": []
  }
 ],
 "metadata": {
  "kaggle": {
   "accelerator": "gpu",
   "dataSources": [],
   "dockerImageVersionId": 30588,
   "isGpuEnabled": true,
   "isInternetEnabled": true,
   "language": "python",
   "sourceType": "notebook"
  },
  "kernelspec": {
   "display_name": "Python 3 (ipykernel)",
   "language": "python",
   "name": "python3"
  },
  "language_info": {
   "codemirror_mode": {
    "name": "ipython",
    "version": 3
   },
   "file_extension": ".py",
   "mimetype": "text/x-python",
   "name": "python",
   "nbconvert_exporter": "python",
   "pygments_lexer": "ipython3",
   "version": "3.11.6"
  }
 },
 "nbformat": 4,
 "nbformat_minor": 4
}
