{
 "cells": [
  {
   "cell_type": "code",
   "execution_count": 1,
   "metadata": {
    "_cell_guid": "b1076dfc-b9ad-4769-8c92-a6c4dae69d19",
    "_uuid": "8f2839f25d086af736a60e9eeb907d3b93b6e0e5",
    "execution": {
     "iopub.execute_input": "2023-12-06T13:38:19.213095Z",
     "iopub.status.busy": "2023-12-06T13:38:19.212730Z",
     "iopub.status.idle": "2023-12-06T13:38:24.182028Z",
     "shell.execute_reply": "2023-12-06T13:38:24.181028Z",
     "shell.execute_reply.started": "2023-12-06T13:38:19.213062Z"
    }
   },
   "outputs": [
    {
     "name": "stderr",
     "output_type": "stream",
     "text": [
      "/opt/conda/lib/python3.10/site-packages/scipy/__init__.py:146: UserWarning: A NumPy version >=1.16.5 and <1.23.0 is required for this version of SciPy (detected version 1.24.3\n",
      "  warnings.warn(f\"A NumPy version >={np_minversion} and <{np_maxversion}\"\n"
     ]
    },
    {
     "name": "stdout",
     "output_type": "stream",
     "text": [
      "Running on device: CUDA\n"
     ]
    },
    {
     "data": {
      "text/plain": [
       "'cuda'"
      ]
     },
     "execution_count": 1,
     "metadata": {},
     "output_type": "execute_result"
    }
   ],
   "source": [
    "import os\n",
    "import subprocess\n",
    "\n",
    "import pandas as pd\n",
    "import torch\n",
    "import torchvision\n",
    "import torch.nn as nn\n",
    "import torch.optim as optim\n",
    "from torchvision.models import resnet18\n",
    "from torch.utils.data import DataLoader, Dataset\n",
    "import torch.nn.functional as F\n",
    "\n",
    "import os\n",
    "import requests\n",
    "import numpy as np\n",
    "import matplotlib.pyplot as plt\n",
    "from sklearn import linear_model, model_selection\n",
    "\n",
    "import torch\n",
    "from torch import nn\n",
    "from torch import optim\n",
    "from torch.utils.data import DataLoader\n",
    "\n",
    "import torchvision\n",
    "from torchvision import transforms\n",
    "from torchvision.utils import make_grid\n",
    "from torchvision.models import resnet18\n",
    "from copy import deepcopy\n",
    "import torch.nn.functional as F\n",
    "from sklearn import linear_model, model_selection\n",
    "from sklearn.metrics import make_scorer, accuracy_score\n",
    "from tqdm.notebook import tqdm\n",
    "\n",
    "DEVICE = \"cuda\" if torch.cuda.is_available() else \"cpu\"\n",
    "print(\"Running on device:\", DEVICE.upper())\n",
    "\n",
    "from typing import Callable\n",
    "\n",
    "# manual random seed is used for dataset partitioning\n",
    "# to ensure reproducible results across runs\n",
    "RNG = torch.Generator().manual_seed(42)\n",
    "\n",
    "DEVICE = 'cuda' if torch.cuda.is_available() else 'cpu' \n",
    "DEVICE"
   ]
  },
  {
   "cell_type": "code",
   "execution_count": 2,
   "metadata": {
    "execution": {
     "iopub.execute_input": "2023-12-06T13:38:24.184433Z",
     "iopub.status.busy": "2023-12-06T13:38:24.183956Z",
     "iopub.status.idle": "2023-12-06T13:38:24.204348Z",
     "shell.execute_reply": "2023-12-06T13:38:24.203343Z",
     "shell.execute_reply.started": "2023-12-06T13:38:24.184405Z"
    }
   },
   "outputs": [
    {
     "data": {
      "text/plain": [
       "<torch._C.Generator at 0x78a302d77730>"
      ]
     },
     "execution_count": 2,
     "metadata": {},
     "output_type": "execute_result"
    }
   ],
   "source": [
    "torch.manual_seed(3047)\n",
    "\n",
    "Gr = torch.Generator()\n",
    "Gr.manual_seed(20)\n",
    "\n",
    "Gf = torch.Generator()\n",
    "Gf.manual_seed(30)\n",
    "\n",
    "Gv = torch.Generator()\n",
    "Gv.manual_seed(40)"
   ]
  },
  {
   "cell_type": "code",
   "execution_count": 3,
   "metadata": {
    "execution": {
     "iopub.execute_input": "2023-12-06T13:38:24.205915Z",
     "iopub.status.busy": "2023-12-06T13:38:24.205613Z",
     "iopub.status.idle": "2023-12-06T13:38:24.214110Z",
     "shell.execute_reply": "2023-12-06T13:38:24.213140Z",
     "shell.execute_reply.started": "2023-12-06T13:38:24.205890Z"
    }
   },
   "outputs": [],
   "source": [
    "# Mock setting\n",
    "\n",
    "import logging\n",
    "import requests\n",
    "import tqdm\n",
    "from torch.utils.data import Subset\n",
    "from torchvision import transforms\n",
    "\n",
    "USE_MOCK: bool = True\n",
    "\n",
    "if USE_MOCK:\n",
    "    logging.warning('Running with Mock')\n",
    "    logging.warning('In this mode, internet access may be required.')\n",
    "\n",
    "    # The number of checkpoints in this mode.\n",
    "    # NOTE: 512 checkpoints are required in this competition.\n",
    "    n_checkpoints = 10\n",
    "    \n",
    "    # The directory for a dataset and a pretrained model\n",
    "    mock_dir = './mock'\n",
    "    mock_model_path = os.path.join(mock_dir, \"weights_resnet18_cifar10.pth\")\n",
    "    os.makedirs(mock_dir, exist_ok=True)"
   ]
  },
  {
   "cell_type": "code",
   "execution_count": 4,
   "metadata": {
    "execution": {
     "iopub.execute_input": "2023-12-06T13:38:24.215479Z",
     "iopub.status.busy": "2023-12-06T13:38:24.215212Z",
     "iopub.status.idle": "2023-12-06T13:38:24.224179Z",
     "shell.execute_reply": "2023-12-06T13:38:24.223179Z",
     "shell.execute_reply.started": "2023-12-06T13:38:24.215455Z"
    }
   },
   "outputs": [],
   "source": [
    "if DEVICE != 'cuda':\n",
    "    raise RuntimeError('Make sure you have added an accelerator to your notebook; the submission will fail otherwise!')"
   ]
  },
  {
   "cell_type": "code",
   "execution_count": 5,
   "metadata": {
    "execution": {
     "iopub.execute_input": "2023-12-06T13:38:24.227769Z",
     "iopub.status.busy": "2023-12-06T13:38:24.227426Z",
     "iopub.status.idle": "2023-12-06T13:38:24.238300Z",
     "shell.execute_reply": "2023-12-06T13:38:24.237378Z",
     "shell.execute_reply.started": "2023-12-06T13:38:24.227736Z"
    }
   },
   "outputs": [],
   "source": [
    "local_path = \"retrain_weights_resnet18_cifar10.pth\"\n",
    "if os.path.exists(local_path):\n",
    "    os.remove(local_path)"
   ]
  },
  {
   "cell_type": "code",
   "execution_count": 6,
   "metadata": {
    "execution": {
     "iopub.execute_input": "2023-12-06T13:38:24.240096Z",
     "iopub.status.busy": "2023-12-06T13:38:24.239710Z",
     "iopub.status.idle": "2023-12-06T13:38:25.196507Z",
     "shell.execute_reply": "2023-12-06T13:38:25.195497Z",
     "shell.execute_reply.started": "2023-12-06T13:38:24.240063Z"
    }
   },
   "outputs": [
    {
     "data": {
      "text/plain": [
       "44808169"
      ]
     },
     "execution_count": 6,
     "metadata": {},
     "output_type": "execute_result"
    }
   ],
   "source": [
    "response = requests.get(\"https://storage.googleapis.com/unlearning-challenge/\" + local_path)\n",
    "open(local_path, \"wb\").write(response.content)"
   ]
  },
  {
   "cell_type": "code",
   "execution_count": 7,
   "metadata": {
    "execution": {
     "iopub.execute_input": "2023-12-06T13:38:25.197954Z",
     "iopub.status.busy": "2023-12-06T13:38:25.197647Z",
     "iopub.status.idle": "2023-12-06T13:38:28.694142Z",
     "shell.execute_reply": "2023-12-06T13:38:28.693133Z",
     "shell.execute_reply.started": "2023-12-06T13:38:25.197928Z"
    }
   },
   "outputs": [
    {
     "data": {
      "text/plain": [
       "ResNet(\n",
       "  (conv1): Conv2d(3, 64, kernel_size=(7, 7), stride=(2, 2), padding=(3, 3), bias=False)\n",
       "  (bn1): BatchNorm2d(64, eps=1e-05, momentum=0.1, affine=True, track_running_stats=True)\n",
       "  (relu): ReLU(inplace=True)\n",
       "  (maxpool): MaxPool2d(kernel_size=3, stride=2, padding=1, dilation=1, ceil_mode=False)\n",
       "  (layer1): Sequential(\n",
       "    (0): BasicBlock(\n",
       "      (conv1): Conv2d(64, 64, kernel_size=(3, 3), stride=(1, 1), padding=(1, 1), bias=False)\n",
       "      (bn1): BatchNorm2d(64, eps=1e-05, momentum=0.1, affine=True, track_running_stats=True)\n",
       "      (relu): ReLU(inplace=True)\n",
       "      (conv2): Conv2d(64, 64, kernel_size=(3, 3), stride=(1, 1), padding=(1, 1), bias=False)\n",
       "      (bn2): BatchNorm2d(64, eps=1e-05, momentum=0.1, affine=True, track_running_stats=True)\n",
       "    )\n",
       "    (1): BasicBlock(\n",
       "      (conv1): Conv2d(64, 64, kernel_size=(3, 3), stride=(1, 1), padding=(1, 1), bias=False)\n",
       "      (bn1): BatchNorm2d(64, eps=1e-05, momentum=0.1, affine=True, track_running_stats=True)\n",
       "      (relu): ReLU(inplace=True)\n",
       "      (conv2): Conv2d(64, 64, kernel_size=(3, 3), stride=(1, 1), padding=(1, 1), bias=False)\n",
       "      (bn2): BatchNorm2d(64, eps=1e-05, momentum=0.1, affine=True, track_running_stats=True)\n",
       "    )\n",
       "  )\n",
       "  (layer2): Sequential(\n",
       "    (0): BasicBlock(\n",
       "      (conv1): Conv2d(64, 128, kernel_size=(3, 3), stride=(2, 2), padding=(1, 1), bias=False)\n",
       "      (bn1): BatchNorm2d(128, eps=1e-05, momentum=0.1, affine=True, track_running_stats=True)\n",
       "      (relu): ReLU(inplace=True)\n",
       "      (conv2): Conv2d(128, 128, kernel_size=(3, 3), stride=(1, 1), padding=(1, 1), bias=False)\n",
       "      (bn2): BatchNorm2d(128, eps=1e-05, momentum=0.1, affine=True, track_running_stats=True)\n",
       "      (downsample): Sequential(\n",
       "        (0): Conv2d(64, 128, kernel_size=(1, 1), stride=(2, 2), bias=False)\n",
       "        (1): BatchNorm2d(128, eps=1e-05, momentum=0.1, affine=True, track_running_stats=True)\n",
       "      )\n",
       "    )\n",
       "    (1): BasicBlock(\n",
       "      (conv1): Conv2d(128, 128, kernel_size=(3, 3), stride=(1, 1), padding=(1, 1), bias=False)\n",
       "      (bn1): BatchNorm2d(128, eps=1e-05, momentum=0.1, affine=True, track_running_stats=True)\n",
       "      (relu): ReLU(inplace=True)\n",
       "      (conv2): Conv2d(128, 128, kernel_size=(3, 3), stride=(1, 1), padding=(1, 1), bias=False)\n",
       "      (bn2): BatchNorm2d(128, eps=1e-05, momentum=0.1, affine=True, track_running_stats=True)\n",
       "    )\n",
       "  )\n",
       "  (layer3): Sequential(\n",
       "    (0): BasicBlock(\n",
       "      (conv1): Conv2d(128, 256, kernel_size=(3, 3), stride=(2, 2), padding=(1, 1), bias=False)\n",
       "      (bn1): BatchNorm2d(256, eps=1e-05, momentum=0.1, affine=True, track_running_stats=True)\n",
       "      (relu): ReLU(inplace=True)\n",
       "      (conv2): Conv2d(256, 256, kernel_size=(3, 3), stride=(1, 1), padding=(1, 1), bias=False)\n",
       "      (bn2): BatchNorm2d(256, eps=1e-05, momentum=0.1, affine=True, track_running_stats=True)\n",
       "      (downsample): Sequential(\n",
       "        (0): Conv2d(128, 256, kernel_size=(1, 1), stride=(2, 2), bias=False)\n",
       "        (1): BatchNorm2d(256, eps=1e-05, momentum=0.1, affine=True, track_running_stats=True)\n",
       "      )\n",
       "    )\n",
       "    (1): BasicBlock(\n",
       "      (conv1): Conv2d(256, 256, kernel_size=(3, 3), stride=(1, 1), padding=(1, 1), bias=False)\n",
       "      (bn1): BatchNorm2d(256, eps=1e-05, momentum=0.1, affine=True, track_running_stats=True)\n",
       "      (relu): ReLU(inplace=True)\n",
       "      (conv2): Conv2d(256, 256, kernel_size=(3, 3), stride=(1, 1), padding=(1, 1), bias=False)\n",
       "      (bn2): BatchNorm2d(256, eps=1e-05, momentum=0.1, affine=True, track_running_stats=True)\n",
       "    )\n",
       "  )\n",
       "  (layer4): Sequential(\n",
       "    (0): BasicBlock(\n",
       "      (conv1): Conv2d(256, 512, kernel_size=(3, 3), stride=(2, 2), padding=(1, 1), bias=False)\n",
       "      (bn1): BatchNorm2d(512, eps=1e-05, momentum=0.1, affine=True, track_running_stats=True)\n",
       "      (relu): ReLU(inplace=True)\n",
       "      (conv2): Conv2d(512, 512, kernel_size=(3, 3), stride=(1, 1), padding=(1, 1), bias=False)\n",
       "      (bn2): BatchNorm2d(512, eps=1e-05, momentum=0.1, affine=True, track_running_stats=True)\n",
       "      (downsample): Sequential(\n",
       "        (0): Conv2d(256, 512, kernel_size=(1, 1), stride=(2, 2), bias=False)\n",
       "        (1): BatchNorm2d(512, eps=1e-05, momentum=0.1, affine=True, track_running_stats=True)\n",
       "      )\n",
       "    )\n",
       "    (1): BasicBlock(\n",
       "      (conv1): Conv2d(512, 512, kernel_size=(3, 3), stride=(1, 1), padding=(1, 1), bias=False)\n",
       "      (bn1): BatchNorm2d(512, eps=1e-05, momentum=0.1, affine=True, track_running_stats=True)\n",
       "      (relu): ReLU(inplace=True)\n",
       "      (conv2): Conv2d(512, 512, kernel_size=(3, 3), stride=(1, 1), padding=(1, 1), bias=False)\n",
       "      (bn2): BatchNorm2d(512, eps=1e-05, momentum=0.1, affine=True, track_running_stats=True)\n",
       "    )\n",
       "  )\n",
       "  (avgpool): AdaptiveAvgPool2d(output_size=(1, 1))\n",
       "  (fc): Linear(in_features=512, out_features=10, bias=True)\n",
       ")"
      ]
     },
     "execution_count": 7,
     "metadata": {},
     "output_type": "execute_result"
    }
   ],
   "source": [
    "weights_pretrained = torch.load(local_path, map_location=DEVICE)\n",
    "\n",
    "# load model with pre-trained weights\n",
    "rt_model = resnet18(weights=None, num_classes=10)\n",
    "rt_model.load_state_dict(weights_pretrained)\n",
    "rt_model.to(DEVICE)\n",
    "rt_model.eval()\n",
    "\n",
    "# print its accuracy on retain and forget set\n",
    "# print(f\"Retain set accuracy: {100.0 * accuracy(rt_model, retain_loader):0.1f}%\")\n",
    "# print(f\"Forget set accuracy: {100.0 * accuracy(rt_model, forget_loader):0.1f}%\")"
   ]
  },
  {
   "cell_type": "code",
   "execution_count": 8,
   "metadata": {
    "execution": {
     "iopub.execute_input": "2023-12-06T13:38:28.695564Z",
     "iopub.status.busy": "2023-12-06T13:38:28.695293Z",
     "iopub.status.idle": "2023-12-06T13:38:36.184878Z",
     "shell.execute_reply": "2023-12-06T13:38:36.184037Z",
     "shell.execute_reply.started": "2023-12-06T13:38:28.695540Z"
    }
   },
   "outputs": [
    {
     "name": "stdout",
     "output_type": "stream",
     "text": [
      "Downloading https://www.cs.toronto.edu/~kriz/cifar-10-python.tar.gz to ./data/cifar-10-python.tar.gz\n"
     ]
    },
    {
     "name": "stderr",
     "output_type": "stream",
     "text": [
      "100%|██████████| 170498071/170498071 [00:03<00:00, 46702320.83it/s]\n"
     ]
    },
    {
     "name": "stdout",
     "output_type": "stream",
     "text": [
      "Extracting ./data/cifar-10-python.tar.gz to ./data\n",
      "Files already downloaded and verified\n"
     ]
    }
   ],
   "source": [
    "# download and pre-process CIFAR10\n",
    "normalize = transforms.Compose(\n",
    "    [\n",
    "        transforms.ToTensor(),\n",
    "        transforms.Normalize((0.4914, 0.4822, 0.4465), (0.2023, 0.1994, 0.2010)),\n",
    "    ]\n",
    ")\n",
    "\n",
    "train_set = torchvision.datasets.CIFAR10(\n",
    "    root=\"./data\", train=True, download=True, transform=normalize\n",
    ")\n",
    "train_loader = DataLoader(train_set, batch_size=128, shuffle=True, num_workers=2)\n",
    "\n",
    "# we split held out data into test and validation set\n",
    "held_out = torchvision.datasets.CIFAR10(\n",
    "    root=\"./data\", train=False, download=True, transform=normalize\n",
    ")\n",
    "test_set, val_set = torch.utils.data.random_split(held_out, [0.5, 0.5], generator=RNG)\n",
    "test_loader = DataLoader(test_set, batch_size=128, shuffle=False, num_workers=2)\n",
    "val_loader = DataLoader(val_set, batch_size=128, shuffle=False, num_workers=2)\n",
    "\n",
    "# download the forget and retain index split\n",
    "local_path = \"forget_idx.npy\"\n",
    "if not os.path.exists(local_path):\n",
    "    response = requests.get(\n",
    "        \"https://storage.googleapis.com/unlearning-challenge/\" + local_path\n",
    "    )\n",
    "    open(local_path, \"wb\").write(response.content)\n",
    "forget_idx = np.load(local_path)\n",
    "\n",
    "# construct indices of retain from those of the forget set\n",
    "forget_mask = np.zeros(len(train_set.targets), dtype=bool)\n",
    "forget_mask[forget_idx] = True\n",
    "retain_idx = np.arange(forget_mask.size)[~forget_mask]\n",
    "\n",
    "# split train set into a forget and a retain set\n",
    "forget_set = torch.utils.data.Subset(train_set, forget_idx)\n",
    "retain_set = torch.utils.data.Subset(train_set, retain_idx)\n",
    "\n",
    "forget_loader = torch.utils.data.DataLoader(\n",
    "    forget_set, batch_size=128, shuffle=True, num_workers=2\n",
    ")\n",
    "retain_loader = torch.utils.data.DataLoader(\n",
    "    retain_set, batch_size=128, shuffle=True, num_workers=2, generator=RNG\n",
    ")"
   ]
  },
  {
   "cell_type": "code",
   "execution_count": 9,
   "metadata": {
    "execution": {
     "iopub.execute_input": "2023-12-06T13:38:36.186753Z",
     "iopub.status.busy": "2023-12-06T13:38:36.186424Z",
     "iopub.status.idle": "2023-12-06T13:38:36.201754Z",
     "shell.execute_reply": "2023-12-06T13:38:36.200936Z",
     "shell.execute_reply.started": "2023-12-06T13:38:36.186727Z"
    }
   },
   "outputs": [],
   "source": [
    "from torch.optim.lr_scheduler import CosineAnnealingLR,CosineAnnealingWarmRestarts,StepLR\n",
    "def kl_loss_sym(x,y):\n",
    "    kl_loss = nn.KLDivLoss(reduction='batchmean')\n",
    "    return kl_loss(nn.LogSoftmax(dim=-1)(x),y)\n",
    "def unlearning(\n",
    "        net,\n",
    "        retain_loader,\n",
    "        forget_loader,\n",
    "        val_loader,\n",
    "):\n",
    "    \"\"\"Simple unlearning by finetuning.\"\"\"\n",
    "    print('-----------------------------------')\n",
    "    epochs = 8\n",
    "    retain_bs = 256\n",
    "    criterion = nn.CrossEntropyLoss()\n",
    "    optimizer = optim.SGD(net.parameters(), lr=0.005, momentum=0.9, weight_decay=0)\n",
    "    optimizer_retain = optim.SGD(net.parameters(), lr=0.1, momentum=0.9, weight_decay=5e-4)\n",
    "    scheduler = torch.optim.lr_scheduler.CosineAnnealingLR(optimizer_retain, T_max=5)\n",
    "    net.train()\n",
    "    for _ in range(10):\n",
    "        for inputs,target in forget_loader: ##First Stage \n",
    "            inputs = inputs.to(DEVICE)\n",
    "            optimizer.zero_grad()\n",
    "            outputs = net(inputs)\n",
    "            uniform_label = torch.ones_like(outputs).to(DEVICE) / outputs.shape[1] ##uniform pseudo label\n",
    "            loss = kl_loss_sym(outputs, uniform_label) ##optimize the distance between logits and pseudo labels\n",
    "            loss.backward()\n",
    "            optimizer.step()\n",
    "    for _ in range(5):\n",
    "        for (inputs, labels) in retain_loader: ##Retain Round\n",
    "            inputs, labels = inputs.to(DEVICE), labels.to(DEVICE)\n",
    "            optimizer_retain.zero_grad()\n",
    "            outputs = net(inputs)\n",
    "            loss = criterion(outputs, labels)\n",
    "            loss.backward()\n",
    "            optimizer_retain.step()\n",
    "        scheduler.step()\n",
    "    if USE_MOCK: \n",
    "        print('Retain')\n",
    "        evaluation(net, retain_loader, criterion)\n",
    "        print('Forget')\n",
    "        evaluation(net, forget_loader, criterion)\n",
    "        print('Valid')\n",
    "        evaluation(net, val_loader, criterion)\n",
    "    print('-----------------------------------')\n",
    "    return net"
   ]
  },
  {
   "cell_type": "code",
   "execution_count": 10,
   "metadata": {
    "execution": {
     "iopub.execute_input": "2023-12-06T13:38:36.203154Z",
     "iopub.status.busy": "2023-12-06T13:38:36.202891Z",
     "iopub.status.idle": "2023-12-06T13:38:36.217881Z",
     "shell.execute_reply": "2023-12-06T13:38:36.216968Z",
     "shell.execute_reply.started": "2023-12-06T13:38:36.203131Z"
    }
   },
   "outputs": [],
   "source": [
    "def evaluation(net, dataloader, criterion, device = 'cuda'): ##evaluation function\n",
    "    net.eval()\n",
    "    total_samp = 0\n",
    "    total_acc = 0\n",
    "    total_loss = 0.0\n",
    "    for (images, labels) in dataloader:\n",
    "        images, labels = images.to(device), labels.to(device)\n",
    "        _pred = net(images)\n",
    "        total_samp+=len(labels)\n",
    "        #print(f'total_samp={total_samp}')\n",
    "        loss = criterion(_pred, labels)\n",
    "        total_loss += loss.item()\n",
    "        total_acc+=(_pred.max(1)[1] == labels).float().sum().item()\n",
    "        #print(f'total_acc={total_acc}')\n",
    "    #print(f'total_sample={total_samp}')\n",
    "    mean_loss = total_loss / len(dataloader)\n",
    "    mean_acc = total_acc/total_samp\n",
    "    print(f'loss={mean_loss}')\n",
    "    print(f'acc={mean_acc}')\n",
    "    return mean_acc, mean_loss"
   ]
  },
  {
   "cell_type": "code",
   "execution_count": 11,
   "metadata": {
    "execution": {
     "iopub.execute_input": "2023-12-06T13:38:36.219309Z",
     "iopub.status.busy": "2023-12-06T13:38:36.219036Z",
     "iopub.status.idle": "2023-12-06T13:38:50.346368Z",
     "shell.execute_reply": "2023-12-06T13:38:50.344879Z",
     "shell.execute_reply.started": "2023-12-06T13:38:36.219285Z"
    }
   },
   "outputs": [
    {
     "name": "stdout",
     "output_type": "stream",
     "text": [
      "loss=0.01812899909815645\n",
      "acc=0.9952666666666666\n",
      "Retain set accuracy: 99.5%\n",
      "loss=0.47970084361732007\n",
      "acc=0.882\n",
      "Forget set accuracy: 88.2%\n"
     ]
    }
   ],
   "source": [
    "criterion = nn.CrossEntropyLoss()\n",
    "# retain_loader, forget_loader, validation_loader = get_dataset(64)\n",
    "print(f\"Retain set accuracy: {100.0 * evaluation(rt_model, retain_loader, criterion)[0]:0.1f}%\")\n",
    "print(f\"Forget set accuracy: {100.0 * evaluation(rt_model, forget_loader, criterion)[0]:0.1f}%\")"
   ]
  },
  {
   "cell_type": "code",
   "execution_count": 12,
   "metadata": {
    "execution": {
     "iopub.execute_input": "2023-12-06T13:38:50.348679Z",
     "iopub.status.busy": "2023-12-06T13:38:50.348319Z",
     "iopub.status.idle": "2023-12-06T13:38:50.357297Z",
     "shell.execute_reply": "2023-12-06T13:38:50.356230Z",
     "shell.execute_reply.started": "2023-12-06T13:38:50.348647Z"
    }
   },
   "outputs": [],
   "source": [
    "def compute_outputs(net, loader):\n",
    "    \"\"\"Auxiliary function to compute the logits for all datapoints.\n",
    "    Does not shuffle the data, regardless of the loader.\n",
    "    \"\"\"\n",
    "\n",
    "    # Make sure loader does not shuffle the data\n",
    "    if isinstance(loader.sampler, torch.utils.data.sampler.RandomSampler):\n",
    "        loader = DataLoader(\n",
    "            loader.dataset, \n",
    "            batch_size=loader.batch_size, \n",
    "            shuffle=False, \n",
    "            num_workers=loader.num_workers)\n",
    "    \n",
    "    all_outputs = []\n",
    "    all_targets = []\n",
    "    \n",
    "    for (inputs, targets) in loader:\n",
    "#         inputs, targets = sample[\"image\"],sample[\"age_group\"]\n",
    "        inputs, targets = inputs.to(DEVICE), targets.to(\"cpu\")\n",
    "\n",
    "        logits = net(inputs).detach().cpu().numpy() # (batch_size, num_classes)\n",
    "        \n",
    "        all_outputs.append(logits)\n",
    "        all_targets.extend(targets)\n",
    "        \n",
    "    return np.array(all_targets), np.concatenate(all_outputs) # (len(loader.dataset), num_classes)\n",
    "    "
   ]
  },
  {
   "cell_type": "code",
   "execution_count": 13,
   "metadata": {
    "execution": {
     "iopub.execute_input": "2023-12-06T13:38:50.359142Z",
     "iopub.status.busy": "2023-12-06T13:38:50.358838Z",
     "iopub.status.idle": "2023-12-06T13:38:50.377899Z",
     "shell.execute_reply": "2023-12-06T13:38:50.376958Z",
     "shell.execute_reply.started": "2023-12-06T13:38:50.359116Z"
    }
   },
   "outputs": [],
   "source": [
    "def cross_entropy_f(x, targets):\n",
    "    # Convert NumPy array to PyTorch tensor\n",
    "    x_tensor = torch.from_numpy(x)\n",
    "\n",
    "    # Apply softmax to the model output\n",
    "    x_softmax = F.softmax(x_tensor, dim=-1)\n",
    "\n",
    "    # Convert targets to one-hot encoding\n",
    "    targets_tensor = torch.from_numpy(targets)\n",
    "    targets_one_hot = F.one_hot(targets_tensor, num_classes=x_tensor.shape[-1])\n",
    "\n",
    "    # Avoiding NaN values in x\n",
    "    x_tensor[torch.isnan(x_tensor)] = 0.0\n",
    "\n",
    "    # Calculate cross-entropy loss for each example\n",
    "    loss = -torch.sum(targets_one_hot * torch.log(x_softmax), dim=-1)\n",
    "\n",
    "    # Convert the result back to a NumPy array if needed\n",
    "    loss_np = loss.numpy()\n",
    "\n",
    "    return loss_np"
   ]
  },
  {
   "cell_type": "code",
   "execution_count": 14,
   "metadata": {
    "execution": {
     "iopub.execute_input": "2023-12-06T13:38:50.382457Z",
     "iopub.status.busy": "2023-12-06T13:38:50.382168Z",
     "iopub.status.idle": "2023-12-06T13:38:50.395616Z",
     "shell.execute_reply": "2023-12-06T13:38:50.394557Z",
     "shell.execute_reply.started": "2023-12-06T13:38:50.382429Z"
    }
   },
   "outputs": [],
   "source": [
    "def false_positive_rate(y_true: np.ndarray, y_pred: np.ndarray) -> float:\n",
    "    \"\"\"Computes the false positive rate (FPR).\"\"\"\n",
    "    fp = np.sum(np.logical_and((y_pred == 1), (y_true == 0)))\n",
    "    n = np.sum(y_true == 0)\n",
    "    return fp / n\n",
    "\n",
    "\n",
    "def false_negative_rate(y_true: np.ndarray, y_pred: np.ndarray) -> float:\n",
    "    \"\"\"Computes the false negative rate (FNR).\"\"\"\n",
    "    fn = np.sum(np.logical_and((y_pred == 0), (y_true == 1)))\n",
    "    p = np.sum(y_true == 1)\n",
    "    return fn / p\n",
    "\n",
    "\n",
    "# The SCORING dictionary is used by sklearn's `cross_validate` function so that\n",
    "# we record the FPR and FNR metrics of interest when doing cross validation\n",
    "SCORING = {\n",
    "    'false_positive_rate': make_scorer(false_positive_rate),\n",
    "    'false_negative_rate': make_scorer(false_negative_rate)\n",
    "}\n",
    "\n",
    "\n",
    "def logistic_regression_attack(\n",
    "        outputs_U, outputs_R, n_splits=2, random_state=0):\n",
    "    \"\"\"Computes cross-validation score of a membership inference attack.\n",
    "\n",
    "    Args:\n",
    "      outputs_U: numpy array of shape (N)\n",
    "      outputs_R: numpy array of shape (N)\n",
    "      n_splits: int\n",
    "        number of splits to use in the cross-validation.\n",
    "    Returns:\n",
    "      fpr, fnr : float * float\n",
    "    \"\"\"\n",
    "    assert len(outputs_U) == len(outputs_R)\n",
    "    \n",
    "    samples = np.concatenate((outputs_R, outputs_U)).reshape((-1, 1))\n",
    "    labels = np.array([0] * len(outputs_R) + [1] * len(outputs_U))\n",
    "\n",
    "    attack_model = linear_model.LogisticRegression()\n",
    "    cv = model_selection.StratifiedShuffleSplit(\n",
    "        n_splits=n_splits, random_state=random_state\n",
    "    )\n",
    "    has_nan = np.isnan(samples).any()\n",
    "#     print(has_nan)\n",
    "    \n",
    "    samples = np.nan_to_num(samples, nan=0)\n",
    "    \n",
    "    scores =  model_selection.cross_validate(\n",
    "        attack_model, samples, labels, cv=cv, scoring=SCORING)\n",
    "    \n",
    "    fpr = np.mean(scores[\"test_false_positive_rate\"])\n",
    "    fnr = np.mean(scores[\"test_false_negative_rate\"])\n",
    "    \n",
    "    return fpr, fnr"
   ]
  },
  {
   "cell_type": "code",
   "execution_count": 15,
   "metadata": {
    "execution": {
     "iopub.execute_input": "2023-12-06T13:38:50.397220Z",
     "iopub.status.busy": "2023-12-06T13:38:50.396880Z",
     "iopub.status.idle": "2023-12-06T13:38:50.412242Z",
     "shell.execute_reply": "2023-12-06T13:38:50.411314Z",
     "shell.execute_reply.started": "2023-12-06T13:38:50.397188Z"
    }
   },
   "outputs": [],
   "source": [
    "def compute_epsilon_s(fpr: list[float], fnr: list[float], delta: float) -> float:\n",
    "    \"\"\"Computes the privacy degree (epsilon) of a particular forget set example, \n",
    "    given the FPRs and FNRs resulting from various attacks.\n",
    "    \n",
    "    The smaller epsilon is, the better the unlearning is.\n",
    "    \n",
    "    Args:\n",
    "      fpr: list[float] of length m = num attacks. The FPRs for a particular example. \n",
    "      fnr: list[float] of length m = num attacks. The FNRs for a particular example.\n",
    "      delta: float\n",
    "    Returns:\n",
    "      epsilon: float corresponding to the privacy degree of the particular example.\n",
    "    \"\"\"\n",
    "    assert len(fpr) == len(fnr)\n",
    "    \n",
    "    per_attack_epsilon = [0.]\n",
    "    for fpr_i, fnr_i in zip(fpr, fnr):\n",
    "        if fpr_i == 0 and fnr_i == 0:\n",
    "            per_attack_epsilon.append(np.inf)\n",
    "        elif fpr_i == 0 or fnr_i == 0:\n",
    "            pass # discard attack\n",
    "        else:\n",
    "            with np.errstate(invalid='ignore'):\n",
    "                epsilon1 = np.log(1. - delta - fpr_i) - np.log(fnr_i)\n",
    "                epsilon2 = np.log(1. - delta - fnr_i) - np.log(fpr_i)\n",
    "            if np.isnan(epsilon1) and np.isnan(epsilon2):\n",
    "                per_attack_epsilon.append(np.inf)\n",
    "            else:\n",
    "                per_attack_epsilon.append(np.nanmax([epsilon1, epsilon2]))\n",
    "            \n",
    "    return np.nanmax(per_attack_epsilon)\n",
    "\n",
    "\n",
    "def bin_index_fn(\n",
    "        epsilons: np.ndarray, \n",
    "        bin_width: float = 0.5, \n",
    "        B: int = 13\n",
    "        ) -> np.ndarray:\n",
    "    \"\"\"The bin index function.\"\"\"\n",
    "    bins = np.arange(0, B) * bin_width\n",
    "    return np.digitize(epsilons, bins)\n",
    "\n",
    "\n",
    "def H(epsilons: np.ndarray) -> float:\n",
    "    \"\"\"Computes the forgetting quality given the privacy degrees \n",
    "    of the forget set examples.\n",
    "    \"\"\"\n",
    "    ns = bin_index_fn(epsilons)\n",
    "    hs = 2. / 2 ** ns\n",
    "    return np.mean(hs)"
   ]
  },
  {
   "cell_type": "code",
   "execution_count": 16,
   "metadata": {
    "execution": {
     "iopub.execute_input": "2023-12-06T13:38:50.413878Z",
     "iopub.status.busy": "2023-12-06T13:38:50.413511Z",
     "iopub.status.idle": "2023-12-06T13:38:50.427224Z",
     "shell.execute_reply": "2023-12-06T13:38:50.426371Z",
     "shell.execute_reply.started": "2023-12-06T13:38:50.413818Z"
    }
   },
   "outputs": [],
   "source": [
    "def forgetting_quality(\n",
    "        outputs_U: np.ndarray, # (N, S)\n",
    "        outputs_R: np.ndarray, # (N, S)\n",
    "        attacks: list[Callable] = [logistic_regression_attack],\n",
    "        delta: float = 0.01\n",
    "    ):\n",
    "    \"\"\"\n",
    "    Both `outputs_U` and `outputs_R` are of numpy arrays of ndim 2:\n",
    "    * 1st dimension coresponds to the number of samples obtained from the \n",
    "      distribution of each model (N=512 in the case of the competition's leaderboard) \n",
    "    * 2nd dimension corresponds to the number of samples in the forget set (S).\n",
    "    \"\"\"\n",
    "    \n",
    "    # N = number of model samples\n",
    "    # S = number of forget samples\n",
    "    N, S = outputs_U.shape\n",
    "    \n",
    "    assert outputs_U.shape == outputs_R.shape, \\\n",
    "        \"unlearn and retrain outputs need to be of the same shape\"\n",
    "    \n",
    "    epsilons = []\n",
    "    pbar = tqdm(range(S))\n",
    "    for sample_id in pbar:\n",
    "        pbar.set_description(\"Computing F...\")\n",
    "        \n",
    "        sample_fprs, sample_fnrs = [], []\n",
    "        \n",
    "        for attack in attacks: \n",
    "            uls = outputs_U[:, sample_id]\n",
    "            rls = outputs_R[:, sample_id]\n",
    "            \n",
    "            fpr, fnr = attack(uls, rls)\n",
    "            \n",
    "            if isinstance(fpr, list):\n",
    "                sample_fprs.extend(fpr)\n",
    "                sample_fnrs.extend(fnr)\n",
    "            else:\n",
    "                sample_fprs.append(fpr)\n",
    "                sample_fnrs.append(fnr)\n",
    "        \n",
    "        sample_epsilon = compute_epsilon_s(sample_fprs, sample_fnrs, delta=delta)\n",
    "        epsilons.append(sample_epsilon)\n",
    "        \n",
    "    return H(np.array(epsilons))"
   ]
  },
  {
   "cell_type": "code",
   "execution_count": 17,
   "metadata": {
    "execution": {
     "iopub.execute_input": "2023-12-06T13:38:50.428611Z",
     "iopub.status.busy": "2023-12-06T13:38:50.428337Z",
     "iopub.status.idle": "2023-12-06T13:38:50.443800Z",
     "shell.execute_reply": "2023-12-06T13:38:50.442985Z",
     "shell.execute_reply.started": "2023-12-06T13:38:50.428587Z"
    }
   },
   "outputs": [
    {
     "data": {
      "text/plain": [
       "10"
      ]
     },
     "execution_count": 17,
     "metadata": {},
     "output_type": "execute_result"
    }
   ],
   "source": [
    "n_checkpoints"
   ]
  },
  {
   "cell_type": "code",
   "execution_count": 18,
   "metadata": {
    "execution": {
     "iopub.execute_input": "2023-12-06T13:38:50.445800Z",
     "iopub.status.busy": "2023-12-06T13:38:50.445213Z",
     "iopub.status.idle": "2023-12-06T14:04:45.727678Z",
     "shell.execute_reply": "2023-12-06T14:04:45.726517Z",
     "shell.execute_reply.started": "2023-12-06T13:38:50.445761Z"
    }
   },
   "outputs": [
    {
     "name": "stderr",
     "output_type": "stream",
     "text": [
      "  0%|          | 0/10 [00:00<?, ?it/s]"
     ]
    },
    {
     "name": "stdout",
     "output_type": "stream",
     "text": [
      "I am unlearning all the wrong things you taught me\n",
      "-----------------------------------\n",
      "Retain\n",
      "loss=0.024948841528384946\n",
      "acc=0.9958222222222223\n",
      "Forget\n",
      "loss=0.40422052778303624\n",
      "acc=0.8718\n",
      "Valid\n",
      "loss=0.5447978220880032\n",
      "acc=0.8464\n",
      "-----------------------------------\n",
      "Computing retain accuracy on Unlearning Model\n",
      "loss=0.024902732082409784\n",
      "acc=0.9958222222222223\n",
      "Retain accuracy on Unlearning Model is  0.9958222222222223\n",
      "Computing test accuracy on Unlearning model\n",
      "loss=0.5447978220880032\n",
      "acc=0.8464\n",
      "Test accuracy on Unlearning model is  0.8464\n",
      "Computing forget accuracy on Unlearning model\n"
     ]
    },
    {
     "name": "stderr",
     "output_type": "stream",
     "text": [
      " 10%|█         | 1/10 [02:33<23:04, 153.87s/it]"
     ]
    },
    {
     "name": "stdout",
     "output_type": "stream",
     "text": [
      "loss=0.4198811285197735\n",
      "acc=0.8718\n",
      "Forget accuracy on Unlearning model is  0.8718\n",
      "I am unlearning all the wrong things you taught me\n",
      "-----------------------------------\n",
      "Retain\n",
      "loss=0.02675639883355788\n",
      "acc=0.9958222222222223\n",
      "Forget\n",
      "loss=0.38190367913339285\n",
      "acc=0.8796\n",
      "Valid\n",
      "loss=0.5226930533535779\n",
      "acc=0.8492\n",
      "-----------------------------------\n",
      "Computing retain accuracy on Unlearning Model\n",
      "loss=0.02677482848627154\n",
      "acc=0.9958222222222223\n",
      "Retain accuracy on Unlearning Model is  0.9958222222222223\n",
      "Computing test accuracy on Unlearning model\n",
      "loss=0.5226930533535779\n",
      "acc=0.8492\n",
      "Test accuracy on Unlearning model is  0.8492\n",
      "Computing forget accuracy on Unlearning model\n"
     ]
    },
    {
     "name": "stderr",
     "output_type": "stream",
     "text": [
      " 20%|██        | 2/10 [05:05<20:21, 152.63s/it]"
     ]
    },
    {
     "name": "stdout",
     "output_type": "stream",
     "text": [
      "loss=0.3852494928985834\n",
      "acc=0.8796\n",
      "Forget accuracy on Unlearning model is  0.8796\n",
      "I am unlearning all the wrong things you taught me\n",
      "-----------------------------------\n",
      "Retain\n",
      "loss=0.025505380345169793\n",
      "acc=0.9965555555555555\n",
      "Forget\n",
      "loss=0.41500662118196485\n",
      "acc=0.8682\n",
      "Valid\n",
      "loss=0.5117327637970448\n",
      "acc=0.8496\n",
      "-----------------------------------\n",
      "Computing retain accuracy on Unlearning Model\n",
      "loss=0.025490965204715558\n",
      "acc=0.9965555555555555\n",
      "Retain accuracy on Unlearning Model is  0.9965555555555555\n",
      "Computing test accuracy on Unlearning model\n",
      "loss=0.5117327637970448\n",
      "acc=0.8496\n",
      "Test accuracy on Unlearning model is  0.8496\n",
      "Computing forget accuracy on Unlearning model\n"
     ]
    },
    {
     "name": "stderr",
     "output_type": "stream",
     "text": [
      " 30%|███       | 3/10 [07:37<17:46, 152.31s/it]"
     ]
    },
    {
     "name": "stdout",
     "output_type": "stream",
     "text": [
      "loss=0.40772351119667294\n",
      "acc=0.8682\n",
      "Forget accuracy on Unlearning model is  0.8682\n",
      "I am unlearning all the wrong things you taught me\n",
      "-----------------------------------\n",
      "Retain\n",
      "loss=0.02922064052175053\n",
      "acc=0.9947777777777778\n",
      "Forget\n",
      "loss=0.4057787247002125\n",
      "acc=0.8678\n",
      "Valid\n",
      "loss=0.5270855441689491\n",
      "acc=0.8464\n",
      "-----------------------------------\n",
      "Computing retain accuracy on Unlearning Model\n",
      "loss=0.0291744892496023\n",
      "acc=0.9947777777777778\n",
      "Retain accuracy on Unlearning Model is  0.9947777777777778\n",
      "Computing test accuracy on Unlearning model\n",
      "loss=0.5270855441689491\n",
      "acc=0.8464\n",
      "Test accuracy on Unlearning model is  0.8464\n",
      "Computing forget accuracy on Unlearning model\n"
     ]
    },
    {
     "name": "stderr",
     "output_type": "stream",
     "text": [
      " 40%|████      | 4/10 [10:08<15:09, 151.65s/it]"
     ]
    },
    {
     "name": "stdout",
     "output_type": "stream",
     "text": [
      "loss=0.40678942101076243\n",
      "acc=0.8678\n",
      "Forget accuracy on Unlearning model is  0.8678\n",
      "I am unlearning all the wrong things you taught me\n",
      "-----------------------------------\n",
      "Retain\n",
      "loss=0.026066329167489046\n",
      "acc=0.9963111111111111\n",
      "Forget\n",
      "loss=0.4094008348882198\n",
      "acc=0.8746\n",
      "Valid\n",
      "loss=0.5330076061189175\n",
      "acc=0.8436\n",
      "-----------------------------------\n",
      "Computing retain accuracy on Unlearning Model\n",
      "loss=0.026052196660946884\n",
      "acc=0.9963111111111111\n",
      "Retain accuracy on Unlearning Model is  0.9963111111111111\n",
      "Computing test accuracy on Unlearning model\n",
      "loss=0.5330076061189175\n",
      "acc=0.8436\n",
      "Test accuracy on Unlearning model is  0.8436\n",
      "Computing forget accuracy on Unlearning model\n"
     ]
    },
    {
     "name": "stderr",
     "output_type": "stream",
     "text": [
      " 50%|█████     | 5/10 [12:38<12:35, 151.13s/it]"
     ]
    },
    {
     "name": "stdout",
     "output_type": "stream",
     "text": [
      "loss=0.40492058396339414\n",
      "acc=0.8746\n",
      "Forget accuracy on Unlearning model is  0.8746\n",
      "I am unlearning all the wrong things you taught me\n",
      "-----------------------------------\n",
      "Retain\n",
      "loss=0.02493959241176278\n",
      "acc=0.9959333333333333\n",
      "Forget\n",
      "loss=0.3978670295327902\n",
      "acc=0.8716\n",
      "Valid\n",
      "loss=0.5064648069441319\n",
      "acc=0.8486\n",
      "-----------------------------------\n",
      "Computing retain accuracy on Unlearning Model\n",
      "loss=0.0249664325568698\n",
      "acc=0.9959333333333333\n",
      "Retain accuracy on Unlearning Model is  0.9959333333333333\n",
      "Computing test accuracy on Unlearning model\n",
      "loss=0.5064648069441319\n",
      "acc=0.8486\n",
      "Test accuracy on Unlearning model is  0.8486\n",
      "Computing forget accuracy on Unlearning model\n"
     ]
    },
    {
     "name": "stderr",
     "output_type": "stream",
     "text": [
      " 60%|██████    | 6/10 [15:07<10:02, 150.60s/it]"
     ]
    },
    {
     "name": "stdout",
     "output_type": "stream",
     "text": [
      "loss=0.39922220483422277\n",
      "acc=0.8716\n",
      "Forget accuracy on Unlearning model is  0.8716\n",
      "I am unlearning all the wrong things you taught me\n",
      "-----------------------------------\n",
      "Retain\n",
      "loss=0.025957930344950662\n",
      "acc=0.9962888888888889\n",
      "Forget\n",
      "loss=0.40186907798051835\n",
      "acc=0.8732\n",
      "Valid\n",
      "loss=0.5120622396469117\n",
      "acc=0.8504\n",
      "-----------------------------------\n",
      "Computing retain accuracy on Unlearning Model\n",
      "loss=0.025947835613888772\n",
      "acc=0.9962888888888889\n",
      "Retain accuracy on Unlearning Model is  0.9962888888888889\n",
      "Computing test accuracy on Unlearning model\n",
      "loss=0.5120622396469117\n",
      "acc=0.8504\n",
      "Test accuracy on Unlearning model is  0.8504\n",
      "Computing forget accuracy on Unlearning model\n"
     ]
    },
    {
     "name": "stderr",
     "output_type": "stream",
     "text": [
      " 70%|███████   | 7/10 [17:38<07:31, 150.58s/it]"
     ]
    },
    {
     "name": "stdout",
     "output_type": "stream",
     "text": [
      "loss=0.3928615864366293\n",
      "acc=0.8732\n",
      "Forget accuracy on Unlearning model is  0.8732\n",
      "I am unlearning all the wrong things you taught me\n",
      "-----------------------------------\n",
      "Retain\n",
      "loss=0.02533272324415686\n",
      "acc=0.9962\n",
      "Forget\n",
      "loss=0.40573791079223154\n",
      "acc=0.8738\n",
      "Valid\n",
      "loss=0.5174072137102484\n",
      "acc=0.847\n",
      "-----------------------------------\n",
      "Computing retain accuracy on Unlearning Model\n",
      "loss=0.025317951826516284\n",
      "acc=0.9962\n",
      "Retain accuracy on Unlearning Model is  0.9962\n",
      "Computing test accuracy on Unlearning model\n",
      "loss=0.5174072137102484\n",
      "acc=0.847\n",
      "Test accuracy on Unlearning model is  0.847\n",
      "Computing forget accuracy on Unlearning model\n"
     ]
    },
    {
     "name": "stderr",
     "output_type": "stream",
     "text": [
      " 80%|████████  | 8/10 [20:08<05:01, 150.52s/it]"
     ]
    },
    {
     "name": "stdout",
     "output_type": "stream",
     "text": [
      "loss=0.3974657409824431\n",
      "acc=0.8738\n",
      "Forget accuracy on Unlearning model is  0.8738\n",
      "I am unlearning all the wrong things you taught me\n",
      "-----------------------------------\n",
      "Retain\n",
      "loss=0.02735357839264907\n",
      "acc=0.9957111111111111\n",
      "Forget\n",
      "loss=0.41574501134455205\n",
      "acc=0.8704\n",
      "Valid\n",
      "loss=0.5368046216666699\n",
      "acc=0.843\n",
      "-----------------------------------\n",
      "Computing retain accuracy on Unlearning Model\n",
      "loss=0.027396219155476007\n",
      "acc=0.9957111111111111\n",
      "Retain accuracy on Unlearning Model is  0.9957111111111111\n",
      "Computing test accuracy on Unlearning model\n",
      "loss=0.5368046216666699\n",
      "acc=0.843\n",
      "Test accuracy on Unlearning model is  0.843\n",
      "Computing forget accuracy on Unlearning model\n"
     ]
    },
    {
     "name": "stderr",
     "output_type": "stream",
     "text": [
      " 90%|█████████ | 9/10 [22:39<02:30, 150.52s/it]"
     ]
    },
    {
     "name": "stdout",
     "output_type": "stream",
     "text": [
      "loss=0.41828335374593734\n",
      "acc=0.8704\n",
      "Forget accuracy on Unlearning model is  0.8704\n",
      "I am unlearning all the wrong things you taught me\n",
      "-----------------------------------\n",
      "Retain\n",
      "loss=0.023708468496227975\n",
      "acc=0.9967777777777778\n",
      "Forget\n",
      "loss=0.4542359169572592\n",
      "acc=0.8732\n",
      "Valid\n",
      "loss=0.5253516525030136\n",
      "acc=0.8494\n",
      "-----------------------------------\n",
      "Computing retain accuracy on Unlearning Model\n",
      "loss=0.023719359418133867\n",
      "acc=0.9967777777777778\n",
      "Retain accuracy on Unlearning Model is  0.9967777777777778\n",
      "Computing test accuracy on Unlearning model\n",
      "loss=0.5253516525030136\n",
      "acc=0.8494\n",
      "Test accuracy on Unlearning model is  0.8494\n",
      "Computing forget accuracy on Unlearning model\n"
     ]
    },
    {
     "name": "stderr",
     "output_type": "stream",
     "text": [
      "100%|██████████| 10/10 [25:10<00:00, 151.03s/it]"
     ]
    },
    {
     "name": "stdout",
     "output_type": "stream",
     "text": [
      "loss=0.4165374735603109\n",
      "acc=0.8732\n",
      "Forget accuracy on Unlearning model is  0.8732\n",
      "Printing outputs_U shape  (10, 5000)\n"
     ]
    },
    {
     "name": "stderr",
     "output_type": "stream",
     "text": [
      "\n"
     ]
    },
    {
     "name": "stdout",
     "output_type": "stream",
     "text": [
      "loss=0.01811678806949534\n",
      "acc=0.9952666666666666\n",
      "loss=0.4761434979736805\n",
      "acc=0.8798\n",
      "loss=0.4659012705087662\n",
      "acc=0.882\n",
      "Printing outputs_R shape  (10, 5000)\n",
      "  adding: kaggle/tmp/unlearned_checkpoint_0.pth (deflated 7%)\n",
      "  adding: kaggle/tmp/unlearned_checkpoint_1.pth (deflated 7%)\n",
      "  adding: kaggle/tmp/unlearned_checkpoint_2.pth (deflated 7%)\n",
      "  adding: kaggle/tmp/unlearned_checkpoint_3.pth (deflated 7%)\n",
      "  adding: kaggle/tmp/unlearned_checkpoint_4.pth (deflated 7%)\n",
      "  adding: kaggle/tmp/unlearned_checkpoint_5.pth (deflated 7%)\n",
      "  adding: kaggle/tmp/unlearned_checkpoint_6.pth (deflated 7%)\n",
      "  adding: kaggle/tmp/unlearned_checkpoint_7.pth (deflated 7%)\n",
      "  adding: kaggle/tmp/unlearned_checkpoint_8.pth (deflated 7%)\n",
      "  adding: kaggle/tmp/unlearned_checkpoint_9.pth (deflated 7%)\n"
     ]
    }
   ],
   "source": [
    "## This snippet is taken is provided by the orgamnizers of kaggle competition as a startup script.\n",
    "attacks = [logistic_regression_attack]\n",
    "criterion = nn.CrossEntropyLoss()\n",
    "outputs_U = []\n",
    "outputs_R = []\n",
    "retain_accuracy = []\n",
    "test_accuracy = []\n",
    "forget_accuracy = []\n",
    "\n",
    "import numpy as np\n",
    "if USE_MOCK:\n",
    "    \n",
    "    # NOTE: Almost same as the original codes\n",
    "    \n",
    "    # Download\n",
    "    if not os.path.exists(mock_model_path):\n",
    "        response = requests.get(\"https://storage.googleapis.com/unlearning-challenge/weights_resnet18_cifar10.pth\")\n",
    "        open(mock_model_path, \"wb\").write(response.content)    \n",
    "    \n",
    "    os.makedirs('/kaggle/tmp', exist_ok=True)\n",
    "#     retain_loader, forget_loader, validation_loader = get_dataset(64)\n",
    "    net = resnet18(weights=None, num_classes=10)\n",
    "    net.to(DEVICE)\n",
    "    net.load_state_dict(torch.load(mock_model_path))\n",
    "    u_model = deepcopy(net)\n",
    "    for i in tqdm.trange(n_checkpoints):\n",
    "        net.load_state_dict(torch.load(mock_model_path))\n",
    "        print(\"I am unlearning all the wrong things you taught me\")\n",
    "        u_model = unlearning(net, retain_loader, forget_loader, val_loader)\n",
    "        state = u_model.state_dict()\n",
    "        torch.save(state, f'/kaggle/tmp/unlearned_checkpoint_{i}.pth')\n",
    "        \n",
    "        targets, outputs_Ui = compute_outputs(u_model, forget_loader)\n",
    "        \n",
    "        outputs_U.append( cross_entropy_f(outputs_Ui, targets) )\n",
    "        \n",
    "        print(\"Computing retain accuracy on Unlearning Model\")\n",
    "        acc, _ = evaluation(u_model, retain_loader, criterion)\n",
    "        print(\"Retain accuracy on Unlearning Model is \",acc)\n",
    "        retain_accuracy.append(acc)\n",
    "        \n",
    "        print(\"Computing test accuracy on Unlearning model\")\n",
    "        acc,_ = evaluation(u_model, val_loader, criterion)\n",
    "        print(\"Test accuracy on Unlearning model is \", acc)\n",
    "        test_accuracy.append(acc)\n",
    "        \n",
    "        print(\"Computing forget accuracy on Unlearning model\")\n",
    "        acc,_ = evaluation(u_model, forget_loader, criterion)\n",
    "        print(\"Forget accuracy on Unlearning model is \",acc)\n",
    "        forget_accuracy.append(acc)\n",
    "    \n",
    "    outputs_U = np.array(outputs_U)\n",
    "    print(\"Printing outputs_U shape \",outputs_U.shape)\n",
    "    \n",
    "    assert outputs_U.shape == (n_checkpoints, len(forget_loader.dataset)),\\\n",
    "        \"Wrong shape for outputs_U. Should be (num_model_samples, num_forget_datapoints).\"\n",
    "    \n",
    "    \n",
    "    RAR, _ = evaluation(rt_model, retain_loader, criterion)\n",
    "    TAR, _ = evaluation(rt_model, val_loader, criterion)\n",
    "    FAR, _ = evaluation(rt_model, forget_loader, criterion)\n",
    "    \n",
    "    RAU = np.mean(retain_accuracy)\n",
    "    TAU = np.mean(test_accuracy)\n",
    "    FAU = np.mean(forget_accuracy)\n",
    "    \n",
    "    RA_ratio = RAU / RAR\n",
    "    TA_ratio = TAU / TAR\n",
    "    \n",
    "    for i in range(n_checkpoints):\n",
    "        targets, outputs_Ri = compute_outputs(rt_model, forget_loader) #(len(forget_loader.dataset), 10) \n",
    "        \n",
    "        outputs_R.append(cross_entropy_f(outputs_Ri, targets) )\n",
    "    \n",
    "    outputs_R = np.array(outputs_R)\n",
    "    print(\"Printing outputs_R shape \",outputs_R.shape)\n",
    "    \n",
    "\n",
    "    \n",
    "    # Ensure that submission.zip will contain exactly 512 checkpoints \n",
    "    # (if this is not the case, an exception will be thrown).\n",
    "    unlearned_ckpts = os.listdir('/kaggle/tmp')\n",
    "    if len(unlearned_ckpts) != n_checkpoints:\n",
    "        raise RuntimeError('Expected exactly 512 checkpoints. The submission will throw an exception otherwise.')\n",
    "\n",
    "    subprocess.run('zip submission.zip /kaggle/tmp/*.pth', shell=True)\n",
    "    \n",
    "    \n",
    "else:\n",
    "    print(\"Hi\")\n"
   ]
  },
  {
   "cell_type": "code",
   "execution_count": 19,
   "metadata": {
    "execution": {
     "iopub.execute_input": "2023-12-06T14:04:45.729340Z",
     "iopub.status.busy": "2023-12-06T14:04:45.729023Z",
     "iopub.status.idle": "2023-12-06T14:04:45.736567Z",
     "shell.execute_reply": "2023-12-06T14:04:45.735548Z",
     "shell.execute_reply.started": "2023-12-06T14:04:45.729310Z"
    }
   },
   "outputs": [
    {
     "name": "stdout",
     "output_type": "stream",
     "text": [
      "False\n",
      "False\n"
     ]
    }
   ],
   "source": [
    "import math\n",
    "\n",
    "# Assuming outputs_U is a Python list\n",
    "has_nan = np.isnan(np.array(outputs_R)).any()\n",
    "print(has_nan)\n",
    "\n",
    "has_nan = np.isnan(np.array(outputs_U)).any()\n",
    "print(has_nan)"
   ]
  },
  {
   "cell_type": "code",
   "execution_count": 20,
   "metadata": {
    "execution": {
     "iopub.execute_input": "2023-12-06T14:04:45.738353Z",
     "iopub.status.busy": "2023-12-06T14:04:45.738000Z",
     "iopub.status.idle": "2023-12-06T14:04:45.754238Z",
     "shell.execute_reply": "2023-12-06T14:04:45.753425Z",
     "shell.execute_reply.started": "2023-12-06T14:04:45.738319Z"
    }
   },
   "outputs": [
    {
     "data": {
      "text/plain": [
       "False"
      ]
     },
     "execution_count": 20,
     "metadata": {},
     "output_type": "execute_result"
    }
   ],
   "source": [
    "import math\n",
    "\n",
    "# Assuming outputs_U is a Python list\n",
    "has_nan = any(math.isnan(x) for x in outputs_U if isinstance(x, (float, int)))\n",
    "has_nan"
   ]
  },
  {
   "cell_type": "code",
   "execution_count": 21,
   "metadata": {
    "execution": {
     "iopub.execute_input": "2023-12-06T14:04:45.755689Z",
     "iopub.status.busy": "2023-12-06T14:04:45.755337Z",
     "iopub.status.idle": "2023-12-06T14:04:45.763921Z",
     "shell.execute_reply": "2023-12-06T14:04:45.762962Z",
     "shell.execute_reply.started": "2023-12-06T14:04:45.755656Z"
    }
   },
   "outputs": [],
   "source": [
    "samples = np.concatenate((outputs_R, outputs_U)).reshape((-1, 1))"
   ]
  },
  {
   "cell_type": "code",
   "execution_count": 22,
   "metadata": {
    "execution": {
     "iopub.execute_input": "2023-12-06T14:04:45.765399Z",
     "iopub.status.busy": "2023-12-06T14:04:45.764969Z",
     "iopub.status.idle": "2023-12-06T14:04:45.776113Z",
     "shell.execute_reply": "2023-12-06T14:04:45.775241Z",
     "shell.execute_reply.started": "2023-12-06T14:04:45.765372Z"
    }
   },
   "outputs": [
    {
     "data": {
      "text/plain": [
       "False"
      ]
     },
     "execution_count": 22,
     "metadata": {},
     "output_type": "execute_result"
    }
   ],
   "source": [
    "has_nan = np.isnan(samples).any()\n",
    "has_nan"
   ]
  },
  {
   "cell_type": "code",
   "execution_count": 23,
   "metadata": {
    "execution": {
     "iopub.execute_input": "2023-12-06T14:04:45.778080Z",
     "iopub.status.busy": "2023-12-06T14:04:45.777743Z",
     "iopub.status.idle": "2023-12-06T14:05:24.716817Z",
     "shell.execute_reply": "2023-12-06T14:05:24.715850Z",
     "shell.execute_reply.started": "2023-12-06T14:04:45.778049Z"
    }
   },
   "outputs": [
    {
     "name": "stderr",
     "output_type": "stream",
     "text": [
      "Computing F...: 100%|██████████| 5000/5000 [00:38<00:00, 128.45it/s]\n"
     ]
    }
   ],
   "source": [
    "from tqdm import tqdm\n",
    "\n",
    "attacks = [logistic_regression_attack]\n",
    "\n",
    "f = forgetting_quality(\n",
    "outputs_U, \n",
    "outputs_R,\n",
    "attacks=attacks,\n",
    "delta=0.01)\n",
    "\n",
    "ret = {\n",
    "    \"total_score\": f * RA_ratio * TA_ratio,\n",
    "    \"F\": f,\n",
    "    \"unlearn_retain_accuracy\": RAU,\n",
    "    \"unlearn_test_accuracy\": TAU, \n",
    "    \"unlearn_forget_accuracy\": FAU,\n",
    "    \"retrain_retain_accuracy\": RAR,\n",
    "    \"retrain_test_accuracy\": TAR, \n",
    "    \"retrain_forget_accuracy\": FAR,\n",
    "    \"retrain_outputs\": outputs_R,\n",
    "    \"unlearn_outputs\": outputs_U,\n",
    "    \"unlearning_model\": u_model\n",
    "}"
   ]
  },
  {
   "cell_type": "code",
   "execution_count": 24,
   "metadata": {
    "execution": {
     "iopub.execute_input": "2023-12-06T14:05:24.718427Z",
     "iopub.status.busy": "2023-12-06T14:05:24.718091Z",
     "iopub.status.idle": "2023-12-06T14:05:24.728531Z",
     "shell.execute_reply": "2023-12-06T14:05:24.727510Z",
     "shell.execute_reply.started": "2023-12-06T14:05:24.718398Z"
    }
   },
   "outputs": [
    {
     "data": {
      "text/plain": [
       "{'total_score': 0.6389237621966735,\n",
       " 'F': 0.66288232421875,\n",
       " 'unlearn_retain_accuracy': 0.99602,\n",
       " 'unlearn_test_accuracy': 0.8473599999999999,\n",
       " 'unlearn_forget_accuracy': 0.87242,\n",
       " 'retrain_retain_accuracy': 0.9952666666666666,\n",
       " 'retrain_test_accuracy': 0.8798,\n",
       " 'retrain_forget_accuracy': 0.882,\n",
       " 'retrain_outputs': array([[1.1427237e+00, 6.8271221e-03, 5.4480130e-05, ..., 1.4155446e-01,\n",
       "         4.6083200e-01, 2.1786564e-03],\n",
       "        [1.1427237e+00, 6.8271221e-03, 5.4480130e-05, ..., 1.4155446e-01,\n",
       "         4.6083200e-01, 2.1786564e-03],\n",
       "        [1.1427237e+00, 6.8271221e-03, 5.4480130e-05, ..., 1.4155446e-01,\n",
       "         4.6083200e-01, 2.1786564e-03],\n",
       "        ...,\n",
       "        [1.1427237e+00, 6.8271221e-03, 5.4480130e-05, ..., 1.4155446e-01,\n",
       "         4.6083200e-01, 2.1786564e-03],\n",
       "        [1.1427237e+00, 6.8271221e-03, 5.4480130e-05, ..., 1.4155446e-01,\n",
       "         4.6083200e-01, 2.1786564e-03],\n",
       "        [1.1427237e+00, 6.8271221e-03, 5.4480130e-05, ..., 1.4155446e-01,\n",
       "         4.6083200e-01, 2.1786564e-03]], dtype=float32),\n",
       " 'unlearn_outputs': array([[7.6838307e-02, 2.0206110e-03, 1.3861723e-03, ..., 5.0753260e+00,\n",
       "         1.6509029e+00, 1.6687334e-02],\n",
       "        [2.8370793e+00, 1.9126330e-01, 8.0838632e-03, ..., 4.5656738e+00,\n",
       "         1.0117559e-01, 3.4544531e-02],\n",
       "        [4.2793865e+00, 2.8864038e-03, 9.5526292e-04, ..., 4.6970196e+00,\n",
       "         1.2081812e-01, 1.0667124e+00],\n",
       "        ...,\n",
       "        [5.6155401e-01, 4.5076124e-03, 2.1745346e-03, ..., 4.8331933e+00,\n",
       "         1.9117257e-02, 3.3968112e-01],\n",
       "        [1.9818850e+00, 6.6308305e-04, 1.0002732e-01, ..., 4.4455957e+00,\n",
       "         2.1428759e-03, 4.7274567e-02],\n",
       "        [4.4816130e-01, 7.9800356e-03, 2.3902589e-03, ..., 6.8316627e+00,\n",
       "         2.8732626e-02, 1.7639305e-01]], dtype=float32),\n",
       " 'unlearning_model': ResNet(\n",
       "   (conv1): Conv2d(3, 64, kernel_size=(7, 7), stride=(2, 2), padding=(3, 3), bias=False)\n",
       "   (bn1): BatchNorm2d(64, eps=1e-05, momentum=0.1, affine=True, track_running_stats=True)\n",
       "   (relu): ReLU(inplace=True)\n",
       "   (maxpool): MaxPool2d(kernel_size=3, stride=2, padding=1, dilation=1, ceil_mode=False)\n",
       "   (layer1): Sequential(\n",
       "     (0): BasicBlock(\n",
       "       (conv1): Conv2d(64, 64, kernel_size=(3, 3), stride=(1, 1), padding=(1, 1), bias=False)\n",
       "       (bn1): BatchNorm2d(64, eps=1e-05, momentum=0.1, affine=True, track_running_stats=True)\n",
       "       (relu): ReLU(inplace=True)\n",
       "       (conv2): Conv2d(64, 64, kernel_size=(3, 3), stride=(1, 1), padding=(1, 1), bias=False)\n",
       "       (bn2): BatchNorm2d(64, eps=1e-05, momentum=0.1, affine=True, track_running_stats=True)\n",
       "     )\n",
       "     (1): BasicBlock(\n",
       "       (conv1): Conv2d(64, 64, kernel_size=(3, 3), stride=(1, 1), padding=(1, 1), bias=False)\n",
       "       (bn1): BatchNorm2d(64, eps=1e-05, momentum=0.1, affine=True, track_running_stats=True)\n",
       "       (relu): ReLU(inplace=True)\n",
       "       (conv2): Conv2d(64, 64, kernel_size=(3, 3), stride=(1, 1), padding=(1, 1), bias=False)\n",
       "       (bn2): BatchNorm2d(64, eps=1e-05, momentum=0.1, affine=True, track_running_stats=True)\n",
       "     )\n",
       "   )\n",
       "   (layer2): Sequential(\n",
       "     (0): BasicBlock(\n",
       "       (conv1): Conv2d(64, 128, kernel_size=(3, 3), stride=(2, 2), padding=(1, 1), bias=False)\n",
       "       (bn1): BatchNorm2d(128, eps=1e-05, momentum=0.1, affine=True, track_running_stats=True)\n",
       "       (relu): ReLU(inplace=True)\n",
       "       (conv2): Conv2d(128, 128, kernel_size=(3, 3), stride=(1, 1), padding=(1, 1), bias=False)\n",
       "       (bn2): BatchNorm2d(128, eps=1e-05, momentum=0.1, affine=True, track_running_stats=True)\n",
       "       (downsample): Sequential(\n",
       "         (0): Conv2d(64, 128, kernel_size=(1, 1), stride=(2, 2), bias=False)\n",
       "         (1): BatchNorm2d(128, eps=1e-05, momentum=0.1, affine=True, track_running_stats=True)\n",
       "       )\n",
       "     )\n",
       "     (1): BasicBlock(\n",
       "       (conv1): Conv2d(128, 128, kernel_size=(3, 3), stride=(1, 1), padding=(1, 1), bias=False)\n",
       "       (bn1): BatchNorm2d(128, eps=1e-05, momentum=0.1, affine=True, track_running_stats=True)\n",
       "       (relu): ReLU(inplace=True)\n",
       "       (conv2): Conv2d(128, 128, kernel_size=(3, 3), stride=(1, 1), padding=(1, 1), bias=False)\n",
       "       (bn2): BatchNorm2d(128, eps=1e-05, momentum=0.1, affine=True, track_running_stats=True)\n",
       "     )\n",
       "   )\n",
       "   (layer3): Sequential(\n",
       "     (0): BasicBlock(\n",
       "       (conv1): Conv2d(128, 256, kernel_size=(3, 3), stride=(2, 2), padding=(1, 1), bias=False)\n",
       "       (bn1): BatchNorm2d(256, eps=1e-05, momentum=0.1, affine=True, track_running_stats=True)\n",
       "       (relu): ReLU(inplace=True)\n",
       "       (conv2): Conv2d(256, 256, kernel_size=(3, 3), stride=(1, 1), padding=(1, 1), bias=False)\n",
       "       (bn2): BatchNorm2d(256, eps=1e-05, momentum=0.1, affine=True, track_running_stats=True)\n",
       "       (downsample): Sequential(\n",
       "         (0): Conv2d(128, 256, kernel_size=(1, 1), stride=(2, 2), bias=False)\n",
       "         (1): BatchNorm2d(256, eps=1e-05, momentum=0.1, affine=True, track_running_stats=True)\n",
       "       )\n",
       "     )\n",
       "     (1): BasicBlock(\n",
       "       (conv1): Conv2d(256, 256, kernel_size=(3, 3), stride=(1, 1), padding=(1, 1), bias=False)\n",
       "       (bn1): BatchNorm2d(256, eps=1e-05, momentum=0.1, affine=True, track_running_stats=True)\n",
       "       (relu): ReLU(inplace=True)\n",
       "       (conv2): Conv2d(256, 256, kernel_size=(3, 3), stride=(1, 1), padding=(1, 1), bias=False)\n",
       "       (bn2): BatchNorm2d(256, eps=1e-05, momentum=0.1, affine=True, track_running_stats=True)\n",
       "     )\n",
       "   )\n",
       "   (layer4): Sequential(\n",
       "     (0): BasicBlock(\n",
       "       (conv1): Conv2d(256, 512, kernel_size=(3, 3), stride=(2, 2), padding=(1, 1), bias=False)\n",
       "       (bn1): BatchNorm2d(512, eps=1e-05, momentum=0.1, affine=True, track_running_stats=True)\n",
       "       (relu): ReLU(inplace=True)\n",
       "       (conv2): Conv2d(512, 512, kernel_size=(3, 3), stride=(1, 1), padding=(1, 1), bias=False)\n",
       "       (bn2): BatchNorm2d(512, eps=1e-05, momentum=0.1, affine=True, track_running_stats=True)\n",
       "       (downsample): Sequential(\n",
       "         (0): Conv2d(256, 512, kernel_size=(1, 1), stride=(2, 2), bias=False)\n",
       "         (1): BatchNorm2d(512, eps=1e-05, momentum=0.1, affine=True, track_running_stats=True)\n",
       "       )\n",
       "     )\n",
       "     (1): BasicBlock(\n",
       "       (conv1): Conv2d(512, 512, kernel_size=(3, 3), stride=(1, 1), padding=(1, 1), bias=False)\n",
       "       (bn1): BatchNorm2d(512, eps=1e-05, momentum=0.1, affine=True, track_running_stats=True)\n",
       "       (relu): ReLU(inplace=True)\n",
       "       (conv2): Conv2d(512, 512, kernel_size=(3, 3), stride=(1, 1), padding=(1, 1), bias=False)\n",
       "       (bn2): BatchNorm2d(512, eps=1e-05, momentum=0.1, affine=True, track_running_stats=True)\n",
       "     )\n",
       "   )\n",
       "   (avgpool): AdaptiveAvgPool2d(output_size=(1, 1))\n",
       "   (fc): Linear(in_features=512, out_features=10, bias=True)\n",
       " )}"
      ]
     },
     "execution_count": 24,
     "metadata": {},
     "output_type": "execute_result"
    }
   ],
   "source": [
    "ret"
   ]
  },
  {
   "cell_type": "code",
   "execution_count": 25,
   "metadata": {
    "execution": {
     "iopub.execute_input": "2023-12-06T14:05:24.730585Z",
     "iopub.status.busy": "2023-12-06T14:05:24.729901Z",
     "iopub.status.idle": "2023-12-06T14:05:34.911313Z",
     "shell.execute_reply": "2023-12-06T14:05:34.910062Z",
     "shell.execute_reply.started": "2023-12-06T14:05:24.730549Z"
    }
   },
   "outputs": [],
   "source": [
    "\n",
    "def compute_losses(net, loader):\n",
    "    \"\"\"Auxiliary function to compute per-sample losses\"\"\"\n",
    "\n",
    "    criterion = nn.CrossEntropyLoss(reduction=\"none\")\n",
    "    all_losses = []\n",
    "\n",
    "    for inputs, targets in loader:\n",
    "        inputs, targets = inputs.to(DEVICE), targets.to(DEVICE)\n",
    "\n",
    "        logits = net(inputs)\n",
    "        losses = criterion(logits, targets).numpy(force=True)\n",
    "        for l in losses:\n",
    "            all_losses.append(l)\n",
    "\n",
    "    return np.array(all_losses)\n",
    "\n",
    "\n",
    "ut_train_losses = compute_losses(u_model, train_loader)\n",
    "ut_test_losses = compute_losses(u_model, test_loader)\n",
    "ut_forget_losses = compute_losses(u_model, forget_loader)"
   ]
  },
  {
   "cell_type": "code",
   "execution_count": 26,
   "metadata": {
    "execution": {
     "iopub.execute_input": "2023-12-06T14:05:34.913341Z",
     "iopub.status.busy": "2023-12-06T14:05:34.913004Z",
     "iopub.status.idle": "2023-12-06T14:05:45.198942Z",
     "shell.execute_reply": "2023-12-06T14:05:45.197697Z",
     "shell.execute_reply.started": "2023-12-06T14:05:34.913309Z"
    }
   },
   "outputs": [],
   "source": [
    "rt_train_losses = compute_losses(rt_model, train_loader)\n",
    "rt_test_losses = compute_losses(rt_model, test_loader)\n",
    "rt_forget_losses = compute_losses(rt_model, forget_loader)"
   ]
  },
  {
   "cell_type": "code",
   "execution_count": 27,
   "metadata": {
    "execution": {
     "iopub.execute_input": "2023-12-06T14:05:45.201131Z",
     "iopub.status.busy": "2023-12-06T14:05:45.200722Z",
     "iopub.status.idle": "2023-12-06T14:05:46.802144Z",
     "shell.execute_reply": "2023-12-06T14:05:46.801102Z",
     "shell.execute_reply.started": "2023-12-06T14:05:45.201099Z"
    }
   },
   "outputs": [
    {
     "data": {
      "image/png": "[encoded data removed]",
      "text/plain": [
       "<Figure size 1600x600 with 2 Axes>"
      ]
     },
     "metadata": {},
     "output_type": "display_data"
    }
   ],
   "source": [
    "fig, (ax1, ax2) = plt.subplots(1, 2, figsize=(16, 6))\n",
    "\n",
    "ax1.set_title(f\"Unlearned model test and forget graphs\")\n",
    "ax1.hist(ut_test_losses, density=True, alpha=0.5, bins=50, label=\"Test set\")\n",
    "ax1.hist(ut_forget_losses, density=True, alpha=0.5, bins=50, label=\"Forget set\")\n",
    "\n",
    "ax2.set_title(\n",
    "    f\"Retrain test and forget graphs\"\n",
    ")\n",
    "ax2.hist(rt_test_losses, density=True, alpha=0.5, bins=50, label=\"Test set\")\n",
    "ax2.hist(rt_forget_losses, density=True, alpha=0.5, bins=50, label=\"Forget set\")\n",
    "\n",
    "ax1.set_xlabel(\"Loss\")\n",
    "ax2.set_xlabel(\"Loss\")\n",
    "ax1.set_ylabel(\"Frequency\")\n",
    "ax1.set_yscale(\"log\")\n",
    "ax2.set_yscale(\"log\")\n",
    "ax1.set_xlim((0, np.max(ut_test_losses)))\n",
    "ax2.set_xlim((0, np.max(ut_forget_losses)))\n",
    "for ax in (ax1, ax2):\n",
    "    ax.spines[\"top\"].set_visible(False)\n",
    "    ax.spines[\"right\"].set_visible(False)\n",
    "ax1.legend(frameon=False, fontsize=14)\n",
    "plt.show()"
   ]
  },
  {
   "cell_type": "code",
   "execution_count": 28,
   "metadata": {
    "execution": {
     "iopub.execute_input": "2023-12-06T14:05:46.803516Z",
     "iopub.status.busy": "2023-12-06T14:05:46.803254Z",
     "iopub.status.idle": "2023-12-06T14:05:48.332158Z",
     "shell.execute_reply": "2023-12-06T14:05:48.331157Z",
     "shell.execute_reply.started": "2023-12-06T14:05:46.803493Z"
    }
   },
   "outputs": [
    {
     "data": {
      "image/png": "[encoded data removed]",
      "text/plain": [
       "<Figure size 1600x600 with 2 Axes>"
      ]
     },
     "metadata": {},
     "output_type": "display_data"
    }
   ],
   "source": [
    "fig, (ax1, ax2) = plt.subplots(1, 2, figsize=(16, 6))\n",
    "\n",
    "ax1.set_title(f\"Unlearned model and retrained model forget graphs\")\n",
    "ax1.hist(ut_forget_losses, density=True, alpha=0.5, bins=50, label=\"unlearned forget set graph\")\n",
    "ax1.hist(rt_forget_losses, density=True, alpha=0.5, bins=50, label=\"retrained forget set graph\")\n",
    "\n",
    "ax2.set_title(\n",
    "    f\"Test graphs for the unlearned and retrained model\"\n",
    ")\n",
    "ax2.hist(ut_test_losses, density=True, alpha=0.5, bins=50, label=\"Test set\")\n",
    "ax2.hist(rt_test_losses, density=True, alpha=0.5, bins=50, label=\"Forget set\")\n",
    "\n",
    "ax1.set_xlabel(\"Loss\")\n",
    "ax2.set_xlabel(\"Loss\")\n",
    "ax1.set_ylabel(\"Frequency\")\n",
    "ax1.set_yscale(\"log\")\n",
    "ax2.set_yscale(\"log\")\n",
    "ax1.set_xlim((0, np.max(ut_test_losses)))\n",
    "ax2.set_xlim((0, np.max(ut_forget_losses)))\n",
    "for ax in (ax1, ax2):\n",
    "    ax.spines[\"top\"].set_visible(False)\n",
    "    ax.spines[\"right\"].set_visible(False)\n",
    "ax1.legend(frameon=False, fontsize=14)\n",
    "plt.show()"
   ]
  },
  {
   "cell_type": "code",
   "execution_count": null,
   "metadata": {},
   "outputs": [],
   "source": []
  }
 ],
 "metadata": {
  "kaggle": {
   "accelerator": "gpu",
   "dataSources": [],
   "dockerImageVersionId": 30588,
   "isGpuEnabled": true,
   "isInternetEnabled": true,
   "language": "python",
   "sourceType": "notebook"
  },
  "kernelspec": {
   "display_name": "Python 3 (ipykernel)",
   "language": "python",
   "name": "python3"
  },
  "language_info": {
   "codemirror_mode": {
    "name": "ipython",
    "version": 3
   },
   "file_extension": ".py",
   "mimetype": "text/x-python",
   "name": "python",
   "nbconvert_exporter": "python",
   "pygments_lexer": "ipython3",
   "version": "3.11.6"
  }
 },
 "nbformat": 4,
 "nbformat_minor": 4
}
