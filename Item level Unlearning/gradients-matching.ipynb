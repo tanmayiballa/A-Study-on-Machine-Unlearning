{
 "cells": [
  {
   "cell_type": "code",
   "execution_count": 1,
   "metadata": {
    "_cell_guid": "b1076dfc-b9ad-4769-8c92-a6c4dae69d19",
    "_uuid": "8f2839f25d086af736a60e9eeb907d3b93b6e0e5",
    "execution": {
     "iopub.execute_input": "2023-12-11T05:55:14.482430Z",
     "iopub.status.busy": "2023-12-11T05:55:14.482085Z",
     "iopub.status.idle": "2023-12-11T05:55:19.214745Z",
     "shell.execute_reply": "2023-12-11T05:55:19.213830Z",
     "shell.execute_reply.started": "2023-12-11T05:55:14.482399Z"
    }
   },
   "outputs": [
    {
     "name": "stderr",
     "output_type": "stream",
     "text": [
      "/opt/conda/lib/python3.10/site-packages/scipy/__init__.py:146: UserWarning: A NumPy version >=1.16.5 and <1.23.0 is required for this version of SciPy (detected version 1.24.3\n",
      "  warnings.warn(f\"A NumPy version >={np_minversion} and <{np_maxversion}\"\n"
     ]
    },
    {
     "data": {
      "text/plain": [
       "'cuda'"
      ]
     },
     "execution_count": 1,
     "metadata": {},
     "output_type": "execute_result"
    }
   ],
   "source": [
    "import os\n",
    "import requests\n",
    "import subprocess\n",
    "import pandas as pd\n",
    "import numpy as np\n",
    "import torch\n",
    "import torchvision\n",
    "import torch.nn as nn\n",
    "import torch.optim as optim\n",
    "from typing import Callable\n",
    "from torchvision.models import resnet18\n",
    "from torch.utils.data import DataLoader, Dataset\n",
    "import torch.nn.functional as F\n",
    "import matplotlib.pyplot as plt\n",
    "from sklearn import linear_model, model_selection\n",
    "from sklearn.metrics import make_scorer, accuracy_score\n",
    "from tqdm.notebook import tqdm\n",
    "from torch.utils.data import DataLoader\n",
    "from torchvision import transforms\n",
    "from torchvision.models import resnet18\n",
    "from copy import deepcopy\n",
    "\n",
    "RNG = torch.Generator().manual_seed(42)\n",
    "DEVICE = 'cuda' if torch.cuda.is_available() else 'cpu'\n",
    "DEVICE"
   ]
  },
  {
   "cell_type": "code",
   "execution_count": 2,
   "metadata": {
    "execution": {
     "iopub.execute_input": "2023-12-11T05:55:19.216677Z",
     "iopub.status.busy": "2023-12-11T05:55:19.216248Z",
     "iopub.status.idle": "2023-12-11T05:55:19.228413Z",
     "shell.execute_reply": "2023-12-11T05:55:19.227557Z",
     "shell.execute_reply.started": "2023-12-11T05:55:19.216650Z"
    }
   },
   "outputs": [
    {
     "data": {
      "text/plain": [
       "<torch._C.Generator at 0x7ac9a75df9d0>"
      ]
     },
     "execution_count": 2,
     "metadata": {},
     "output_type": "execute_result"
    }
   ],
   "source": [
    "torch.manual_seed(3047)\n",
    "\n",
    "Gr = torch.Generator()\n",
    "Gr.manual_seed(20)\n",
    "\n",
    "Gf = torch.Generator()\n",
    "Gf.manual_seed(30)\n",
    "\n",
    "Gv = torch.Generator()\n",
    "Gv.manual_seed(40)"
   ]
  },
  {
   "cell_type": "code",
   "execution_count": 3,
   "metadata": {
    "execution": {
     "iopub.execute_input": "2023-12-11T05:55:22.412315Z",
     "iopub.status.busy": "2023-12-11T05:55:22.411963Z",
     "iopub.status.idle": "2023-12-11T05:55:22.418586Z",
     "shell.execute_reply": "2023-12-11T05:55:22.417627Z",
     "shell.execute_reply.started": "2023-12-11T05:55:22.412286Z"
    }
   },
   "outputs": [],
   "source": [
    "## Code snippet to connect to the Kaggle model's pretrained original model weights \n",
    "# Mock setting\n",
    "\n",
    "import logging\n",
    "import requests\n",
    "import tqdm\n",
    "from torch.utils.data import Subset\n",
    "from torchvision import transforms\n",
    "\n",
    "USE_MOCK: bool = True\n",
    "\n",
    "if USE_MOCK:\n",
    "    logging.warning('Running with Mock')\n",
    "    logging.warning('In this mode, internet access may be required.')\n",
    "\n",
    "    n_checkpoints = 10\n",
    "\n",
    "    mock_dir = './mock'\n",
    "    mock_model_path = os.path.join(mock_dir, \"weights_resnet18_cifar10.pth\")\n",
    "    os.makedirs(mock_dir, exist_ok=True)"
   ]
  },
  {
   "cell_type": "code",
   "execution_count": 4,
   "metadata": {
    "execution": {
     "iopub.execute_input": "2023-12-11T05:55:22.824192Z",
     "iopub.status.busy": "2023-12-11T05:55:22.823912Z",
     "iopub.status.idle": "2023-12-11T05:55:23.311726Z",
     "shell.execute_reply": "2023-12-11T05:55:23.310861Z",
     "shell.execute_reply.started": "2023-12-11T05:55:22.824167Z"
    }
   },
   "outputs": [
    {
     "data": {
      "text/plain": [
       "44808169"
      ]
     },
     "execution_count": 4,
     "metadata": {},
     "output_type": "execute_result"
    }
   ],
   "source": [
    "local_path = \"retrain_weights_resnet18_cifar10.pth\"\n",
    "if os.path.exists(local_path):\n",
    "    os.remove(local_path)\n",
    "response = requests.get(\"https://storage.googleapis.com/unlearning-challenge/\" + local_path)\n",
    "open(local_path, \"wb\").write(response.content)\n"
   ]
  },
  {
   "cell_type": "code",
   "execution_count": 5,
   "metadata": {
    "execution": {
     "iopub.execute_input": "2023-12-11T05:55:25.158535Z",
     "iopub.status.busy": "2023-12-11T05:55:25.157698Z",
     "iopub.status.idle": "2023-12-11T05:55:28.471252Z",
     "shell.execute_reply": "2023-12-11T05:55:28.470275Z",
     "shell.execute_reply.started": "2023-12-11T05:55:25.158491Z"
    }
   },
   "outputs": [
    {
     "data": {
      "text/plain": [
       "ResNet(\n",
       "  (conv1): Conv2d(3, 64, kernel_size=(7, 7), stride=(2, 2), padding=(3, 3), bias=False)\n",
       "  (bn1): BatchNorm2d(64, eps=1e-05, momentum=0.1, affine=True, track_running_stats=True)\n",
       "  (relu): ReLU(inplace=True)\n",
       "  (maxpool): MaxPool2d(kernel_size=3, stride=2, padding=1, dilation=1, ceil_mode=False)\n",
       "  (layer1): Sequential(\n",
       "    (0): BasicBlock(\n",
       "      (conv1): Conv2d(64, 64, kernel_size=(3, 3), stride=(1, 1), padding=(1, 1), bias=False)\n",
       "      (bn1): BatchNorm2d(64, eps=1e-05, momentum=0.1, affine=True, track_running_stats=True)\n",
       "      (relu): ReLU(inplace=True)\n",
       "      (conv2): Conv2d(64, 64, kernel_size=(3, 3), stride=(1, 1), padding=(1, 1), bias=False)\n",
       "      (bn2): BatchNorm2d(64, eps=1e-05, momentum=0.1, affine=True, track_running_stats=True)\n",
       "    )\n",
       "    (1): BasicBlock(\n",
       "      (conv1): Conv2d(64, 64, kernel_size=(3, 3), stride=(1, 1), padding=(1, 1), bias=False)\n",
       "      (bn1): BatchNorm2d(64, eps=1e-05, momentum=0.1, affine=True, track_running_stats=True)\n",
       "      (relu): ReLU(inplace=True)\n",
       "      (conv2): Conv2d(64, 64, kernel_size=(3, 3), stride=(1, 1), padding=(1, 1), bias=False)\n",
       "      (bn2): BatchNorm2d(64, eps=1e-05, momentum=0.1, affine=True, track_running_stats=True)\n",
       "    )\n",
       "  )\n",
       "  (layer2): Sequential(\n",
       "    (0): BasicBlock(\n",
       "      (conv1): Conv2d(64, 128, kernel_size=(3, 3), stride=(2, 2), padding=(1, 1), bias=False)\n",
       "      (bn1): BatchNorm2d(128, eps=1e-05, momentum=0.1, affine=True, track_running_stats=True)\n",
       "      (relu): ReLU(inplace=True)\n",
       "      (conv2): Conv2d(128, 128, kernel_size=(3, 3), stride=(1, 1), padding=(1, 1), bias=False)\n",
       "      (bn2): BatchNorm2d(128, eps=1e-05, momentum=0.1, affine=True, track_running_stats=True)\n",
       "      (downsample): Sequential(\n",
       "        (0): Conv2d(64, 128, kernel_size=(1, 1), stride=(2, 2), bias=False)\n",
       "        (1): BatchNorm2d(128, eps=1e-05, momentum=0.1, affine=True, track_running_stats=True)\n",
       "      )\n",
       "    )\n",
       "    (1): BasicBlock(\n",
       "      (conv1): Conv2d(128, 128, kernel_size=(3, 3), stride=(1, 1), padding=(1, 1), bias=False)\n",
       "      (bn1): BatchNorm2d(128, eps=1e-05, momentum=0.1, affine=True, track_running_stats=True)\n",
       "      (relu): ReLU(inplace=True)\n",
       "      (conv2): Conv2d(128, 128, kernel_size=(3, 3), stride=(1, 1), padding=(1, 1), bias=False)\n",
       "      (bn2): BatchNorm2d(128, eps=1e-05, momentum=0.1, affine=True, track_running_stats=True)\n",
       "    )\n",
       "  )\n",
       "  (layer3): Sequential(\n",
       "    (0): BasicBlock(\n",
       "      (conv1): Conv2d(128, 256, kernel_size=(3, 3), stride=(2, 2), padding=(1, 1), bias=False)\n",
       "      (bn1): BatchNorm2d(256, eps=1e-05, momentum=0.1, affine=True, track_running_stats=True)\n",
       "      (relu): ReLU(inplace=True)\n",
       "      (conv2): Conv2d(256, 256, kernel_size=(3, 3), stride=(1, 1), padding=(1, 1), bias=False)\n",
       "      (bn2): BatchNorm2d(256, eps=1e-05, momentum=0.1, affine=True, track_running_stats=True)\n",
       "      (downsample): Sequential(\n",
       "        (0): Conv2d(128, 256, kernel_size=(1, 1), stride=(2, 2), bias=False)\n",
       "        (1): BatchNorm2d(256, eps=1e-05, momentum=0.1, affine=True, track_running_stats=True)\n",
       "      )\n",
       "    )\n",
       "    (1): BasicBlock(\n",
       "      (conv1): Conv2d(256, 256, kernel_size=(3, 3), stride=(1, 1), padding=(1, 1), bias=False)\n",
       "      (bn1): BatchNorm2d(256, eps=1e-05, momentum=0.1, affine=True, track_running_stats=True)\n",
       "      (relu): ReLU(inplace=True)\n",
       "      (conv2): Conv2d(256, 256, kernel_size=(3, 3), stride=(1, 1), padding=(1, 1), bias=False)\n",
       "      (bn2): BatchNorm2d(256, eps=1e-05, momentum=0.1, affine=True, track_running_stats=True)\n",
       "    )\n",
       "  )\n",
       "  (layer4): Sequential(\n",
       "    (0): BasicBlock(\n",
       "      (conv1): Conv2d(256, 512, kernel_size=(3, 3), stride=(2, 2), padding=(1, 1), bias=False)\n",
       "      (bn1): BatchNorm2d(512, eps=1e-05, momentum=0.1, affine=True, track_running_stats=True)\n",
       "      (relu): ReLU(inplace=True)\n",
       "      (conv2): Conv2d(512, 512, kernel_size=(3, 3), stride=(1, 1), padding=(1, 1), bias=False)\n",
       "      (bn2): BatchNorm2d(512, eps=1e-05, momentum=0.1, affine=True, track_running_stats=True)\n",
       "      (downsample): Sequential(\n",
       "        (0): Conv2d(256, 512, kernel_size=(1, 1), stride=(2, 2), bias=False)\n",
       "        (1): BatchNorm2d(512, eps=1e-05, momentum=0.1, affine=True, track_running_stats=True)\n",
       "      )\n",
       "    )\n",
       "    (1): BasicBlock(\n",
       "      (conv1): Conv2d(512, 512, kernel_size=(3, 3), stride=(1, 1), padding=(1, 1), bias=False)\n",
       "      (bn1): BatchNorm2d(512, eps=1e-05, momentum=0.1, affine=True, track_running_stats=True)\n",
       "      (relu): ReLU(inplace=True)\n",
       "      (conv2): Conv2d(512, 512, kernel_size=(3, 3), stride=(1, 1), padding=(1, 1), bias=False)\n",
       "      (bn2): BatchNorm2d(512, eps=1e-05, momentum=0.1, affine=True, track_running_stats=True)\n",
       "    )\n",
       "  )\n",
       "  (avgpool): AdaptiveAvgPool2d(output_size=(1, 1))\n",
       "  (fc): Linear(in_features=512, out_features=10, bias=True)\n",
       ")"
      ]
     },
     "execution_count": 5,
     "metadata": {},
     "output_type": "execute_result"
    }
   ],
   "source": [
    "weights_pretrained = torch.load(local_path, map_location=DEVICE)\n",
    "rt_model = resnet18(weights=None, num_classes=10)\n",
    "rt_model.load_state_dict(weights_pretrained)\n",
    "rt_model.to(DEVICE)\n",
    "rt_model.eval()"
   ]
  },
  {
   "cell_type": "code",
   "execution_count": 6,
   "metadata": {
    "execution": {
     "iopub.execute_input": "2023-12-11T05:55:28.473144Z",
     "iopub.status.busy": "2023-12-11T05:55:28.472861Z",
     "iopub.status.idle": "2023-12-11T05:55:35.652090Z",
     "shell.execute_reply": "2023-12-11T05:55:35.651342Z",
     "shell.execute_reply.started": "2023-12-11T05:55:28.473119Z"
    }
   },
   "outputs": [
    {
     "name": "stdout",
     "output_type": "stream",
     "text": [
      "Downloading https://www.cs.toronto.edu/~kriz/cifar-10-python.tar.gz to ./data/cifar-10-python.tar.gz\n"
     ]
    },
    {
     "name": "stderr",
     "output_type": "stream",
     "text": [
      "100%|██████████| 170498071/170498071 [00:03<00:00, 46378237.19it/s]\n"
     ]
    },
    {
     "name": "stdout",
     "output_type": "stream",
     "text": [
      "Extracting ./data/cifar-10-python.tar.gz to ./data\n",
      "Files already downloaded and verified\n"
     ]
    }
   ],
   "source": [
    "normalize = transforms.Compose(\n",
    "    [\n",
    "        transforms.ToTensor(),\n",
    "        transforms.Normalize((0.4914, 0.4822, 0.4465), (0.2023, 0.1994, 0.2010)),\n",
    "    ]\n",
    ")\n",
    "\n",
    "train_set = torchvision.datasets.CIFAR10(\n",
    "    root=\"./data\", train=True, download=True, transform=normalize\n",
    ")\n",
    "train_loader = DataLoader(train_set, batch_size=128, shuffle=True, num_workers=2)\n",
    "\n",
    "# we split held out data into test and validation set\n",
    "held_out = torchvision.datasets.CIFAR10(\n",
    "    root=\"./data\", train=False, download=True, transform=normalize\n",
    ")\n",
    "test_set, val_set = torch.utils.data.random_split(held_out, [0.5, 0.5], generator=RNG)\n",
    "test_loader = DataLoader(test_set, batch_size=128, shuffle=False, num_workers=2)\n",
    "val_loader = DataLoader(val_set, batch_size=128, shuffle=False, num_workers=2)\n",
    "\n",
    "# download the forget and retain index split\n",
    "local_path = \"forget_idx.npy\"\n",
    "if not os.path.exists(local_path):\n",
    "    response = requests.get(\n",
    "        \"https://storage.googleapis.com/unlearning-challenge/\" + local_path\n",
    "    )\n",
    "    open(local_path, \"wb\").write(response.content)\n",
    "forget_idx = np.load(local_path)\n",
    "\n",
    "# construct indices of retain from those of the forget set\n",
    "forget_mask = np.zeros(len(train_set.targets), dtype=bool)\n",
    "forget_mask[forget_idx] = True\n",
    "retain_idx = np.arange(forget_mask.size)[~forget_mask]\n",
    "\n",
    "# split train set into a forget and a retain set\n",
    "forget_set = torch.utils.data.Subset(train_set, forget_idx)\n",
    "retain_set = torch.utils.data.Subset(train_set, retain_idx)\n",
    "\n",
    "forget_loader = torch.utils.data.DataLoader(\n",
    "    forget_set, batch_size=128, shuffle=True, num_workers=2\n",
    ")\n",
    "retain_loader = torch.utils.data.DataLoader(\n",
    "    retain_set, batch_size=128, shuffle=True, num_workers=2, generator=RNG\n",
    ")"
   ]
  },
  {
   "cell_type": "code",
   "execution_count": 7,
   "metadata": {
    "execution": {
     "iopub.execute_input": "2023-12-11T05:55:35.653960Z",
     "iopub.status.busy": "2023-12-11T05:55:35.653677Z",
     "iopub.status.idle": "2023-12-11T05:55:35.661136Z",
     "shell.execute_reply": "2023-12-11T05:55:35.660284Z",
     "shell.execute_reply.started": "2023-12-11T05:55:35.653936Z"
    }
   },
   "outputs": [],
   "source": [
    "def matching_grads(model, retain_loader, forget_loader):\n",
    "    indices = torch.randperm(len(retain_loader.dataset), dtype=torch.int32, device='cpu')[:len(forget_loader.dataset)]\n",
    "    retain_dataset = Subset(retain_loader.dataset, indices)\n",
    "    retain_loader = DataLoader(retain_dataset, batch_size=64, shuffle=True)\n",
    "    \n",
    "    model.zero_grad()\n",
    "    for (inputs, targets) in retain_loader:\n",
    "        inputs, targets = inputs.to(DEVICE), targets.to(DEVICE)\n",
    "\n",
    "        outputs = model(inputs)\n",
    "        loss = F.cross_entropy(outputs, targets)\n",
    "        loss.backward()\n",
    "        \n",
    "    for (inputs, targets) in forget_loader:\n",
    "        inputs, targets = inputs.to(DEVICE), targets.to(DEVICE)\n",
    "\n",
    "        outputs = model(inputs)\n",
    "        loss = -F.cross_entropy(outputs, targets)\n",
    "        loss.backward()"
   ]
  },
  {
   "cell_type": "code",
   "execution_count": 8,
   "metadata": {
    "execution": {
     "iopub.execute_input": "2023-12-11T05:55:35.662476Z",
     "iopub.status.busy": "2023-12-11T05:55:35.662208Z",
     "iopub.status.idle": "2023-12-11T05:55:35.675181Z",
     "shell.execute_reply": "2023-12-11T05:55:35.674411Z",
     "shell.execute_reply.started": "2023-12-11T05:55:35.662449Z"
    }
   },
   "outputs": [],
   "source": [
    "def set_layer(model, layer_name, layer):\n",
    "    splited = layer_name.split('.')\n",
    "    if len(splited) == 1:\n",
    "        setattr(model, splited[0], layer)\n",
    "    elif len(splited) == 3:\n",
    "        setattr(getattr(model, splited[0])[int(splited[1])], splited[2], layer)\n",
    "    elif len(splited) == 4:\n",
    "        getattr(getattr(model, splited[0])[int(splited[1])], splited[2])[int(splited[3])] = layer"
   ]
  },
  {
   "cell_type": "code",
   "execution_count": 9,
   "metadata": {
    "execution": {
     "iopub.execute_input": "2023-12-11T05:55:35.677465Z",
     "iopub.status.busy": "2023-12-11T05:55:35.677142Z",
     "iopub.status.idle": "2023-12-11T05:55:35.687536Z",
     "shell.execute_reply": "2023-12-11T05:55:35.686823Z",
     "shell.execute_reply.started": "2023-12-11T05:55:35.677431Z"
    }
   },
   "outputs": [],
   "source": [
    "@torch.no_grad()\n",
    "def re_init(model, px): # re init smallest gradients\n",
    "    print(\"Apply Unstructured re_init_model_snip_ver2_little_grad Globally (all conv layers)\")\n",
    "    for name, m in list(model.named_modules()):\n",
    "        if isinstance(m, nn.Conv2d):\n",
    "            mask = torch.zeros_like(m.weight, device=DEVICE).bool()\n",
    "            nparams_toprune = round(px*mask.nelement())\n",
    "        \n",
    "            out_c, in_c, ke, _ = mask.shape\n",
    "            value = -m.weight.grad.abs()\n",
    "            topk = torch.topk(value.view(-1), k=nparams_toprune)\n",
    "            mask.view(-1)[topk.indices] = True\n",
    "            grad_mask = mask.clone().float()\n",
    "            grad_mask[grad_mask==0] += 0.1\n",
    "            new_conv = deepcopy(m)\n",
    "            new_conv.weight.data = grad_mask\n",
    "            nn.init.kaiming_normal_(new_conv.weight, mode=\"fan_out\", nonlinearity=\"relu\")\n",
    "\n",
    "            new_conv.weight.data[~mask] = m.weight[~mask]\n",
    "\n",
    "            set_layer(model, name, new_conv)\n"
   ]
  },
  {
   "cell_type": "code",
   "execution_count": 10,
   "metadata": {
    "execution": {
     "iopub.execute_input": "2023-12-11T05:55:38.772106Z",
     "iopub.status.busy": "2023-12-11T05:55:38.771773Z",
     "iopub.status.idle": "2023-12-11T05:55:38.782666Z",
     "shell.execute_reply": "2023-12-11T05:55:38.781731Z",
     "shell.execute_reply.started": "2023-12-11T05:55:38.772081Z"
    }
   },
   "outputs": [],
   "source": [
    "def unlearning(\n",
    "    net, \n",
    "    retain_loader, \n",
    "    forget_loader, \n",
    "    val_loader):\n",
    "\n",
    "    matching_grads(net, retain_loader, forget_loader)\n",
    "    re_init(net, init_rate)\n",
    "    epochs = epoch\n",
    "    criterion = nn.CrossEntropyLoss()\n",
    "    optimizer = optim.SGD(net.parameters(), lr=lr,\n",
    "                      momentum=0.9, weight_decay=weight_decay)\n",
    "    scheduler = torch.optim.lr_scheduler.CosineAnnealingLR(optimizer, T_max=epochs)\n",
    "    \n",
    "    net.train()\n",
    "\n",
    "    for ep in range(epochs):\n",
    "        for (inputs, targets) in retain_loader:\n",
    "          inputs, targets = inputs.to(DEVICE), targets.to(DEVICE)\n",
    "          optimizer.zero_grad()\n",
    "          outputs = net(inputs)\n",
    "          loss = criterion(outputs, targets)\n",
    "          \n",
    "          loss.backward()\n",
    "          optimizer.step()\n",
    "    \n",
    "        scheduler.step()\n",
    "    net.eval()\n",
    "    return net"
   ]
  },
  {
   "cell_type": "code",
   "execution_count": 11,
   "metadata": {
    "execution": {
     "iopub.execute_input": "2023-12-11T05:55:39.190190Z",
     "iopub.status.busy": "2023-12-11T05:55:39.189804Z",
     "iopub.status.idle": "2023-12-11T05:55:39.197453Z",
     "shell.execute_reply": "2023-12-11T05:55:39.196533Z",
     "shell.execute_reply.started": "2023-12-11T05:55:39.190157Z"
    }
   },
   "outputs": [],
   "source": [
    "def evaluation(net, dataloader, criterion, device = 'cuda'):\n",
    "    net.eval()\n",
    "    total_samp = 0\n",
    "    total_acc = 0\n",
    "    total_loss = 0.0\n",
    "    for (images, labels) in dataloader:\n",
    "        images, labels = images.to(device), labels.to(device)\n",
    "        _pred = net(images)\n",
    "        total_samp+=len(labels)\n",
    "        #print(f'total_samp={total_samp}')\n",
    "        loss = criterion(_pred, labels)\n",
    "        total_loss += loss.item()\n",
    "        total_acc+=(_pred.max(1)[1] == labels).float().sum().item()\n",
    "        #print(f'total_acc={total_acc}')\n",
    "    #print(f'total_sample={total_samp}')\n",
    "    mean_loss = total_loss / len(dataloader)\n",
    "    mean_acc = total_acc/total_samp\n",
    "    print(f'loss={mean_loss}')\n",
    "    print(f'acc={mean_acc}')\n",
    "    return mean_acc, mean_loss"
   ]
  },
  {
   "cell_type": "code",
   "execution_count": 12,
   "metadata": {
    "execution": {
     "iopub.execute_input": "2023-12-11T05:55:40.423873Z",
     "iopub.status.busy": "2023-12-11T05:55:40.423170Z",
     "iopub.status.idle": "2023-12-11T05:55:54.368250Z",
     "shell.execute_reply": "2023-12-11T05:55:54.367101Z",
     "shell.execute_reply.started": "2023-12-11T05:55:40.423836Z"
    }
   },
   "outputs": [
    {
     "name": "stdout",
     "output_type": "stream",
     "text": [
      "loss=0.018128998776691416\n",
      "acc=0.9952666666666666\n",
      "Retain set accuracy: 99.5%\n",
      "loss=0.47970081903040407\n",
      "acc=0.882\n",
      "Forget set accuracy: 88.2%\n"
     ]
    }
   ],
   "source": [
    "criterion = nn.CrossEntropyLoss()\n",
    "# retain_loader, forget_loader, validation_loader = get_dataset(64)\n",
    "print(f\"Retain set accuracy: {100.0 * evaluation(rt_model, retain_loader, criterion)[0]:0.1f}%\")\n",
    "print(f\"Forget set accuracy: {100.0 * evaluation(rt_model, forget_loader, criterion)[0]:0.1f}%\")\n"
   ]
  },
  {
   "cell_type": "code",
   "execution_count": 43,
   "metadata": {
    "execution": {
     "iopub.execute_input": "2023-12-10T21:04:27.428102Z",
     "iopub.status.busy": "2023-12-10T21:04:27.427099Z",
     "iopub.status.idle": "2023-12-10T21:04:27.433595Z",
     "shell.execute_reply": "2023-12-10T21:04:27.432623Z",
     "shell.execute_reply.started": "2023-12-10T21:04:27.428065Z"
    }
   },
   "outputs": [],
   "source": [
    "sch = 'cosine'  \n",
    "init_rate = 0.25 \n",
    "lr = 0.01 # 0.005  \n",
    "epoch = 10  \n",
    "weight_decay = 5e-4"
   ]
  },
  {
   "cell_type": "code",
   "execution_count": 14,
   "metadata": {
    "execution": {
     "iopub.execute_input": "2023-12-11T05:56:13.962369Z",
     "iopub.status.busy": "2023-12-11T05:56:13.961495Z",
     "iopub.status.idle": "2023-12-11T05:56:13.969008Z",
     "shell.execute_reply": "2023-12-11T05:56:13.968130Z",
     "shell.execute_reply.started": "2023-12-11T05:56:13.962331Z"
    }
   },
   "outputs": [],
   "source": [
    "def compute_outputs(net, loader):\n",
    "    \"\"\"Auxiliary function to compute the logits for all datapoints.\n",
    "    Does not shuffle the data, regardless of the loader.\n",
    "    \"\"\"\n",
    "\n",
    "    # Make sure loader does not shuffle the data\n",
    "    if isinstance(loader.sampler, torch.utils.data.sampler.RandomSampler):\n",
    "        loader = DataLoader(\n",
    "            loader.dataset,\n",
    "            batch_size=loader.batch_size,\n",
    "            shuffle=False,\n",
    "            num_workers=loader.num_workers)\n",
    "\n",
    "    all_outputs = []\n",
    "    all_targets = []\n",
    "\n",
    "    for (inputs, targets) in loader:\n",
    "#         inputs, targets = sample[\"image\"],sample[\"age_group\"]\n",
    "        inputs, targets = inputs.to(DEVICE), targets.to(\"cpu\")\n",
    "\n",
    "        logits = net(inputs).detach().cpu().numpy() # (batch_size, num_classes)\n",
    "\n",
    "        all_outputs.append(logits)\n",
    "        all_targets.extend(targets)\n",
    "\n",
    "    return np.array(all_targets), np.concatenate(all_outputs) # (len(loader.dataset), num_classes)\n"
   ]
  },
  {
   "cell_type": "code",
   "execution_count": 15,
   "metadata": {
    "execution": {
     "iopub.execute_input": "2023-12-11T05:56:15.423474Z",
     "iopub.status.busy": "2023-12-11T05:56:15.423110Z",
     "iopub.status.idle": "2023-12-11T05:56:15.430108Z",
     "shell.execute_reply": "2023-12-11T05:56:15.429027Z",
     "shell.execute_reply.started": "2023-12-11T05:56:15.423443Z"
    }
   },
   "outputs": [],
   "source": [
    "def cross_entropy_f(x, targets):\n",
    "    # Convert NumPy array to PyTorch tensor\n",
    "    x_tensor = torch.from_numpy(x)\n",
    "\n",
    "    # Apply softmax to the model output\n",
    "    x_softmax = F.softmax(x_tensor, dim=-1)\n",
    "\n",
    "    # Convert targets to one-hot encoding\n",
    "    targets_tensor = torch.from_numpy(targets)\n",
    "    targets_one_hot = F.one_hot(targets_tensor, num_classes=x_tensor.shape[-1])\n",
    "\n",
    "    # Avoiding NaN values in x\n",
    "    x_tensor[torch.isnan(x_tensor)] = 0.0\n",
    "\n",
    "    # Calculate cross-entropy loss for each example\n",
    "    loss = -torch.sum(targets_one_hot * torch.log(x_softmax), dim=-1)\n",
    "\n",
    "    # Convert the result back to a NumPy array if needed\n",
    "    loss_np = loss.numpy()\n",
    "\n",
    "    return loss_np\n"
   ]
  },
  {
   "cell_type": "code",
   "execution_count": 16,
   "metadata": {
    "execution": {
     "iopub.execute_input": "2023-12-11T05:56:16.780332Z",
     "iopub.status.busy": "2023-12-11T05:56:16.779974Z",
     "iopub.status.idle": "2023-12-11T05:56:16.791249Z",
     "shell.execute_reply": "2023-12-11T05:56:16.790340Z",
     "shell.execute_reply.started": "2023-12-11T05:56:16.780300Z"
    }
   },
   "outputs": [],
   "source": [
    "def false_positive_rate(y_true: np.ndarray, y_pred: np.ndarray) -> float:\n",
    "    \"\"\"Computes the false positive rate (FPR).\"\"\"\n",
    "    fp = np.sum(np.logical_and((y_pred == 1), (y_true == 0)))\n",
    "    n = np.sum(y_true == 0)\n",
    "    return fp / n\n",
    "\n",
    "\n",
    "def false_negative_rate(y_true: np.ndarray, y_pred: np.ndarray) -> float:\n",
    "    \"\"\"Computes the false negative rate (FNR).\"\"\"\n",
    "    fn = np.sum(np.logical_and((y_pred == 0), (y_true == 1)))\n",
    "    p = np.sum(y_true == 1)\n",
    "    return fn / p\n",
    "\n",
    "\n",
    "# The SCORING dictionary is used by sklearn's `cross_validate` function so that\n",
    "# we record the FPR and FNR metrics of interest when doing cross validation\n",
    "SCORING = {\n",
    "    'false_positive_rate': make_scorer(false_positive_rate),\n",
    "    'false_negative_rate': make_scorer(false_negative_rate)\n",
    "}\n",
    "\n",
    "def logistic_regression_attack(\n",
    "        outputs_U, outputs_R, n_splits=2, random_state=0):\n",
    "    \"\"\"Computes cross-validation score of a membership inference attack.\n",
    "\n",
    "    Args:\n",
    "      outputs_U: numpy array of shape (N)\n",
    "      outputs_R: numpy array of shape (N)\n",
    "      n_splits: int\n",
    "        number of splits to use in the cross-validation.\n",
    "    Returns:\n",
    "      fpr, fnr : float * float\n",
    "    \"\"\"\n",
    "    assert len(outputs_U) == len(outputs_R)\n",
    "\n",
    "    samples = np.concatenate((outputs_R, outputs_U)).reshape((-1, 1))\n",
    "    labels = np.array([0] * len(outputs_R) + [1] * len(outputs_U))\n",
    "\n",
    "    attack_model = linear_model.LogisticRegression()\n",
    "    cv = model_selection.StratifiedShuffleSplit(\n",
    "        n_splits=n_splits, random_state=random_state\n",
    "    )\n",
    "    has_nan = np.isnan(samples).any()\n",
    "#     print(has_nan)\n",
    "\n",
    "    samples = np.nan_to_num(samples, nan=0)\n",
    "\n",
    "    scores =  model_selection.cross_validate(\n",
    "        attack_model, samples, labels, cv=cv, scoring=SCORING)\n",
    "\n",
    "    fpr = np.mean(scores[\"test_false_positive_rate\"])\n",
    "    fnr = np.mean(scores[\"test_false_negative_rate\"])\n",
    "\n",
    "    return fpr, fnr\n"
   ]
  },
  {
   "cell_type": "code",
   "execution_count": 17,
   "metadata": {
    "execution": {
     "iopub.execute_input": "2023-12-11T05:56:17.330543Z",
     "iopub.status.busy": "2023-12-11T05:56:17.330275Z",
     "iopub.status.idle": "2023-12-11T05:56:17.341135Z",
     "shell.execute_reply": "2023-12-11T05:56:17.340075Z",
     "shell.execute_reply.started": "2023-12-11T05:56:17.330520Z"
    }
   },
   "outputs": [],
   "source": [
    "def compute_epsilon_s(fpr: list[float], fnr: list[float], delta: float) -> float:\n",
    "    \"\"\"Computes the privacy degree (epsilon) of a particular forget set example,\n",
    "    given the FPRs and FNRs resulting from various attacks.\n",
    "\n",
    "    The smaller epsilon is, the better the unlearning is.\n",
    "\n",
    "    Args:\n",
    "      fpr: list[float] of length m = num attacks. The FPRs for a particular example.\n",
    "      fnr: list[float] of length m = num attacks. The FNRs for a particular example.\n",
    "      delta: float\n",
    "    Returns:\n",
    "      epsilon: float corresponding to the privacy degree of the particular example.\n",
    "    \"\"\"\n",
    "    assert len(fpr) == len(fnr)\n",
    "\n",
    "    per_attack_epsilon = [0.]\n",
    "    for fpr_i, fnr_i in zip(fpr, fnr):\n",
    "        if fpr_i == 0 and fnr_i == 0:\n",
    "            per_attack_epsilon.append(np.inf)\n",
    "        elif fpr_i == 0 or fnr_i == 0:\n",
    "            pass # discard attack\n",
    "        else:\n",
    "            with np.errstate(invalid='ignore'):\n",
    "                epsilon1 = np.log(1. - delta - fpr_i) - np.log(fnr_i)\n",
    "                epsilon2 = np.log(1. - delta - fnr_i) - np.log(fpr_i)\n",
    "            if np.isnan(epsilon1) and np.isnan(epsilon2):\n",
    "                per_attack_epsilon.append(np.inf)\n",
    "            else:\n",
    "                per_attack_epsilon.append(np.nanmax([epsilon1, epsilon2]))\n",
    "\n",
    "    return np.nanmax(per_attack_epsilon)\n",
    "\n",
    "def bin_index_fn(\n",
    "        epsilons: np.ndarray,\n",
    "        bin_width: float = 0.5,\n",
    "        B: int = 13\n",
    "        ) -> np.ndarray:\n",
    "    \"\"\"The bin index function.\"\"\"\n",
    "    bins = np.arange(0, B) * bin_width\n",
    "    return np.digitize(epsilons, bins)\n",
    "\n",
    "\n",
    "def H(epsilons: np.ndarray) -> float:\n",
    "    \"\"\"Computes the forgetting quality given the privacy degrees\n",
    "    of the forget set examples.\n",
    "    \"\"\"\n",
    "    ns = bin_index_fn(epsilons)\n",
    "    hs = 2. / 2 ** ns\n",
    "    return np.mean(hs)\n"
   ]
  },
  {
   "cell_type": "code",
   "execution_count": 18,
   "metadata": {
    "execution": {
     "iopub.execute_input": "2023-12-11T05:56:18.591839Z",
     "iopub.status.busy": "2023-12-11T05:56:18.590970Z",
     "iopub.status.idle": "2023-12-11T05:56:18.600292Z",
     "shell.execute_reply": "2023-12-11T05:56:18.599410Z",
     "shell.execute_reply.started": "2023-12-11T05:56:18.591804Z"
    }
   },
   "outputs": [],
   "source": [
    "def forgetting_quality(\n",
    "        outputs_U: np.ndarray, # (N, S)\n",
    "        outputs_R: np.ndarray, # (N, S)\n",
    "        attacks: list[Callable] = [logistic_regression_attack],\n",
    "        delta: float = 0.01\n",
    "    ):\n",
    "    \"\"\"\n",
    "    Both `outputs_U` and `outputs_R` are of numpy arrays of ndim 2:\n",
    "    * 1st dimension coresponds to the number of samples obtained from the\n",
    "      distribution of each model (N=512 in the case of the competition's leaderboard)\n",
    "    * 2nd dimension corresponds to the number of samples in the forget set (S).\n",
    "    \"\"\"\n",
    "\n",
    "    # N = number of model samples\n",
    "    # S = number of forget samples\n",
    "    N, S = outputs_U.shape\n",
    "\n",
    "    assert outputs_U.shape == outputs_R.shape, \\\n",
    "        \"unlearn and retrain outputs need to be of the same shape\"\n",
    "\n",
    "    epsilons = []\n",
    "    pbar = tqdm(range(S))\n",
    "    for sample_id in pbar:\n",
    "        pbar.set_description(\"Computing F...\")\n",
    "\n",
    "        sample_fprs, sample_fnrs = [], []\n",
    "\n",
    "        for attack in attacks:\n",
    "            uls = outputs_U[:, sample_id]\n",
    "            rls = outputs_R[:, sample_id]\n",
    "\n",
    "            fpr, fnr = attack(uls, rls)\n",
    "\n",
    "            if isinstance(fpr, list):\n",
    "                sample_fprs.extend(fpr)\n",
    "                sample_fnrs.extend(fnr)\n",
    "            else:\n",
    "                sample_fprs.append(fpr)\n",
    "                sample_fnrs.append(fnr)\n",
    "\n",
    "        sample_epsilon = compute_epsilon_s(sample_fprs, sample_fnrs, delta=delta)\n",
    "        epsilons.append(sample_epsilon)\n",
    "\n",
    "    return H(np.array(epsilons))\n"
   ]
  },
  {
   "cell_type": "code",
   "execution_count": 20,
   "metadata": {
    "execution": {
     "iopub.execute_input": "2023-12-11T05:56:32.456562Z",
     "iopub.status.busy": "2023-12-11T05:56:32.455720Z",
     "iopub.status.idle": "2023-12-11T05:56:32.460612Z",
     "shell.execute_reply": "2023-12-11T05:56:32.459626Z",
     "shell.execute_reply.started": "2023-12-11T05:56:32.456525Z"
    }
   },
   "outputs": [],
   "source": [
    "from tqdm import tnrange, trange"
   ]
  },
  {
   "cell_type": "code",
   "execution_count": 21,
   "metadata": {
    "execution": {
     "iopub.execute_input": "2023-12-11T05:56:32.831720Z",
     "iopub.status.busy": "2023-12-11T05:56:32.831023Z",
     "iopub.status.idle": "2023-12-11T06:22:54.442931Z",
     "shell.execute_reply": "2023-12-11T06:22:54.441867Z",
     "shell.execute_reply.started": "2023-12-11T05:56:32.831691Z"
    }
   },
   "outputs": [
    {
     "name": "stderr",
     "output_type": "stream",
     "text": [
      "  0%|          | 0/10 [00:00<?, ?it/s]"
     ]
    },
    {
     "name": "stdout",
     "output_type": "stream",
     "text": [
      "I am unlearning all the wrong things you taught me\n",
      "Apply Unstructured re_init_model_snip_ver2_little_grad Globally (all conv layers)\n",
      "Computing retain accuracy on Unlearning Model\n",
      "loss=0.0015667029967351648\n",
      "acc=1.0\n",
      "Retain accuracy on Unlearning Model is  1.0\n",
      "Computing test accuracy on Unlearning model\n",
      "loss=0.5693370804190636\n",
      "acc=0.858\n",
      "Test accuracy on Unlearning model is  0.858\n",
      "Computing forget accuracy on Unlearning model\n"
     ]
    },
    {
     "name": "stderr",
     "output_type": "stream",
     "text": [
      " 10%|█         | 1/10 [02:36<23:25, 156.13s/it]"
     ]
    },
    {
     "name": "stdout",
     "output_type": "stream",
     "text": [
      "loss=0.30529535803943875\n",
      "acc=0.9104\n",
      "Forget accuracy on Unlearning model is  0.9104\n",
      "I am unlearning all the wrong things you taught me\n",
      "Apply Unstructured re_init_model_snip_ver2_little_grad Globally (all conv layers)\n",
      "Computing retain accuracy on Unlearning Model\n",
      "loss=0.0015034779627802147\n",
      "acc=1.0\n",
      "Retain accuracy on Unlearning Model is  1.0\n",
      "Computing test accuracy on Unlearning model\n",
      "loss=0.5910104863345623\n",
      "acc=0.8602\n",
      "Test accuracy on Unlearning model is  0.8602\n",
      "Computing forget accuracy on Unlearning model\n"
     ]
    },
    {
     "name": "stderr",
     "output_type": "stream",
     "text": [
      " 20%|██        | 2/10 [05:12<20:50, 156.26s/it]"
     ]
    },
    {
     "name": "stdout",
     "output_type": "stream",
     "text": [
      "loss=0.2908059474080801\n",
      "acc=0.9104\n",
      "Forget accuracy on Unlearning model is  0.9104\n",
      "I am unlearning all the wrong things you taught me\n",
      "Apply Unstructured re_init_model_snip_ver2_little_grad Globally (all conv layers)\n",
      "Computing retain accuracy on Unlearning Model\n",
      "loss=0.0015078661802941826\n",
      "acc=1.0\n",
      "Retain accuracy on Unlearning Model is  1.0\n",
      "Computing test accuracy on Unlearning model\n",
      "loss=0.5763582676649094\n",
      "acc=0.8568\n",
      "Test accuracy on Unlearning model is  0.8568\n",
      "Computing forget accuracy on Unlearning model\n"
     ]
    },
    {
     "name": "stderr",
     "output_type": "stream",
     "text": [
      " 30%|███       | 3/10 [07:48<18:13, 156.22s/it]"
     ]
    },
    {
     "name": "stdout",
     "output_type": "stream",
     "text": [
      "loss=0.2871267642825842\n",
      "acc=0.9134\n",
      "Forget accuracy on Unlearning model is  0.9134\n",
      "I am unlearning all the wrong things you taught me\n",
      "Apply Unstructured re_init_model_snip_ver2_little_grad Globally (all conv layers)\n",
      "Computing retain accuracy on Unlearning Model\n",
      "loss=0.0015542740463636371\n",
      "acc=1.0\n",
      "Retain accuracy on Unlearning Model is  1.0\n",
      "Computing test accuracy on Unlearning model\n",
      "loss=0.5796781584620476\n",
      "acc=0.8578\n",
      "Test accuracy on Unlearning model is  0.8578\n",
      "Computing forget accuracy on Unlearning model\n"
     ]
    },
    {
     "name": "stderr",
     "output_type": "stream",
     "text": [
      " 40%|████      | 4/10 [10:24<15:37, 156.20s/it]"
     ]
    },
    {
     "name": "stdout",
     "output_type": "stream",
     "text": [
      "loss=0.3028412342071533\n",
      "acc=0.9116\n",
      "Forget accuracy on Unlearning model is  0.9116\n",
      "I am unlearning all the wrong things you taught me\n",
      "Apply Unstructured re_init_model_snip_ver2_little_grad Globally (all conv layers)\n",
      "Computing retain accuracy on Unlearning Model\n",
      "loss=0.0015055694946733472\n",
      "acc=1.0\n",
      "Retain accuracy on Unlearning Model is  1.0\n",
      "Computing test accuracy on Unlearning model\n",
      "loss=0.6003858715295791\n",
      "acc=0.8526\n",
      "Test accuracy on Unlearning model is  0.8526\n",
      "Computing forget accuracy on Unlearning model\n"
     ]
    },
    {
     "name": "stderr",
     "output_type": "stream",
     "text": [
      " 50%|█████     | 5/10 [13:01<13:01, 156.22s/it]"
     ]
    },
    {
     "name": "stdout",
     "output_type": "stream",
     "text": [
      "loss=0.302318031527102\n",
      "acc=0.9102\n",
      "Forget accuracy on Unlearning model is  0.9102\n",
      "I am unlearning all the wrong things you taught me\n",
      "Apply Unstructured re_init_model_snip_ver2_little_grad Globally (all conv layers)\n",
      "Computing retain accuracy on Unlearning Model\n",
      "loss=0.0014383976059351962\n",
      "acc=1.0\n",
      "Retain accuracy on Unlearning Model is  1.0\n",
      "Computing test accuracy on Unlearning model\n",
      "loss=0.5830905683338642\n",
      "acc=0.8646\n",
      "Test accuracy on Unlearning model is  0.8646\n",
      "Computing forget accuracy on Unlearning model\n"
     ]
    },
    {
     "name": "stderr",
     "output_type": "stream",
     "text": [
      " 60%|██████    | 6/10 [15:37<10:25, 156.26s/it]"
     ]
    },
    {
     "name": "stdout",
     "output_type": "stream",
     "text": [
      "loss=0.3053490351885557\n",
      "acc=0.9088\n",
      "Forget accuracy on Unlearning model is  0.9088\n",
      "I am unlearning all the wrong things you taught me\n",
      "Apply Unstructured re_init_model_snip_ver2_little_grad Globally (all conv layers)\n",
      "Computing retain accuracy on Unlearning Model\n",
      "loss=0.0015045385007397272\n",
      "acc=1.0\n",
      "Retain accuracy on Unlearning Model is  1.0\n",
      "Computing test accuracy on Unlearning model\n",
      "loss=0.5933662876486778\n",
      "acc=0.856\n",
      "Test accuracy on Unlearning model is  0.856\n",
      "Computing forget accuracy on Unlearning model\n"
     ]
    },
    {
     "name": "stderr",
     "output_type": "stream",
     "text": [
      " 70%|███████   | 7/10 [18:13<07:48, 156.21s/it]"
     ]
    },
    {
     "name": "stdout",
     "output_type": "stream",
     "text": [
      "loss=0.3060651822161162\n",
      "acc=0.9068\n",
      "Forget accuracy on Unlearning model is  0.9068\n",
      "I am unlearning all the wrong things you taught me\n",
      "Apply Unstructured re_init_model_snip_ver2_little_grad Globally (all conv layers)\n",
      "Computing retain accuracy on Unlearning Model\n",
      "loss=0.001462009314226717\n",
      "acc=1.0\n",
      "Retain accuracy on Unlearning Model is  1.0\n",
      "Computing test accuracy on Unlearning model\n",
      "loss=0.5732584601268172\n",
      "acc=0.8562\n",
      "Test accuracy on Unlearning model is  0.8562\n",
      "Computing forget accuracy on Unlearning model\n"
     ]
    },
    {
     "name": "stderr",
     "output_type": "stream",
     "text": [
      " 80%|████████  | 8/10 [20:49<05:12, 156.21s/it]"
     ]
    },
    {
     "name": "stdout",
     "output_type": "stream",
     "text": [
      "loss=0.32089688815176487\n",
      "acc=0.9096\n",
      "Forget accuracy on Unlearning model is  0.9096\n",
      "I am unlearning all the wrong things you taught me\n",
      "Apply Unstructured re_init_model_snip_ver2_little_grad Globally (all conv layers)\n",
      "Computing retain accuracy on Unlearning Model\n",
      "loss=0.0014756670286508531\n",
      "acc=1.0\n",
      "Retain accuracy on Unlearning Model is  1.0\n",
      "Computing test accuracy on Unlearning model\n",
      "loss=0.5745837923139334\n",
      "acc=0.8538\n",
      "Test accuracy on Unlearning model is  0.8538\n",
      "Computing forget accuracy on Unlearning model\n"
     ]
    },
    {
     "name": "stderr",
     "output_type": "stream",
     "text": [
      " 90%|█████████ | 9/10 [23:25<02:36, 156.22s/it]"
     ]
    },
    {
     "name": "stdout",
     "output_type": "stream",
     "text": [
      "loss=0.2925214936025441\n",
      "acc=0.9098\n",
      "Forget accuracy on Unlearning model is  0.9098\n",
      "I am unlearning all the wrong things you taught me\n",
      "Apply Unstructured re_init_model_snip_ver2_little_grad Globally (all conv layers)\n",
      "Computing retain accuracy on Unlearning Model\n",
      "loss=0.0014268435727651442\n",
      "acc=1.0\n",
      "Retain accuracy on Unlearning Model is  1.0\n",
      "Computing test accuracy on Unlearning model\n",
      "loss=0.5803392887115478\n",
      "acc=0.8594\n",
      "Test accuracy on Unlearning model is  0.8594\n",
      "Computing forget accuracy on Unlearning model\n"
     ]
    },
    {
     "name": "stderr",
     "output_type": "stream",
     "text": [
      "100%|██████████| 10/10 [26:02<00:00, 156.27s/it]"
     ]
    },
    {
     "name": "stdout",
     "output_type": "stream",
     "text": [
      "loss=0.32526463028043506\n",
      "acc=0.9074\n",
      "Forget accuracy on Unlearning model is  0.9074\n",
      "Printing outputs_U shape  (10, 5000)\n"
     ]
    },
    {
     "name": "stderr",
     "output_type": "stream",
     "text": [
      "\n"
     ]
    },
    {
     "name": "stdout",
     "output_type": "stream",
     "text": [
      "loss=0.0181210064878211\n",
      "acc=0.9952666666666666\n",
      "loss=0.47614343613386156\n",
      "acc=0.8798\n",
      "loss=0.45444367872551084\n",
      "acc=0.882\n",
      "Printing outputs_R shape  (10, 5000)\n"
     ]
    }
   ],
   "source": [
    "## ## This snippet is taken is provided by the orgamnizers of kaggle competition as a startup script.\n",
    "\n",
    "attacks = [logistic_regression_attack]\n",
    "criterion = nn.CrossEntropyLoss()\n",
    "outputs_U = []\n",
    "outputs_R = []\n",
    "retain_accuracy = []\n",
    "test_accuracy = []\n",
    "forget_accuracy = []\n",
    "\n",
    "import numpy as np\n",
    "if USE_MOCK:\n",
    "\n",
    "    # NOTE: Almost same as the original codes\n",
    "\n",
    "    # Download\n",
    "    if not os.path.exists(mock_model_path):\n",
    "        response = requests.get(\"https://storage.googleapis.com/unlearning-challenge/weights_resnet18_cifar10.pth\")\n",
    "        open(mock_model_path, \"wb\").write(response.content)\n",
    "\n",
    "    os.makedirs('/kaggle/tmp', exist_ok=True)\n",
    "    net = resnet18(weights=None, num_classes=10)\n",
    "    net.to(DEVICE)\n",
    "    net.load_state_dict(torch.load(mock_model_path))\n",
    "    u_model = deepcopy(net)\n",
    "    for i in trange(n_checkpoints):\n",
    "        net.load_state_dict(torch.load(mock_model_path))\n",
    "        print(\"I am unlearning all the wrong things you taught me\")\n",
    "        u_model = unlearning(net, retain_loader, forget_loader, val_loader)\n",
    "        state = u_model.state_dict()\n",
    "        \n",
    "        targets, outputs_Ui = compute_outputs(u_model, forget_loader)\n",
    "\n",
    "        outputs_U.append( cross_entropy_f(outputs_Ui, targets) )\n",
    "\n",
    "        print(\"Computing retain accuracy on Unlearning Model\")\n",
    "        acc, _ = evaluation(u_model, retain_loader, criterion)\n",
    "        print(\"Retain accuracy on Unlearning Model is \",acc)\n",
    "        retain_accuracy.append(acc)\n",
    "\n",
    "        print(\"Computing test accuracy on Unlearning model\")\n",
    "        acc,_ = evaluation(u_model, val_loader, criterion)\n",
    "        print(\"Test accuracy on Unlearning model is \", acc)\n",
    "        test_accuracy.append(acc)\n",
    "\n",
    "        print(\"Computing forget accuracy on Unlearning model\")\n",
    "        acc,_ = evaluation(u_model, forget_loader, criterion)\n",
    "        print(\"Forget accuracy on Unlearning model is \",acc)\n",
    "        forget_accuracy.append(acc)\n",
    "\n",
    "    outputs_U = np.array(outputs_U)\n",
    "    print(\"Printing outputs_U shape \",outputs_U.shape)\n",
    "\n",
    "    assert outputs_U.shape == (n_checkpoints, len(forget_loader.dataset)),\\\n",
    "        \"Wrong shape for outputs_U. Should be (num_model_samples, num_forget_datapoints).\"\n",
    "\n",
    "\n",
    "    RAR, _ = evaluation(rt_model, retain_loader, criterion)\n",
    "    TAR, _ = evaluation(rt_model, val_loader, criterion)\n",
    "    FAR, _ = evaluation(rt_model, forget_loader, criterion)\n",
    "    RAU = np.mean(retain_accuracy)\n",
    "    TAU = np.mean(test_accuracy)\n",
    "    FAU = np.mean(forget_accuracy)\n",
    "\n",
    "    RA_ratio = RAU / RAR\n",
    "    TA_ratio = TAU / TAR\n",
    "\n",
    "    for i in range(n_checkpoints):\n",
    "        targets, outputs_Ri = compute_outputs(rt_model, forget_loader) #(len(forget_loader.dataset), 10)\n",
    "\n",
    "        outputs_R.append(cross_entropy_f(outputs_Ri, targets) )\n",
    "\n",
    "    outputs_R = np.array(outputs_R)\n",
    "    print(\"Printing outputs_R shape \",outputs_R.shape)"
   ]
  },
  {
   "cell_type": "code",
   "execution_count": 22,
   "metadata": {
    "execution": {
     "iopub.execute_input": "2023-12-11T06:22:54.445146Z",
     "iopub.status.busy": "2023-12-11T06:22:54.444845Z",
     "iopub.status.idle": "2023-12-11T06:23:29.474962Z",
     "shell.execute_reply": "2023-12-11T06:23:29.474003Z",
     "shell.execute_reply.started": "2023-12-11T06:22:54.445115Z"
    }
   },
   "outputs": [
    {
     "name": "stderr",
     "output_type": "stream",
     "text": [
      "Computing F...: 100%|██████████| 5000/5000 [00:35<00:00, 142.78it/s]\n"
     ]
    }
   ],
   "source": [
    "from tqdm import tqdm\n",
    "\n",
    "attacks = [logistic_regression_attack]\n",
    "\n",
    "f = forgetting_quality(\n",
    "outputs_U,\n",
    "outputs_R,\n",
    "attacks=attacks,\n",
    "delta=0.01)\n",
    "\n",
    "ret = {\n",
    "    \"total_score\": f * RA_ratio * TA_ratio,\n",
    "    \"F\": f,\n",
    "    \"unlearn_retain_accuracy\": RAU,\n",
    "    \"unlearn_test_accuracy\": TAU,\n",
    "    \"unlearn_forget_accuracy\": FAU,\n",
    "    \"retrain_retain_accuracy\": RAR,\n",
    "    \"retrain_test_accuracy\": TAR,\n",
    "    \"retrain_forget_accuracy\": FAR,\n",
    "    \"retrain_outputs\": outputs_R,\n",
    "    \"unlearn_outputs\": outputs_U,\n",
    "    \"unlearning_model\": u_model\n",
    "}\n"
   ]
  },
  {
   "cell_type": "code",
   "execution_count": 23,
   "metadata": {
    "execution": {
     "iopub.execute_input": "2023-12-11T06:23:29.476448Z",
     "iopub.status.busy": "2023-12-11T06:23:29.476170Z",
     "iopub.status.idle": "2023-12-11T06:23:29.486036Z",
     "shell.execute_reply": "2023-12-11T06:23:29.484942Z",
     "shell.execute_reply.started": "2023-12-11T06:23:29.476422Z"
    }
   },
   "outputs": [
    {
     "data": {
      "text/plain": [
       "{'total_score': 0.7046001934137662,\n",
       " 'F': 0.719468505859375,\n",
       " 'unlearn_retain_accuracy': 1.0,\n",
       " 'unlearn_test_accuracy': 0.85754,\n",
       " 'unlearn_forget_accuracy': 0.9098400000000002,\n",
       " 'retrain_retain_accuracy': 0.9952666666666666,\n",
       " 'retrain_test_accuracy': 0.8798,\n",
       " 'retrain_forget_accuracy': 0.882,\n",
       " 'retrain_outputs': array([[1.1427273e+00, 6.8272422e-03, 5.4480130e-05, ..., 1.4155467e-01,\n",
       "         4.6083114e-01, 2.1786564e-03],\n",
       "        [1.1427273e+00, 6.8272422e-03, 5.4480130e-05, ..., 1.4155467e-01,\n",
       "         4.6083114e-01, 2.1786564e-03],\n",
       "        [1.1427273e+00, 6.8272422e-03, 5.4480130e-05, ..., 1.4155467e-01,\n",
       "         4.6083114e-01, 2.1786564e-03],\n",
       "        ...,\n",
       "        [1.1427273e+00, 6.8272422e-03, 5.4480130e-05, ..., 1.4155467e-01,\n",
       "         4.6083114e-01, 2.1786564e-03],\n",
       "        [1.1427273e+00, 6.8272422e-03, 5.4480130e-05, ..., 1.4155467e-01,\n",
       "         4.6083114e-01, 2.1786564e-03],\n",
       "        [1.1427273e+00, 6.8272422e-03, 5.4480130e-05, ..., 1.4155467e-01,\n",
       "         4.6083114e-01, 2.1786564e-03]], dtype=float32),\n",
       " 'unlearn_outputs': array([[2.93460041e-01, 8.04688374e-04, 4.68363753e-04, ...,\n",
       "         6.56773567e+00, 2.46865046e-03, 3.47460248e-03],\n",
       "        [2.91499011e-02, 5.15236054e-04, 4.79813287e-04, ...,\n",
       "         1.25807774e+00, 2.29444602e-04, 3.87063716e-03],\n",
       "        [6.69464993e-04, 1.17555785e-03, 5.44801296e-05, ...,\n",
       "         4.75783539e+00, 7.92280713e-04, 1.63063668e-02],\n",
       "        ...,\n",
       "        [4.38727736e-02, 1.23863034e-02, 1.40199947e-04, ...,\n",
       "         1.91671669e+00, 3.27239814e-03, 1.24381594e-01],\n",
       "        [5.01729287e-02, 2.80359935e-04, 2.82625551e-04, ...,\n",
       "         4.62274849e-01, 1.77296123e-03, 5.88382222e-02],\n",
       "        [1.65909734e-02, 7.43605953e-04, 1.21720092e-04, ...,\n",
       "         2.96105289e+00, 3.45181441e-03, 5.54137528e-02]], dtype=float32),\n",
       " 'unlearning_model': ResNet(\n",
       "   (conv1): Conv2d(3, 64, kernel_size=(7, 7), stride=(2, 2), padding=(3, 3), bias=False)\n",
       "   (bn1): BatchNorm2d(64, eps=1e-05, momentum=0.1, affine=True, track_running_stats=True)\n",
       "   (relu): ReLU(inplace=True)\n",
       "   (maxpool): MaxPool2d(kernel_size=3, stride=2, padding=1, dilation=1, ceil_mode=False)\n",
       "   (layer1): Sequential(\n",
       "     (0): BasicBlock(\n",
       "       (conv1): Conv2d(64, 64, kernel_size=(3, 3), stride=(1, 1), padding=(1, 1), bias=False)\n",
       "       (bn1): BatchNorm2d(64, eps=1e-05, momentum=0.1, affine=True, track_running_stats=True)\n",
       "       (relu): ReLU(inplace=True)\n",
       "       (conv2): Conv2d(64, 64, kernel_size=(3, 3), stride=(1, 1), padding=(1, 1), bias=False)\n",
       "       (bn2): BatchNorm2d(64, eps=1e-05, momentum=0.1, affine=True, track_running_stats=True)\n",
       "     )\n",
       "     (1): BasicBlock(\n",
       "       (conv1): Conv2d(64, 64, kernel_size=(3, 3), stride=(1, 1), padding=(1, 1), bias=False)\n",
       "       (bn1): BatchNorm2d(64, eps=1e-05, momentum=0.1, affine=True, track_running_stats=True)\n",
       "       (relu): ReLU(inplace=True)\n",
       "       (conv2): Conv2d(64, 64, kernel_size=(3, 3), stride=(1, 1), padding=(1, 1), bias=False)\n",
       "       (bn2): BatchNorm2d(64, eps=1e-05, momentum=0.1, affine=True, track_running_stats=True)\n",
       "     )\n",
       "   )\n",
       "   (layer2): Sequential(\n",
       "     (0): BasicBlock(\n",
       "       (conv1): Conv2d(64, 128, kernel_size=(3, 3), stride=(2, 2), padding=(1, 1), bias=False)\n",
       "       (bn1): BatchNorm2d(128, eps=1e-05, momentum=0.1, affine=True, track_running_stats=True)\n",
       "       (relu): ReLU(inplace=True)\n",
       "       (conv2): Conv2d(128, 128, kernel_size=(3, 3), stride=(1, 1), padding=(1, 1), bias=False)\n",
       "       (bn2): BatchNorm2d(128, eps=1e-05, momentum=0.1, affine=True, track_running_stats=True)\n",
       "       (downsample): Sequential(\n",
       "         (0): Conv2d(64, 128, kernel_size=(1, 1), stride=(2, 2), bias=False)\n",
       "         (1): BatchNorm2d(128, eps=1e-05, momentum=0.1, affine=True, track_running_stats=True)\n",
       "       )\n",
       "     )\n",
       "     (1): BasicBlock(\n",
       "       (conv1): Conv2d(128, 128, kernel_size=(3, 3), stride=(1, 1), padding=(1, 1), bias=False)\n",
       "       (bn1): BatchNorm2d(128, eps=1e-05, momentum=0.1, affine=True, track_running_stats=True)\n",
       "       (relu): ReLU(inplace=True)\n",
       "       (conv2): Conv2d(128, 128, kernel_size=(3, 3), stride=(1, 1), padding=(1, 1), bias=False)\n",
       "       (bn2): BatchNorm2d(128, eps=1e-05, momentum=0.1, affine=True, track_running_stats=True)\n",
       "     )\n",
       "   )\n",
       "   (layer3): Sequential(\n",
       "     (0): BasicBlock(\n",
       "       (conv1): Conv2d(128, 256, kernel_size=(3, 3), stride=(2, 2), padding=(1, 1), bias=False)\n",
       "       (bn1): BatchNorm2d(256, eps=1e-05, momentum=0.1, affine=True, track_running_stats=True)\n",
       "       (relu): ReLU(inplace=True)\n",
       "       (conv2): Conv2d(256, 256, kernel_size=(3, 3), stride=(1, 1), padding=(1, 1), bias=False)\n",
       "       (bn2): BatchNorm2d(256, eps=1e-05, momentum=0.1, affine=True, track_running_stats=True)\n",
       "       (downsample): Sequential(\n",
       "         (0): Conv2d(128, 256, kernel_size=(1, 1), stride=(2, 2), bias=False)\n",
       "         (1): BatchNorm2d(256, eps=1e-05, momentum=0.1, affine=True, track_running_stats=True)\n",
       "       )\n",
       "     )\n",
       "     (1): BasicBlock(\n",
       "       (conv1): Conv2d(256, 256, kernel_size=(3, 3), stride=(1, 1), padding=(1, 1), bias=False)\n",
       "       (bn1): BatchNorm2d(256, eps=1e-05, momentum=0.1, affine=True, track_running_stats=True)\n",
       "       (relu): ReLU(inplace=True)\n",
       "       (conv2): Conv2d(256, 256, kernel_size=(3, 3), stride=(1, 1), padding=(1, 1), bias=False)\n",
       "       (bn2): BatchNorm2d(256, eps=1e-05, momentum=0.1, affine=True, track_running_stats=True)\n",
       "     )\n",
       "   )\n",
       "   (layer4): Sequential(\n",
       "     (0): BasicBlock(\n",
       "       (conv1): Conv2d(256, 512, kernel_size=(3, 3), stride=(2, 2), padding=(1, 1), bias=False)\n",
       "       (bn1): BatchNorm2d(512, eps=1e-05, momentum=0.1, affine=True, track_running_stats=True)\n",
       "       (relu): ReLU(inplace=True)\n",
       "       (conv2): Conv2d(512, 512, kernel_size=(3, 3), stride=(1, 1), padding=(1, 1), bias=False)\n",
       "       (bn2): BatchNorm2d(512, eps=1e-05, momentum=0.1, affine=True, track_running_stats=True)\n",
       "       (downsample): Sequential(\n",
       "         (0): Conv2d(256, 512, kernel_size=(1, 1), stride=(2, 2), bias=False)\n",
       "         (1): BatchNorm2d(512, eps=1e-05, momentum=0.1, affine=True, track_running_stats=True)\n",
       "       )\n",
       "     )\n",
       "     (1): BasicBlock(\n",
       "       (conv1): Conv2d(512, 512, kernel_size=(3, 3), stride=(1, 1), padding=(1, 1), bias=False)\n",
       "       (bn1): BatchNorm2d(512, eps=1e-05, momentum=0.1, affine=True, track_running_stats=True)\n",
       "       (relu): ReLU(inplace=True)\n",
       "       (conv2): Conv2d(512, 512, kernel_size=(3, 3), stride=(1, 1), padding=(1, 1), bias=False)\n",
       "       (bn2): BatchNorm2d(512, eps=1e-05, momentum=0.1, affine=True, track_running_stats=True)\n",
       "     )\n",
       "   )\n",
       "   (avgpool): AdaptiveAvgPool2d(output_size=(1, 1))\n",
       "   (fc): Linear(in_features=512, out_features=10, bias=True)\n",
       " )}"
      ]
     },
     "execution_count": 23,
     "metadata": {},
     "output_type": "execute_result"
    }
   ],
   "source": [
    "ret"
   ]
  },
  {
   "cell_type": "code",
   "execution_count": 24,
   "metadata": {
    "execution": {
     "iopub.execute_input": "2023-12-11T06:23:29.488479Z",
     "iopub.status.busy": "2023-12-11T06:23:29.488102Z",
     "iopub.status.idle": "2023-12-11T06:23:39.000698Z",
     "shell.execute_reply": "2023-12-11T06:23:38.999559Z",
     "shell.execute_reply.started": "2023-12-11T06:23:29.488450Z"
    }
   },
   "outputs": [],
   "source": [
    "ut_model = ret[\"unlearning_model\"]\n",
    "def compute_losses(net, loader):\n",
    "    \"\"\"Auxiliary function to compute per-sample losses\"\"\"\n",
    "\n",
    "    criterion = nn.CrossEntropyLoss(reduction=\"none\")\n",
    "    all_losses = []\n",
    "\n",
    "    for inputs, targets in loader:\n",
    "        inputs, targets = inputs.to(DEVICE), targets.to(DEVICE)\n",
    "\n",
    "        logits = net(inputs)\n",
    "        losses = criterion(logits, targets).numpy(force=True)\n",
    "        for l in losses:\n",
    "            all_losses.append(l)\n",
    "\n",
    "    return np.array(all_losses)\n",
    "\n",
    "\n",
    "ut_train_losses = compute_losses(ut_model, train_loader)\n",
    "ut_test_losses = compute_losses(ut_model, test_loader)\n",
    "ut_forget_losses = compute_losses(ut_model, forget_loader)\n"
   ]
  },
  {
   "cell_type": "code",
   "execution_count": 25,
   "metadata": {
    "execution": {
     "iopub.execute_input": "2023-12-11T06:23:39.003178Z",
     "iopub.status.busy": "2023-12-11T06:23:39.002291Z",
     "iopub.status.idle": "2023-12-11T06:23:48.544345Z",
     "shell.execute_reply": "2023-12-11T06:23:48.543156Z",
     "shell.execute_reply.started": "2023-12-11T06:23:39.003115Z"
    }
   },
   "outputs": [],
   "source": [
    "rt_train_losses = compute_losses(rt_model, train_loader)\n",
    "rt_test_losses = compute_losses(rt_model, test_loader)\n",
    "rt_forget_losses = compute_losses(rt_model, forget_loader)\n"
   ]
  },
  {
   "cell_type": "code",
   "execution_count": 26,
   "metadata": {
    "execution": {
     "iopub.execute_input": "2023-12-11T06:23:48.546196Z",
     "iopub.status.busy": "2023-12-11T06:23:48.545877Z",
     "iopub.status.idle": "2023-12-11T06:23:50.069750Z",
     "shell.execute_reply": "2023-12-11T06:23:50.068874Z",
     "shell.execute_reply.started": "2023-12-11T06:23:48.546162Z"
    }
   },
   "outputs": [
    {
     "data": {
      "image/png": "[encoded data removed]",
      "text/plain": [
       "<Figure size 1600x600 with 2 Axes>"
      ]
     },
     "metadata": {},
     "output_type": "display_data"
    }
   ],
   "source": [
    "fig, (ax1, ax2) = plt.subplots(1, 2, figsize=(16, 6))\n",
    "\n",
    "ax1.set_title(f\"Unlearned model test and forget graphs\")\n",
    "ax1.hist(ut_test_losses, density=True, alpha=0.5, bins=50, label=\"Test set\")\n",
    "ax1.hist(ut_forget_losses, density=True, alpha=0.5, bins=50, label=\"Forget set\")\n",
    "\n",
    "ax2.set_title(\n",
    "    f\"Retrain test and forget graphs\"\n",
    ")\n",
    "ax2.hist(rt_test_losses, density=True, alpha=0.5, bins=50, label=\"Test set\")\n",
    "ax2.hist(rt_forget_losses, density=True, alpha=0.5, bins=50, label=\"Forget set\")\n",
    "\n",
    "ax1.set_xlabel(\"Loss\")\n",
    "ax2.set_xlabel(\"Loss\")\n",
    "ax1.set_ylabel(\"Frequency\")\n",
    "ax1.set_yscale(\"log\")\n",
    "ax2.set_yscale(\"log\")\n",
    "ax1.set_xlim((0, np.max(ut_test_losses)))\n",
    "ax2.set_xlim((0, np.max(ut_forget_losses)))\n",
    "for ax in (ax1, ax2):\n",
    "    ax.spines[\"top\"].set_visible(False)\n",
    "    ax.spines[\"right\"].set_visible(False)\n",
    "ax1.legend(frameon=False, fontsize=14)\n",
    "plt.show()"
   ]
  },
  {
   "cell_type": "code",
   "execution_count": 27,
   "metadata": {
    "execution": {
     "iopub.execute_input": "2023-12-11T06:30:11.498182Z",
     "iopub.status.busy": "2023-12-11T06:30:11.497774Z",
     "iopub.status.idle": "2023-12-11T06:30:13.097460Z",
     "shell.execute_reply": "2023-12-11T06:30:13.096563Z",
     "shell.execute_reply.started": "2023-12-11T06:30:11.498152Z"
    }
   },
   "outputs": [
    {
     "data": {
      "image/png": "[encoded data removed]",
      "text/plain": [
       "<Figure size 1600x600 with 2 Axes>"
      ]
     },
     "metadata": {},
     "output_type": "display_data"
    }
   ],
   "source": [
    "fig, (ax1, ax2) = plt.subplots(1, 2, figsize=(16, 6))\n",
    "\n",
    "ax1.set_title(f\"Unlearned model and retrained model forget graphs\")\n",
    "ax1.hist(ut_forget_losses, density=True, alpha=0.5, bins=50, label=\"unlearned forget set graph\")\n",
    "ax1.hist(rt_forget_losses, density=True, alpha=0.5, bins=50, label=\"retrained forget set graph\")\n",
    "\n",
    "ax2.set_title(\n",
    "    f\"Test graphs for the unlearned and retrained model\"\n",
    ")\n",
    "ax2.hist(ut_test_losses, density=True, alpha=0.5, bins=50, label=\"Test set\")\n",
    "ax2.hist(rt_test_losses, density=True, alpha=0.5, bins=50, label=\"Forget set\")\n",
    "\n",
    "ax1.set_xlabel(\"Loss\")\n",
    "ax2.set_xlabel(\"Loss\")\n",
    "ax1.set_ylabel(\"Frequency\")\n",
    "ax1.set_yscale(\"log\")\n",
    "ax2.set_yscale(\"log\")\n",
    "ax1.set_xlim((0, np.max(ut_test_losses)))\n",
    "ax2.set_xlim((0, np.max(ut_forget_losses)))\n",
    "for ax in (ax1, ax2):\n",
    "    ax.spines[\"top\"].set_visible(False)\n",
    "    ax.spines[\"right\"].set_visible(False)\n",
    "ax1.legend(frameon=False, fontsize=14)\n",
    "plt.show()\n"
   ]
  },
  {
   "cell_type": "code",
   "execution_count": null,
   "metadata": {},
   "outputs": [],
   "source": []
  },
  {
   "cell_type": "code",
   "execution_count": null,
   "metadata": {},
   "outputs": [],
   "source": []
  },
  {
   "cell_type": "code",
   "execution_count": null,
   "metadata": {},
   "outputs": [],
   "source": []
  },
  {
   "cell_type": "code",
   "execution_count": null,
   "metadata": {},
   "outputs": [],
   "source": []
  }
 ],
 "metadata": {
  "kaggle": {
   "accelerator": "nvidiaTeslaT4",
   "dataSources": [
    {
     "datasetId": 457093,
     "sourceId": 861496,
     "sourceType": "datasetVersion"
    }
   ],
   "dockerImageVersionId": 30616,
   "isGpuEnabled": true,
   "isInternetEnabled": true,
   "language": "python",
   "sourceType": "notebook"
  },
  "kernelspec": {
   "display_name": "Python 3 (ipykernel)",
   "language": "python",
   "name": "python3"
  },
  "language_info": {
   "codemirror_mode": {
    "name": "ipython",
    "version": 3
   },
   "file_extension": ".py",
   "mimetype": "text/x-python",
   "name": "python",
   "nbconvert_exporter": "python",
   "pygments_lexer": "ipython3",
   "version": "3.11.6"
  }
 },
 "nbformat": 4,
 "nbformat_minor": 4
}
