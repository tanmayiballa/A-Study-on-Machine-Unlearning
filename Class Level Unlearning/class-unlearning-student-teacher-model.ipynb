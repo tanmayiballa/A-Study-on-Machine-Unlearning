{
 "cells": [
  {
   "cell_type": "code",
   "execution_count": 3,
   "metadata": {
    "execution": {
     "iopub.execute_input": "2023-12-10T03:24:43.649805Z",
     "iopub.status.busy": "2023-12-10T03:24:43.649298Z",
     "iopub.status.idle": "2023-12-10T03:24:43.653986Z",
     "shell.execute_reply": "2023-12-10T03:24:43.653008Z",
     "shell.execute_reply.started": "2023-12-10T03:24:43.649780Z"
    }
   },
   "outputs": [],
   "source": [
    "#!pip install tensorflow"
   ]
  },
  {
   "cell_type": "code",
   "execution_count": 1,
   "metadata": {
    "execution": {
     "iopub.execute_input": "2023-12-10T07:05:16.550308Z",
     "iopub.status.busy": "2023-12-10T07:05:16.549435Z",
     "iopub.status.idle": "2023-12-10T07:05:33.983678Z",
     "shell.execute_reply": "2023-12-10T07:05:33.982739Z",
     "shell.execute_reply.started": "2023-12-10T07:05:16.550270Z"
    }
   },
   "outputs": [
    {
     "name": "stderr",
     "output_type": "stream",
     "text": [
      "/opt/conda/lib/python3.10/site-packages/scipy/__init__.py:146: UserWarning: A NumPy version >=1.16.5 and <1.23.0 is required for this version of SciPy (detected version 1.24.3\n",
      "  warnings.warn(f\"A NumPy version >={np_minversion} and <{np_maxversion}\"\n"
     ]
    }
   ],
   "source": [
    "import tensorflow as tf\n",
    "from tensorflow import keras\n",
    "from tensorflow.keras.utils import to_categorical as y_cat\n",
    "import matplotlib.pyplot as plt\n",
    "import pandas as pd\n",
    "import numpy as np\n",
    "from tqdm import tqdm\n",
    "import random\n",
    "import pickle"
   ]
  },
  {
   "cell_type": "code",
   "execution_count": 9,
   "metadata": {
    "_cell_guid": "b1076dfc-b9ad-4769-8c92-a6c4dae69d19",
    "_uuid": "8f2839f25d086af736a60e9eeb907d3b93b6e0e5",
    "execution": {
     "iopub.execute_input": "2023-12-10T07:08:05.652865Z",
     "iopub.status.busy": "2023-12-10T07:08:05.651934Z",
     "iopub.status.idle": "2023-12-10T07:08:11.369078Z",
     "shell.execute_reply": "2023-12-10T07:08:11.367971Z",
     "shell.execute_reply.started": "2023-12-10T07:08:05.652826Z"
    }
   },
   "outputs": [
    {
     "name": "stdout",
     "output_type": "stream",
     "text": [
      "Downloading data from https://www.cs.toronto.edu/~kriz/cifar-10-python.tar.gz\n",
      "170498071/170498071 [==============================] - 3s 0us/step\n"
     ]
    }
   ],
   "source": [
    "##  Load the datasets (CIFAR10):\n",
    "\n",
    "cifar = tf.keras.datasets.cifar10 \n",
    "\n",
    "(x_tr, y_tr_cat) , (x_te,y_te_cat) = cifar.load_data() \n",
    "\n",
    "x_tr = x_tr / 255.0\n",
    "x_te = x_te / 255.0\n",
    "\n",
    "y_tr = y_cat(y_tr_cat)\n",
    "y_te = y_cat(y_te_cat)"
   ]
  },
  {
   "cell_type": "code",
   "execution_count": 2,
   "metadata": {
    "execution": {
     "iopub.execute_input": "2023-12-10T07:06:31.547148Z",
     "iopub.status.busy": "2023-12-10T07:06:31.546498Z",
     "iopub.status.idle": "2023-12-10T07:06:31.557752Z",
     "shell.execute_reply": "2023-12-10T07:06:31.556815Z",
     "shell.execute_reply.started": "2023-12-10T07:06:31.547109Z"
    }
   },
   "outputs": [],
   "source": [
    "inp_shape = (32,32,3)\n",
    "initializer = tf.keras.initializers.HeNormal(seed = 10)\n",
    "\n",
    "def model_original(inp_shape):\n",
    "    model = tf.keras.models.Sequential()\n",
    "    model.add(tf.keras.layers.Conv2D(64, (3,3), activation = 'relu', kernel_initializer= initializer, padding = 'same', input_shape = inp_shape))\n",
    "    model.add(tf.keras.layers.Conv2D(64, (3,3), activation = 'relu', kernel_initializer= initializer, padding = 'same'))\n",
    "    model.add(tf.keras.layers.MaxPooling2D((2,2)))\n",
    "    model.add(tf.keras.layers.Dropout(0.4))\n",
    "    model.add(tf.keras.layers.Conv2D(128, (3,3), activation = 'relu', kernel_initializer= initializer, padding = 'same'))\n",
    "    model.add(tf.keras.layers.Conv2D(128, (3,3), activation = 'relu', kernel_initializer= initializer, padding = 'same'))\n",
    "    model.add(tf.keras.layers.MaxPooling2D((2,2)))\n",
    "    model.add(tf.keras.layers.Dropout(0.4))\n",
    "    model.add(tf.keras.layers.Flatten())\n",
    "    model.add(tf.keras.layers.Dense(1024, kernel_initializer = initializer, activation = 'relu'))\n",
    "    model.add(tf.keras.layers.Dense(1024, kernel_initializer = initializer, activation = 'relu'))\n",
    "    model.add(tf.keras.layers.Dense(10, kernel_initializer = initializer, activation = 'softmax'))\n",
    "    return model"
   ]
  },
  {
   "cell_type": "code",
   "execution_count": 16,
   "metadata": {
    "execution": {
     "iopub.execute_input": "2023-12-10T07:12:31.861467Z",
     "iopub.status.busy": "2023-12-10T07:12:31.861004Z",
     "iopub.status.idle": "2023-12-10T07:12:32.811646Z",
     "shell.execute_reply": "2023-12-10T07:12:32.810727Z",
     "shell.execute_reply.started": "2023-12-10T07:12:31.861429Z"
    }
   },
   "outputs": [],
   "source": [
    "## Forget Phase:\n",
    "\n",
    "orig_model = tf.keras.models.load_model('/kaggle/input/cifar10/Original_CIFAR10.h5')\n",
    "\n",
    "cifar_10_orig = orig_model"
   ]
  },
  {
   "cell_type": "code",
   "execution_count": 10,
   "metadata": {
    "execution": {
     "iopub.execute_input": "2023-12-10T07:08:11.371242Z",
     "iopub.status.busy": "2023-12-10T07:08:11.370903Z",
     "iopub.status.idle": "2023-12-10T07:08:32.622015Z",
     "shell.execute_reply": "2023-12-10T07:08:32.621038Z",
     "shell.execute_reply.started": "2023-12-10T07:08:11.371213Z"
    }
   },
   "outputs": [
    {
     "name": "stdout",
     "output_type": "stream",
     "text": [
      "313/313 [==============================] - 11s 4ms/step - loss: 1.3573 - accuracy: 0.7723\n"
     ]
    },
    {
     "data": {
      "text/plain": [
       "[1.357301115989685, 0.7723000049591064]"
      ]
     },
     "execution_count": 10,
     "metadata": {},
     "output_type": "execute_result"
    }
   ],
   "source": [
    "cifar_10_orig.evaluate(x_te, y_te)"
   ]
  },
  {
   "cell_type": "code",
   "execution_count": 17,
   "metadata": {
    "execution": {
     "iopub.execute_input": "2023-12-10T07:12:34.751446Z",
     "iopub.status.busy": "2023-12-10T07:12:34.750797Z",
     "iopub.status.idle": "2023-12-10T07:12:34.830546Z",
     "shell.execute_reply": "2023-12-10T07:12:34.829662Z",
     "shell.execute_reply.started": "2023-12-10T07:12:34.751415Z"
    }
   },
   "outputs": [],
   "source": [
    "def model_st(inp_shape):\n",
    "    model = tf.keras.models.Sequential()\n",
    "    model.add(tf.keras.layers.Conv2D(64, (3,3), activation = 'relu', kernel_initializer= initializer, padding = 'same', input_shape = inp_shape))\n",
    "    model.add(tf.keras.layers.Conv2D(64, (3,3), activation = 'relu', kernel_initializer= initializer, padding = 'same'))\n",
    "    model.add(tf.keras.layers.MaxPooling2D((2,2)))\n",
    "    model.add(tf.keras.layers.Dropout(0.4))\n",
    "    model.add(tf.keras.layers.Flatten())\n",
    "    model.add(tf.keras.layers.Dense(1024, kernel_initializer = initializer, activation = 'relu'))\n",
    "    model.add(tf.keras.layers.Dense(1024, kernel_initializer = initializer, activation = 'relu'))\n",
    "    model.add(tf.keras.layers.Dense(10, kernel_initializer = initializer, activation = 'softmax'))\n",
    "    return model\n",
    "\n",
    "stochastic_teacher_model = model_st((32,32,3))\n",
    "stochastic_teacher_model.compile(optimizer = 'adam',loss = 'categorical_crossentropy', metrics = ['accuracy'])"
   ]
  },
  {
   "cell_type": "code",
   "execution_count": 18,
   "metadata": {
    "execution": {
     "iopub.execute_input": "2023-12-10T07:12:37.322192Z",
     "iopub.status.busy": "2023-12-10T07:12:37.321338Z",
     "iopub.status.idle": "2023-12-10T07:12:37.327349Z",
     "shell.execute_reply": "2023-12-10T07:12:37.326185Z",
     "shell.execute_reply.started": "2023-12-10T07:12:37.322159Z"
    }
   },
   "outputs": [],
   "source": [
    "def unlearn_loss(y_act, y_pred):\n",
    "  return tf.keras.losses.kullback_leibler_divergence(y_act, y_pred)\n",
    "eval_orig = []\n",
    "eval_unlearn = []\n",
    "eval_sto = []\n",
    "eval_ftn = []\n",
    "b_size = 64"
   ]
  },
  {
   "cell_type": "code",
   "execution_count": 19,
   "metadata": {
    "execution": {
     "iopub.execute_input": "2023-12-10T07:12:39.586434Z",
     "iopub.status.busy": "2023-12-10T07:12:39.585729Z",
     "iopub.status.idle": "2023-12-10T07:38:49.639378Z",
     "shell.execute_reply": "2023-12-10T07:38:49.638343Z",
     "shell.execute_reply.started": "2023-12-10T07:12:39.586399Z"
    }
   },
   "outputs": [
    {
     "name": "stderr",
     "output_type": "stream",
     "text": [
      "2023-12-10 07:12:48.866267: E tensorflow/core/grappler/optimizers/meta_optimizer.cc:954] layout failed: INVALID_ARGUMENT: Size of values 0 does not match size of permutation 4 @ fanin shape insequential/dropout/dropout/SelectV2-2-TransposeNHWCToNCHW-LayoutOptimizer\n"
     ]
    },
    {
     "name": "stdout",
     "output_type": "stream",
     "text": [
      "1407/1407 [==============================] - 3s 2ms/step\n"
     ]
    },
    {
     "name": "stderr",
     "output_type": "stream",
     "text": [
      "2023-12-10 07:15:02.392890: E tensorflow/core/grappler/optimizers/meta_optimizer.cc:954] layout failed: INVALID_ARGUMENT: Size of values 0 does not match size of permutation 4 @ fanin shape insequential/dropout/dropout/SelectV2-2-TransposeNHWCToNCHW-LayoutOptimizer\n"
     ]
    },
    {
     "name": "stdout",
     "output_type": "stream",
     "text": [
      "Forget Class:  0 Orig_eval:  ([1.3008519411087036, 0.7723000049591064], [1.2714710235595703, 0.776888906955719], [1.5652744770050049, 0.7310000061988831]) Unlearn Eval:  [([1.4894161224365234, 0.7023000121116638], [0.9684965014457703, 0.7721111178398132], [6.177692413330078, 0.07400000095367432])] FineTune_eval: ([1.806422472000122, 0.7458000183105469], [1.4598275423049927, 0.7825555801391602], [4.925783634185791, 0.41499999165534973])\n"
     ]
    },
    {
     "name": "stderr",
     "output_type": "stream",
     "text": [
      "2023-12-10 07:15:25.622430: E tensorflow/core/grappler/optimizers/meta_optimizer.cc:954] layout failed: INVALID_ARGUMENT: Size of values 0 does not match size of permutation 4 @ fanin shape insequential/dropout/dropout/SelectV2-2-TransposeNHWCToNCHW-LayoutOptimizer\n"
     ]
    },
    {
     "name": "stdout",
     "output_type": "stream",
     "text": [
      "1407/1407 [==============================] - 3s 2ms/step\n"
     ]
    },
    {
     "name": "stderr",
     "output_type": "stream",
     "text": [
      "2023-12-10 07:17:39.433337: E tensorflow/core/grappler/optimizers/meta_optimizer.cc:954] layout failed: INVALID_ARGUMENT: Size of values 0 does not match size of permutation 4 @ fanin shape insequential/dropout/dropout/SelectV2-2-TransposeNHWCToNCHW-LayoutOptimizer\n"
     ]
    },
    {
     "name": "stdout",
     "output_type": "stream",
     "text": [
      "Forget Class:  1 Orig_eval:  ([1.3008519411087036, 0.7723000049591064], [1.3682122230529785, 0.7604444622993469], [0.6946073174476624, 0.8790000081062317]) Unlearn Eval:  [([1.4894161224365234, 0.7023000121116638], [0.9684965014457703, 0.7721111178398132], [6.177692413330078, 0.07400000095367432]), ([1.4194254875183105, 0.7056000232696533], [1.0324265956878662, 0.7557777762413025], [4.902415752410889, 0.2540000081062317])] FineTune_eval: ([1.7901947498321533, 0.7398999929428101], [1.4600151777267456, 0.7678889036178589], [4.761806964874268, 0.4880000054836273])\n"
     ]
    },
    {
     "name": "stderr",
     "output_type": "stream",
     "text": [
      "2023-12-10 07:18:02.856237: E tensorflow/core/grappler/optimizers/meta_optimizer.cc:954] layout failed: INVALID_ARGUMENT: Size of values 0 does not match size of permutation 4 @ fanin shape insequential/dropout/dropout/SelectV2-2-TransposeNHWCToNCHW-LayoutOptimizer\n"
     ]
    },
    {
     "name": "stdout",
     "output_type": "stream",
     "text": [
      "1407/1407 [==============================] - 3s 2ms/step\n"
     ]
    },
    {
     "name": "stderr",
     "output_type": "stream",
     "text": [
      "2023-12-10 07:20:16.641572: E tensorflow/core/grappler/optimizers/meta_optimizer.cc:954] layout failed: INVALID_ARGUMENT: Size of values 0 does not match size of permutation 4 @ fanin shape insequential/dropout/dropout/SelectV2-2-TransposeNHWCToNCHW-LayoutOptimizer\n"
     ]
    },
    {
     "name": "stdout",
     "output_type": "stream",
     "text": [
      "Forget Class:  2 Orig_eval:  ([1.3008519411087036, 0.7723000049591064], [1.2403720617294312, 0.7820000052452087], [1.8451582193374634, 0.6850000023841858]) Unlearn Eval:  [([1.4894161224365234, 0.7023000121116638], [0.9684965014457703, 0.7721111178398132], [6.177692413330078, 0.07400000095367432]), ([1.4194254875183105, 0.7056000232696533], [1.0324265956878662, 0.7557777762413025], [4.902415752410889, 0.2540000081062317]), ([1.3548154830932617, 0.7196000218391418], [0.8773205876350403, 0.788777768611908], [5.6522674560546875, 0.09700000286102295])] FineTune_eval: ([1.8521456718444824, 0.7437999844551086], [1.1940258741378784, 0.800777792930603], [7.775230407714844, 0.23100000619888306])\n"
     ]
    },
    {
     "name": "stderr",
     "output_type": "stream",
     "text": [
      "2023-12-10 07:20:40.193295: E tensorflow/core/grappler/optimizers/meta_optimizer.cc:954] layout failed: INVALID_ARGUMENT: Size of values 0 does not match size of permutation 4 @ fanin shape insequential/dropout/dropout/SelectV2-2-TransposeNHWCToNCHW-LayoutOptimizer\n"
     ]
    },
    {
     "name": "stdout",
     "output_type": "stream",
     "text": [
      "1407/1407 [==============================] - 3s 2ms/step\n"
     ]
    },
    {
     "name": "stderr",
     "output_type": "stream",
     "text": [
      "2023-12-10 07:22:55.932880: E tensorflow/core/grappler/optimizers/meta_optimizer.cc:954] layout failed: INVALID_ARGUMENT: Size of values 0 does not match size of permutation 4 @ fanin shape insequential/dropout/dropout/SelectV2-2-TransposeNHWCToNCHW-LayoutOptimizer\n"
     ]
    },
    {
     "name": "stdout",
     "output_type": "stream",
     "text": [
      "Forget Class:  3 Orig_eval:  ([1.3008519411087036, 0.7723000049591064], [1.216402292251587, 0.7883333563804626], [2.0608861446380615, 0.628000020980835]) Unlearn Eval:  [([1.4894161224365234, 0.7023000121116638], [0.9684965014457703, 0.7721111178398132], [6.177692413330078, 0.07400000095367432]), ([1.4194254875183105, 0.7056000232696533], [1.0324265956878662, 0.7557777762413025], [4.902415752410889, 0.2540000081062317]), ([1.3548154830932617, 0.7196000218391418], [0.8773205876350403, 0.788777768611908], [5.6522674560546875, 0.09700000286102295]), ([1.271409511566162, 0.7310000061988831], [0.8035393357276917, 0.8072222471237183], [5.482238292694092, 0.04500000178813934])] FineTune_eval: ([1.8727320432662964, 0.7408000230789185], [1.1574018001556396, 0.8059999942779541], [8.31071662902832, 0.15399999916553497])\n"
     ]
    },
    {
     "name": "stderr",
     "output_type": "stream",
     "text": [
      "2023-12-10 07:23:20.193873: E tensorflow/core/grappler/optimizers/meta_optimizer.cc:954] layout failed: INVALID_ARGUMENT: Size of values 0 does not match size of permutation 4 @ fanin shape insequential/dropout/dropout/SelectV2-2-TransposeNHWCToNCHW-LayoutOptimizer\n"
     ]
    },
    {
     "name": "stdout",
     "output_type": "stream",
     "text": [
      "1407/1407 [==============================] - 3s 2ms/step\n"
     ]
    },
    {
     "name": "stderr",
     "output_type": "stream",
     "text": [
      "2023-12-10 07:25:34.557408: E tensorflow/core/grappler/optimizers/meta_optimizer.cc:954] layout failed: INVALID_ARGUMENT: Size of values 0 does not match size of permutation 4 @ fanin shape insequential/dropout/dropout/SelectV2-2-TransposeNHWCToNCHW-LayoutOptimizer\n"
     ]
    },
    {
     "name": "stdout",
     "output_type": "stream",
     "text": [
      "Forget Class:  4 Orig_eval:  ([1.3008519411087036, 0.7723000049591064], [1.2918347120285034, 0.7756666541099548], [1.3820024728775024, 0.7419999837875366]) Unlearn Eval:  [([1.4894161224365234, 0.7023000121116638], [0.9684965014457703, 0.7721111178398132], [6.177692413330078, 0.07400000095367432]), ([1.4194254875183105, 0.7056000232696533], [1.0324265956878662, 0.7557777762413025], [4.902415752410889, 0.2540000081062317]), ([1.3548154830932617, 0.7196000218391418], [0.8773205876350403, 0.788777768611908], [5.6522674560546875, 0.09700000286102295]), ([1.271409511566162, 0.7310000061988831], [0.8035393357276917, 0.8072222471237183], [5.482238292694092, 0.04500000178813934]), ([1.3975926637649536, 0.7071999907493591], [0.8980613350868225, 0.7814444303512573], [5.893380641937256, 0.039000000804662704])] FineTune_eval: ([1.8593676090240479, 0.734499990940094], [1.316726565361023, 0.7962222099304199], [6.743141174316406, 0.17900000512599945])\n"
     ]
    },
    {
     "name": "stderr",
     "output_type": "stream",
     "text": [
      "2023-12-10 07:25:58.301103: E tensorflow/core/grappler/optimizers/meta_optimizer.cc:954] layout failed: INVALID_ARGUMENT: Size of values 0 does not match size of permutation 4 @ fanin shape insequential/dropout/dropout/SelectV2-2-TransposeNHWCToNCHW-LayoutOptimizer\n"
     ]
    },
    {
     "name": "stdout",
     "output_type": "stream",
     "text": [
      "1407/1407 [==============================] - 3s 2ms/step\n"
     ]
    },
    {
     "name": "stderr",
     "output_type": "stream",
     "text": [
      "2023-12-10 07:28:12.074537: E tensorflow/core/grappler/optimizers/meta_optimizer.cc:954] layout failed: INVALID_ARGUMENT: Size of values 0 does not match size of permutation 4 @ fanin shape insequential/dropout/dropout/SelectV2-2-TransposeNHWCToNCHW-LayoutOptimizer\n"
     ]
    },
    {
     "name": "stdout",
     "output_type": "stream",
     "text": [
      "Forget Class:  5 Orig_eval:  ([1.3008519411087036, 0.7723000049591064], [1.2438924312591553, 0.7833333611488342], [1.8134832382202148, 0.6729999780654907]) Unlearn Eval:  [([1.4894161224365234, 0.7023000121116638], [0.9684965014457703, 0.7721111178398132], [6.177692413330078, 0.07400000095367432]), ([1.4194254875183105, 0.7056000232696533], [1.0324265956878662, 0.7557777762413025], [4.902415752410889, 0.2540000081062317]), ([1.3548154830932617, 0.7196000218391418], [0.8773205876350403, 0.788777768611908], [5.6522674560546875, 0.09700000286102295]), ([1.271409511566162, 0.7310000061988831], [0.8035393357276917, 0.8072222471237183], [5.482238292694092, 0.04500000178813934]), ([1.3975926637649536, 0.7071999907493591], [0.8980613350868225, 0.7814444303512573], [5.893380641937256, 0.039000000804662704]), ([1.3896527290344238, 0.7189000248908997], [0.8485968708992004, 0.7941111326217651], [6.259160041809082, 0.041999999433755875])] FineTune_eval: ([1.8031359910964966, 0.7372000217437744], [1.1402102708816528, 0.8017777800559998], [7.769478797912598, 0.15600000321865082])\n"
     ]
    },
    {
     "name": "stderr",
     "output_type": "stream",
     "text": [
      "2023-12-10 07:28:35.529153: E tensorflow/core/grappler/optimizers/meta_optimizer.cc:954] layout failed: INVALID_ARGUMENT: Size of values 0 does not match size of permutation 4 @ fanin shape insequential/dropout/dropout/SelectV2-2-TransposeNHWCToNCHW-LayoutOptimizer\n"
     ]
    },
    {
     "name": "stdout",
     "output_type": "stream",
     "text": [
      "1407/1407 [==============================] - 3s 2ms/step\n"
     ]
    },
    {
     "name": "stderr",
     "output_type": "stream",
     "text": [
      "2023-12-10 07:30:49.525063: E tensorflow/core/grappler/optimizers/meta_optimizer.cc:954] layout failed: INVALID_ARGUMENT: Size of values 0 does not match size of permutation 4 @ fanin shape insequential/dropout/dropout/SelectV2-2-TransposeNHWCToNCHW-LayoutOptimizer\n"
     ]
    },
    {
     "name": "stdout",
     "output_type": "stream",
     "text": [
      "Forget Class:  6 Orig_eval:  ([1.3008519411087036, 0.7723000049591064], [1.3613871335983276, 0.7642222046852112], [0.7560282349586487, 0.8450000286102295]) Unlearn Eval:  [([1.4894161224365234, 0.7023000121116638], [0.9684965014457703, 0.7721111178398132], [6.177692413330078, 0.07400000095367432]), ([1.4194254875183105, 0.7056000232696533], [1.0324265956878662, 0.7557777762413025], [4.902415752410889, 0.2540000081062317]), ([1.3548154830932617, 0.7196000218391418], [0.8773205876350403, 0.788777768611908], [5.6522674560546875, 0.09700000286102295]), ([1.271409511566162, 0.7310000061988831], [0.8035393357276917, 0.8072222471237183], [5.482238292694092, 0.04500000178813934]), ([1.3975926637649536, 0.7071999907493591], [0.8980613350868225, 0.7814444303512573], [5.893380641937256, 0.039000000804662704]), ([1.3896527290344238, 0.7189000248908997], [0.8485968708992004, 0.7941111326217651], [6.259160041809082, 0.041999999433755875]), ([1.2630573511123657, 0.7117000222206116], [0.9829275012016296, 0.7641111016273499], [3.7842259407043457, 0.23999999463558197])] FineTune_eval: ([1.5041841268539429, 0.7562000155448914], [1.2873090505599976, 0.7820000052452087], [3.456062078475952, 0.5239999890327454])\n"
     ]
    },
    {
     "name": "stderr",
     "output_type": "stream",
     "text": [
      "2023-12-10 07:31:12.951386: E tensorflow/core/grappler/optimizers/meta_optimizer.cc:954] layout failed: INVALID_ARGUMENT: Size of values 0 does not match size of permutation 4 @ fanin shape insequential/dropout/dropout/SelectV2-2-TransposeNHWCToNCHW-LayoutOptimizer\n"
     ]
    },
    {
     "name": "stdout",
     "output_type": "stream",
     "text": [
      "1407/1407 [==============================] - 3s 2ms/step\n"
     ]
    },
    {
     "name": "stderr",
     "output_type": "stream",
     "text": [
      "2023-12-10 07:33:27.860841: E tensorflow/core/grappler/optimizers/meta_optimizer.cc:954] layout failed: INVALID_ARGUMENT: Size of values 0 does not match size of permutation 4 @ fanin shape insequential/dropout/dropout/SelectV2-2-TransposeNHWCToNCHW-LayoutOptimizer\n"
     ]
    },
    {
     "name": "stdout",
     "output_type": "stream",
     "text": [
      "Forget Class:  7 Orig_eval:  ([1.3008519411087036, 0.7723000049591064], [1.3013088703155518, 0.7713333368301392], [1.2967329025268555, 0.781000018119812]) Unlearn Eval:  [([1.4894161224365234, 0.7023000121116638], [0.9684965014457703, 0.7721111178398132], [6.177692413330078, 0.07400000095367432]), ([1.4194254875183105, 0.7056000232696533], [1.0324265956878662, 0.7557777762413025], [4.902415752410889, 0.2540000081062317]), ([1.3548154830932617, 0.7196000218391418], [0.8773205876350403, 0.788777768611908], [5.6522674560546875, 0.09700000286102295]), ([1.271409511566162, 0.7310000061988831], [0.8035393357276917, 0.8072222471237183], [5.482238292694092, 0.04500000178813934]), ([1.3975926637649536, 0.7071999907493591], [0.8980613350868225, 0.7814444303512573], [5.893380641937256, 0.039000000804662704]), ([1.3896527290344238, 0.7189000248908997], [0.8485968708992004, 0.7941111326217651], [6.259160041809082, 0.041999999433755875]), ([1.2630573511123657, 0.7117000222206116], [0.9829275012016296, 0.7641111016273499], [3.7842259407043457, 0.23999999463558197]), ([1.5890876054763794, 0.696399986743927], [0.9562021493911743, 0.7616666555404663], [7.285060882568359, 0.10899999737739563])] FineTune_eval: ([1.6996957063674927, 0.7473999857902527], [1.3899730443954468, 0.7745555639266968], [4.487199783325195, 0.503000020980835])\n"
     ]
    },
    {
     "name": "stderr",
     "output_type": "stream",
     "text": [
      "2023-12-10 07:33:50.748192: E tensorflow/core/grappler/optimizers/meta_optimizer.cc:954] layout failed: INVALID_ARGUMENT: Size of values 0 does not match size of permutation 4 @ fanin shape insequential/dropout/dropout/SelectV2-2-TransposeNHWCToNCHW-LayoutOptimizer\n"
     ]
    },
    {
     "name": "stdout",
     "output_type": "stream",
     "text": [
      "1407/1407 [==============================] - 3s 2ms/step\n"
     ]
    },
    {
     "name": "stderr",
     "output_type": "stream",
     "text": [
      "2023-12-10 07:36:01.680302: E tensorflow/core/grappler/optimizers/meta_optimizer.cc:954] layout failed: INVALID_ARGUMENT: Size of values 0 does not match size of permutation 4 @ fanin shape insequential/dropout/dropout/SelectV2-2-TransposeNHWCToNCHW-LayoutOptimizer\n"
     ]
    },
    {
     "name": "stdout",
     "output_type": "stream",
     "text": [
      "Forget Class:  8 Orig_eval:  ([1.3008519411087036, 0.7723000049591064], [1.3547792434692383, 0.7598888874053955], [0.8155019879341125, 0.8840000033378601]) Unlearn Eval:  [([1.4894161224365234, 0.7023000121116638], [0.9684965014457703, 0.7721111178398132], [6.177692413330078, 0.07400000095367432]), ([1.4194254875183105, 0.7056000232696533], [1.0324265956878662, 0.7557777762413025], [4.902415752410889, 0.2540000081062317]), ([1.3548154830932617, 0.7196000218391418], [0.8773205876350403, 0.788777768611908], [5.6522674560546875, 0.09700000286102295]), ([1.271409511566162, 0.7310000061988831], [0.8035393357276917, 0.8072222471237183], [5.482238292694092, 0.04500000178813934]), ([1.3975926637649536, 0.7071999907493591], [0.8980613350868225, 0.7814444303512573], [5.893380641937256, 0.039000000804662704]), ([1.3896527290344238, 0.7189000248908997], [0.8485968708992004, 0.7941111326217651], [6.259160041809082, 0.041999999433755875]), ([1.2630573511123657, 0.7117000222206116], [0.9829275012016296, 0.7641111016273499], [3.7842259407043457, 0.23999999463558197]), ([1.5890876054763794, 0.696399986743927], [0.9562021493911743, 0.7616666555404663], [7.285060882568359, 0.10899999737739563]), ([1.3692219257354736, 0.7019000053405762], [1.0304895639419556, 0.7590000033378601], [4.417820453643799, 0.18799999356269836])] FineTune_eval: ([1.581161618232727, 0.7476999759674072], [1.3711048364639282, 0.7705555558204651], [3.4716744422912598, 0.5419999957084656])\n"
     ]
    },
    {
     "name": "stderr",
     "output_type": "stream",
     "text": [
      "2023-12-10 07:36:24.485626: E tensorflow/core/grappler/optimizers/meta_optimizer.cc:954] layout failed: INVALID_ARGUMENT: Size of values 0 does not match size of permutation 4 @ fanin shape insequential/dropout/dropout/SelectV2-2-TransposeNHWCToNCHW-LayoutOptimizer\n"
     ]
    },
    {
     "name": "stdout",
     "output_type": "stream",
     "text": [
      "1407/1407 [==============================] - 3s 2ms/step\n"
     ]
    },
    {
     "name": "stderr",
     "output_type": "stream",
     "text": [
      "2023-12-10 07:38:35.507045: E tensorflow/core/grappler/optimizers/meta_optimizer.cc:954] layout failed: INVALID_ARGUMENT: Size of values 0 does not match size of permutation 4 @ fanin shape insequential/dropout/dropout/SelectV2-2-TransposeNHWCToNCHW-LayoutOptimizer\n"
     ]
    },
    {
     "name": "stdout",
     "output_type": "stream",
     "text": [
      "Forget Class:  9 Orig_eval:  ([1.3008519411087036, 0.7723000049591064], [1.3588531017303467, 0.7608888745307922], [0.7788363695144653, 0.875]) Unlearn Eval:  [([1.4894161224365234, 0.7023000121116638], [0.9684965014457703, 0.7721111178398132], [6.177692413330078, 0.07400000095367432]), ([1.4194254875183105, 0.7056000232696533], [1.0324265956878662, 0.7557777762413025], [4.902415752410889, 0.2540000081062317]), ([1.3548154830932617, 0.7196000218391418], [0.8773205876350403, 0.788777768611908], [5.6522674560546875, 0.09700000286102295]), ([1.271409511566162, 0.7310000061988831], [0.8035393357276917, 0.8072222471237183], [5.482238292694092, 0.04500000178813934]), ([1.3975926637649536, 0.7071999907493591], [0.8980613350868225, 0.7814444303512573], [5.893380641937256, 0.039000000804662704]), ([1.3896527290344238, 0.7189000248908997], [0.8485968708992004, 0.7941111326217651], [6.259160041809082, 0.041999999433755875]), ([1.2630573511123657, 0.7117000222206116], [0.9829275012016296, 0.7641111016273499], [3.7842259407043457, 0.23999999463558197]), ([1.5890876054763794, 0.696399986743927], [0.9562021493911743, 0.7616666555404663], [7.285060882568359, 0.10899999737739563]), ([1.3692219257354736, 0.7019000053405762], [1.0304895639419556, 0.7590000033378601], [4.417820453643799, 0.18799999356269836]), ([1.307955265045166, 0.7221999764442444], [1.0596524477005005, 0.7621111273765564], [3.5426883697509766, 0.3630000054836273])] FineTune_eval: ([1.6999503374099731, 0.7484999895095825], [1.4430140256881714, 0.7722222208976746], [4.012374401092529, 0.5350000262260437])\n"
     ]
    }
   ],
   "source": [
    "for i in range(10):\n",
    "    forget_cls = i\n",
    "\n",
    "    ## Define the unlearning model:\n",
    "    unlearned_model = tf.keras.models.clone_model(cifar_10_orig)  \n",
    "    unlearned_model.set_weights(cifar_10_orig.get_weights())\n",
    "    unlearned_model.compile(optimizer = 'adam',loss = unlearn_loss, metrics = ['accuracy'])\n",
    "\n",
    "\n",
    "    df_ind_te = [i for i in range(y_te.shape[0]) if y_te_cat[i] == forget_cls]\n",
    "    dr_ind_te = [i for i in range(y_te.shape[0]) if y_te_cat[i] != forget_cls]\n",
    "\n",
    "    df_ind_tr = [i for i in range(y_tr.shape[0]) if y_tr_cat[i] == forget_cls]\n",
    "    dr_ind_tr = [i for i in range(y_tr.shape[0]) if y_tr_cat[i] != forget_cls]\n",
    "\n",
    "    dr_x_te, dr_y_te = x_te[dr_ind_te], y_te[dr_ind_te]\n",
    "    df_x_te, df_y_te = x_te[df_ind_te], y_te[df_ind_te]\n",
    "\n",
    "    dr_x_tr, dr_y_tr = x_tr[dr_ind_tr], y_tr[dr_ind_tr]\n",
    "    df_x_tr, df_y_tr = x_tr[df_ind_tr], y_tr[df_ind_tr]\n",
    "\n",
    "    evaluations_o = unlearned_model.evaluate(x_te, y_te, verbose = 0), unlearned_model.evaluate(dr_x_te, dr_y_te, verbose = 0), unlearned_model.evaluate(df_x_te, df_y_te, verbose = 0)\n",
    "    eval_orig.append(evaluations_o)\n",
    "\n",
    "    evaluations_st = stochastic_teacher_model.evaluate(x_te, y_te, verbose = 0), stochastic_teacher_model.evaluate(dr_x_te, dr_y_te, verbose = 0), stochastic_teacher_model.evaluate(df_x_te, df_y_te, verbose = 0)\n",
    "    eval_sto.append(evaluations_st)\n",
    "\n",
    "    ## Forget Phase:\n",
    "\n",
    "    STM_pred = stochastic_teacher_model.predict(df_x_tr, verbose = 0)\n",
    "    unlearned_model.fit(df_x_tr, STM_pred, epochs = 100, batch_size = b_size, verbose = 0)\n",
    "\n",
    "    ## Fine Tune Phase:\n",
    "    orig_pred = cifar_10_orig.predict(dr_x_tr)\n",
    "    unlearned_model.fit(dr_x_tr, orig_pred, epochs = 1, batch_size = b_size, verbose = 0)\n",
    "\n",
    "    evaluations_un = unlearned_model.evaluate(x_te, y_te, verbose = 0), unlearned_model.evaluate(dr_x_te, dr_y_te, verbose = 0), unlearned_model.evaluate(df_x_te, df_y_te, verbose = 0)\n",
    "    eval_unlearn.append(evaluations_un)\n",
    "\n",
    "    ## Simple Unlearning by Fine Tuning:\n",
    "\n",
    "    fn_model = tf.keras.models.clone_model(cifar_10_orig)\n",
    "    fn_model.set_weights(cifar_10_orig.get_weights())\n",
    "\n",
    "    fn_model.compile(optimizer = 'adam',loss = 'categorical_crossentropy', metrics = ['accuracy'])\n",
    "    fn_model.fit(dr_x_tr, dr_y_tr, epochs = 1, batch_size = b_size, verbose = 0)\n",
    "\n",
    "    evaluations_rt = fn_model.evaluate(x_te, y_te, verbose = 0), fn_model.evaluate(dr_x_te, dr_y_te, verbose = 0), fn_model.evaluate(df_x_te, df_y_te, verbose = 0)\n",
    "    eval_ftn.append(evaluations_rt)\n",
    "    print(\"Forget Class: \", forget_cls, \"Orig_eval: \", evaluations_o, \"Unlearn Eval: \", eval_unlearn, \"FineTune_eval:\", evaluations_rt)"
   ]
  },
  {
   "cell_type": "code",
   "execution_count": 25,
   "metadata": {
    "execution": {
     "iopub.execute_input": "2023-12-10T07:48:47.477184Z",
     "iopub.status.busy": "2023-12-10T07:48:47.476565Z",
     "iopub.status.idle": "2023-12-10T07:48:47.486915Z",
     "shell.execute_reply": "2023-12-10T07:48:47.485984Z",
     "shell.execute_reply.started": "2023-12-10T07:48:47.477148Z"
    }
   },
   "outputs": [
    {
     "name": "stdout",
     "output_type": "stream",
     "text": [
      "Original Model\n",
      "0 0.77 0.78 0.73\n",
      "Unlearn Model\n",
      "0 0.7 0.77 0.07\n",
      "Fine Tuned Model\n",
      "0 0.75 0.78 0.41\n",
      "Original Model\n",
      "1 0.77 0.76 0.88\n",
      "Unlearn Model\n",
      "1 0.71 0.76 0.25\n",
      "Fine Tuned Model\n",
      "1 0.74 0.77 0.49\n",
      "Original Model\n",
      "2 0.77 0.78 0.69\n",
      "Unlearn Model\n",
      "2 0.72 0.79 0.1\n",
      "Fine Tuned Model\n",
      "2 0.74 0.8 0.23\n",
      "Original Model\n",
      "3 0.77 0.79 0.63\n",
      "Unlearn Model\n",
      "3 0.73 0.81 0.05\n",
      "Fine Tuned Model\n",
      "3 0.74 0.81 0.15\n",
      "Original Model\n",
      "4 0.77 0.78 0.74\n",
      "Unlearn Model\n",
      "4 0.71 0.78 0.04\n",
      "Fine Tuned Model\n",
      "4 0.73 0.8 0.18\n",
      "Original Model\n",
      "5 0.77 0.78 0.67\n",
      "Unlearn Model\n",
      "5 0.72 0.79 0.04\n",
      "Fine Tuned Model\n",
      "5 0.74 0.8 0.16\n",
      "Original Model\n",
      "6 0.77 0.76 0.85\n",
      "Unlearn Model\n",
      "6 0.71 0.76 0.24\n",
      "Fine Tuned Model\n",
      "6 0.76 0.78 0.52\n",
      "Original Model\n",
      "7 0.77 0.77 0.78\n",
      "Unlearn Model\n",
      "7 0.7 0.76 0.11\n",
      "Fine Tuned Model\n",
      "7 0.75 0.77 0.5\n",
      "Original Model\n",
      "8 0.77 0.76 0.88\n",
      "Unlearn Model\n",
      "8 0.7 0.76 0.19\n",
      "Fine Tuned Model\n",
      "8 0.75 0.77 0.54\n",
      "Original Model\n",
      "9 0.77 0.76 0.88\n",
      "Unlearn Model\n",
      "9 0.72 0.76 0.36\n",
      "Fine Tuned Model\n",
      "9 0.75 0.77 0.54\n"
     ]
    }
   ],
   "source": [
    "for i in range(len(eval_orig)):\n",
    "    te, rt, f = eval_orig[i]\n",
    "    print(\"Original Model\")\n",
    "    print(i, np.round(te[1], 2), np.round(rt[1], 2), np.round(f[1], 2))\n",
    "    te, rt, f = eval_unlearn[i]\n",
    "    print(\"Unlearn Model\")\n",
    "    print(i, np.round(te[1], 2), np.round(rt[1], 2), np.round(f[1],2))\n",
    "    te, rt, f = eval_ftn[i]\n",
    "    print(\"Fine Tuned Model\")\n",
    "    print(i, np.round(te[1], 2), np.round(rt[1], 2), np.round(f[1], 2))"
   ]
  },
  {
   "cell_type": "code",
   "execution_count": 36,
   "metadata": {
    "execution": {
     "iopub.execute_input": "2023-12-10T08:08:40.938803Z",
     "iopub.status.busy": "2023-12-10T08:08:40.938149Z",
     "iopub.status.idle": "2023-12-10T08:08:40.950758Z",
     "shell.execute_reply": "2023-12-10T08:08:40.949841Z",
     "shell.execute_reply.started": "2023-12-10T08:08:40.938770Z"
    }
   },
   "outputs": [
    {
     "name": "stdout",
     "output_type": "stream",
     "text": [
      "[0.7310000061988831]\n",
      "[0.7310000061988831, 0.8790000081062317]\n",
      "[0.7310000061988831, 0.8790000081062317, 0.6850000023841858]\n",
      "[0.7310000061988831, 0.8790000081062317, 0.6850000023841858, 0.628000020980835]\n",
      "[0.7310000061988831, 0.8790000081062317, 0.6850000023841858, 0.628000020980835, 0.7419999837875366]\n",
      "[0.7310000061988831, 0.8790000081062317, 0.6850000023841858, 0.628000020980835, 0.7419999837875366, 0.6729999780654907]\n",
      "[0.7310000061988831, 0.8790000081062317, 0.6850000023841858, 0.628000020980835, 0.7419999837875366, 0.6729999780654907, 0.8450000286102295]\n",
      "[0.7310000061988831, 0.8790000081062317, 0.6850000023841858, 0.628000020980835, 0.7419999837875366, 0.6729999780654907, 0.8450000286102295, 0.781000018119812]\n",
      "[0.7310000061988831, 0.8790000081062317, 0.6850000023841858, 0.628000020980835, 0.7419999837875366, 0.6729999780654907, 0.8450000286102295, 0.781000018119812, 0.8840000033378601]\n",
      "[0.7310000061988831, 0.8790000081062317, 0.6850000023841858, 0.628000020980835, 0.7419999837875366, 0.6729999780654907, 0.8450000286102295, 0.781000018119812, 0.8840000033378601, 0.875]\n"
     ]
    }
   ],
   "source": [
    "orig_model_te = []\n",
    "orig_model_f = []\n",
    "orig_model_re = []\n",
    "\n",
    "un_model_te = []\n",
    "un_model_f = []\n",
    "un_model_re = []\n",
    "\n",
    "ft_model_te = []\n",
    "ft_model_f = []\n",
    "ft_model_re = []\n",
    "\n",
    "diff_un_orig_te = []\n",
    "diff_un_orig_re = []\n",
    "diff_un_orig_f = []\n",
    "\n",
    "diff_un_ft_te = []\n",
    "diff_un_ft_re = []\n",
    "diff_un_ft_f = []\n",
    "\n",
    "\n",
    "for i in range(len(eval_orig)):\n",
    "    te, rt, f = eval_orig[i]\n",
    "    orig_model_te.append(te[1])\n",
    "    orig_model_re.append(rt[1])\n",
    "    orig_model_f.append(f[1])\n",
    "    \n",
    "    print(orig_model_f)\n",
    "\n",
    "for i in range(len(eval_unlearn)):\n",
    "    te, rt, f = eval_unlearn[i]\n",
    "    un_model_te.append(te[1])\n",
    "    un_model_re.append(rt[1])\n",
    "    un_model_f.append(f[1])\n",
    "    \n",
    "    te1, rt1, f1 = eval_orig[i]\n",
    "    \n",
    "    diff_un_orig_te.append(abs(te1[1]-te[1]))\n",
    "    diff_un_orig_re.append(abs(rt1[1]-rt[1]))\n",
    "    diff_un_orig_f.append(abs(f1[1]-f[1]))\n",
    "\n",
    "for i in range(len(eval_unlearn)):\n",
    "    te, rt, f = eval_unlearn[i]\n",
    "    \n",
    "    te1, rt1, f1 = eval_ftn[i]\n",
    "    \n",
    "    ft_model_te.append(te1[1])\n",
    "    ft_model_re.append(rt1[1])\n",
    "    ft_model_f.append(f1[1])\n",
    "    \n",
    "    diff_un_ft_te.append(abs(te1[1]-te[1]))\n",
    "    diff_un_ft_re.append(abs(rt1[1]-rt[1]))\n",
    "    diff_un_ft_f.append(abs(f1[1]-f[1]))"
   ]
  },
  {
   "cell_type": "code",
   "execution_count": 39,
   "metadata": {
    "execution": {
     "iopub.execute_input": "2023-12-10T08:09:28.564407Z",
     "iopub.status.busy": "2023-12-10T08:09:28.563643Z",
     "iopub.status.idle": "2023-12-10T08:09:28.570306Z",
     "shell.execute_reply": "2023-12-10T08:09:28.569424Z",
     "shell.execute_reply.started": "2023-12-10T08:09:28.564374Z"
    }
   },
   "outputs": [
    {
     "data": {
      "text/plain": [
       "0.7723000049591064"
      ]
     },
     "execution_count": 39,
     "metadata": {},
     "output_type": "execute_result"
    }
   ],
   "source": [
    "acc_print(orig_model_f)"
   ]
  },
  {
   "cell_type": "code",
   "execution_count": 40,
   "metadata": {
    "execution": {
     "iopub.execute_input": "2023-12-10T08:09:35.074642Z",
     "iopub.status.busy": "2023-12-10T08:09:35.074281Z",
     "iopub.status.idle": "2023-12-10T08:09:35.081168Z",
     "shell.execute_reply": "2023-12-10T08:09:35.080169Z",
     "shell.execute_reply.started": "2023-12-10T08:09:35.074604Z"
    }
   },
   "outputs": [
    {
     "data": {
      "text/plain": [
       "[0.7310000061988831,\n",
       " 0.8790000081062317,\n",
       " 0.6850000023841858,\n",
       " 0.628000020980835,\n",
       " 0.7419999837875366,\n",
       " 0.6729999780654907,\n",
       " 0.8450000286102295,\n",
       " 0.781000018119812,\n",
       " 0.8840000033378601,\n",
       " 0.875]"
      ]
     },
     "execution_count": 40,
     "metadata": {},
     "output_type": "execute_result"
    }
   ],
   "source": [
    "orig_model_f"
   ]
  },
  {
   "cell_type": "code",
   "execution_count": 33,
   "metadata": {
    "execution": {
     "iopub.execute_input": "2023-12-10T08:05:28.313160Z",
     "iopub.status.busy": "2023-12-10T08:05:28.312566Z",
     "iopub.status.idle": "2023-12-10T08:05:28.317040Z",
     "shell.execute_reply": "2023-12-10T08:05:28.316185Z",
     "shell.execute_reply.started": "2023-12-10T08:05:28.313130Z"
    }
   },
   "outputs": [],
   "source": [
    "def acc_print(x):\n",
    "    return np.mean(np.array(x))"
   ]
  },
  {
   "cell_type": "code",
   "execution_count": 35,
   "metadata": {
    "execution": {
     "iopub.execute_input": "2023-12-10T08:05:44.426146Z",
     "iopub.status.busy": "2023-12-10T08:05:44.425408Z",
     "iopub.status.idle": "2023-12-10T08:05:44.435260Z",
     "shell.execute_reply": "2023-12-10T08:05:44.434398Z",
     "shell.execute_reply.started": "2023-12-10T08:05:44.426107Z"
    }
   },
   "outputs": [
    {
     "name": "stdout",
     "output_type": "stream",
     "text": [
      "Original Model mean accuracy On test: 0.7723000049591064\n",
      "Original Model mean accuracy On retain: 0.7723000049591064\n",
      "Original Model mean accuracy On forget: 0.7723000049591064\n",
      "\n",
      "Unlearned Model mean accuracy On test: 0.711680006980896\n",
      "Unlearned Model mean accuracy On retain: 0.7746333360671998\n",
      "Unlearned Model mean accuracy On forget: 0.145100000500679\n",
      "\n",
      "Fine Tuned Model mean accuracy On test: 0.7441799998283386\n",
      "Fine Tuned Model mean accuracy On retain: 0.7854555606842041\n",
      "Fine Tuned Model mean accuracy On forget: 0.3727000042796135\n",
      "\n",
      "Mean Difference Orig and Unlearn On test: 0.06061999797821045\n",
      "Mean Difference Orig and Unlearn On retain: 0.006355559825897217\n",
      "Mean Difference Orig and Unlearn On forget: 0.6272000044584274\n",
      "\n",
      "Mean Difference Orig and FTN On test: 0.03249999284744263\n",
      "Mean Difference Orig and FTN On retain: 0.011066675186157227\n",
      "Mean Difference Orig and FTN On forget: 0.22760000377893447\n"
     ]
    }
   ],
   "source": [
    "print(\"Original Model mean accuracy On test:\", acc_print(orig_model_te))\n",
    "print(\"Original Model mean accuracy On retain:\", acc_print(orig_model_re))\n",
    "print(\"Original Model mean accuracy On forget:\", acc_print(orig_model_f))\n",
    "\n",
    "print()\n",
    "\n",
    "print(\"Unlearned Model mean accuracy On test:\", acc_print(un_model_te))\n",
    "print(\"Unlearned Model mean accuracy On retain:\", acc_print(un_model_re))\n",
    "print(\"Unlearned Model mean accuracy On forget:\", acc_print(un_model_f))\n",
    "\n",
    "print()\n",
    "\n",
    "print(\"Fine Tuned Model mean accuracy On test:\", acc_print(ft_model_te))\n",
    "print(\"Fine Tuned Model mean accuracy On retain:\", acc_print(ft_model_re))\n",
    "print(\"Fine Tuned Model mean accuracy On forget:\", acc_print(ft_model_f))\n",
    "\n",
    "print()\n",
    "\n",
    "print(\"Mean Difference Orig and Unlearn On test:\", acc_print(diff_un_orig_te))\n",
    "print(\"Mean Difference Orig and Unlearn On retain:\", acc_print(diff_un_orig_re))\n",
    "print(\"Mean Difference Orig and Unlearn On forget:\", acc_print(diff_un_orig_f))\n",
    "\n",
    "print()\n",
    "\n",
    "print(\"Mean Difference Orig and FTN On test:\", acc_print(diff_un_ft_te))\n",
    "print(\"Mean Difference Orig and FTN On retain:\", acc_print(diff_un_ft_re))\n",
    "print(\"Mean Difference Orig and FTN On forget:\", acc_print(diff_un_ft_f))"
   ]
  },
  {
   "cell_type": "code",
   "execution_count": null,
   "metadata": {},
   "outputs": [],
   "source": []
  }
 ],
 "metadata": {
  "kaggle": {
   "accelerator": "nvidiaTeslaT4",
   "dataSources": [
    {
     "datasetId": 4139765,
     "sourceId": 7166238,
     "sourceType": "datasetVersion"
    }
   ],
   "dockerImageVersionId": 30616,
   "isGpuEnabled": true,
   "isInternetEnabled": true,
   "language": "python",
   "sourceType": "notebook"
  },
  "kernelspec": {
   "display_name": "Python 3 (ipykernel)",
   "language": "python",
   "name": "python3"
  },
  "language_info": {
   "codemirror_mode": {
    "name": "ipython",
    "version": 3
   },
   "file_extension": ".py",
   "mimetype": "text/x-python",
   "name": "python",
   "nbconvert_exporter": "python",
   "pygments_lexer": "ipython3",
   "version": "3.11.6"
  }
 },
 "nbformat": 4,
 "nbformat_minor": 4
}
