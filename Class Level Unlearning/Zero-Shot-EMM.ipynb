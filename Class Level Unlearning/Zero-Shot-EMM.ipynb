{
 "cells": [
  {
   "cell_type": "code",
   "execution_count": 1,
   "metadata": {
    "execution": {
     "iopub.execute_input": "2023-12-12T00:17:53.236351Z",
     "iopub.status.busy": "2023-12-12T00:17:53.235658Z",
     "iopub.status.idle": "2023-12-12T00:17:57.022999Z",
     "shell.execute_reply": "2023-12-12T00:17:57.022024Z",
     "shell.execute_reply.started": "2023-12-12T00:17:53.236315Z"
    }
   },
   "outputs": [
    {
     "data": {
      "text/plain": [
       "<torch._C.Generator at 0x7b4102e2aa10>"
      ]
     },
     "execution_count": 1,
     "metadata": {},
     "output_type": "execute_result"
    }
   ],
   "source": [
    "import os\n",
    "import torch\n",
    "import tarfile\n",
    "import numpy as np\n",
    "\n",
    "from torch import nn\n",
    "from torch.nn import functional as F\n",
    "from torchvision.datasets.utils import download_url\n",
    "from torchvision.datasets import ImageFolder\n",
    "from torch.utils.data import DataLoader\n",
    "from torchvision.models import resnet18\n",
    "from torchvision import transforms as tt\n",
    "\n",
    "torch.manual_seed(123)"
   ]
  },
  {
   "cell_type": "code",
   "execution_count": 15,
   "metadata": {
    "execution": {
     "iopub.execute_input": "2023-12-12T00:26:26.992177Z",
     "iopub.status.busy": "2023-12-12T00:26:26.991358Z",
     "iopub.status.idle": "2023-12-12T00:26:27.008655Z",
     "shell.execute_reply": "2023-12-12T00:26:27.007604Z",
     "shell.execute_reply.started": "2023-12-12T00:26:26.992127Z"
    }
   },
   "outputs": [],
   "source": [
    "# Function to calculate accuracy\n",
    "def cal_accuracy(outputs, labels):\n",
    "    _, preds = torch.max(outputs, dim=1)\n",
    "    return torch.tensor(torch.sum(preds == labels).item() / len(preds))\n",
    "\n",
    "# Function to evaluate model accuracy on data\n",
    "@torch.no_grad()\n",
    "def evaluate_model_data(model, test_loader):\n",
    "    model.eval()\n",
    "    model.eval()\n",
    "    outputs = []\n",
    "    for batch in test_loader:\n",
    "        images, labels = batch\n",
    "        images, labels = images.to(device), labels.to(device)\n",
    "        out = model(images)                    \n",
    "        loss = F.cross_entropy(out, labels)   \n",
    "        acc = cal_accuracy(out, labels)\n",
    "        outputs.append({'Loss': loss.detach(), 'Acc': acc})\n",
    "    batch_losses = [x['Loss'] for x in outputs]\n",
    "    epoch_loss = torch.stack(batch_losses).mean()   \n",
    "    batch_accs = [x['Acc'] for x in outputs]\n",
    "    epoch_acc = torch.stack(batch_accs).mean()  \n",
    "    return {'Loss': epoch_loss.item(), 'Acc': epoch_acc.item()}\n",
    "\n",
    "def get_lr(optimizer):\n",
    "    for param_group in optimizer.param_groups:\n",
    "        return param_group['lr']\n",
    "\n",
    "# Function to train the model on one epoch\n",
    "def train_one_epoch(epochs, model, train_loader, test_loader):\n",
    "    torch.cuda.empty_cache()\n",
    "    history = []\n",
    "    \n",
    "    optimizer = torch.optim.Adam(model.parameters(), 0.01, weight_decay=1e-4)\n",
    "\n",
    "    sched = torch.optim.lr_scheduler.ReduceLROnPlateau(optimizer, mode='min', factor=0.5, patience=3, verbose=True)\n",
    "    \n",
    "    for epoch in range(epochs): \n",
    "        model.train()\n",
    "        train_losses = []\n",
    "        lrs = []\n",
    "        for batch in train_loader:\n",
    "            images, labels = batch\n",
    "            images, labels = images.to(device), labels.to(device)\n",
    "            out = model(images)                  \n",
    "            loss = F.cross_entropy(out, labels) \n",
    "            train_losses.append(loss)\n",
    "            loss.backward()\n",
    "            \n",
    "            nn.utils.clip_grad_value_(model.parameters(), 0.1)\n",
    "            \n",
    "            optimizer.step()\n",
    "            optimizer.zero_grad()\n",
    "            \n",
    "            lrs.append(get_lr(optimizer))\n",
    "            \n",
    "        \n",
    "        # Validation phase\n",
    "        result = evaluate_model_data(model, test_loader)\n",
    "        result['train_loss'] = torch.stack(train_losses).mean().item()\n",
    "        result['lrs'] = lrs\n",
    "        print(f\"Epoch {epoch} - train loss: {result['train_loss']:.4f}, test loss: {result['Loss']:.4f}, test accuracy: {result['Acc']:.4f}\")\n",
    "        history.append(result)\n",
    "        sched.step(result['Loss'])\n",
    "    return history"
   ]
  },
  {
   "cell_type": "code",
   "execution_count": 3,
   "metadata": {
    "execution": {
     "iopub.execute_input": "2023-12-12T00:18:22.739600Z",
     "iopub.status.busy": "2023-12-12T00:18:22.738720Z",
     "iopub.status.idle": "2023-12-12T00:18:40.068970Z",
     "shell.execute_reply": "2023-12-12T00:18:40.068182Z",
     "shell.execute_reply.started": "2023-12-12T00:18:22.739568Z"
    }
   },
   "outputs": [
    {
     "name": "stdout",
     "output_type": "stream",
     "text": [
      "Downloading https://s3.amazonaws.com/fast-ai-imageclas/cifar10.tgz to ./cifar10.tgz\n"
     ]
    },
    {
     "name": "stderr",
     "output_type": "stream",
     "text": [
      "100%|██████████| 135107811/135107811 [00:03<00:00, 37453617.45it/s]\n"
     ]
    }
   ],
   "source": [
    "# Dowloading the CIFAR dataset\n",
    "cifar_data_url = \"https://s3.amazonaws.com/fast-ai-imageclas/cifar10.tgz\"\n",
    "download_url(cifar_data_url, '.')\n",
    "\n",
    "# Extract from archive\n",
    "with tarfile.open('./cifar10.tgz', 'r:gz') as tar:\n",
    "    tar.extractall(path='./data')\n",
    "cifar_data_dir = './data/cifar10'\n"
   ]
  },
  {
   "cell_type": "code",
   "execution_count": 4,
   "metadata": {
    "execution": {
     "iopub.execute_input": "2023-12-12T00:18:40.070601Z",
     "iopub.status.busy": "2023-12-12T00:18:40.070317Z",
     "iopub.status.idle": "2023-12-12T00:18:40.076213Z",
     "shell.execute_reply": "2023-12-12T00:18:40.075210Z",
     "shell.execute_reply.started": "2023-12-12T00:18:40.070577Z"
    }
   },
   "outputs": [],
   "source": [
    "# Normalizing the train and test data\n",
    "normalize_train = tt.Compose([tt.ToTensor(), tt.Normalize((0.4914, 0.4822, 0.4465), (0.2023, 0.1994, 0.2010)),])\n",
    "normalize_test = tt.Compose([tt.ToTensor(), tt.Normalize((0.4914, 0.4822, 0.4465), (0.2023, 0.1994, 0.2010)),])"
   ]
  },
  {
   "cell_type": "code",
   "execution_count": 5,
   "metadata": {
    "execution": {
     "iopub.execute_input": "2023-12-12T00:18:43.506470Z",
     "iopub.status.busy": "2023-12-12T00:18:43.506109Z",
     "iopub.status.idle": "2023-12-12T00:18:43.773153Z",
     "shell.execute_reply": "2023-12-12T00:18:43.772363Z",
     "shell.execute_reply.started": "2023-12-12T00:18:43.506440Z"
    }
   },
   "outputs": [],
   "source": [
    "train_data = ImageFolder(cifar_data_dir+'/train', normalize_train)\n",
    "test_data = ImageFolder(cifar_data_dir+'/test', normalize_test)"
   ]
  },
  {
   "cell_type": "code",
   "execution_count": 6,
   "metadata": {
    "execution": {
     "iopub.execute_input": "2023-12-12T00:18:46.252972Z",
     "iopub.status.busy": "2023-12-12T00:18:46.252626Z",
     "iopub.status.idle": "2023-12-12T00:18:46.258307Z",
     "shell.execute_reply": "2023-12-12T00:18:46.257242Z",
     "shell.execute_reply.started": "2023-12-12T00:18:46.252944Z"
    }
   },
   "outputs": [],
   "source": [
    "batch_size = 256\n",
    "train_loader = DataLoader(train_data, batch_size, shuffle=True, num_workers=3, pin_memory=True)\n",
    "test_loader = DataLoader(test_data, batch_size*2, num_workers=3, pin_memory=True)"
   ]
  },
  {
   "cell_type": "code",
   "execution_count": 16,
   "metadata": {
    "execution": {
     "iopub.execute_input": "2023-12-12T00:26:36.589708Z",
     "iopub.status.busy": "2023-12-12T00:26:36.589334Z",
     "iopub.status.idle": "2023-12-12T00:26:36.835844Z",
     "shell.execute_reply": "2023-12-12T00:26:36.834892Z",
     "shell.execute_reply.started": "2023-12-12T00:26:36.589678Z"
    }
   },
   "outputs": [],
   "source": [
    "device = \"cuda:0\"\n",
    "base_model = resnet18(10).to(device = device)"
   ]
  },
  {
   "cell_type": "code",
   "execution_count": 17,
   "metadata": {
    "execution": {
     "iopub.execute_input": "2023-12-12T00:26:37.600759Z",
     "iopub.status.busy": "2023-12-12T00:26:37.600026Z",
     "iopub.status.idle": "2023-12-12T00:38:39.730000Z",
     "shell.execute_reply": "2023-12-12T00:38:39.728772Z",
     "shell.execute_reply.started": "2023-12-12T00:26:37.600716Z"
    }
   },
   "outputs": [
    {
     "name": "stdout",
     "output_type": "stream",
     "text": [
      "Epoch 0 - train loss: 1.8526, test loss: 8.6622, test accuracy: 0.3518\n",
      "Epoch 1 - train loss: 1.3670, test loss: 1.1756, test accuracy: 0.5936\n",
      "Epoch 2 - train loss: 1.2886, test loss: 1.2093, test accuracy: 0.5698\n",
      "Epoch 3 - train loss: 1.0033, test loss: 1.0226, test accuracy: 0.6547\n",
      "Epoch 4 - train loss: 0.8851, test loss: 0.9706, test accuracy: 0.6646\n",
      "Epoch 5 - train loss: 0.7919, test loss: 0.8523, test accuracy: 0.7024\n",
      "Epoch 6 - train loss: 0.7294, test loss: 0.9397, test accuracy: 0.6882\n",
      "Epoch 7 - train loss: 0.6833, test loss: 0.9255, test accuracy: 0.6922\n",
      "Epoch 8 - train loss: 0.6632, test loss: 1.0140, test accuracy: 0.6785\n",
      "Epoch 9 - train loss: 0.6229, test loss: 0.8675, test accuracy: 0.7146\n",
      "Epoch 00010: reducing learning rate of group 0 to 5.0000e-03.\n",
      "Epoch 10 - train loss: 0.4414, test loss: 0.7626, test accuracy: 0.7504\n",
      "Epoch 11 - train loss: 0.3953, test loss: 0.8481, test accuracy: 0.7284\n",
      "Epoch 12 - train loss: 0.3669, test loss: 0.8267, test accuracy: 0.7429\n",
      "Epoch 13 - train loss: 0.3406, test loss: 0.8203, test accuracy: 0.7487\n",
      "Epoch 14 - train loss: 0.3137, test loss: 0.8689, test accuracy: 0.7419\n",
      "Epoch 00015: reducing learning rate of group 0 to 2.5000e-03.\n",
      "Epoch 15 - train loss: 0.1600, test loss: 0.9905, test accuracy: 0.7528\n",
      "Epoch 16 - train loss: 0.0988, test loss: 1.0837, test accuracy: 0.7549\n",
      "Epoch 17 - train loss: 0.1052, test loss: 1.1405, test accuracy: 0.7419\n",
      "Epoch 18 - train loss: 0.1109, test loss: 1.1589, test accuracy: 0.7545\n",
      "Epoch 00019: reducing learning rate of group 0 to 1.2500e-03.\n",
      "Epoch 19 - train loss: 0.0439, test loss: 1.1800, test accuracy: 0.7623\n",
      "Epoch 20 - train loss: 0.0118, test loss: 1.2902, test accuracy: 0.7630\n",
      "Epoch 21 - train loss: 0.0059, test loss: 1.3794, test accuracy: 0.7629\n",
      "Epoch 22 - train loss: 0.0077, test loss: 1.4516, test accuracy: 0.7614\n",
      "Epoch 00023: reducing learning rate of group 0 to 6.2500e-04.\n",
      "Epoch 23 - train loss: 0.0060, test loss: 1.4196, test accuracy: 0.7667\n",
      "Epoch 24 - train loss: 0.0022, test loss: 1.4417, test accuracy: 0.7699\n",
      "Epoch 25 - train loss: 0.0014, test loss: 1.4740, test accuracy: 0.7684\n",
      "Epoch 26 - train loss: 0.0012, test loss: 1.4818, test accuracy: 0.7674\n",
      "Epoch 00027: reducing learning rate of group 0 to 3.1250e-04.\n",
      "Epoch 27 - train loss: 0.0008, test loss: 1.5024, test accuracy: 0.7669\n",
      "Epoch 28 - train loss: 0.0008, test loss: 1.5142, test accuracy: 0.7677\n",
      "Epoch 29 - train loss: 0.0007, test loss: 1.5232, test accuracy: 0.7690\n",
      "Epoch 30 - train loss: 0.0007, test loss: 1.5332, test accuracy: 0.7700\n",
      "Epoch 00031: reducing learning rate of group 0 to 1.5625e-04.\n",
      "Epoch 31 - train loss: 0.0007, test loss: 1.5404, test accuracy: 0.7694\n",
      "Epoch 32 - train loss: 0.0005, test loss: 1.5529, test accuracy: 0.7681\n",
      "Epoch 33 - train loss: 0.0005, test loss: 1.5601, test accuracy: 0.7662\n",
      "Epoch 34 - train loss: 0.0005, test loss: 1.5657, test accuracy: 0.7686\n",
      "Epoch 00035: reducing learning rate of group 0 to 7.8125e-05.\n",
      "Epoch 35 - train loss: 0.0005, test loss: 1.5738, test accuracy: 0.7666\n",
      "Epoch 36 - train loss: 0.0004, test loss: 1.5868, test accuracy: 0.7667\n",
      "Epoch 37 - train loss: 0.0005, test loss: 1.5893, test accuracy: 0.7666\n",
      "Epoch 38 - train loss: 0.0005, test loss: 1.5785, test accuracy: 0.7670\n",
      "Epoch 00039: reducing learning rate of group 0 to 3.9063e-05.\n",
      "Epoch 39 - train loss: 0.0004, test loss: 1.5976, test accuracy: 0.7663\n",
      "CPU times: user 10min 30s, sys: 22.9 s, total: 10min 52s\n",
      "Wall time: 12min 2s\n"
     ]
    }
   ],
   "source": [
    "# Training the base model\n",
    "%%time\n",
    "epochs = 40\n",
    "history = train_one_epoch(epochs, base_model, train_loader, test_loader)\n",
    "torch.save(base_model.state_dict(), \"pretrained_resnet18.pt\")"
   ]
  },
  {
   "cell_type": "code",
   "execution_count": 18,
   "metadata": {
    "execution": {
     "iopub.execute_input": "2023-12-12T00:40:23.160714Z",
     "iopub.status.busy": "2023-12-12T00:40:23.159735Z",
     "iopub.status.idle": "2023-12-12T00:40:25.572330Z",
     "shell.execute_reply": "2023-12-12T00:40:25.571314Z",
     "shell.execute_reply.started": "2023-12-12T00:40:23.160672Z"
    }
   },
   "outputs": [
    {
     "data": {
      "text/plain": [
       "{'Loss': 1.5975735187530518, 'Acc': 0.7662626504898071}"
      ]
     },
     "execution_count": 18,
     "metadata": {},
     "output_type": "execute_result"
    }
   ],
   "source": [
    "# Calculating accuracy of test data on the base model\n",
    "base_model.load_state_dict(torch.load(\"pretrained_resnet18.pt\"))\n",
    "evaluate_model_data(base_model, test_loader)\n"
   ]
  },
  {
   "cell_type": "code",
   "execution_count": 19,
   "metadata": {
    "execution": {
     "iopub.execute_input": "2023-12-12T00:40:27.515273Z",
     "iopub.status.busy": "2023-12-12T00:40:27.514339Z",
     "iopub.status.idle": "2023-12-12T00:40:27.520989Z",
     "shell.execute_reply": "2023-12-12T00:40:27.519931Z",
     "shell.execute_reply.started": "2023-12-12T00:40:27.515235Z"
    }
   },
   "outputs": [],
   "source": [
    "# creating noise \n",
    "class Noise(nn.Module):\n",
    "    def __init__(self, *dim):\n",
    "        super().__init__()\n",
    "        self.noise = torch.nn.Parameter(torch.randn(*dim), requires_grad = True)\n",
    "        \n",
    "    def forward(self):\n",
    "        return self.noise"
   ]
  },
  {
   "cell_type": "code",
   "execution_count": 21,
   "metadata": {
    "execution": {
     "iopub.execute_input": "2023-12-12T00:40:57.619444Z",
     "iopub.status.busy": "2023-12-12T00:40:57.618486Z",
     "iopub.status.idle": "2023-12-12T00:40:57.624207Z",
     "shell.execute_reply": "2023-12-12T00:40:57.623203Z",
     "shell.execute_reply.started": "2023-12-12T00:40:57.619408Z"
    }
   },
   "outputs": [],
   "source": [
    "# list of all classes\n",
    "all_classes = [0, 1, 2, 3, 4, 5, 6, 7, 8, 9]\n",
    "\n",
    "# classes which are to be un-learned\n",
    "forget_classes = [0, 2]\n",
    "\n",
    "# Retain classes\n",
    "retain_classses = list(set(all_classes) - set(forget_classes))"
   ]
  },
  {
   "cell_type": "code",
   "execution_count": 22,
   "metadata": {
    "execution": {
     "iopub.execute_input": "2023-12-12T00:41:01.501856Z",
     "iopub.status.busy": "2023-12-12T00:41:01.501143Z",
     "iopub.status.idle": "2023-12-12T00:41:28.741635Z",
     "shell.execute_reply": "2023-12-12T00:41:28.740807Z",
     "shell.execute_reply.started": "2023-12-12T00:41:01.501826Z"
    }
   },
   "outputs": [],
   "source": [
    "# samples of all classes\n",
    "class_train = {}\n",
    "for i in all_classes:\n",
    "    class_train[i] = []\n",
    "\n",
    "for img, label in train_data:\n",
    "    class_train[label].append((img, label))\n",
    "    \n",
    "class_test = {}\n",
    "for i in all_classes:\n",
    "    class_test[i] = []\n",
    "\n",
    "for img, label in test_data:\n",
    "    class_test[label].append((img, label))"
   ]
  },
  {
   "cell_type": "code",
   "execution_count": 23,
   "metadata": {
    "execution": {
     "iopub.execute_input": "2023-12-12T00:41:46.336512Z",
     "iopub.status.busy": "2023-12-12T00:41:46.336147Z",
     "iopub.status.idle": "2023-12-12T00:41:46.342518Z",
     "shell.execute_reply": "2023-12-12T00:41:46.341391Z",
     "shell.execute_reply.started": "2023-12-12T00:41:46.336482Z"
    }
   },
   "outputs": [],
   "source": [
    "# getting some samples from retain classes\n",
    "num_samples_per_class = 1000\n",
    "\n",
    "retain_samples = []\n",
    "for i in range(len(all_classes)):\n",
    "    if all_classes[i] in retain_classses:\n",
    "        retain_samples += class_train[i][:num_samples_per_class]\n",
    "        "
   ]
  },
  {
   "cell_type": "code",
   "execution_count": 24,
   "metadata": {
    "execution": {
     "iopub.execute_input": "2023-12-12T00:41:49.038725Z",
     "iopub.status.busy": "2023-12-12T00:41:49.038345Z",
     "iopub.status.idle": "2023-12-12T00:41:49.205328Z",
     "shell.execute_reply": "2023-12-12T00:41:49.204305Z",
     "shell.execute_reply.started": "2023-12-12T00:41:49.038692Z"
    }
   },
   "outputs": [],
   "source": [
    "# retain test set\n",
    "retain_test = []\n",
    "for cls in all_classes:\n",
    "    if cls not in forget_classes:\n",
    "        for img, label in class_test[cls]:\n",
    "            retain_test.append((img, label))\n",
    "            \n",
    "# forget test set\n",
    "forget_test = []\n",
    "for cls in all_classes:\n",
    "    if cls in forget_classes:\n",
    "        for img, label in class_test[cls]:\n",
    "            forget_test.append((img, label))\n",
    "            \n",
    "forget_test_loader = DataLoader(forget_test, batch_size, num_workers=3, pin_memory=True)\n",
    "retain_test_loader = DataLoader(retain_test, batch_size*2, num_workers=3, pin_memory=True)"
   ]
  },
  {
   "cell_type": "code",
   "execution_count": 25,
   "metadata": {
    "execution": {
     "iopub.execute_input": "2023-12-12T00:41:50.823542Z",
     "iopub.status.busy": "2023-12-12T00:41:50.823175Z",
     "iopub.status.idle": "2023-12-12T00:41:51.113225Z",
     "shell.execute_reply": "2023-12-12T00:41:51.112250Z",
     "shell.execute_reply.started": "2023-12-12T00:41:50.823499Z"
    }
   },
   "outputs": [
    {
     "data": {
      "text/plain": [
       "<All keys matched successfully>"
      ]
     },
     "execution_count": 25,
     "metadata": {},
     "output_type": "execute_result"
    }
   ],
   "source": [
    "# loading the weights to the resnet18 unlearn model\n",
    "unlearn_model = resnet18(10).to(device = device)\n",
    "unlearn_model.load_state_dict(torch.load(\"pretrained_resnet18.pt\"))"
   ]
  },
  {
   "cell_type": "code",
   "execution_count": 26,
   "metadata": {
    "execution": {
     "iopub.execute_input": "2023-12-12T00:41:58.146686Z",
     "iopub.status.busy": "2023-12-12T00:41:58.145938Z",
     "iopub.status.idle": "2023-12-12T00:42:04.181425Z",
     "shell.execute_reply": "2023-12-12T00:42:04.180491Z",
     "shell.execute_reply.started": "2023-12-12T00:41:58.146651Z"
    }
   },
   "outputs": [
    {
     "name": "stdout",
     "output_type": "stream",
     "text": [
      "Optiming loss for class 0\n",
      "Loss: 192.3466796875\n",
      "Loss: 41.73059844970703\n",
      "Loss: 0.5920121669769287\n",
      "Loss: -7.632769584655762\n",
      "Loss: -11.03775691986084\n",
      "Optiming loss for class 2\n",
      "Loss: 192.3104248046875\n",
      "Loss: 41.819068908691406\n",
      "Loss: 0.6195129156112671\n",
      "Loss: -7.725771903991699\n",
      "Loss: -11.26416301727295\n",
      "CPU times: user 6 s, sys: 21.9 ms, total: 6.02 s\n",
      "Wall time: 6.03 s\n"
     ]
    }
   ],
   "source": [
    "%%time\n",
    "# Maximizing noise for forget classes\n",
    "noises = {}\n",
    "for cls in forget_classes:\n",
    "    print(\"Optiming loss for class {}\".format(cls))\n",
    "    noises[cls] = Noise(batch_size, 3, 32, 32).cuda()\n",
    "    opt = torch.optim.Adam(noises[cls].parameters(), lr = 0.1)\n",
    "\n",
    "    num_epochs = 5\n",
    "    num_steps = 8\n",
    "    class_label = cls\n",
    "    for epoch in range(num_epochs):\n",
    "        total_loss = []\n",
    "        for batch in range(num_steps):\n",
    "            inputs = noises[cls]()\n",
    "            labels = torch.zeros(batch_size).cuda()+class_label\n",
    "            outputs = unlearn_model(inputs)\n",
    "            loss = -F.cross_entropy(outputs, labels.long()) + 0.1*torch.mean(torch.sum(torch.square(inputs), [1, 2, 3]))\n",
    "            opt.zero_grad()\n",
    "            loss.backward()\n",
    "            opt.step()\n",
    "            total_loss.append(loss.cpu().detach().numpy())\n",
    "        print(\"Loss: {}\".format(np.mean(total_loss)))"
   ]
  },
  {
   "cell_type": "code",
   "execution_count": 27,
   "metadata": {
    "execution": {
     "iopub.execute_input": "2023-12-12T00:42:38.565411Z",
     "iopub.status.busy": "2023-12-12T00:42:38.564764Z",
     "iopub.status.idle": "2023-12-12T00:43:03.418864Z",
     "shell.execute_reply": "2023-12-12T00:43:03.417805Z",
     "shell.execute_reply.started": "2023-12-12T00:42:38.565376Z"
    }
   },
   "outputs": [
    {
     "name": "stdout",
     "output_type": "stream",
     "text": [
      "Optiming loss for class 1\n",
      "Loss: 9.898370742797852\n",
      "Loss: 6.415439605712891\n",
      "Loss: 5.39954948425293\n",
      "Loss: 4.83894157409668\n",
      "Loss: 4.452078342437744\n",
      "Optiming loss for class 3\n",
      "Loss: 8.842272758483887\n",
      "Loss: 5.321497440338135\n",
      "Loss: 4.336767196655273\n",
      "Loss: 3.8340373039245605\n",
      "Loss: 3.461146593093872\n",
      "Optiming loss for class 4\n",
      "Loss: 9.927892684936523\n",
      "Loss: 6.55422306060791\n",
      "Loss: 5.4255290031433105\n",
      "Loss: 4.8702239990234375\n",
      "Loss: 4.4648308753967285\n",
      "Optiming loss for class 5\n",
      "Loss: 9.600830078125\n",
      "Loss: 6.396271705627441\n",
      "Loss: 5.394969463348389\n",
      "Loss: 4.858287334442139\n",
      "Loss: 4.482732772827148\n",
      "Optiming loss for class 6\n",
      "Loss: 9.979734420776367\n",
      "Loss: 6.746089458465576\n",
      "Loss: 5.737107753753662\n",
      "Loss: 5.159703254699707\n",
      "Loss: 4.749669551849365\n",
      "Optiming loss for class 7\n",
      "Loss: 10.753073692321777\n",
      "Loss: 7.230379104614258\n",
      "Loss: 6.165305137634277\n",
      "Loss: 5.581254005432129\n",
      "Loss: 5.17600154876709\n",
      "Optiming loss for class 8\n",
      "Loss: 9.351963996887207\n",
      "Loss: 5.878281116485596\n",
      "Loss: 4.796874046325684\n",
      "Loss: 4.176741600036621\n",
      "Loss: 3.786877155303955\n",
      "Optiming loss for class 9\n",
      "Loss: 9.671930313110352\n",
      "Loss: 6.2871294021606445\n",
      "Loss: 5.162839889526367\n",
      "Loss: 4.642210960388184\n",
      "Loss: 4.300187110900879\n",
      "CPU times: user 24.8 s, sys: 40 ms, total: 24.9 s\n",
      "Wall time: 24.8 s\n"
     ]
    }
   ],
   "source": [
    "%%time\n",
    "# Minimizing noise for retain classes\n",
    "for cls in retain_classses:\n",
    "    print(\"Optiming loss for class {}\".format(cls))\n",
    "    noises[cls] = Noise(batch_size, 3, 32, 32).cuda()\n",
    "    opt = torch.optim.Adam(noises[cls].parameters(), lr = 0.1)\n",
    "\n",
    "    num_epochs = 5\n",
    "    num_steps = 8\n",
    "    class_label = cls\n",
    "    for epoch in range(num_epochs):\n",
    "        total_loss = []\n",
    "        for batch in range(num_steps):\n",
    "            inputs = noises[cls]()\n",
    "            labels = torch.zeros(batch_size).cuda()+class_label\n",
    "            outputs = unlearn_model(inputs)\n",
    "            loss = F.cross_entropy(outputs, labels.long())\n",
    "            opt.zero_grad()\n",
    "            loss.backward()\n",
    "            opt.step()\n",
    "            total_loss.append(loss.cpu().detach().numpy())\n",
    "        print(\"Loss: {}\".format(np.mean(total_loss)))"
   ]
  },
  {
   "cell_type": "code",
   "execution_count": 28,
   "metadata": {
    "execution": {
     "iopub.execute_input": "2023-12-12T00:43:21.295943Z",
     "iopub.status.busy": "2023-12-12T00:43:21.295088Z",
     "iopub.status.idle": "2023-12-12T00:43:33.559729Z",
     "shell.execute_reply": "2023-12-12T00:43:33.558589Z",
     "shell.execute_reply.started": "2023-12-12T00:43:21.295908Z"
    }
   },
   "outputs": [
    {
     "name": "stderr",
     "output_type": "stream",
     "text": [
      "<timed exec>:28: UserWarning: To copy construct from a tensor, it is recommended to use sourceTensor.clone().detach() or sourceTensor.clone().detach().requires_grad_(True), rather than torch.tensor(sourceTensor).\n"
     ]
    },
    {
     "name": "stdout",
     "output_type": "stream",
     "text": [
      "CPU times: user 12.2 s, sys: 77.5 ms, total: 12.2 s\n",
      "Wall time: 12.3 s\n"
     ]
    }
   ],
   "source": [
    "%%time\n",
    "\n",
    "# Training the unlearn model with the noise data \n",
    "batch_size = 256\n",
    "noisy_data = []\n",
    "num_batches = 20\n",
    "class_num = 0\n",
    "\n",
    "for cls in forget_classes:\n",
    "    for i in range(num_batches):\n",
    "        batch = noises[cls]().cpu().detach()\n",
    "        for i in range(batch[0].size(0)):\n",
    "            noisy_data.append((batch[i], torch.tensor(class_num)))\n",
    "\n",
    "noisy_loader = torch.utils.data.DataLoader(noisy_data, batch_size=256, shuffle = True)\n",
    "\n",
    "\n",
    "optimizer = torch.optim.Adam(unlearn_model.parameters(), lr = 0.02)\n",
    "\n",
    "epochs = 5\n",
    "for epoch in range(epochs):  \n",
    "    unlearn_model.train(True)\n",
    "    running_loss = 0.0\n",
    "    running_acc = 0\n",
    "    for i, data in enumerate(noisy_loader):\n",
    "        inputs, labels = data\n",
    "        inputs, labels = inputs.cuda(),torch.tensor(labels).cuda()\n",
    "\n",
    "        optimizer.zero_grad()\n",
    "        outputs = unlearn_model(inputs)\n",
    "        loss = F.cross_entropy(outputs, labels)\n",
    "        loss.backward()\n",
    "        optimizer.step()\n",
    "\n",
    "        running_loss += loss.item() * inputs.size(0)\n",
    "        out = torch.argmax(outputs.detach(),dim=1)\n",
    "        assert out.shape==labels.shape\n",
    "        running_acc += (labels==out).sum().item()"
   ]
  },
  {
   "cell_type": "code",
   "execution_count": 31,
   "metadata": {
    "execution": {
     "iopub.execute_input": "2023-12-12T00:45:06.153229Z",
     "iopub.status.busy": "2023-12-12T00:45:06.152663Z",
     "iopub.status.idle": "2023-12-12T00:45:07.089459Z",
     "shell.execute_reply": "2023-12-12T00:45:07.088269Z",
     "shell.execute_reply.started": "2023-12-12T00:45:06.153161Z"
    }
   },
   "outputs": [
    {
     "name": "stdout",
     "output_type": "stream",
     "text": [
      "Performance of unlearn Model on Forget Class\n",
      "Accuracy: 0.048828125\n",
      "Loss: 12.01893424987793\n",
      "\n",
      "Performance of unlearn Model on Retain Class\n",
      "Accuracy: 66.97998046875\n",
      "Loss: 1.2579243183135986\n"
     ]
    }
   ],
   "source": [
    "print(\"Performance of unlearn Model on Forget Class\")\n",
    "results = evaluate_model_data(unlearn_model, forget_test_loader)\n",
    "print(\"Accuracy: {}\".format(results[\"Acc\"]*100))\n",
    "print(\"Loss: {}\".format(results[\"Loss\"]))\n",
    "\n",
    "print(\"\\nPerformance of unlearn Model on Retain Class\")\n",
    "results = evaluate_model_data(unlearn_model, retain_test_loader)\n",
    "print(\"Accuracy: {}\".format(results[\"Acc\"]*100))\n",
    "print(\"Loss: {}\".format(results[\"Loss\"]))"
   ]
  },
  {
   "cell_type": "code",
   "execution_count": null,
   "metadata": {},
   "outputs": [],
   "source": []
  }
 ],
 "metadata": {
  "kaggle": {
   "accelerator": "nvidiaTeslaT4",
   "dataSources": [],
   "dockerImageVersionId": 30616,
   "isGpuEnabled": true,
   "isInternetEnabled": true,
   "language": "python",
   "sourceType": "notebook"
  },
  "kernelspec": {
   "display_name": "Python 3 (ipykernel)",
   "language": "python",
   "name": "python3"
  },
  "language_info": {
   "codemirror_mode": {
    "name": "ipython",
    "version": 3
   },
   "file_extension": ".py",
   "mimetype": "text/x-python",
   "name": "python",
   "nbconvert_exporter": "python",
   "pygments_lexer": "ipython3",
   "version": "3.11.6"
  }
 },
 "nbformat": 4,
 "nbformat_minor": 4
}
