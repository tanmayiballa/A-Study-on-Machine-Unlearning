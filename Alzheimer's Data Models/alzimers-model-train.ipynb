{
 "cells": [
  {
   "cell_type": "code",
   "execution_count": 1,
   "id": "7d3202e0-7d73-43d0-9941-a9d7400ec884",
   "metadata": {},
   "outputs": [
    {
     "name": "stdout",
     "output_type": "stream",
     "text": [
      "Running on device: CPU\n"
     ]
    }
   ],
   "source": [
    "import os\n",
    "import requests\n",
    "import numpy as np\n",
    "import matplotlib.pyplot as plt\n",
    "from sklearn import linear_model, model_selection\n",
    "\n",
    "import torch\n",
    "from torch import nn\n",
    "from torch import optim\n",
    "from torch.utils.data import DataLoader\n",
    "\n",
    "import torchvision\n",
    "from torchvision import transforms\n",
    "from torchvision.utils import make_grid\n",
    "from torchvision.models import resnet18\n",
    "from copy import deepcopy\n",
    "import torch.nn.functional as F\n",
    "from sklearn import linear_model, model_selection\n",
    "from sklearn.metrics import make_scorer, accuracy_score\n",
    "from tqdm.notebook import tqdm\n",
    "\n",
    "DEVICE = \"cuda\" if torch.cuda.is_available() else \"cpu\"\n",
    "print(\"Running on device:\", DEVICE.upper())\n",
    "\n",
    "from typing import Callable\n",
    "\n",
    "# manual random seed is used for dataset partitioning\n",
    "# to ensure reproducible results across runs\n",
    "RNG = torch.Generator().manual_seed(42)"
   ]
  },
  {
   "cell_type": "code",
   "execution_count": 2,
   "id": "50c36980-5519-4668-9c6c-74869e3b1ea0",
   "metadata": {},
   "outputs": [
    {
     "data": {
      "text/plain": [
       "False"
      ]
     },
     "execution_count": 2,
     "metadata": {},
     "output_type": "execute_result"
    }
   ],
   "source": [
    "torch.cuda.is_available()"
   ]
  },
  {
   "cell_type": "code",
   "execution_count": 3,
   "id": "586b8680-ad3b-44a4-bd29-1d733670f386",
   "metadata": {},
   "outputs": [
    {
     "name": "stdout",
     "output_type": "stream",
     "text": [
      "WARNING:tensorflow:From C:\\Users\\ranka\\AppData\\Local\\Programs\\Python\\Python311\\Lib\\site-packages\\keras\\src\\losses.py:2976: The name tf.losses.sparse_softmax_cross_entropy is deprecated. Please use tf.compat.v1.losses.sparse_softmax_cross_entropy instead.\n",
      "\n"
     ]
    }
   ],
   "source": [
    "import numpy as np\n",
    "import tensorflow as tf\n",
    "from tensorflow.keras.preprocessing.image import ImageDataGenerator as IDG\n",
    "import numpy as np\n",
    "import pandas as pd\n",
    "import tensorflow as tf\n",
    "import matplotlib.pyplot as plt\n",
    "\n",
    "import os\n",
    "from distutils.dir_util import copy_tree, remove_tree"
   ]
  },
  {
   "cell_type": "code",
   "execution_count": 4,
   "id": "db651c78-318c-4fa0-ab27-1654d10b7f8f",
   "metadata": {},
   "outputs": [
    {
     "name": "stdout",
     "output_type": "stream",
     "text": [
      " Volume in drive C is Windows\n",
      " Volume Serial Number is BA18-FA02\n",
      "\n",
      " Directory of C:\\Indiana University Bloomington\\Machine_Unlearning\n",
      "\n",
      "12/07/2023  04:09 PM    <DIR>          .\n",
      "11/07/2023  03:51 PM    <DIR>          ..\n",
      "12/07/2023  03:27 PM    <DIR>          .ipynb_checkpoints\n",
      "11/30/2023  07:47 PM         1,412,207 1.pdf\n",
      "11/30/2023  07:47 PM           631,462 2.pdf\n",
      "11/30/2023  07:47 PM         1,185,882 3.pdf\n",
      "11/30/2023  07:47 PM         1,255,077 4.pdf\n",
      "11/30/2023  07:47 PM        13,992,663 5.pdf\n",
      "11/30/2023  07:47 PM           912,777 6.pdf\n",
      "11/30/2023  07:48 PM         1,281,178 7.pdf\n",
      "12/07/2023  03:37 PM    <DIR>          Alzheimer_data\n",
      "12/07/2023  04:09 PM            45,272 alzimers-model-train.ipynb\n",
      "12/07/2023  03:57 PM    <DIR>          dataset\n",
      "12/04/2023  09:58 PM            36,093 evaluation-baseline-model.ipynb\n",
      "12/06/2023  07:03 PM           142,236 evaluation-reset-last-layers-baseline.ipynb\n",
      "12/06/2023  09:20 AM           123,910 evaluation-retrain-model.ipynb\n",
      "12/06/2023  11:45 AM           151,452 evaluation-scl-mu.ipynb\n",
      "12/05/2023  11:24 PM            52,476 evaluation-self-supervised-constrastive-mu (1).ipynb\n",
      "12/06/2023  09:18 AM           145,318 evaluation-unifrom-kl-div-mu.ipynb\n",
      "12/07/2023  02:03 PM         1,901,128 Kaggle_Unlearning_Challenge_Solution.pdf\n",
      "12/04/2023  04:07 PM           377,775 Machine_Unlearning_Metric.pdf\n",
      "10/07/2023  09:23 AM           334,277 Machine_Unlearning_Notion_Metric.pdf\n",
      "10/07/2023  09:31 AM         1,207,602 survey machine unlearing.pdf\n",
      "07/06/2023  04:02 PM         1,474,746 survey-machine unlearning.pdf\n",
      "              19 File(s)     26,663,531 bytes\n",
      "               5 Dir(s)  219,572,494,336 bytes free\n"
     ]
    }
   ],
   "source": [
    "ls"
   ]
  },
  {
   "cell_type": "code",
   "execution_count": 5,
   "id": "dea5e300-d207-487e-a8ae-15438dd50c75",
   "metadata": {},
   "outputs": [],
   "source": [
    "alzimer_dataset_directory = './Alzheimer_data/'"
   ]
  },
  {
   "cell_type": "code",
   "execution_count": 6,
   "id": "fd86387e-2052-4d8f-9a0b-cc25213a06e7",
   "metadata": {},
   "outputs": [
    {
     "name": "stdout",
     "output_type": "stream",
     "text": [
      "Working Directory Contents: ['MildDemented', 'ModerateDemented', 'NonDemented', 'VeryMildDemented']\n"
     ]
    }
   ],
   "source": [
    "base_dir = \"./Alzheimer_data/\"\n",
    "root_dir = \"./\"\n",
    "test_dir = base_dir + \"test/\"\n",
    "train_dir = base_dir + \"train/\"\n",
    "work_dir = root_dir + \"dataset/\"\n",
    "\n",
    "if os.path.exists(work_dir):\n",
    "    remove_tree(work_dir)\n",
    "    \n",
    "\n",
    "os.mkdir(work_dir)\n",
    "copy_tree(train_dir, work_dir)\n",
    "copy_tree(test_dir, work_dir)\n",
    "print(\"Working Directory Contents:\", os.listdir(work_dir))"
   ]
  },
  {
   "cell_type": "code",
   "execution_count": 7,
   "id": "91ba8a96-059f-4519-9578-8973707b2a2f",
   "metadata": {},
   "outputs": [],
   "source": [
    "CLASSES = [ 'NonDemented',\n",
    "            'VeryMildDemented',\n",
    "            'MildDemented',\n",
    "            'ModerateDemented']\n",
    "\n",
    "IMG_SIZE = 150\n",
    "IMAGE_SIZE = [150, 150]\n",
    "DIM = (IMG_SIZE, IMG_SIZE)"
   ]
  },
  {
   "cell_type": "code",
   "execution_count": 8,
   "id": "acbfa5d4-1206-4b61-9bcd-0a4921e31bf8",
   "metadata": {},
   "outputs": [
    {
     "name": "stdout",
     "output_type": "stream",
     "text": [
      "Found 5121 images belonging to 4 classes.\n"
     ]
    }
   ],
   "source": [
    "ZOOM = [.99, 1.01]\n",
    "BRIGHT_RANGE = [0.8, 1.2]\n",
    "HORZ_FLIP = True\n",
    "FILL_MODE = \"constant\"\n",
    "DATA_FORMAT = \"channels_last\"\n",
    "\n",
    "train_dr = IDG(rescale = 1./255, brightness_range=BRIGHT_RANGE, zoom_range=ZOOM, data_format=DATA_FORMAT, fill_mode=FILL_MODE, horizontal_flip=HORZ_FLIP)\n",
    "\n",
    "train_data_gen = train_dr.flow_from_directory(directory=train_dir, target_size=DIM, batch_size=6500, shuffle=False)"
   ]
  },
  {
   "cell_type": "code",
   "execution_count": 9,
   "id": "eae30487-f3b3-40ab-a350-049daa7da493",
   "metadata": {},
   "outputs": [],
   "source": [
    "train_data, train_labels = train_data_gen.next()"
   ]
  },
  {
   "cell_type": "code",
   "execution_count": 10,
   "id": "29ac788b-c473-4a6f-8b25-4812526f1c93",
   "metadata": {},
   "outputs": [
    {
     "name": "stdout",
     "output_type": "stream",
     "text": [
      "(5121, 150, 150, 3) (5121, 4)\n"
     ]
    }
   ],
   "source": [
    "print(train_data.shape, train_labels.shape)"
   ]
  },
  {
   "cell_type": "code",
   "execution_count": 11,
   "id": "52762b0f-85bf-48b2-aa9c-4394a2675e7b",
   "metadata": {},
   "outputs": [
    {
     "data": {
      "text/plain": [
       "array([[1., 0., 0., 0.],\n",
       "       [1., 0., 0., 0.],\n",
       "       [1., 0., 0., 0.],\n",
       "       ...,\n",
       "       [0., 0., 0., 1.],\n",
       "       [0., 0., 0., 1.],\n",
       "       [0., 0., 0., 1.]], dtype=float32)"
      ]
     },
     "execution_count": 11,
     "metadata": {},
     "output_type": "execute_result"
    }
   ],
   "source": [
    "train_labels"
   ]
  },
  {
   "cell_type": "markdown",
   "id": "d79f3636-9c08-4343-915f-868cc0c8186d",
   "metadata": {},
   "source": [
    "## Getting the train data and augmenting it"
   ]
  },
  {
   "cell_type": "code",
   "execution_count": 12,
   "id": "6dd09a88-6d34-47d6-ac15-5de060817f4c",
   "metadata": {},
   "outputs": [
    {
     "name": "stdout",
     "output_type": "stream",
     "text": [
      "(10240, 150, 150, 3) (10240, 4)\n"
     ]
    }
   ],
   "source": [
    "train_dr = IDG(rescale = 1./255, brightness_range=BRIGHT_RANGE, zoom_range=ZOOM, data_format=DATA_FORMAT, fill_mode=FILL_MODE, horizontal_flip=HORZ_FLIP)\n",
    "\n",
    "train_data_gen = train_dr.flow_from_directory(directory=train_dir, target_size=DIM, batch_size=6500, shuffle=False)\n",
    "\n",
    "train_data, train_labels = train_data_gen.next()\n",
    "#Performing over-sampling of the data, since the classes are imbalanced\n",
    "from imblearn.over_sampling import SMOTE\n",
    "\n",
    "sm = SMOTE(random_state=42)\n",
    "\n",
    "train_data, train_labels = sm.fit_resample(train_data.reshape(-1, IMG_SIZE * IMG_SIZE * 3), train_labels)\n",
    "\n",
    "train_data = train_data.reshape(-1, IMG_SIZE, IMG_SIZE, 3)\n",
    "\n",
    "print(train_data.shape, train_labels.shape)"
   ]
  },
  {
   "cell_type": "markdown",
   "id": "8c093047-3b1a-4f12-b395-d6924531ef9f",
   "metadata": {},
   "source": [
    "## Getting the test data and augmenting it"
   ]
  },
  {
   "cell_type": "code",
   "execution_count": 13,
   "id": "212ee7de-04b1-4dee-baa5-5cdff7519b8d",
   "metadata": {},
   "outputs": [
    {
     "name": "stdout",
     "output_type": "stream",
     "text": [
      "Found 1279 images belonging to 4 classes.\n",
      "(2560, 150, 150, 3) (2560, 4)\n"
     ]
    }
   ],
   "source": [
    "test_dr = IDG(rescale = 1./255, brightness_range=BRIGHT_RANGE, zoom_range=ZOOM, data_format=DATA_FORMAT, fill_mode=FILL_MODE, horizontal_flip=HORZ_FLIP)\n",
    "\n",
    "test_data_gen = test_dr.flow_from_directory(directory=test_dir, target_size=DIM, batch_size=6500, shuffle=False)\n",
    "\n",
    "test_data, test_labels = test_data_gen.next()\n",
    "\n",
    "from imblearn.over_sampling import SMOTE\n",
    "\n",
    "sm = SMOTE(random_state=42)\n",
    "\n",
    "test_data, test_labels = sm.fit_resample(test_data.reshape(-1, IMG_SIZE * IMG_SIZE * 3), test_labels)\n",
    "\n",
    "test_data = test_data.reshape(-1, IMG_SIZE, IMG_SIZE, 3)\n",
    "\n",
    "print(test_data.shape, test_labels.shape)"
   ]
  },
  {
   "cell_type": "code",
   "execution_count": 14,
   "id": "ab1c4792-3a81-4741-8f0b-63b8c842f068",
   "metadata": {},
   "outputs": [],
   "source": [
    "# from sklearn.model_selection import train_test_split\n",
    "\n",
    "# train_data, test_data, train_labels, test_labels = train_test_split(train_data, train_labels, test_size = 0.2, random_state=42)\n",
    "# train_data, val_data, train_labels, val_labels = train_test_split(train_data, train_labels, test_size = 0.2, random_state=42)"
   ]
  },
  {
   "cell_type": "markdown",
   "id": "07a30b53-4f0e-4165-bfe3-31ad830ae119",
   "metadata": {},
   "source": [
    "## I have defined the model in the below few steps - Please use this as your new model"
   ]
  },
  {
   "cell_type": "code",
   "execution_count": 15,
   "id": "5365fdf6-9cf0-474a-86e5-a7fa9be7fad6",
   "metadata": {},
   "outputs": [
    {
     "name": "stdout",
     "output_type": "stream",
     "text": [
      "WARNING:tensorflow:From C:\\Users\\ranka\\AppData\\Local\\Programs\\Python\\Python311\\Lib\\site-packages\\keras\\src\\backend.py:1398: The name tf.executing_eagerly_outside_functions is deprecated. Please use tf.compat.v1.executing_eagerly_outside_functions instead.\n",
      "\n",
      "WARNING:tensorflow:From C:\\Users\\ranka\\AppData\\Local\\Programs\\Python\\Python311\\Lib\\site-packages\\keras\\src\\layers\\normalization\\batch_normalization.py:979: The name tf.nn.fused_batch_norm is deprecated. Please use tf.compat.v1.nn.fused_batch_norm instead.\n",
      "\n"
     ]
    }
   ],
   "source": [
    "from tensorflow.keras.applications.inception_v3 import InceptionV3\n",
    "inception_model = InceptionV3(input_shape=(150, 150, 3), include_top=False, weights=\"imagenet\")"
   ]
  },
  {
   "cell_type": "code",
   "execution_count": 16,
   "id": "fb0ca1f3-b563-453f-a747-8a4d4d4ccba8",
   "metadata": {},
   "outputs": [],
   "source": [
    "for layer in inception_model.layers:\n",
    "    layer.trainable=False"
   ]
  },
  {
   "cell_type": "code",
   "execution_count": 17,
   "id": "07f97ebd-46e6-42f1-a30c-e4e93f78faf3",
   "metadata": {},
   "outputs": [
    {
     "name": "stderr",
     "output_type": "stream",
     "text": [
      "C:\\Users\\ranka\\AppData\\Local\\Programs\\Python\\Python311\\Lib\\site-packages\\tensorflow_addons\\utils\\tfa_eol_msg.py:23: UserWarning: \n",
      "\n",
      "TensorFlow Addons (TFA) has ended development and introduction of new features.\n",
      "TFA has entered a minimal maintenance and release mode until a planned end of life in May 2024.\n",
      "Please modify downstream libraries to take dependencies from other repositories in our TensorFlow community (e.g. Keras, Keras-CV, and Keras-NLP). \n",
      "\n",
      "For more information see: https://github.com/tensorflow/addons/issues/2807 \n",
      "\n",
      "  warnings.warn(\n",
      "C:\\Users\\ranka\\AppData\\Local\\Programs\\Python\\Python311\\Lib\\site-packages\\tensorflow_addons\\utils\\ensure_tf_install.py:53: UserWarning: Tensorflow Addons supports using Python ops for all Tensorflow versions above or equal to 2.12.0 and strictly below 2.15.0 (nightly versions are not supported). \n",
      " The versions of TensorFlow you are currently using is 2.15.0 and is not supported. \n",
      "Some things might work, some things might not.\n",
      "If you were to encounter a bug, do not file an issue.\n",
      "If you want to make sure you're using a tested and supported configuration, either change the TensorFlow version or the TensorFlow Addons's version. \n",
      "You can find the compatibility matrix in TensorFlow Addon's readme:\n",
      "https://github.com/tensorflow/addons\n",
      "  warnings.warn(\n"
     ]
    }
   ],
   "source": [
    "import tensorflow_addons as tfa\n",
    "from tensorflow.keras import Sequential, Input\n",
    "from tensorflow.keras.layers import Dense, Dropout\n",
    "from tensorflow.keras.layers import Conv2D, Flatten\n",
    "from tensorflow.keras.callbacks import ReduceLROnPlateau\n",
    "from tensorflow.keras.layers import SeparableConv2D, BatchNormalization, GlobalAveragePooling2D\n",
    "\n",
    "custom_inception_model = Sequential([\n",
    "        inception_model,\n",
    "        Dropout(0.5),\n",
    "        GlobalAveragePooling2D(),\n",
    "        Flatten(),\n",
    "        BatchNormalization(),\n",
    "        Dense(512, activation='relu'),\n",
    "        BatchNormalization(),\n",
    "        Dropout(0.5),\n",
    "        Dense(256, activation='relu'),\n",
    "        BatchNormalization(),\n",
    "        Dropout(0.5),\n",
    "        Dense(128, activation='relu'),\n",
    "        BatchNormalization(),\n",
    "        Dropout(0.5),\n",
    "        Dense(64, activation='relu'),\n",
    "        Dropout(0.5),\n",
    "        BatchNormalization(),\n",
    "        Dense(4, activation='softmax')        \n",
    "    ], name = \"inception_cnn_model\")"
   ]
  },
  {
   "cell_type": "code",
   "execution_count": 18,
   "id": "f2714964-bf7f-45c2-8faa-3f1c7150c1cf",
   "metadata": {},
   "outputs": [
    {
     "name": "stdout",
     "output_type": "stream",
     "text": [
      "WARNING:tensorflow:From C:\\Users\\ranka\\AppData\\Local\\Programs\\Python\\Python311\\Lib\\site-packages\\keras\\src\\optimizers\\__init__.py:309: The name tf.train.Optimizer is deprecated. Please use tf.compat.v1.train.Optimizer instead.\n",
      "\n",
      "Model: \"inception_cnn_model\"\n",
      "_________________________________________________________________\n",
      " Layer (type)                Output Shape              Param #   \n",
      "=================================================================\n",
      " inception_v3 (Functional)   (None, 3, 3, 2048)        21802784  \n",
      "                                                                 \n",
      " dropout (Dropout)           (None, 3, 3, 2048)        0         \n",
      "                                                                 \n",
      " global_average_pooling2d (  (None, 2048)              0         \n",
      " GlobalAveragePooling2D)                                         \n",
      "                                                                 \n",
      " flatten (Flatten)           (None, 2048)              0         \n",
      "                                                                 \n",
      " batch_normalization_94 (Ba  (None, 2048)              8192      \n",
      " tchNormalization)                                               \n",
      "                                                                 \n",
      " dense (Dense)               (None, 512)               1049088   \n",
      "                                                                 \n",
      " batch_normalization_95 (Ba  (None, 512)               2048      \n",
      " tchNormalization)                                               \n",
      "                                                                 \n",
      " dropout_1 (Dropout)         (None, 512)               0         \n",
      "                                                                 \n",
      " dense_1 (Dense)             (None, 256)               131328    \n",
      "                                                                 \n",
      " batch_normalization_96 (Ba  (None, 256)               1024      \n",
      " tchNormalization)                                               \n",
      "                                                                 \n",
      " dropout_2 (Dropout)         (None, 256)               0         \n",
      "                                                                 \n",
      " dense_2 (Dense)             (None, 128)               32896     \n",
      "                                                                 \n",
      " batch_normalization_97 (Ba  (None, 128)               512       \n",
      " tchNormalization)                                               \n",
      "                                                                 \n",
      " dropout_3 (Dropout)         (None, 128)               0         \n",
      "                                                                 \n",
      " dense_3 (Dense)             (None, 64)                8256      \n",
      "                                                                 \n",
      " dropout_4 (Dropout)         (None, 64)                0         \n",
      "                                                                 \n",
      " batch_normalization_98 (Ba  (None, 64)                256       \n",
      " tchNormalization)                                               \n",
      "                                                                 \n",
      " dense_4 (Dense)             (None, 4)                 260       \n",
      "                                                                 \n",
      "=================================================================\n",
      "Total params: 23036644 (87.88 MB)\n",
      "Trainable params: 1227844 (4.68 MB)\n",
      "Non-trainable params: 21808800 (83.19 MB)\n",
      "_________________________________________________________________\n"
     ]
    }
   ],
   "source": [
    "METRICS = [\n",
    "      tf.keras.metrics.BinaryAccuracy(name='accuracy'),\n",
    "      tf.keras.metrics.Precision(name='precision'),\n",
    "      tf.keras.metrics.Recall(name='recall'),  \n",
    "      tf.keras.metrics.AUC(name='auc')\n",
    "]\n",
    "\n",
    "# CALLBACKS = rop_callback\n",
    "    \n",
    "custom_inception_model.compile(optimizer='adam',\n",
    "                              loss=tf.losses.CategoricalCrossentropy(),\n",
    "                              metrics=METRICS)\n",
    "\n",
    "custom_inception_model.summary()"
   ]
  },
  {
   "cell_type": "code",
   "execution_count": 20,
   "id": "236b48c7-c97a-4113-a5c1-b94b870f8890",
   "metadata": {},
   "outputs": [
    {
     "name": "stdout",
     "output_type": "stream",
     "text": [
      "Epoch 1/20\n",
      "WARNING:tensorflow:From C:\\Users\\ranka\\AppData\\Local\\Programs\\Python\\Python311\\Lib\\site-packages\\keras\\src\\utils\\tf_utils.py:492: The name tf.ragged.RaggedTensorValue is deprecated. Please use tf.compat.v1.ragged.RaggedTensorValue instead.\n",
      "\n",
      "320/320 [==============================] - 62s 169ms/step - loss: 1.2763 - accuracy: 0.7595 - precision: 0.5328 - recall: 0.3105 - auc: 0.7248 - val_loss: 1.1701 - val_accuracy: 0.7645 - val_precision: 0.5661 - val_recall: 0.2477 - val_auc: 0.7327\n",
      "Epoch 2/20\n",
      "320/320 [==============================] - 60s 187ms/step - loss: 0.8776 - accuracy: 0.8153 - precision: 0.7304 - recall: 0.4138 - auc: 0.8546 - val_loss: 1.2317 - val_accuracy: 0.7649 - val_precision: 0.5574 - val_recall: 0.2902 - val_auc: 0.7500\n",
      "Epoch 3/20\n",
      "320/320 [==============================] - 78s 245ms/step - loss: 0.7773 - accuracy: 0.8331 - precision: 0.7786 - recall: 0.4644 - auc: 0.8877 - val_loss: 1.1053 - val_accuracy: 0.7917 - val_precision: 0.6515 - val_recall: 0.3586 - val_auc: 0.7988\n",
      "Epoch 4/20\n",
      "320/320 [==============================] - 83s 260ms/step - loss: 0.7122 - accuracy: 0.8440 - precision: 0.7879 - recall: 0.5146 - auc: 0.9063 - val_loss: 1.4485 - val_accuracy: 0.7711 - val_precision: 0.5902 - val_recall: 0.2762 - val_auc: 0.7149\n",
      "Epoch 5/20\n",
      "320/320 [==============================] - 89s 277ms/step - loss: 0.6829 - accuracy: 0.8517 - precision: 0.7921 - recall: 0.5515 - auc: 0.9146 - val_loss: 1.3511 - val_accuracy: 0.7766 - val_precision: 0.6012 - val_recall: 0.3156 - val_auc: 0.7514\n",
      "Epoch 6/20\n",
      "320/320 [==============================] - 96s 301ms/step - loss: 0.6616 - accuracy: 0.8565 - precision: 0.7883 - recall: 0.5823 - auc: 0.9207 - val_loss: 1.2961 - val_accuracy: 0.7791 - val_precision: 0.5993 - val_recall: 0.3512 - val_auc: 0.7499\n",
      "Epoch 7/20\n",
      "320/320 [==============================] - 109s 342ms/step - loss: 0.6298 - accuracy: 0.8624 - precision: 0.7848 - recall: 0.6193 - auc: 0.9282 - val_loss: 1.2687 - val_accuracy: 0.7857 - val_precision: 0.5984 - val_recall: 0.4348 - val_auc: 0.7775\n",
      "Epoch 8/20\n",
      "320/320 [==============================] - 120s 375ms/step - loss: 0.6072 - accuracy: 0.8692 - precision: 0.7881 - recall: 0.6523 - auc: 0.9336 - val_loss: 1.6040 - val_accuracy: 0.7467 - val_precision: 0.4923 - val_recall: 0.4227 - val_auc: 0.7210\n",
      "Epoch 9/20\n",
      "320/320 [==============================] - 119s 373ms/step - loss: 0.5820 - accuracy: 0.8770 - precision: 0.7953 - recall: 0.6842 - auc: 0.9390 - val_loss: 1.4774 - val_accuracy: 0.7662 - val_precision: 0.5418 - val_recall: 0.4199 - val_auc: 0.7484\n",
      "Epoch 10/20\n",
      "320/320 [==============================] - 112s 349ms/step - loss: 0.5587 - accuracy: 0.8832 - precision: 0.8056 - recall: 0.7022 - auc: 0.9441 - val_loss: 1.6236 - val_accuracy: 0.7388 - val_precision: 0.4759 - val_recall: 0.4430 - val_auc: 0.7340\n",
      "Epoch 11/20\n",
      "320/320 [==============================] - 95s 297ms/step - loss: 0.5339 - accuracy: 0.8894 - precision: 0.8126 - recall: 0.7249 - auc: 0.9491 - val_loss: 1.4300 - val_accuracy: 0.7812 - val_precision: 0.5798 - val_recall: 0.4543 - val_auc: 0.7721\n",
      "Epoch 12/20\n",
      "320/320 [==============================] - 92s 289ms/step - loss: 0.5169 - accuracy: 0.8954 - precision: 0.8199 - recall: 0.7455 - auc: 0.9525 - val_loss: 1.5002 - val_accuracy: 0.7655 - val_precision: 0.5372 - val_recall: 0.4488 - val_auc: 0.7540\n",
      "Epoch 13/20\n",
      "320/320 [==============================] - 95s 298ms/step - loss: 0.4963 - accuracy: 0.9000 - precision: 0.8259 - recall: 0.7601 - auc: 0.9561 - val_loss: 1.7353 - val_accuracy: 0.7515 - val_precision: 0.5034 - val_recall: 0.4293 - val_auc: 0.7266\n",
      "Epoch 14/20\n",
      "320/320 [==============================] - 95s 296ms/step - loss: 0.4728 - accuracy: 0.9048 - precision: 0.8340 - recall: 0.7732 - auc: 0.9601 - val_loss: 1.5908 - val_accuracy: 0.7720 - val_precision: 0.5522 - val_recall: 0.4648 - val_auc: 0.7583\n",
      "Epoch 15/20\n",
      "320/320 [==============================] - 88s 274ms/step - loss: 0.4638 - accuracy: 0.9091 - precision: 0.8430 - recall: 0.7820 - auc: 0.9619 - val_loss: 1.6721 - val_accuracy: 0.7656 - val_precision: 0.5370 - val_recall: 0.4535 - val_auc: 0.7443\n",
      "Epoch 16/20\n",
      "320/320 [==============================] - 85s 266ms/step - loss: 0.4471 - accuracy: 0.9125 - precision: 0.8461 - recall: 0.7944 - auc: 0.9644 - val_loss: 1.8305 - val_accuracy: 0.7491 - val_precision: 0.4980 - val_recall: 0.4395 - val_auc: 0.7265\n",
      "Epoch 17/20\n",
      "320/320 [==============================] - 117s 367ms/step - loss: 0.4372 - accuracy: 0.9152 - precision: 0.8528 - recall: 0.7986 - auc: 0.9659 - val_loss: 1.8620 - val_accuracy: 0.7604 - val_precision: 0.5243 - val_recall: 0.4465 - val_auc: 0.7262\n",
      "Epoch 18/20\n",
      "320/320 [==============================] - 54s 169ms/step - loss: 0.4217 - accuracy: 0.9180 - precision: 0.8572 - recall: 0.8063 - auc: 0.9683 - val_loss: 2.0321 - val_accuracy: 0.7392 - val_precision: 0.4760 - val_recall: 0.4301 - val_auc: 0.7157\n",
      "Epoch 19/20\n",
      "320/320 [==============================] - 68s 212ms/step - loss: 0.4068 - accuracy: 0.9203 - precision: 0.8588 - recall: 0.8152 - auc: 0.9701 - val_loss: 1.7914 - val_accuracy: 0.7622 - val_precision: 0.5284 - val_recall: 0.4535 - val_auc: 0.7478\n",
      "Epoch 20/20\n",
      "320/320 [==============================] - 81s 252ms/step - loss: 0.4016 - accuracy: 0.9223 - precision: 0.8640 - recall: 0.8180 - auc: 0.9710 - val_loss: 1.7477 - val_accuracy: 0.7628 - val_precision: 0.5284 - val_recall: 0.4758 - val_auc: 0.7573\n"
     ]
    }
   ],
   "source": [
    "#Fit the training data to the model and validate it using the validation data\n",
    "EPOCHS = 20\n",
    "\n",
    "history = custom_inception_model.fit(train_data, train_labels, validation_data=(test_data, test_labels), epochs=EPOCHS)"
   ]
  },
  {
   "cell_type": "code",
   "execution_count": 23,
   "id": "3bcbf015-8dd0-4f0d-a543-11f57bd2b5a7",
   "metadata": {},
   "outputs": [
    {
     "name": "stderr",
     "output_type": "stream",
     "text": [
      "C:\\Users\\ranka\\AppData\\Local\\Programs\\Python\\Python311\\Lib\\site-packages\\keras\\src\\engine\\training.py:3103: UserWarning: You are saving your model as an HDF5 file via `model.save()`. This file format is considered legacy. We recommend using instead the native Keras format, e.g. `model.save('my_model.keras')`.\n",
      "  saving_api.save_model(\n"
     ]
    }
   ],
   "source": [
    "custom_inception_model.save_weights('origional_model_weights.h5')\n",
    "\n",
    "# You can also save the entire model (architecture + weights + optimizer state) to a single file\n",
    "custom_inception_model.save('all_origional_model.h5')"
   ]
  },
  {
   "cell_type": "code",
   "execution_count": 21,
   "id": "897267be-213b-4deb-81c0-8fbfeef8c19d",
   "metadata": {},
   "outputs": [
    {
     "name": "stdout",
     "output_type": "stream",
     "text": [
      "Model: \"retrain_inception_cnn_model\"\n",
      "_________________________________________________________________\n",
      " Layer (type)                Output Shape              Param #   \n",
      "=================================================================\n",
      " inception_v3 (Functional)   (None, 3, 3, 2048)        21802784  \n",
      "                                                                 \n",
      " dropout_5 (Dropout)         (None, 3, 3, 2048)        0         \n",
      "                                                                 \n",
      " global_average_pooling2d_1  (None, 2048)              0         \n",
      "  (GlobalAveragePooling2D)                                       \n",
      "                                                                 \n",
      " flatten_1 (Flatten)         (None, 2048)              0         \n",
      "                                                                 \n",
      " batch_normalization_99 (Ba  (None, 2048)              8192      \n",
      " tchNormalization)                                               \n",
      "                                                                 \n",
      " dense_5 (Dense)             (None, 512)               1049088   \n",
      "                                                                 \n",
      " batch_normalization_100 (B  (None, 512)               2048      \n",
      " atchNormalization)                                              \n",
      "                                                                 \n",
      " dropout_6 (Dropout)         (None, 512)               0         \n",
      "                                                                 \n",
      " dense_6 (Dense)             (None, 256)               131328    \n",
      "                                                                 \n",
      " batch_normalization_101 (B  (None, 256)               1024      \n",
      " atchNormalization)                                              \n",
      "                                                                 \n",
      " dropout_7 (Dropout)         (None, 256)               0         \n",
      "                                                                 \n",
      " dense_7 (Dense)             (None, 128)               32896     \n",
      "                                                                 \n",
      " batch_normalization_102 (B  (None, 128)               512       \n",
      " atchNormalization)                                              \n",
      "                                                                 \n",
      " dropout_8 (Dropout)         (None, 128)               0         \n",
      "                                                                 \n",
      " dense_8 (Dense)             (None, 64)                8256      \n",
      "                                                                 \n",
      " dropout_9 (Dropout)         (None, 64)                0         \n",
      "                                                                 \n",
      " batch_normalization_103 (B  (None, 64)                256       \n",
      " atchNormalization)                                              \n",
      "                                                                 \n",
      " dense_9 (Dense)             (None, 4)                 260       \n",
      "                                                                 \n",
      "=================================================================\n",
      "Total params: 23036644 (87.88 MB)\n",
      "Trainable params: 1227844 (4.68 MB)\n",
      "Non-trainable params: 21808800 (83.19 MB)\n",
      "_________________________________________________________________\n"
     ]
    }
   ],
   "source": [
    "retrain_inception_model = Sequential([\n",
    "        inception_model,\n",
    "        Dropout(0.5),\n",
    "        GlobalAveragePooling2D(),\n",
    "        Flatten(),\n",
    "        BatchNormalization(),\n",
    "        Dense(512, activation='relu'),\n",
    "        BatchNormalization(),\n",
    "        Dropout(0.5),\n",
    "        Dense(256, activation='relu'),\n",
    "        BatchNormalization(),\n",
    "        Dropout(0.5),\n",
    "        Dense(128, activation='relu'),\n",
    "        BatchNormalization(),\n",
    "        Dropout(0.5),\n",
    "        Dense(64, activation='relu'),\n",
    "        Dropout(0.5),\n",
    "        BatchNormalization(),\n",
    "        Dense(4, activation='softmax')        \n",
    "    ], name = \"retrain_inception_cnn_model\")\n",
    "\n",
    "METRICS = [\n",
    "      tf.keras.metrics.BinaryAccuracy(name='accuracy'),\n",
    "      tf.keras.metrics.Precision(name='precision'),\n",
    "      tf.keras.metrics.Recall(name='recall'),  \n",
    "      tf.keras.metrics.AUC(name='auc')\n",
    "]\n",
    "\n",
    "# CALLBACKS = rop_callback\n",
    "    \n",
    "retrain_inception_model.compile(optimizer='adam',\n",
    "                              loss=tf.losses.CategoricalCrossentropy(),\n",
    "                              metrics=METRICS)\n",
    "\n",
    "retrain_inception_model.summary()"
   ]
  },
  {
   "cell_type": "code",
   "execution_count": 22,
   "id": "dec768b2-9d0c-4e1b-8459-ff72c228f08f",
   "metadata": {},
   "outputs": [
    {
     "data": {
      "text/plain": [
       "(10240, 150, 150, 3)"
      ]
     },
     "execution_count": 22,
     "metadata": {},
     "output_type": "execute_result"
    }
   ],
   "source": [
    "train_data.shape"
   ]
  },
  {
   "cell_type": "code",
   "execution_count": 24,
   "id": "df1999e1-0660-40f6-9daa-90c682348f1e",
   "metadata": {},
   "outputs": [
    {
     "name": "stdout",
     "output_type": "stream",
     "text": [
      "10240\n"
     ]
    }
   ],
   "source": [
    "total_indices = len(train_data)\n",
    "print(total_indices)\n",
    "\n",
    "num_indices_to_select = int(0.1 * total_indices)\n",
    "\n",
    "# Generate a random sample of indices\n",
    "random_indices = np.random.choice(total_indices, size=num_indices_to_select, replace=False)"
   ]
  },
  {
   "cell_type": "code",
   "execution_count": 26,
   "id": "03dd1411-42a3-4b89-acdf-71dc193ea02d",
   "metadata": {},
   "outputs": [
    {
     "data": {
      "text/plain": [
       "1024"
      ]
     },
     "execution_count": 26,
     "metadata": {},
     "output_type": "execute_result"
    }
   ],
   "source": [
    "len(random_indices)"
   ]
  },
  {
   "cell_type": "code",
   "execution_count": 27,
   "id": "5df28eec-608a-4ee0-ba47-f50a5085c8cd",
   "metadata": {},
   "outputs": [
    {
     "data": {
      "text/plain": [
       "array([6184, 2095, 9759, ...,  161, 9376, 8479])"
      ]
     },
     "execution_count": 27,
     "metadata": {},
     "output_type": "execute_result"
    }
   ],
   "source": [
    "random_indices"
   ]
  },
  {
   "cell_type": "code",
   "execution_count": 28,
   "id": "2b016838-bd26-4e27-9682-4e2a83ad43a0",
   "metadata": {},
   "outputs": [],
   "source": [
    "file_path = 'forget_indices.txt'\n",
    "\n",
    "# Save the random indices to the text file\n",
    "np.savetxt(file_path, random_indices, fmt='%d')"
   ]
  },
  {
   "cell_type": "code",
   "execution_count": 29,
   "id": "8b047217-2620-41b8-8f7c-7c5b48deed21",
   "metadata": {},
   "outputs": [],
   "source": [
    "forget_data, forget_label = train_data[random_indices], train_labels[random_indices]"
   ]
  },
  {
   "cell_type": "code",
   "execution_count": 30,
   "id": "b60081b1-bb2d-4710-89f7-8c5ab3ecbe38",
   "metadata": {},
   "outputs": [
    {
     "data": {
      "text/plain": [
       "1024"
      ]
     },
     "execution_count": 30,
     "metadata": {},
     "output_type": "execute_result"
    }
   ],
   "source": [
    "len(forget_data)"
   ]
  },
  {
   "cell_type": "code",
   "execution_count": 31,
   "id": "a7390118-0014-42b4-a09e-156ca6849587",
   "metadata": {},
   "outputs": [],
   "source": [
    "mask = np.isin(np.arange(len(train_data)), random_indices, invert=True)\n",
    "\n",
    "# Use the boolean mask to obtain the subset of train_data\n",
    "retain_data, retain_labels = train_data[mask], train_labels[mask]"
   ]
  },
  {
   "cell_type": "code",
   "execution_count": 32,
   "id": "ff53cb23-2727-49fd-a1c3-a322a8d77096",
   "metadata": {},
   "outputs": [
    {
     "data": {
      "text/plain": [
       "9216"
      ]
     },
     "execution_count": 32,
     "metadata": {},
     "output_type": "execute_result"
    }
   ],
   "source": [
    "len(retain_data)"
   ]
  },
  {
   "cell_type": "code",
   "execution_count": 33,
   "id": "09b69c35-ef1c-4088-8242-f2d3153139eb",
   "metadata": {},
   "outputs": [
    {
     "data": {
      "text/plain": [
       "10240"
      ]
     },
     "execution_count": 33,
     "metadata": {},
     "output_type": "execute_result"
    }
   ],
   "source": [
    "len(train_data)"
   ]
  },
  {
   "cell_type": "code",
   "execution_count": null,
   "id": "b78459db-7020-4a8b-a2c3-b66747a46dbc",
   "metadata": {},
   "outputs": [
    {
     "name": "stdout",
     "output_type": "stream",
     "text": [
      "Epoch 1/20\n",
      "288/288 [==============================] - 63s 184ms/step - loss: 1.3122 - accuracy: 0.7528 - precision: 0.5095 - recall: 0.2956 - auc: 0.7085 - val_loss: 1.0970 - val_accuracy: 0.7781 - val_precision: 0.7835 - val_recall: 0.1555 - val_auc: 0.7575\n",
      "Epoch 2/20\n",
      "288/288 [==============================] - 53s 183ms/step - loss: 0.9046 - accuracy: 0.8114 - precision: 0.7159 - recall: 0.4073 - auc: 0.8473 - val_loss: 1.2233 - val_accuracy: 0.7808 - val_precision: 0.6986 - val_recall: 0.2164 - val_auc: 0.7527\n",
      "Epoch 3/20\n",
      "288/288 [==============================] - 54s 188ms/step - loss: 0.8094 - accuracy: 0.8246 - precision: 0.7519 - recall: 0.4452 - auc: 0.8778 - val_loss: 1.2635 - val_accuracy: 0.7772 - val_precision: 0.6233 - val_recall: 0.2754 - val_auc: 0.7465\n",
      "Epoch 4/20\n",
      "288/288 [==============================] - 63s 220ms/step - loss: 0.7609 - accuracy: 0.8371 - precision: 0.7672 - recall: 0.5000 - auc: 0.8937 - val_loss: 1.2452 - val_accuracy: 0.7826 - val_precision: 0.6135 - val_recall: 0.3527 - val_auc: 0.7724\n",
      "Epoch 5/20\n",
      "288/288 [==============================] - 76s 263ms/step - loss: 0.7153 - accuracy: 0.8450 - precision: 0.7792 - recall: 0.5301 - auc: 0.9057 - val_loss: 1.3069 - val_accuracy: 0.7767 - val_precision: 0.5958 - val_recall: 0.3316 - val_auc: 0.7570\n",
      "Epoch 6/20\n",
      "288/288 [==============================] - 79s 275ms/step - loss: 0.6870 - accuracy: 0.8497 - precision: 0.7781 - recall: 0.5581 - auc: 0.9134 - val_loss: 1.2994 - val_accuracy: 0.7802 - val_precision: 0.5995 - val_recall: 0.3637 - val_auc: 0.7664\n",
      "Epoch 7/20\n",
      "288/288 [==============================] - 93s 325ms/step - loss: 0.6515 - accuracy: 0.8603 - precision: 0.7866 - recall: 0.6053 - auc: 0.9230 - val_loss: 1.4062 - val_accuracy: 0.7741 - val_precision: 0.5704 - val_recall: 0.3910 - val_auc: 0.7437\n",
      "Epoch 8/20\n",
      "288/288 [==============================] - 116s 404ms/step - loss: 0.6277 - accuracy: 0.8620 - precision: 0.7870 - recall: 0.6143 - auc: 0.9282 - val_loss: 1.1217 - val_accuracy: 0.8003 - val_precision: 0.6373 - val_recall: 0.4668 - val_auc: 0.8106\n",
      "Epoch 9/20\n",
      "288/288 [==============================] - 121s 420ms/step - loss: 0.5917 - accuracy: 0.8737 - precision: 0.7931 - recall: 0.6696 - auc: 0.9370 - val_loss: 1.2147 - val_accuracy: 0.7955 - val_precision: 0.6338 - val_recall: 0.4313 - val_auc: 0.7905\n",
      "Epoch 10/20\n",
      "288/288 [==============================] - 102s 356ms/step - loss: 0.5954 - accuracy: 0.8752 - precision: 0.7946 - recall: 0.6751 - auc: 0.9371 - val_loss: 1.4047 - val_accuracy: 0.7843 - val_precision: 0.5911 - val_recall: 0.4449 - val_auc: 0.7658\n",
      "Epoch 11/20\n",
      "288/288 [==============================] - 91s 314ms/step - loss: 0.5701 - accuracy: 0.8802 - precision: 0.8019 - recall: 0.6918 - auc: 0.9418 - val_loss: 1.3328 - val_accuracy: 0.7854 - val_precision: 0.5893 - val_recall: 0.4664 - val_auc: 0.7757\n",
      "Epoch 12/20\n",
      "288/288 [==============================] - 84s 292ms/step - loss: 0.5437 - accuracy: 0.8886 - precision: 0.8153 - recall: 0.7170 - auc: 0.9473 - val_loss: 1.6265 - val_accuracy: 0.7474 - val_precision: 0.4939 - val_recall: 0.4277 - val_auc: 0.7291\n",
      "Epoch 13/20\n",
      "288/288 [==============================] - 84s 291ms/step - loss: 0.5279 - accuracy: 0.8932 - precision: 0.8174 - recall: 0.7376 - auc: 0.9505 - val_loss: 1.3109 - val_accuracy: 0.7756 - val_precision: 0.5625 - val_recall: 0.4605 - val_auc: 0.7853\n",
      "Epoch 14/20\n",
      "288/288 [==============================] - 85s 295ms/step - loss: 0.5092 - accuracy: 0.8990 - precision: 0.8278 - recall: 0.7524 - auc: 0.9539 - val_loss: 1.1324 - val_accuracy: 0.8026 - val_precision: 0.6221 - val_recall: 0.5363 - val_auc: 0.8261\n",
      "Epoch 15/20\n",
      "288/288 [==============================] - 83s 288ms/step - loss: 0.4921 - accuracy: 0.9003 - precision: 0.8272 - recall: 0.7601 - auc: 0.9568 - val_loss: 1.2812 - val_accuracy: 0.7979 - val_precision: 0.6092 - val_recall: 0.5352 - val_auc: 0.8036\n",
      "Epoch 16/20\n",
      "288/288 [==============================] - 81s 281ms/step - loss: 0.4715 - accuracy: 0.9067 - precision: 0.8376 - recall: 0.7776 - auc: 0.9603 - val_loss: 1.7565 - val_accuracy: 0.7484 - val_precision: 0.4965 - val_recall: 0.4461 - val_auc: 0.7255\n",
      "Epoch 17/20\n",
      "288/288 [==============================] - 78s 271ms/step - loss: 0.4504 - accuracy: 0.9105 - precision: 0.8444 - recall: 0.7870 - auc: 0.9637 - val_loss: 1.3481 - val_accuracy: 0.7893 - val_precision: 0.5925 - val_recall: 0.5027 - val_auc: 0.7952\n",
      "Epoch 18/20\n",
      "288/288 [==============================] - 79s 274ms/step - loss: 0.4511 - accuracy: 0.9126 - precision: 0.8465 - recall: 0.7943 - auc: 0.9637 - val_loss: 1.3109 - val_accuracy: 0.7911 - val_precision: 0.5909 - val_recall: 0.5348 - val_auc: 0.8170\n",
      "Epoch 19/20\n",
      "288/288 [==============================] - 84s 293ms/step - loss: 0.4289 - accuracy: 0.9159 - precision: 0.8530 - recall: 0.8019 - auc: 0.9670 - val_loss: 1.2464 - val_accuracy: 0.7940 - val_precision: 0.5997 - val_recall: 0.5297 - val_auc: 0.8194\n",
      "Epoch 20/20\n",
      "288/288 [==============================] - ETA: 0s - loss: 0.4243 - accuracy: 0.9177 - precision: 0.8549 - recall: 0.8081 - auc: 0.9675"
     ]
    }
   ],
   "source": [
    "EPOCHS = 20\n",
    "\n",
    "history = retrain_inception_model.fit(retain_data, retain_labels, validation_data=(test_data, test_labels), epochs=EPOCHS)"
   ]
  },
  {
   "cell_type": "code",
   "execution_count": null,
   "id": "29fd8bbc-2d33-4827-833d-a757aea2757e",
   "metadata": {},
   "outputs": [],
   "source": [
    "retrain_inception_model.save_weights('retrain_model_weights.h5')\n",
    "\n",
    "# You can also save the entire model (architecture + weights + optimizer state) to a single file\n",
    "retrain_inception_model.save('all_retrain_model.h5')"
   ]
  },
  {
   "cell_type": "code",
   "execution_count": null,
   "id": "f1600c29-3443-4452-867c-17cb99cdc728",
   "metadata": {},
   "outputs": [],
   "source": []
  }
 ],
 "metadata": {
  "kernelspec": {
   "display_name": "Python 3 (ipykernel)",
   "language": "python",
   "name": "python3"
  },
  "language_info": {
   "codemirror_mode": {
    "name": "ipython",
    "version": 3
   },
   "file_extension": ".py",
   "mimetype": "text/x-python",
   "name": "python",
   "nbconvert_exporter": "python",
   "pygments_lexer": "ipython3",
   "version": "3.11.6"
  }
 },
 "nbformat": 4,
 "nbformat_minor": 5
}
