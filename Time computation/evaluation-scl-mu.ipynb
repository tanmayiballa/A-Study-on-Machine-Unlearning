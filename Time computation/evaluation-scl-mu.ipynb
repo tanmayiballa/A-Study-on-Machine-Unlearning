{
 "cells": [
  {
   "cell_type": "code",
   "execution_count": 1,
   "metadata": {
    "execution": {
     "iopub.execute_input": "2023-12-10T02:53:23.182293Z",
     "iopub.status.busy": "2023-12-10T02:53:23.181938Z",
     "iopub.status.idle": "2023-12-10T02:53:28.440842Z",
     "shell.execute_reply": "2023-12-10T02:53:28.439962Z",
     "shell.execute_reply.started": "2023-12-10T02:53:23.182263Z"
    }
   },
   "outputs": [
    {
     "name": "stderr",
     "output_type": "stream",
     "text": [
      "/opt/conda/lib/python3.10/site-packages/scipy/__init__.py:146: UserWarning: A NumPy version >=1.16.5 and <1.23.0 is required for this version of SciPy (detected version 1.24.3\n",
      "  warnings.warn(f\"A NumPy version >={np_minversion} and <{np_maxversion}\"\n"
     ]
    },
    {
     "name": "stdout",
     "output_type": "stream",
     "text": [
      "Running on device: CUDA\n"
     ]
    },
    {
     "data": {
      "text/plain": [
       "'cuda'"
      ]
     },
     "execution_count": 1,
     "metadata": {},
     "output_type": "execute_result"
    }
   ],
   "source": [
    "import os\n",
    "import subprocess\n",
    "import time\n",
    "\n",
    "import pandas as pd\n",
    "import torch\n",
    "import torchvision\n",
    "import torch.nn as nn\n",
    "import torch.optim as optim\n",
    "from torchvision.models import resnet18\n",
    "from torch.utils.data import DataLoader, Dataset\n",
    "import torch.nn.functional as F\n",
    "\n",
    "import os\n",
    "import requests\n",
    "import numpy as np\n",
    "import matplotlib.pyplot as plt\n",
    "from sklearn import linear_model, model_selection\n",
    "\n",
    "import torch\n",
    "from torch import nn\n",
    "from torch import optim\n",
    "from torch.utils.data import DataLoader\n",
    "\n",
    "import torchvision\n",
    "from torchvision import transforms\n",
    "from torchvision.utils import make_grid\n",
    "from torchvision.models import resnet18\n",
    "from copy import deepcopy\n",
    "import torch.nn.functional as F\n",
    "from sklearn import linear_model, model_selection\n",
    "from sklearn.metrics import make_scorer, accuracy_score\n",
    "from tqdm.notebook import tqdm\n",
    "\n",
    "DEVICE = \"cuda\" if torch.cuda.is_available() else \"cpu\"\n",
    "print(\"Running on device:\", DEVICE.upper())\n",
    "\n",
    "from typing import Callable\n",
    "\n",
    "# manual random seed is used for dataset partitioning\n",
    "# to ensure reproducible results across runs\n",
    "RNG = torch.Generator().manual_seed(42)\n",
    "\n",
    "DEVICE = 'cuda' if torch.cuda.is_available() else 'cpu' \n",
    "DEVICE"
   ]
  },
  {
   "cell_type": "code",
   "execution_count": 2,
   "metadata": {
    "execution": {
     "iopub.execute_input": "2023-12-10T02:53:28.442835Z",
     "iopub.status.busy": "2023-12-10T02:53:28.442423Z",
     "iopub.status.idle": "2023-12-10T02:53:28.462147Z",
     "shell.execute_reply": "2023-12-10T02:53:28.461216Z",
     "shell.execute_reply.started": "2023-12-10T02:53:28.442808Z"
    }
   },
   "outputs": [
    {
     "data": {
      "text/plain": [
       "<torch._C.Generator at 0x7936f3df36f0>"
      ]
     },
     "execution_count": 2,
     "metadata": {},
     "output_type": "execute_result"
    }
   ],
   "source": [
    "torch.manual_seed(3047)\n",
    "\n",
    "Gr = torch.Generator()\n",
    "Gr.manual_seed(20)\n",
    "\n",
    "Gf = torch.Generator()\n",
    "Gf.manual_seed(30)\n",
    "\n",
    "Gv = torch.Generator()\n",
    "Gv.manual_seed(40)"
   ]
  },
  {
   "cell_type": "code",
   "execution_count": 3,
   "metadata": {
    "execution": {
     "iopub.execute_input": "2023-12-10T02:53:28.464125Z",
     "iopub.status.busy": "2023-12-10T02:53:28.463370Z",
     "iopub.status.idle": "2023-12-10T02:53:28.470602Z",
     "shell.execute_reply": "2023-12-10T02:53:28.469779Z",
     "shell.execute_reply.started": "2023-12-10T02:53:28.464092Z"
    }
   },
   "outputs": [],
   "source": [
    "# Mock setting\n",
    "\n",
    "import logging\n",
    "import requests\n",
    "import tqdm\n",
    "from torch.utils.data import Subset\n",
    "from torchvision import transforms\n",
    "\n",
    "USE_MOCK: bool = True\n",
    "\n",
    "if USE_MOCK:\n",
    "    logging.warning('Running with Mock')\n",
    "    logging.warning('In this mode, internet access may be required.')\n",
    "\n",
    "    # The number of checkpoints in this mode.\n",
    "    # NOTE: 512 checkpoints are required in this competition.\n",
    "    n_checkpoints = 10\n",
    "    \n",
    "    # The directory for a dataset and a pretrained model\n",
    "    mock_dir = './mock'\n",
    "    mock_model_path = os.path.join(mock_dir, \"weights_resnet18_cifar10.pth\")\n",
    "    os.makedirs(mock_dir, exist_ok=True)"
   ]
  },
  {
   "cell_type": "code",
   "execution_count": 4,
   "metadata": {
    "execution": {
     "iopub.execute_input": "2023-12-10T02:53:28.472937Z",
     "iopub.status.busy": "2023-12-10T02:53:28.472605Z",
     "iopub.status.idle": "2023-12-10T02:53:28.480735Z",
     "shell.execute_reply": "2023-12-10T02:53:28.479968Z",
     "shell.execute_reply.started": "2023-12-10T02:53:28.472896Z"
    }
   },
   "outputs": [],
   "source": [
    "# It's really important to add an accelerator to your notebook, as otherwise the submission will fail.\n",
    "# We recomment using the P100 GPU rather than T4 as it's faster and will increase the chances of passing the time cut-off threshold.\n",
    "\n",
    "if DEVICE != 'cuda':\n",
    "    raise RuntimeError('Make sure you have added an accelerator to your notebook; the submission will fail otherwise!')"
   ]
  },
  {
   "cell_type": "code",
   "execution_count": 5,
   "metadata": {
    "execution": {
     "iopub.execute_input": "2023-12-10T02:53:28.482054Z",
     "iopub.status.busy": "2023-12-10T02:53:28.481697Z",
     "iopub.status.idle": "2023-12-10T02:53:28.494060Z",
     "shell.execute_reply": "2023-12-10T02:53:28.493311Z",
     "shell.execute_reply.started": "2023-12-10T02:53:28.482022Z"
    }
   },
   "outputs": [],
   "source": [
    "local_path = \"retrain_weights_resnet18_cifar10.pth\"\n",
    "if os.path.exists(local_path):\n",
    "    os.remove(local_path)"
   ]
  },
  {
   "cell_type": "code",
   "execution_count": 6,
   "metadata": {
    "execution": {
     "iopub.execute_input": "2023-12-10T02:53:28.495390Z",
     "iopub.status.busy": "2023-12-10T02:53:28.495079Z",
     "iopub.status.idle": "2023-12-10T02:53:28.835415Z",
     "shell.execute_reply": "2023-12-10T02:53:28.834416Z",
     "shell.execute_reply.started": "2023-12-10T02:53:28.495359Z"
    }
   },
   "outputs": [
    {
     "data": {
      "text/plain": [
       "44808169"
      ]
     },
     "execution_count": 6,
     "metadata": {},
     "output_type": "execute_result"
    }
   ],
   "source": [
    "response = requests.get(\"https://storage.googleapis.com/unlearning-challenge/\" + local_path)\n",
    "open(local_path, \"wb\").write(response.content)"
   ]
  },
  {
   "cell_type": "code",
   "execution_count": 7,
   "metadata": {
    "execution": {
     "iopub.execute_input": "2023-12-10T02:53:28.837073Z",
     "iopub.status.busy": "2023-12-10T02:53:28.836685Z",
     "iopub.status.idle": "2023-12-10T02:53:32.114505Z",
     "shell.execute_reply": "2023-12-10T02:53:32.113638Z",
     "shell.execute_reply.started": "2023-12-10T02:53:28.837040Z"
    }
   },
   "outputs": [
    {
     "data": {
      "text/plain": [
       "ResNet(\n",
       "  (conv1): Conv2d(3, 64, kernel_size=(7, 7), stride=(2, 2), padding=(3, 3), bias=False)\n",
       "  (bn1): BatchNorm2d(64, eps=1e-05, momentum=0.1, affine=True, track_running_stats=True)\n",
       "  (relu): ReLU(inplace=True)\n",
       "  (maxpool): MaxPool2d(kernel_size=3, stride=2, padding=1, dilation=1, ceil_mode=False)\n",
       "  (layer1): Sequential(\n",
       "    (0): BasicBlock(\n",
       "      (conv1): Conv2d(64, 64, kernel_size=(3, 3), stride=(1, 1), padding=(1, 1), bias=False)\n",
       "      (bn1): BatchNorm2d(64, eps=1e-05, momentum=0.1, affine=True, track_running_stats=True)\n",
       "      (relu): ReLU(inplace=True)\n",
       "      (conv2): Conv2d(64, 64, kernel_size=(3, 3), stride=(1, 1), padding=(1, 1), bias=False)\n",
       "      (bn2): BatchNorm2d(64, eps=1e-05, momentum=0.1, affine=True, track_running_stats=True)\n",
       "    )\n",
       "    (1): BasicBlock(\n",
       "      (conv1): Conv2d(64, 64, kernel_size=(3, 3), stride=(1, 1), padding=(1, 1), bias=False)\n",
       "      (bn1): BatchNorm2d(64, eps=1e-05, momentum=0.1, affine=True, track_running_stats=True)\n",
       "      (relu): ReLU(inplace=True)\n",
       "      (conv2): Conv2d(64, 64, kernel_size=(3, 3), stride=(1, 1), padding=(1, 1), bias=False)\n",
       "      (bn2): BatchNorm2d(64, eps=1e-05, momentum=0.1, affine=True, track_running_stats=True)\n",
       "    )\n",
       "  )\n",
       "  (layer2): Sequential(\n",
       "    (0): BasicBlock(\n",
       "      (conv1): Conv2d(64, 128, kernel_size=(3, 3), stride=(2, 2), padding=(1, 1), bias=False)\n",
       "      (bn1): BatchNorm2d(128, eps=1e-05, momentum=0.1, affine=True, track_running_stats=True)\n",
       "      (relu): ReLU(inplace=True)\n",
       "      (conv2): Conv2d(128, 128, kernel_size=(3, 3), stride=(1, 1), padding=(1, 1), bias=False)\n",
       "      (bn2): BatchNorm2d(128, eps=1e-05, momentum=0.1, affine=True, track_running_stats=True)\n",
       "      (downsample): Sequential(\n",
       "        (0): Conv2d(64, 128, kernel_size=(1, 1), stride=(2, 2), bias=False)\n",
       "        (1): BatchNorm2d(128, eps=1e-05, momentum=0.1, affine=True, track_running_stats=True)\n",
       "      )\n",
       "    )\n",
       "    (1): BasicBlock(\n",
       "      (conv1): Conv2d(128, 128, kernel_size=(3, 3), stride=(1, 1), padding=(1, 1), bias=False)\n",
       "      (bn1): BatchNorm2d(128, eps=1e-05, momentum=0.1, affine=True, track_running_stats=True)\n",
       "      (relu): ReLU(inplace=True)\n",
       "      (conv2): Conv2d(128, 128, kernel_size=(3, 3), stride=(1, 1), padding=(1, 1), bias=False)\n",
       "      (bn2): BatchNorm2d(128, eps=1e-05, momentum=0.1, affine=True, track_running_stats=True)\n",
       "    )\n",
       "  )\n",
       "  (layer3): Sequential(\n",
       "    (0): BasicBlock(\n",
       "      (conv1): Conv2d(128, 256, kernel_size=(3, 3), stride=(2, 2), padding=(1, 1), bias=False)\n",
       "      (bn1): BatchNorm2d(256, eps=1e-05, momentum=0.1, affine=True, track_running_stats=True)\n",
       "      (relu): ReLU(inplace=True)\n",
       "      (conv2): Conv2d(256, 256, kernel_size=(3, 3), stride=(1, 1), padding=(1, 1), bias=False)\n",
       "      (bn2): BatchNorm2d(256, eps=1e-05, momentum=0.1, affine=True, track_running_stats=True)\n",
       "      (downsample): Sequential(\n",
       "        (0): Conv2d(128, 256, kernel_size=(1, 1), stride=(2, 2), bias=False)\n",
       "        (1): BatchNorm2d(256, eps=1e-05, momentum=0.1, affine=True, track_running_stats=True)\n",
       "      )\n",
       "    )\n",
       "    (1): BasicBlock(\n",
       "      (conv1): Conv2d(256, 256, kernel_size=(3, 3), stride=(1, 1), padding=(1, 1), bias=False)\n",
       "      (bn1): BatchNorm2d(256, eps=1e-05, momentum=0.1, affine=True, track_running_stats=True)\n",
       "      (relu): ReLU(inplace=True)\n",
       "      (conv2): Conv2d(256, 256, kernel_size=(3, 3), stride=(1, 1), padding=(1, 1), bias=False)\n",
       "      (bn2): BatchNorm2d(256, eps=1e-05, momentum=0.1, affine=True, track_running_stats=True)\n",
       "    )\n",
       "  )\n",
       "  (layer4): Sequential(\n",
       "    (0): BasicBlock(\n",
       "      (conv1): Conv2d(256, 512, kernel_size=(3, 3), stride=(2, 2), padding=(1, 1), bias=False)\n",
       "      (bn1): BatchNorm2d(512, eps=1e-05, momentum=0.1, affine=True, track_running_stats=True)\n",
       "      (relu): ReLU(inplace=True)\n",
       "      (conv2): Conv2d(512, 512, kernel_size=(3, 3), stride=(1, 1), padding=(1, 1), bias=False)\n",
       "      (bn2): BatchNorm2d(512, eps=1e-05, momentum=0.1, affine=True, track_running_stats=True)\n",
       "      (downsample): Sequential(\n",
       "        (0): Conv2d(256, 512, kernel_size=(1, 1), stride=(2, 2), bias=False)\n",
       "        (1): BatchNorm2d(512, eps=1e-05, momentum=0.1, affine=True, track_running_stats=True)\n",
       "      )\n",
       "    )\n",
       "    (1): BasicBlock(\n",
       "      (conv1): Conv2d(512, 512, kernel_size=(3, 3), stride=(1, 1), padding=(1, 1), bias=False)\n",
       "      (bn1): BatchNorm2d(512, eps=1e-05, momentum=0.1, affine=True, track_running_stats=True)\n",
       "      (relu): ReLU(inplace=True)\n",
       "      (conv2): Conv2d(512, 512, kernel_size=(3, 3), stride=(1, 1), padding=(1, 1), bias=False)\n",
       "      (bn2): BatchNorm2d(512, eps=1e-05, momentum=0.1, affine=True, track_running_stats=True)\n",
       "    )\n",
       "  )\n",
       "  (avgpool): AdaptiveAvgPool2d(output_size=(1, 1))\n",
       "  (fc): Linear(in_features=512, out_features=10, bias=True)\n",
       ")"
      ]
     },
     "execution_count": 7,
     "metadata": {},
     "output_type": "execute_result"
    }
   ],
   "source": [
    "weights_pretrained = torch.load(local_path, map_location=DEVICE)\n",
    "\n",
    "# load model with pre-trained weights\n",
    "rt_model = resnet18(weights=None, num_classes=10)\n",
    "rt_model.load_state_dict(weights_pretrained)\n",
    "rt_model.to(DEVICE)\n",
    "rt_model.eval()\n",
    "\n",
    "# print its accuracy on retain and forget set\n",
    "# print(f\"Retain set accuracy: {100.0 * accuracy(rt_model, retain_loader):0.1f}%\")\n",
    "# print(f\"Forget set accuracy: {100.0 * accuracy(rt_model, forget_loader):0.1f}%\")"
   ]
  },
  {
   "cell_type": "code",
   "execution_count": 8,
   "metadata": {
    "execution": {
     "iopub.execute_input": "2023-12-10T02:53:32.116251Z",
     "iopub.status.busy": "2023-12-10T02:53:32.115951Z",
     "iopub.status.idle": "2023-12-10T02:53:32.123260Z",
     "shell.execute_reply": "2023-12-10T02:53:32.122384Z",
     "shell.execute_reply.started": "2023-12-10T02:53:32.116215Z"
    }
   },
   "outputs": [],
   "source": [
    "# # Helper functions for loading the hidden dataset.\n",
    "\n",
    "# if USE_MOCK:\n",
    "    \n",
    "#     class DatasetWrapper(Dataset):\n",
    "        \n",
    "#         def __init__(self, ds: Dataset):\n",
    "#             self._ds = ds\n",
    "    \n",
    "#         def __len__(self):\n",
    "#             return len(self._ds)\n",
    "    \n",
    "#         def __getitem__(self, index):\n",
    "#             item = self._ds[index]\n",
    "#             result = {\n",
    "#                 'image': item[0],\n",
    "#                 'image_id': index,\n",
    "#                 'age_group': item[1],\n",
    "#                 'age': item[1],\n",
    "#                 'person_id': index,\n",
    "#             }\n",
    "#             return result\n",
    "    \n",
    "#     def get_dataset(batch_size, retain_ratio=0.98, thinning_param: int=1, root=mock_dir) -> tuple[DataLoader, DataLoader, DataLoader]:\n",
    "        \n",
    "#         # utils\n",
    "#         normalize = transforms.Compose([\n",
    "#             transforms.ToTensor(),\n",
    "#             transforms.Normalize((0.4914, 0.4822, 0.4465), (0.2023, 0.1994, 0.2010)),\n",
    "#         ])\n",
    "\n",
    "#         # create dataset\n",
    "#         train_ds = DatasetWrapper(torchvision.datasets.CIFAR10(root=mock_dir, train=True, download=True, transform=normalize))\n",
    "#         retain_ds = Subset(train_ds, range(0, int(len(train_ds)*retain_ratio), thinning_param))\n",
    "#         forget_ds = Subset(train_ds, range(int(len(train_ds)*retain_ratio), len(train_ds), thinning_param))\n",
    "#         val_ds = DatasetWrapper(torchvision.datasets.CIFAR10(root=mock_dir, train=False, download=True, transform=normalize))\n",
    "\n",
    "#         retain_loader = DataLoader(retain_ds, batch_size=batch_size, shuffle=True)\n",
    "#         forget_loader = DataLoader(forget_ds, batch_size=batch_size, shuffle=True)\n",
    "#         validation_loader = DataLoader(val_ds, batch_size=batch_size, shuffle=True)\n",
    "\n",
    "#         return retain_loader, forget_loader, validation_loader\n",
    "    \n",
    "#     # For test\n",
    "# #     for sample in get_dataset(3)[0]:\n",
    "# #         print(sample)\n",
    "# #         break\n",
    "    \n",
    "# else:\n",
    "#     def load_example(df_row):\n",
    "#         image = torchvision.io.read_image(df_row['image_path'])\n",
    "#         result = {\n",
    "#             'image': image,\n",
    "#             'image_id': df_row['image_id'],\n",
    "#             'age_group': df_row['age_group'],\n",
    "#             'age': df_row['age'],\n",
    "#             'person_id': df_row['person_id']\n",
    "#         }\n",
    "#         return result\n",
    "\n",
    "\n",
    "#     class HiddenDataset(Dataset):\n",
    "#         '''The hidden dataset.'''\n",
    "#         def __init__(self, split='train'):\n",
    "#             super().__init__()\n",
    "#             self.examples = []\n",
    "\n",
    "#             df = pd.read_csv(f'/kaggle/input/neurips-2023-machine-unlearning/{split}.csv')\n",
    "#             df['image_path'] = df['image_id'].apply(lambda x: os.path.join('/kaggle/input/neurips-2023-machine-unlearning/', 'images', x.split('-')[0], x.split('-')[1] + '.png'))\n",
    "#             df = df.sort_values(by='image_path')\n",
    "#             df.apply(lambda row: self.examples.append(load_example(row)), axis=1)\n",
    "#             if len(self.examples) == 0:\n",
    "#                 raise ValueError('No examples.')\n",
    "\n",
    "#         def __len__(self):\n",
    "#             return len(self.examples)\n",
    "\n",
    "#         def __getitem__(self, idx):\n",
    "#             example = self.examples[idx]\n",
    "#             image = example['image']\n",
    "#             image = image.to(torch.float32)\n",
    "#             example['image'] = image\n",
    "#             return example\n",
    "\n",
    "\n",
    "#     def get_dataset(batch_size):\n",
    "#         '''Get the dataset.'''\n",
    "#         retain_ds = HiddenDataset(split='retain')\n",
    "#         forget_ds = HiddenDataset(split='forget')\n",
    "#         val_ds = HiddenDataset(split='validation')\n",
    "\n",
    "#         retain_loader = DataLoader(retain_ds, batch_size=batch_size, shuffle=True, generator=Gr)\n",
    "#         forget_loader = DataLoader(forget_ds, batch_size=batch_size, shuffle=True, generator=Gf)\n",
    "#         validation_loader = DataLoader(val_ds, batch_size=batch_size, shuffle=True, generator=Gv)\n",
    "#         #retain_loader = DataLoader(retain_ds, batch_size=batch_size, shuffle=True)\n",
    "#         #forget_loader = DataLoader(forget_ds, batch_size=batch_size, shuffle=True)\n",
    "#         #validation_loader = DataLoader(val_ds, batch_size=batch_size, shuffle=True)\n",
    "\n",
    "#         return retain_loader, forget_loader, validation_loader"
   ]
  },
  {
   "cell_type": "code",
   "execution_count": 9,
   "metadata": {
    "execution": {
     "iopub.execute_input": "2023-12-10T02:53:32.124787Z",
     "iopub.status.busy": "2023-12-10T02:53:32.124470Z",
     "iopub.status.idle": "2023-12-10T02:53:40.763340Z",
     "shell.execute_reply": "2023-12-10T02:53:40.762402Z",
     "shell.execute_reply.started": "2023-12-10T02:53:32.124761Z"
    }
   },
   "outputs": [
    {
     "name": "stdout",
     "output_type": "stream",
     "text": [
      "Downloading https://www.cs.toronto.edu/~kriz/cifar-10-python.tar.gz to ./data/cifar-10-python.tar.gz\n"
     ]
    },
    {
     "name": "stderr",
     "output_type": "stream",
     "text": [
      "100%|██████████| 170498071/170498071 [00:04<00:00, 35253517.56it/s]\n"
     ]
    },
    {
     "name": "stdout",
     "output_type": "stream",
     "text": [
      "Extracting ./data/cifar-10-python.tar.gz to ./data\n",
      "Files already downloaded and verified\n"
     ]
    }
   ],
   "source": [
    "# download and pre-process CIFAR10\n",
    "normalize = transforms.Compose(\n",
    "    [\n",
    "        transforms.ToTensor(),\n",
    "        transforms.Normalize((0.4914, 0.4822, 0.4465), (0.2023, 0.1994, 0.2010)),\n",
    "    ]\n",
    ")\n",
    "\n",
    "train_set = torchvision.datasets.CIFAR10(\n",
    "    root=\"./data\", train=True, download=True, transform=normalize\n",
    ")\n",
    "train_loader = DataLoader(train_set, batch_size=128, shuffle=True, num_workers=2)\n",
    "\n",
    "# we split held out data into test and validation set\n",
    "held_out = torchvision.datasets.CIFAR10(\n",
    "    root=\"./data\", train=False, download=True, transform=normalize\n",
    ")\n",
    "test_set, val_set = torch.utils.data.random_split(held_out, [0.5, 0.5], generator=RNG)\n",
    "test_loader = DataLoader(test_set, batch_size=128, shuffle=False, num_workers=2)\n",
    "val_loader = DataLoader(val_set, batch_size=128, shuffle=False, num_workers=2)\n",
    "\n",
    "# download the forget and retain index split\n",
    "local_path = \"forget_idx.npy\"\n",
    "if not os.path.exists(local_path):\n",
    "    response = requests.get(\n",
    "        \"https://storage.googleapis.com/unlearning-challenge/\" + local_path\n",
    "    )\n",
    "    open(local_path, \"wb\").write(response.content)\n",
    "forget_idx = np.load(local_path)\n",
    "\n",
    "# construct indices of retain from those of the forget set\n",
    "forget_mask = np.zeros(len(train_set.targets), dtype=bool)\n",
    "forget_mask[forget_idx] = True\n",
    "retain_idx = np.arange(forget_mask.size)[~forget_mask]\n",
    "\n",
    "# split train set into a forget and a retain set\n",
    "forget_set = torch.utils.data.Subset(train_set, forget_idx)\n",
    "retain_set = torch.utils.data.Subset(train_set, retain_idx)\n",
    "\n",
    "forget_loader = torch.utils.data.DataLoader(\n",
    "    forget_set, batch_size=128, shuffle=True, num_workers=2\n",
    ")\n",
    "retain_loader = torch.utils.data.DataLoader(\n",
    "    retain_set, batch_size=128, shuffle=True, num_workers=2, generator=RNG\n",
    ")"
   ]
  },
  {
   "cell_type": "code",
   "execution_count": 10,
   "metadata": {
    "execution": {
     "iopub.execute_input": "2023-12-10T02:53:40.769603Z",
     "iopub.status.busy": "2023-12-10T02:53:40.769302Z",
     "iopub.status.idle": "2023-12-10T02:53:40.773797Z",
     "shell.execute_reply": "2023-12-10T02:53:40.772946Z",
     "shell.execute_reply.started": "2023-12-10T02:53:40.769577Z"
    }
   },
   "outputs": [],
   "source": [
    "# # Utils\n",
    "# from contextlib import contextmanager\n",
    "# import time\n",
    "\n",
    "# @contextmanager\n",
    "# def stopwatch(name='STOPWATCH'):\n",
    "#     s = time.time()\n",
    "#     try:\n",
    "#         yield\n",
    "#     finally:\n",
    "#         print(f\"{name}: {time.time()-s} seconds passed\")\n",
    "        \n",
    "# # for test\n",
    "# # with stopwatch():\n",
    "# #     for i in range(5):\n",
    "# #         time.sleep(1)"
   ]
  },
  {
   "cell_type": "code",
   "execution_count": 11,
   "metadata": {
    "execution": {
     "iopub.execute_input": "2023-12-10T02:53:40.775330Z",
     "iopub.status.busy": "2023-12-10T02:53:40.775067Z",
     "iopub.status.idle": "2023-12-10T02:53:40.792465Z",
     "shell.execute_reply": "2023-12-10T02:53:40.791609Z",
     "shell.execute_reply.started": "2023-12-10T02:53:40.775307Z"
    }
   },
   "outputs": [],
   "source": [
    "from torch.optim.lr_scheduler import CosineAnnealingLR,CosineAnnealingWarmRestarts,StepLR\n",
    "def kl_loss_sym(x,y):\n",
    "    kl_loss = nn.KLDivLoss(reduction='batchmean')\n",
    "    return kl_loss(nn.LogSoftmax(dim=-1)(x),y)\n",
    "def unlearning(\n",
    "        net,\n",
    "        retain_loader,\n",
    "        forget_loader,\n",
    "        val_loader,\n",
    "):\n",
    "    \"\"\"Simple unlearning by finetuning.\"\"\"\n",
    "    print('-----------------------------------')\n",
    "    epochs = 8\n",
    "    retain_bs = 256\n",
    "    criterion = nn.CrossEntropyLoss()\n",
    "    optimizer = optim.SGD(net.parameters(), lr=0.05, momentum=0.9, weight_decay=0)\n",
    "    optimizer_retain = optim.SGD(net.parameters(), lr=0.01, momentum=0.9, weight_decay=5e-4)\n",
    "    scheduler = torch.optim.lr_scheduler.CosineAnnealingLR(optimizer_retain, T_max=5)\n",
    "#     ##the learning rate is associated with the batchsize we used\n",
    "    optimizer_forget = optim.SGD(net.parameters(), lr=0.01, momentum=0.9, weight_decay=5e-4)\n",
    "#     total_step = int(len(forget_loader)*epochs)\n",
    "#     retain_ld = DataLoader(retain_loader.dataset, batch_size=retain_bs, shuffle=True)\n",
    "#     retain_ld4fgt = DataLoader(retain_loader.dataset, batch_size=256, shuffle=True)\n",
    "#     scheduler = torch.optim.lr_scheduler.CosineAnnealingLR(optimizer, T_max=epochs)\n",
    "#     if USE_MOCK: ##Use some Local Metric as reference\n",
    "#         net.eval()\n",
    "#         print('Forget')\n",
    "#         evaluation(net, forget_loader, criterion)\n",
    "#         print('Valid')\n",
    "#         evaluation(net, val_loader, criterion)\n",
    "    net.train()\n",
    "    for _ in range(10):\n",
    "        for inputs,target in forget_loader: ##First Stage \n",
    "    #         inputs = sample[\"image\"]\n",
    "            inputs = inputs.to(DEVICE)\n",
    "            optimizer.zero_grad()\n",
    "            outputs = net(inputs)\n",
    "            uniform_label = torch.ones_like(outputs).to(DEVICE) / outputs.shape[1] ##uniform pseudo label\n",
    "            loss = kl_loss_sym(outputs, uniform_label) ##optimize the distance between logits and pseudo labels\n",
    "            loss.backward()\n",
    "            optimizer.step()\n",
    "# #     if USE_MOCK:\n",
    "# #         print('Forget')\n",
    "# #         evaluation(net,forget_loader,criterion)\n",
    "# #         print('Valid')\n",
    "# #         evaluation(net, val_loader,criterion)\n",
    "# #         print(f'epoch={epochs} and retain batch_sz={retain_bs}')\n",
    "    net.train()\n",
    "    for ep in range(8): ##Second Stage \n",
    "        for (inputs_forget,targets_forget), (inputs_retain,targets_retain) in zip(forget_loader, retain_loader):##Forget Round\n",
    "            t = 1.15 ##temperature coefficient\n",
    "            inputs_forget, inputs_retain = inputs_forget.to(DEVICE), inputs_retain.to(DEVICE)\n",
    "            optimizer_forget.zero_grad()\n",
    "            outputs_forget = net(inputs_forget)\n",
    "            outputs_retain = net(inputs_retain)\n",
    "            loss = (-1 * nn.LogSoftmax(dim=-1)(outputs_forget @ outputs_retain.T/t)).mean() ##Contrastive Learning loss\n",
    "            loss.backward()\n",
    "            optimizer_forget.step()\n",
    "    for _ in range(8):\n",
    "        for (inputs, labels) in retain_loader: ##Retain Round\n",
    "#             inputs, labels = sample[\"image\"],sample[\"age_group\"]\n",
    "            inputs, labels = inputs.to(DEVICE), labels.to(DEVICE)\n",
    "            optimizer_retain.zero_grad()\n",
    "            outputs = net(inputs)\n",
    "            loss = criterion(outputs, labels)\n",
    "            loss.backward()\n",
    "            optimizer_retain.step()\n",
    "        scheduler.step()\n",
    "    if USE_MOCK: \n",
    "#         print(f'epoch {ep}:')\n",
    "        print('Retain')\n",
    "        evaluation(net, retain_loader, criterion)\n",
    "        print('Forget')\n",
    "        evaluation(net, forget_loader, criterion)\n",
    "        print('Valid')\n",
    "        evaluation(net, val_loader, criterion)\n",
    "    print('-----------------------------------')\n",
    "    return net"
   ]
  },
  {
   "cell_type": "code",
   "execution_count": 12,
   "metadata": {
    "execution": {
     "iopub.execute_input": "2023-12-10T02:53:40.793884Z",
     "iopub.status.busy": "2023-12-10T02:53:40.793608Z",
     "iopub.status.idle": "2023-12-10T02:53:40.805732Z",
     "shell.execute_reply": "2023-12-10T02:53:40.804846Z",
     "shell.execute_reply.started": "2023-12-10T02:53:40.793861Z"
    }
   },
   "outputs": [],
   "source": [
    "def evaluation(net, dataloader, criterion, device = 'cuda'): ##evaluation function\n",
    "    net.eval()\n",
    "    total_samp = 0\n",
    "    total_acc = 0\n",
    "    total_loss = 0.0\n",
    "    for (images, labels) in dataloader:\n",
    "        images, labels = images.to(device), labels.to(device)\n",
    "        _pred = net(images)\n",
    "        total_samp+=len(labels)\n",
    "        #print(f'total_samp={total_samp}')\n",
    "        loss = criterion(_pred, labels)\n",
    "        total_loss += loss.item()\n",
    "        total_acc+=(_pred.max(1)[1] == labels).float().sum().item()\n",
    "        #print(f'total_acc={total_acc}')\n",
    "    #print(f'total_sample={total_samp}')\n",
    "    mean_loss = total_loss / len(dataloader)\n",
    "    mean_acc = total_acc/total_samp\n",
    "    print(f'loss={mean_loss}')\n",
    "    print(f'acc={mean_acc}')\n",
    "    return mean_acc, mean_loss"
   ]
  },
  {
   "cell_type": "code",
   "execution_count": 13,
   "metadata": {
    "execution": {
     "iopub.execute_input": "2023-12-10T02:53:40.807122Z",
     "iopub.status.busy": "2023-12-10T02:53:40.806809Z",
     "iopub.status.idle": "2023-12-10T02:53:53.298289Z",
     "shell.execute_reply": "2023-12-10T02:53:53.297117Z",
     "shell.execute_reply.started": "2023-12-10T02:53:40.807088Z"
    }
   },
   "outputs": [
    {
     "name": "stdout",
     "output_type": "stream",
     "text": [
      "loss=0.01812899909815645\n",
      "acc=0.9952666666666666\n",
      "Retain set accuracy: 99.5%\n",
      "loss=0.47970084361732007\n",
      "acc=0.882\n",
      "Forget set accuracy: 88.2%\n"
     ]
    }
   ],
   "source": [
    "criterion = nn.CrossEntropyLoss()\n",
    "# retain_loader, forget_loader, validation_loader = get_dataset(64)\n",
    "print(f\"Retain set accuracy: {100.0 * evaluation(rt_model, retain_loader, criterion)[0]:0.1f}%\")\n",
    "print(f\"Forget set accuracy: {100.0 * evaluation(rt_model, forget_loader, criterion)[0]:0.1f}%\")"
   ]
  },
  {
   "cell_type": "code",
   "execution_count": 14,
   "metadata": {
    "execution": {
     "iopub.execute_input": "2023-12-10T02:53:53.300292Z",
     "iopub.status.busy": "2023-12-10T02:53:53.299963Z",
     "iopub.status.idle": "2023-12-10T02:53:53.307956Z",
     "shell.execute_reply": "2023-12-10T02:53:53.307079Z",
     "shell.execute_reply.started": "2023-12-10T02:53:53.300260Z"
    }
   },
   "outputs": [],
   "source": [
    "def compute_outputs(net, loader):\n",
    "    \"\"\"Auxiliary function to compute the logits for all datapoints.\n",
    "    Does not shuffle the data, regardless of the loader.\n",
    "    \"\"\"\n",
    "\n",
    "    # Make sure loader does not shuffle the data\n",
    "    if isinstance(loader.sampler, torch.utils.data.sampler.RandomSampler):\n",
    "        loader = DataLoader(\n",
    "            loader.dataset, \n",
    "            batch_size=loader.batch_size, \n",
    "            shuffle=False, \n",
    "            num_workers=loader.num_workers)\n",
    "    \n",
    "    all_outputs = []\n",
    "    all_targets = []\n",
    "    \n",
    "    for (inputs, targets) in loader:\n",
    "#         inputs, targets = sample[\"image\"],sample[\"age_group\"]\n",
    "        inputs, targets = inputs.to(DEVICE), targets.to(\"cpu\")\n",
    "\n",
    "        logits = net(inputs).detach().cpu().numpy() # (batch_size, num_classes)\n",
    "        \n",
    "        all_outputs.append(logits)\n",
    "        all_targets.extend(targets)\n",
    "        \n",
    "    return np.array(all_targets), np.concatenate(all_outputs) # (len(loader.dataset), num_classes)\n",
    "    "
   ]
  },
  {
   "cell_type": "code",
   "execution_count": 15,
   "metadata": {
    "execution": {
     "iopub.execute_input": "2023-12-10T02:53:53.309733Z",
     "iopub.status.busy": "2023-12-10T02:53:53.309364Z",
     "iopub.status.idle": "2023-12-10T02:53:53.321207Z",
     "shell.execute_reply": "2023-12-10T02:53:53.320437Z",
     "shell.execute_reply.started": "2023-12-10T02:53:53.309701Z"
    }
   },
   "outputs": [],
   "source": [
    "def cross_entropy_f(x, targets):\n",
    "    # Convert NumPy array to PyTorch tensor\n",
    "    x_tensor = torch.from_numpy(x)\n",
    "\n",
    "    # Apply softmax to the model output\n",
    "    x_softmax = F.softmax(x_tensor, dim=-1)\n",
    "\n",
    "    # Convert targets to one-hot encoding\n",
    "    targets_tensor = torch.from_numpy(targets)\n",
    "    targets_one_hot = F.one_hot(targets_tensor, num_classes=x_tensor.shape[-1])\n",
    "\n",
    "    # Avoiding NaN values in x\n",
    "    x_tensor[torch.isnan(x_tensor)] = 0.0\n",
    "\n",
    "    # Calculate cross-entropy loss for each example\n",
    "    loss = -torch.sum(targets_one_hot * torch.log(x_softmax), dim=-1)\n",
    "\n",
    "    # Convert the result back to a NumPy array if needed\n",
    "    loss_np = loss.numpy()\n",
    "\n",
    "    return loss_np"
   ]
  },
  {
   "cell_type": "code",
   "execution_count": 16,
   "metadata": {
    "execution": {
     "iopub.execute_input": "2023-12-10T02:53:53.322523Z",
     "iopub.status.busy": "2023-12-10T02:53:53.322255Z",
     "iopub.status.idle": "2023-12-10T02:53:53.336632Z",
     "shell.execute_reply": "2023-12-10T02:53:53.335879Z",
     "shell.execute_reply.started": "2023-12-10T02:53:53.322499Z"
    }
   },
   "outputs": [],
   "source": [
    "def false_positive_rate(y_true: np.ndarray, y_pred: np.ndarray) -> float:\n",
    "    \"\"\"Computes the false positive rate (FPR).\"\"\"\n",
    "    fp = np.sum(np.logical_and((y_pred == 1), (y_true == 0)))\n",
    "    n = np.sum(y_true == 0)\n",
    "    return fp / n\n",
    "\n",
    "\n",
    "def false_negative_rate(y_true: np.ndarray, y_pred: np.ndarray) -> float:\n",
    "    \"\"\"Computes the false negative rate (FNR).\"\"\"\n",
    "    fn = np.sum(np.logical_and((y_pred == 0), (y_true == 1)))\n",
    "    p = np.sum(y_true == 1)\n",
    "    return fn / p\n",
    "\n",
    "\n",
    "# The SCORING dictionary is used by sklearn's `cross_validate` function so that\n",
    "# we record the FPR and FNR metrics of interest when doing cross validation\n",
    "SCORING = {\n",
    "    'false_positive_rate': make_scorer(false_positive_rate),\n",
    "    'false_negative_rate': make_scorer(false_negative_rate)\n",
    "}\n",
    "\n",
    "\n",
    "def logistic_regression_attack(\n",
    "        outputs_U, outputs_R, n_splits=2, random_state=0):\n",
    "    \"\"\"Computes cross-validation score of a membership inference attack.\n",
    "\n",
    "    Args:\n",
    "      outputs_U: numpy array of shape (N)\n",
    "      outputs_R: numpy array of shape (N)\n",
    "      n_splits: int\n",
    "        number of splits to use in the cross-validation.\n",
    "    Returns:\n",
    "      fpr, fnr : float * float\n",
    "    \"\"\"\n",
    "    assert len(outputs_U) == len(outputs_R)\n",
    "    \n",
    "    samples = np.concatenate((outputs_R, outputs_U)).reshape((-1, 1))\n",
    "    labels = np.array([0] * len(outputs_R) + [1] * len(outputs_U))\n",
    "\n",
    "    attack_model = linear_model.LogisticRegression()\n",
    "    cv = model_selection.StratifiedShuffleSplit(\n",
    "        n_splits=n_splits, random_state=random_state\n",
    "    )\n",
    "    has_nan = np.isnan(samples).any()\n",
    "#     print(has_nan)\n",
    "    \n",
    "    samples = np.nan_to_num(samples, nan=0)\n",
    "    \n",
    "    scores =  model_selection.cross_validate(\n",
    "        attack_model, samples, labels, cv=cv, scoring=SCORING)\n",
    "    \n",
    "    fpr = np.mean(scores[\"test_false_positive_rate\"])\n",
    "    fnr = np.mean(scores[\"test_false_negative_rate\"])\n",
    "    \n",
    "    return fpr, fnr"
   ]
  },
  {
   "cell_type": "code",
   "execution_count": 17,
   "metadata": {
    "execution": {
     "iopub.execute_input": "2023-12-10T02:53:53.337897Z",
     "iopub.status.busy": "2023-12-10T02:53:53.337630Z",
     "iopub.status.idle": "2023-12-10T02:53:53.351685Z",
     "shell.execute_reply": "2023-12-10T02:53:53.350786Z",
     "shell.execute_reply.started": "2023-12-10T02:53:53.337864Z"
    }
   },
   "outputs": [],
   "source": [
    "def compute_epsilon_s(fpr: list[float], fnr: list[float], delta: float) -> float:\n",
    "    \"\"\"Computes the privacy degree (epsilon) of a particular forget set example, \n",
    "    given the FPRs and FNRs resulting from various attacks.\n",
    "    \n",
    "    The smaller epsilon is, the better the unlearning is.\n",
    "    \n",
    "    Args:\n",
    "      fpr: list[float] of length m = num attacks. The FPRs for a particular example. \n",
    "      fnr: list[float] of length m = num attacks. The FNRs for a particular example.\n",
    "      delta: float\n",
    "    Returns:\n",
    "      epsilon: float corresponding to the privacy degree of the particular example.\n",
    "    \"\"\"\n",
    "    assert len(fpr) == len(fnr)\n",
    "    \n",
    "    per_attack_epsilon = [0.]\n",
    "    for fpr_i, fnr_i in zip(fpr, fnr):\n",
    "        if fpr_i == 0 and fnr_i == 0:\n",
    "            per_attack_epsilon.append(np.inf)\n",
    "        elif fpr_i == 0 or fnr_i == 0:\n",
    "            pass # discard attack\n",
    "        else:\n",
    "            with np.errstate(invalid='ignore'):\n",
    "                epsilon1 = np.log(1. - delta - fpr_i) - np.log(fnr_i)\n",
    "                epsilon2 = np.log(1. - delta - fnr_i) - np.log(fpr_i)\n",
    "            if np.isnan(epsilon1) and np.isnan(epsilon2):\n",
    "                per_attack_epsilon.append(np.inf)\n",
    "            else:\n",
    "                per_attack_epsilon.append(np.nanmax([epsilon1, epsilon2]))\n",
    "            \n",
    "    return np.nanmax(per_attack_epsilon)\n",
    "\n",
    "\n",
    "def bin_index_fn(\n",
    "        epsilons: np.ndarray, \n",
    "        bin_width: float = 0.5, \n",
    "        B: int = 13\n",
    "        ) -> np.ndarray:\n",
    "    \"\"\"The bin index function.\"\"\"\n",
    "    bins = np.arange(0, B) * bin_width\n",
    "    return np.digitize(epsilons, bins)\n",
    "\n",
    "\n",
    "def H(epsilons: np.ndarray) -> float:\n",
    "    \"\"\"Computes the forgetting quality given the privacy degrees \n",
    "    of the forget set examples.\n",
    "    \"\"\"\n",
    "    ns = bin_index_fn(epsilons)\n",
    "    hs = 2. / 2 ** ns\n",
    "    return np.mean(hs)"
   ]
  },
  {
   "cell_type": "code",
   "execution_count": 18,
   "metadata": {
    "execution": {
     "iopub.execute_input": "2023-12-10T02:53:53.353272Z",
     "iopub.status.busy": "2023-12-10T02:53:53.352891Z",
     "iopub.status.idle": "2023-12-10T02:53:53.365801Z",
     "shell.execute_reply": "2023-12-10T02:53:53.364939Z",
     "shell.execute_reply.started": "2023-12-10T02:53:53.353242Z"
    }
   },
   "outputs": [],
   "source": [
    "def forgetting_quality(\n",
    "        outputs_U: np.ndarray, # (N, S)\n",
    "        outputs_R: np.ndarray, # (N, S)\n",
    "        attacks: list[Callable] = [logistic_regression_attack],\n",
    "        delta: float = 0.01\n",
    "    ):\n",
    "    \"\"\"\n",
    "    Both `outputs_U` and `outputs_R` are of numpy arrays of ndim 2:\n",
    "    * 1st dimension coresponds to the number of samples obtained from the \n",
    "      distribution of each model (N=512 in the case of the competition's leaderboard) \n",
    "    * 2nd dimension corresponds to the number of samples in the forget set (S).\n",
    "    \"\"\"\n",
    "    \n",
    "    # N = number of model samples\n",
    "    # S = number of forget samples\n",
    "    N, S = outputs_U.shape\n",
    "    \n",
    "    assert outputs_U.shape == outputs_R.shape, \\\n",
    "        \"unlearn and retrain outputs need to be of the same shape\"\n",
    "    \n",
    "    epsilons = []\n",
    "    pbar = tqdm(range(S))\n",
    "    for sample_id in pbar:\n",
    "        pbar.set_description(\"Computing F...\")\n",
    "        \n",
    "        sample_fprs, sample_fnrs = [], []\n",
    "        \n",
    "        for attack in attacks: \n",
    "            uls = outputs_U[:, sample_id]\n",
    "            rls = outputs_R[:, sample_id]\n",
    "            \n",
    "            fpr, fnr = attack(uls, rls)\n",
    "            \n",
    "            if isinstance(fpr, list):\n",
    "                sample_fprs.extend(fpr)\n",
    "                sample_fnrs.extend(fnr)\n",
    "            else:\n",
    "                sample_fprs.append(fpr)\n",
    "                sample_fnrs.append(fnr)\n",
    "        \n",
    "        sample_epsilon = compute_epsilon_s(sample_fprs, sample_fnrs, delta=delta)\n",
    "        epsilons.append(sample_epsilon)\n",
    "        \n",
    "    return H(np.array(epsilons))"
   ]
  },
  {
   "cell_type": "code",
   "execution_count": 19,
   "metadata": {
    "execution": {
     "iopub.execute_input": "2023-12-10T02:53:53.367139Z",
     "iopub.status.busy": "2023-12-10T02:53:53.366850Z",
     "iopub.status.idle": "2023-12-10T02:53:53.380018Z",
     "shell.execute_reply": "2023-12-10T02:53:53.379246Z",
     "shell.execute_reply.started": "2023-12-10T02:53:53.367116Z"
    }
   },
   "outputs": [
    {
     "data": {
      "text/plain": [
       "10"
      ]
     },
     "execution_count": 19,
     "metadata": {},
     "output_type": "execute_result"
    }
   ],
   "source": [
    "n_checkpoints"
   ]
  },
  {
   "cell_type": "code",
   "execution_count": 20,
   "metadata": {
    "execution": {
     "iopub.execute_input": "2023-12-10T02:53:53.381747Z",
     "iopub.status.busy": "2023-12-10T02:53:53.381419Z",
     "iopub.status.idle": "2023-12-10T03:36:26.104890Z",
     "shell.execute_reply": "2023-12-10T03:36:26.103629Z",
     "shell.execute_reply.started": "2023-12-10T02:53:53.381718Z"
    }
   },
   "outputs": [
    {
     "name": "stderr",
     "output_type": "stream",
     "text": [
      "  0%|          | 0/10 [00:00<?, ?it/s]"
     ]
    },
    {
     "name": "stdout",
     "output_type": "stream",
     "text": [
      "I am unlearning all the wrong things you taught me\n",
      "-----------------------------------\n",
      "Retain\n",
      "loss=0.017779857889929026\n",
      "acc=0.9983333333333333\n",
      "Forget\n",
      "loss=0.301805689703906\n",
      "acc=0.9044\n",
      "Valid\n",
      "loss=0.5471520654857158\n",
      "acc=0.853\n",
      "-----------------------------------\n",
      "Training time for 1 epoch: 242.65 seconds (4.04 minutes)\n",
      "Computing retain accuracy on Unlearning Model\n",
      "loss=0.017765860259797508\n",
      "acc=0.9983333333333333\n",
      "Retain accuracy on Unlearning Model is  0.9983333333333333\n",
      "Computing test accuracy on Unlearning model\n",
      "loss=0.5471520654857158\n",
      "acc=0.853\n",
      "Test accuracy on Unlearning model is  0.853\n",
      "Computing forget accuracy on Unlearning model\n"
     ]
    },
    {
     "name": "stderr",
     "output_type": "stream",
     "text": [
      " 10%|█         | 1/10 [04:12<37:54, 252.75s/it]"
     ]
    },
    {
     "name": "stdout",
     "output_type": "stream",
     "text": [
      "loss=0.31022180840373037\n",
      "acc=0.9044\n",
      "Forget accuracy on Unlearning model is  0.9044\n",
      "I am unlearning all the wrong things you taught me\n",
      "-----------------------------------\n",
      "Retain\n",
      "loss=0.01708151915094773\n",
      "acc=0.9981555555555556\n",
      "Forget\n",
      "loss=0.3165020514279604\n",
      "acc=0.909\n",
      "Valid\n",
      "loss=0.5329194858670234\n",
      "acc=0.856\n",
      "-----------------------------------\n",
      "Training time for 2 epoch: 241.25 seconds (4.02 minutes)\n",
      "Computing retain accuracy on Unlearning Model\n",
      "loss=0.01707100983185228\n",
      "acc=0.9981555555555556\n",
      "Retain accuracy on Unlearning Model is  0.9981555555555556\n",
      "Computing test accuracy on Unlearning model\n",
      "loss=0.5329194858670234\n",
      "acc=0.856\n",
      "Test accuracy on Unlearning model is  0.856\n",
      "Computing forget accuracy on Unlearning model\n"
     ]
    },
    {
     "name": "stderr",
     "output_type": "stream",
     "text": [
      " 20%|██        | 2/10 [08:24<33:35, 251.89s/it]"
     ]
    },
    {
     "name": "stdout",
     "output_type": "stream",
     "text": [
      "loss=0.3041145043447614\n",
      "acc=0.909\n",
      "Forget accuracy on Unlearning model is  0.909\n",
      "I am unlearning all the wrong things you taught me\n",
      "-----------------------------------\n",
      "Retain\n",
      "loss=0.02473262710687281\n",
      "acc=0.9959333333333333\n",
      "Forget\n",
      "loss=0.3159622799605131\n",
      "acc=0.9042\n",
      "Valid\n",
      "loss=0.5095584727823734\n",
      "acc=0.8586\n",
      "-----------------------------------\n",
      "Training time for 3 epoch: 241.22 seconds (4.02 minutes)\n",
      "Computing retain accuracy on Unlearning Model\n",
      "loss=0.0247619531609499\n",
      "acc=0.9959333333333333\n",
      "Retain accuracy on Unlearning Model is  0.9959333333333333\n",
      "Computing test accuracy on Unlearning model\n",
      "loss=0.5095584727823734\n",
      "acc=0.8586\n",
      "Test accuracy on Unlearning model is  0.8586\n",
      "Computing forget accuracy on Unlearning model\n"
     ]
    },
    {
     "name": "stderr",
     "output_type": "stream",
     "text": [
      " 30%|███       | 3/10 [12:35<29:21, 251.64s/it]"
     ]
    },
    {
     "name": "stdout",
     "output_type": "stream",
     "text": [
      "loss=0.30479938501375725\n",
      "acc=0.9042\n",
      "Forget accuracy on Unlearning model is  0.9042\n",
      "I am unlearning all the wrong things you taught me\n",
      "-----------------------------------\n",
      "Retain\n",
      "loss=0.028689370024949312\n",
      "acc=0.9945333333333334\n",
      "Forget\n",
      "loss=0.3261703783646226\n",
      "acc=0.9\n",
      "Valid\n",
      "loss=0.5318725273013115\n",
      "acc=0.8498\n",
      "-----------------------------------\n",
      "Training time for 4 epoch: 241.06 seconds (4.02 minutes)\n",
      "Computing retain accuracy on Unlearning Model\n",
      "loss=0.028759204943939534\n",
      "acc=0.9945333333333334\n",
      "Retain accuracy on Unlearning Model is  0.9945333333333334\n",
      "Computing test accuracy on Unlearning model\n",
      "loss=0.5318725273013115\n",
      "acc=0.8498\n",
      "Test accuracy on Unlearning model is  0.8498\n",
      "Computing forget accuracy on Unlearning model\n"
     ]
    },
    {
     "name": "stderr",
     "output_type": "stream",
     "text": [
      " 40%|████      | 4/10 [16:46<25:07, 251.32s/it]"
     ]
    },
    {
     "name": "stdout",
     "output_type": "stream",
     "text": [
      "loss=0.32791198380291464\n",
      "acc=0.9\n",
      "Forget accuracy on Unlearning model is  0.9\n",
      "I am unlearning all the wrong things you taught me\n",
      "-----------------------------------\n",
      "Retain\n",
      "loss=0.026385942899981852\n",
      "acc=0.9959111111111111\n",
      "Forget\n",
      "loss=0.291420310921967\n",
      "acc=0.9078\n",
      "Valid\n",
      "loss=0.5238622337579727\n",
      "acc=0.8594\n",
      "-----------------------------------\n",
      "Training time for 5 epoch: 240.82 seconds (4.01 minutes)\n",
      "Computing retain accuracy on Unlearning Model\n",
      "loss=0.026369822835973042\n",
      "acc=0.9959111111111111\n",
      "Retain accuracy on Unlearning Model is  0.9959111111111111\n",
      "Computing test accuracy on Unlearning model\n",
      "loss=0.5238622337579727\n",
      "acc=0.8594\n",
      "Test accuracy on Unlearning model is  0.8594\n",
      "Computing forget accuracy on Unlearning model\n"
     ]
    },
    {
     "name": "stderr",
     "output_type": "stream",
     "text": [
      " 50%|█████     | 5/10 [20:56<20:55, 251.05s/it]"
     ]
    },
    {
     "name": "stdout",
     "output_type": "stream",
     "text": [
      "loss=0.2979520082473755\n",
      "acc=0.9078\n",
      "Forget accuracy on Unlearning model is  0.9078\n",
      "I am unlearning all the wrong things you taught me\n",
      "-----------------------------------\n",
      "Retain\n",
      "loss=0.15993808332661336\n",
      "acc=0.9508\n",
      "Forget\n",
      "loss=0.47605404555797576\n",
      "acc=0.847\n",
      "Valid\n",
      "loss=0.5813286751508713\n",
      "acc=0.811\n",
      "-----------------------------------\n",
      "Training time for 6 epoch: 240.82 seconds (4.01 minutes)\n",
      "Computing retain accuracy on Unlearning Model\n",
      "loss=0.15998463491401213\n",
      "acc=0.9508\n",
      "Retain accuracy on Unlearning Model is  0.9508\n",
      "Computing test accuracy on Unlearning model\n",
      "loss=0.5813286751508713\n",
      "acc=0.811\n",
      "Test accuracy on Unlearning model is  0.811\n",
      "Computing forget accuracy on Unlearning model\n"
     ]
    },
    {
     "name": "stderr",
     "output_type": "stream",
     "text": [
      " 60%|██████    | 6/10 [25:07<16:43, 250.87s/it]"
     ]
    },
    {
     "name": "stdout",
     "output_type": "stream",
     "text": [
      "loss=0.46405021138489244\n",
      "acc=0.847\n",
      "Forget accuracy on Unlearning model is  0.847\n",
      "I am unlearning all the wrong things you taught me\n",
      "-----------------------------------\n",
      "Retain\n",
      "loss=0.15537250173193487\n",
      "acc=0.9529777777777778\n",
      "Forget\n",
      "loss=0.5043574646115303\n",
      "acc=0.8346\n",
      "Valid\n",
      "loss=0.6026808634400368\n",
      "acc=0.8152\n",
      "-----------------------------------\n",
      "Training time for 7 epoch: 240.5 seconds (4.01 minutes)\n",
      "Computing retain accuracy on Unlearning Model\n",
      "loss=0.15548303208991207\n",
      "acc=0.9529777777777778\n",
      "Retain accuracy on Unlearning Model is  0.9529777777777778\n",
      "Computing test accuracy on Unlearning model\n",
      "loss=0.6026808634400368\n",
      "acc=0.8152\n",
      "Test accuracy on Unlearning model is  0.8152\n",
      "Computing forget accuracy on Unlearning model\n"
     ]
    },
    {
     "name": "stderr",
     "output_type": "stream",
     "text": [
      " 70%|███████   | 7/10 [29:17<12:32, 250.79s/it]"
     ]
    },
    {
     "name": "stdout",
     "output_type": "stream",
     "text": [
      "loss=0.49904656745493414\n",
      "acc=0.8346\n",
      "Forget accuracy on Unlearning model is  0.8346\n",
      "I am unlearning all the wrong things you taught me\n",
      "-----------------------------------\n",
      "Retain\n",
      "loss=0.0169698335719824\n",
      "acc=0.9984888888888889\n",
      "Forget\n",
      "loss=0.2596476200036705\n",
      "acc=0.9192\n",
      "Valid\n",
      "loss=0.5044402502477169\n",
      "acc=0.8608\n",
      "-----------------------------------\n",
      "Training time for 8 epoch: 240.85 seconds (4.01 minutes)\n",
      "Computing retain accuracy on Unlearning Model\n",
      "loss=0.016970035366036675\n",
      "acc=0.9984888888888889\n",
      "Retain accuracy on Unlearning Model is  0.9984888888888889\n",
      "Computing test accuracy on Unlearning model\n",
      "loss=0.5044402502477169\n",
      "acc=0.8608\n",
      "Test accuracy on Unlearning model is  0.8608\n",
      "Computing forget accuracy on Unlearning model\n"
     ]
    },
    {
     "name": "stderr",
     "output_type": "stream",
     "text": [
      " 80%|████████  | 8/10 [33:28<08:21, 250.80s/it]"
     ]
    },
    {
     "name": "stdout",
     "output_type": "stream",
     "text": [
      "loss=0.3028014412149787\n",
      "acc=0.9192\n",
      "Forget accuracy on Unlearning model is  0.9192\n",
      "I am unlearning all the wrong things you taught me\n",
      "-----------------------------------\n",
      "Retain\n",
      "loss=0.041652080584423275\n",
      "acc=0.9910888888888889\n",
      "Forget\n",
      "loss=0.35925481654703617\n",
      "acc=0.8866\n",
      "Valid\n",
      "loss=0.525536298006773\n",
      "acc=0.8532\n",
      "-----------------------------------\n",
      "Training time for 9 epoch: 241.09 seconds (4.02 minutes)\n",
      "Computing retain accuracy on Unlearning Model\n",
      "loss=0.04164493622639301\n",
      "acc=0.9910888888888889\n",
      "Retain accuracy on Unlearning Model is  0.9910888888888889\n",
      "Computing test accuracy on Unlearning model\n",
      "loss=0.525536298006773\n",
      "acc=0.8532\n",
      "Test accuracy on Unlearning model is  0.8532\n",
      "Computing forget accuracy on Unlearning model\n"
     ]
    },
    {
     "name": "stderr",
     "output_type": "stream",
     "text": [
      " 90%|█████████ | 9/10 [37:39<04:10, 250.89s/it]"
     ]
    },
    {
     "name": "stdout",
     "output_type": "stream",
     "text": [
      "loss=0.3625823464244604\n",
      "acc=0.8866\n",
      "Forget accuracy on Unlearning model is  0.8866\n",
      "I am unlearning all the wrong things you taught me\n",
      "-----------------------------------\n",
      "Retain\n",
      "loss=0.023576710042437877\n",
      "acc=0.9962666666666666\n",
      "Forget\n",
      "loss=0.2795980567112565\n",
      "acc=0.9122\n",
      "Valid\n",
      "loss=0.5256787210702896\n",
      "acc=0.8574\n",
      "-----------------------------------\n",
      "Training time for 10 epoch: 241.79 seconds (4.03 minutes)\n",
      "Computing retain accuracy on Unlearning Model\n",
      "loss=0.02359271702483635\n",
      "acc=0.9962666666666666\n",
      "Retain accuracy on Unlearning Model is  0.9962666666666666\n",
      "Computing test accuracy on Unlearning model\n",
      "loss=0.5256787210702896\n",
      "acc=0.8574\n",
      "Test accuracy on Unlearning model is  0.8574\n",
      "Computing forget accuracy on Unlearning model\n"
     ]
    },
    {
     "name": "stderr",
     "output_type": "stream",
     "text": [
      "100%|██████████| 10/10 [41:51<00:00, 251.17s/it]"
     ]
    },
    {
     "name": "stdout",
     "output_type": "stream",
     "text": [
      "loss=0.27745325951837\n",
      "acc=0.9122\n",
      "Forget accuracy on Unlearning model is  0.9122\n",
      "Total Training time: 2511.71 seconds (41.86 minutes)\n",
      "Printing outputs_U shape  (10, 5000)\n"
     ]
    },
    {
     "name": "stderr",
     "output_type": "stream",
     "text": [
      "\n"
     ]
    },
    {
     "name": "stdout",
     "output_type": "stream",
     "text": [
      "loss=0.018122820565291808\n",
      "acc=0.9952666666666666\n",
      "loss=0.4761434979736805\n",
      "acc=0.8798\n",
      "loss=0.4532230106124189\n",
      "acc=0.882\n",
      "Printing outputs_R shape  (10, 5000)\n",
      "  adding: kaggle/tmp/unlearned_checkpoint_0.pth (deflated 6%)\n",
      "  adding: kaggle/tmp/unlearned_checkpoint_1.pth (deflated 6%)\n",
      "  adding: kaggle/tmp/unlearned_checkpoint_2.pth (deflated 6%)\n",
      "  adding: kaggle/tmp/unlearned_checkpoint_3.pth (deflated 6%)\n",
      "  adding: kaggle/tmp/unlearned_checkpoint_4.pth (deflated 6%)\n",
      "  adding: kaggle/tmp/unlearned_checkpoint_5.pth (deflated 6%)\n",
      "  adding: kaggle/tmp/unlearned_checkpoint_6.pth (deflated 6%)\n",
      "  adding: kaggle/tmp/unlearned_checkpoint_7.pth (deflated 6%)\n",
      "  adding: kaggle/tmp/unlearned_checkpoint_8.pth (deflated 6%)\n",
      "  adding: kaggle/tmp/unlearned_checkpoint_9.pth (deflated 6%)\n"
     ]
    }
   ],
   "source": [
    "attacks = [logistic_regression_attack]\n",
    "criterion = nn.CrossEntropyLoss()\n",
    "outputs_U = []\n",
    "outputs_R = []\n",
    "retain_accuracy = []\n",
    "test_accuracy = []\n",
    "forget_accuracy = []\n",
    "\n",
    "import numpy as np\n",
    "if USE_MOCK:\n",
    "    \n",
    "    # NOTE: Almost same as the original codes\n",
    "    \n",
    "    # Download\n",
    "    if not os.path.exists(mock_model_path):\n",
    "        response = requests.get(\"https://storage.googleapis.com/unlearning-challenge/weights_resnet18_cifar10.pth\")\n",
    "        open(mock_model_path, \"wb\").write(response.content)    \n",
    "    \n",
    "    os.makedirs('/kaggle/tmp', exist_ok=True)\n",
    "#     retain_loader, forget_loader, validation_loader = get_dataset(64)\n",
    "    net = resnet18(weights=None, num_classes=10)\n",
    "    net.to(DEVICE)\n",
    "    net.load_state_dict(torch.load(mock_model_path))\n",
    "    u_model = deepcopy(net)\n",
    "    \n",
    "    all_start = time.time()\n",
    "    \n",
    "    for i in tqdm.trange(n_checkpoints):\n",
    "        net.load_state_dict(torch.load(mock_model_path))\n",
    "        print(\"I am unlearning all the wrong things you taught me\")\n",
    "        \n",
    "        start_time = time.time()\n",
    "        \n",
    "        u_model = unlearning(net, retain_loader, forget_loader, val_loader)\n",
    "        \n",
    "        end_time = time.time()\n",
    "        \n",
    "        training_time = end_time - start_time\n",
    "        print(f'Training time for {i+1} epoch: {round(training_time, 2)} seconds ({round(training_time/60, 2)} minutes)')\n",
    "        \n",
    "        state = u_model.state_dict()\n",
    "        torch.save(state, f'/kaggle/tmp/unlearned_checkpoint_{i}.pth')\n",
    "        \n",
    "        targets, outputs_Ui = compute_outputs(u_model, forget_loader)\n",
    "        \n",
    "        outputs_U.append( cross_entropy_f(outputs_Ui, targets) )\n",
    "        \n",
    "        print(\"Computing retain accuracy on Unlearning Model\")\n",
    "        acc, _ = evaluation(u_model, retain_loader, criterion)\n",
    "        print(\"Retain accuracy on Unlearning Model is \",acc)\n",
    "        retain_accuracy.append(acc)\n",
    "        \n",
    "        print(\"Computing test accuracy on Unlearning model\")\n",
    "        acc,_ = evaluation(u_model, val_loader, criterion)\n",
    "        print(\"Test accuracy on Unlearning model is \", acc)\n",
    "        test_accuracy.append(acc)\n",
    "        \n",
    "        print(\"Computing forget accuracy on Unlearning model\")\n",
    "        acc,_ = evaluation(u_model, forget_loader, criterion)\n",
    "        print(\"Forget accuracy on Unlearning model is \",acc)\n",
    "        forget_accuracy.append(acc)\n",
    "    \n",
    "    all_end = time.time()\n",
    "    total_training_time = all_end - all_start\n",
    "    print(f'Total Training time: {round(total_training_time, 2)} seconds ({round(total_training_time/60, 2)} minutes)')\n",
    "    \n",
    "    outputs_U = np.array(outputs_U)\n",
    "    print(\"Printing outputs_U shape \",outputs_U.shape)\n",
    "    \n",
    "    assert outputs_U.shape == (n_checkpoints, len(forget_loader.dataset)),\\\n",
    "        \"Wrong shape for outputs_U. Should be (num_model_samples, num_forget_datapoints).\"\n",
    "    \n",
    "    \n",
    "    RAR, _ = evaluation(rt_model, retain_loader, criterion)\n",
    "    TAR, _ = evaluation(rt_model, val_loader, criterion)\n",
    "    FAR, _ = evaluation(rt_model, forget_loader, criterion)\n",
    "    \n",
    "    RAU = np.mean(retain_accuracy)\n",
    "    TAU = np.mean(test_accuracy)\n",
    "    FAU = np.mean(forget_accuracy)\n",
    "    \n",
    "    RA_ratio = RAU / RAR\n",
    "    TA_ratio = TAU / TAR\n",
    "    \n",
    "    for i in range(n_checkpoints):\n",
    "        targets, outputs_Ri = compute_outputs(rt_model, forget_loader) #(len(forget_loader.dataset), 10) \n",
    "        \n",
    "        outputs_R.append(cross_entropy_f(outputs_Ri, targets) )\n",
    "    \n",
    "    outputs_R = np.array(outputs_R)\n",
    "    print(\"Printing outputs_R shape \",outputs_R.shape)\n",
    "    \n",
    "\n",
    "    \n",
    "    # Ensure that submission.zip will contain exactly 512 checkpoints \n",
    "    # (if this is not the case, an exception will be thrown).\n",
    "    unlearned_ckpts = os.listdir('/kaggle/tmp')\n",
    "    if len(unlearned_ckpts) != n_checkpoints:\n",
    "        raise RuntimeError('Expected exactly 512 checkpoints. The submission will throw an exception otherwise.')\n",
    "\n",
    "    subprocess.run('zip submission.zip /kaggle/tmp/*.pth', shell=True)\n",
    "    \n",
    "    \n",
    "else:\n",
    "    print(\"Hi\")\n"
   ]
  },
  {
   "cell_type": "code",
   "execution_count": 21,
   "metadata": {
    "execution": {
     "iopub.execute_input": "2023-12-10T03:36:26.107412Z",
     "iopub.status.busy": "2023-12-10T03:36:26.106600Z",
     "iopub.status.idle": "2023-12-10T03:36:26.114196Z",
     "shell.execute_reply": "2023-12-10T03:36:26.113193Z",
     "shell.execute_reply.started": "2023-12-10T03:36:26.107366Z"
    }
   },
   "outputs": [
    {
     "name": "stdout",
     "output_type": "stream",
     "text": [
      "False\n",
      "False\n"
     ]
    }
   ],
   "source": [
    "import math\n",
    "\n",
    "# Assuming outputs_U is a Python list\n",
    "has_nan = np.isnan(np.array(outputs_R)).any()\n",
    "print(has_nan)\n",
    "\n",
    "has_nan = np.isnan(np.array(outputs_U)).any()\n",
    "print(has_nan)"
   ]
  },
  {
   "cell_type": "code",
   "execution_count": 22,
   "metadata": {
    "execution": {
     "iopub.execute_input": "2023-12-10T03:36:26.115677Z",
     "iopub.status.busy": "2023-12-10T03:36:26.115398Z",
     "iopub.status.idle": "2023-12-10T03:36:26.127762Z",
     "shell.execute_reply": "2023-12-10T03:36:26.126954Z",
     "shell.execute_reply.started": "2023-12-10T03:36:26.115654Z"
    }
   },
   "outputs": [
    {
     "data": {
      "text/plain": [
       "False"
      ]
     },
     "execution_count": 22,
     "metadata": {},
     "output_type": "execute_result"
    }
   ],
   "source": [
    "import math\n",
    "\n",
    "# Assuming outputs_U is a Python list\n",
    "has_nan = any(math.isnan(x) for x in outputs_U if isinstance(x, (float, int)))\n",
    "has_nan"
   ]
  },
  {
   "cell_type": "code",
   "execution_count": 23,
   "metadata": {
    "execution": {
     "iopub.execute_input": "2023-12-10T03:36:26.128958Z",
     "iopub.status.busy": "2023-12-10T03:36:26.128694Z",
     "iopub.status.idle": "2023-12-10T03:36:26.140852Z",
     "shell.execute_reply": "2023-12-10T03:36:26.140107Z",
     "shell.execute_reply.started": "2023-12-10T03:36:26.128930Z"
    }
   },
   "outputs": [],
   "source": [
    "samples = np.concatenate((outputs_R, outputs_U)).reshape((-1, 1))"
   ]
  },
  {
   "cell_type": "code",
   "execution_count": 24,
   "metadata": {
    "execution": {
     "iopub.execute_input": "2023-12-10T03:36:26.142163Z",
     "iopub.status.busy": "2023-12-10T03:36:26.141877Z",
     "iopub.status.idle": "2023-12-10T03:36:26.154609Z",
     "shell.execute_reply": "2023-12-10T03:36:26.153721Z",
     "shell.execute_reply.started": "2023-12-10T03:36:26.142140Z"
    }
   },
   "outputs": [
    {
     "data": {
      "text/plain": [
       "False"
      ]
     },
     "execution_count": 24,
     "metadata": {},
     "output_type": "execute_result"
    }
   ],
   "source": [
    "has_nan = np.isnan(samples).any()\n",
    "has_nan"
   ]
  },
  {
   "cell_type": "code",
   "execution_count": 25,
   "metadata": {
    "execution": {
     "iopub.execute_input": "2023-12-10T03:36:26.156097Z",
     "iopub.status.busy": "2023-12-10T03:36:26.155760Z",
     "iopub.status.idle": "2023-12-10T03:37:02.360202Z",
     "shell.execute_reply": "2023-12-10T03:37:02.359216Z",
     "shell.execute_reply.started": "2023-12-10T03:36:26.156064Z"
    }
   },
   "outputs": [
    {
     "name": "stderr",
     "output_type": "stream",
     "text": [
      "Computing F...: 100%|██████████| 5000/5000 [00:36<00:00, 138.15it/s]\n"
     ]
    }
   ],
   "source": [
    "from tqdm import tqdm\n",
    "\n",
    "attacks = [logistic_regression_attack]\n",
    "\n",
    "f = forgetting_quality(\n",
    "outputs_U, \n",
    "outputs_R,\n",
    "attacks=attacks,\n",
    "delta=0.01)\n",
    "\n",
    "ret = {\n",
    "    \"total_score\": f * RA_ratio * TA_ratio,\n",
    "    \"F\": f,\n",
    "    \"unlearn_retain_accuracy\": RAU,\n",
    "    \"unlearn_test_accuracy\": TAU, \n",
    "    \"unlearn_forget_accuracy\": FAU,\n",
    "    \"retrain_retain_accuracy\": RAR,\n",
    "    \"retrain_test_accuracy\": TAR, \n",
    "    \"retrain_forget_accuracy\": FAR,\n",
    "    \"retrain_outputs\": outputs_R,\n",
    "    \"unlearn_outputs\": outputs_U,\n",
    "    \"unlearning_model\": u_model\n",
    "}"
   ]
  },
  {
   "cell_type": "code",
   "execution_count": 26,
   "metadata": {
    "execution": {
     "iopub.execute_input": "2023-12-10T03:37:02.361631Z",
     "iopub.status.busy": "2023-12-10T03:37:02.361342Z",
     "iopub.status.idle": "2023-12-10T03:37:02.370858Z",
     "shell.execute_reply": "2023-12-10T03:37:02.369964Z",
     "shell.execute_reply.started": "2023-12-10T03:37:02.361603Z"
    }
   },
   "outputs": [
    {
     "data": {
      "text/plain": [
       "{'total_score': 0.6795900281898903,\n",
       " 'F': 0.7112705078125,\n",
       " 'unlearn_retain_accuracy': 0.9872488888888891,\n",
       " 'unlearn_test_accuracy': 0.84744,\n",
       " 'unlearn_forget_accuracy': 0.8925000000000001,\n",
       " 'retrain_retain_accuracy': 0.9952666666666666,\n",
       " 'retrain_test_accuracy': 0.8798,\n",
       " 'retrain_forget_accuracy': 0.882,\n",
       " 'retrain_outputs': array([[1.1427237e+00, 6.8271221e-03, 5.4480130e-05, ..., 1.4155446e-01,\n",
       "         4.6083200e-01, 2.1786564e-03],\n",
       "        [1.1427237e+00, 6.8271221e-03, 5.4480130e-05, ..., 1.4155446e-01,\n",
       "         4.6083200e-01, 2.1786564e-03],\n",
       "        [1.1427237e+00, 6.8271221e-03, 5.4480130e-05, ..., 1.4155446e-01,\n",
       "         4.6083200e-01, 2.1786564e-03],\n",
       "        ...,\n",
       "        [1.1427237e+00, 6.8271221e-03, 5.4480130e-05, ..., 1.4155446e-01,\n",
       "         4.6083200e-01, 2.1786564e-03],\n",
       "        [1.1427237e+00, 6.8271221e-03, 5.4480130e-05, ..., 1.4155446e-01,\n",
       "         4.6083200e-01, 2.1786564e-03],\n",
       "        [1.1427237e+00, 6.8271221e-03, 5.4480130e-05, ..., 1.4155446e-01,\n",
       "         4.6083200e-01, 2.1786564e-03]], dtype=float32),\n",
       " 'unlearn_outputs': array([[4.0807549e-02, 1.3873660e-03, 4.9710704e-04, ..., 5.9818339e+00,\n",
       "         5.7356693e-02, 6.9594756e-04],\n",
       "        [2.3109175e-03, 1.1359942e-03, 1.7485997e-03, ..., 2.4749653e+00,\n",
       "         1.1319963e-03, 3.1539414e-03],\n",
       "        [6.8938645e-04, 1.0235778e-03, 5.8870955e-04, ..., 4.0022788e+00,\n",
       "         1.3171914e-02, 4.9010618e-03],\n",
       "        ...,\n",
       "        [1.2202642e-01, 2.6432010e-03, 1.2999874e-03, ..., 3.7839830e+00,\n",
       "         1.7943550e-02, 1.3207547e-02],\n",
       "        [3.9352768e-04, 5.4302160e-03, 5.3390209e-04, ..., 3.6182513e+00,\n",
       "         5.8775529e-04, 8.9131268e-03],\n",
       "        [3.5297507e-03, 2.5037255e-03, 8.0767099e-04, ..., 4.1574569e+00,\n",
       "         1.9356887e+00, 4.3026251e-03]], dtype=float32),\n",
       " 'unlearning_model': ResNet(\n",
       "   (conv1): Conv2d(3, 64, kernel_size=(7, 7), stride=(2, 2), padding=(3, 3), bias=False)\n",
       "   (bn1): BatchNorm2d(64, eps=1e-05, momentum=0.1, affine=True, track_running_stats=True)\n",
       "   (relu): ReLU(inplace=True)\n",
       "   (maxpool): MaxPool2d(kernel_size=3, stride=2, padding=1, dilation=1, ceil_mode=False)\n",
       "   (layer1): Sequential(\n",
       "     (0): BasicBlock(\n",
       "       (conv1): Conv2d(64, 64, kernel_size=(3, 3), stride=(1, 1), padding=(1, 1), bias=False)\n",
       "       (bn1): BatchNorm2d(64, eps=1e-05, momentum=0.1, affine=True, track_running_stats=True)\n",
       "       (relu): ReLU(inplace=True)\n",
       "       (conv2): Conv2d(64, 64, kernel_size=(3, 3), stride=(1, 1), padding=(1, 1), bias=False)\n",
       "       (bn2): BatchNorm2d(64, eps=1e-05, momentum=0.1, affine=True, track_running_stats=True)\n",
       "     )\n",
       "     (1): BasicBlock(\n",
       "       (conv1): Conv2d(64, 64, kernel_size=(3, 3), stride=(1, 1), padding=(1, 1), bias=False)\n",
       "       (bn1): BatchNorm2d(64, eps=1e-05, momentum=0.1, affine=True, track_running_stats=True)\n",
       "       (relu): ReLU(inplace=True)\n",
       "       (conv2): Conv2d(64, 64, kernel_size=(3, 3), stride=(1, 1), padding=(1, 1), bias=False)\n",
       "       (bn2): BatchNorm2d(64, eps=1e-05, momentum=0.1, affine=True, track_running_stats=True)\n",
       "     )\n",
       "   )\n",
       "   (layer2): Sequential(\n",
       "     (0): BasicBlock(\n",
       "       (conv1): Conv2d(64, 128, kernel_size=(3, 3), stride=(2, 2), padding=(1, 1), bias=False)\n",
       "       (bn1): BatchNorm2d(128, eps=1e-05, momentum=0.1, affine=True, track_running_stats=True)\n",
       "       (relu): ReLU(inplace=True)\n",
       "       (conv2): Conv2d(128, 128, kernel_size=(3, 3), stride=(1, 1), padding=(1, 1), bias=False)\n",
       "       (bn2): BatchNorm2d(128, eps=1e-05, momentum=0.1, affine=True, track_running_stats=True)\n",
       "       (downsample): Sequential(\n",
       "         (0): Conv2d(64, 128, kernel_size=(1, 1), stride=(2, 2), bias=False)\n",
       "         (1): BatchNorm2d(128, eps=1e-05, momentum=0.1, affine=True, track_running_stats=True)\n",
       "       )\n",
       "     )\n",
       "     (1): BasicBlock(\n",
       "       (conv1): Conv2d(128, 128, kernel_size=(3, 3), stride=(1, 1), padding=(1, 1), bias=False)\n",
       "       (bn1): BatchNorm2d(128, eps=1e-05, momentum=0.1, affine=True, track_running_stats=True)\n",
       "       (relu): ReLU(inplace=True)\n",
       "       (conv2): Conv2d(128, 128, kernel_size=(3, 3), stride=(1, 1), padding=(1, 1), bias=False)\n",
       "       (bn2): BatchNorm2d(128, eps=1e-05, momentum=0.1, affine=True, track_running_stats=True)\n",
       "     )\n",
       "   )\n",
       "   (layer3): Sequential(\n",
       "     (0): BasicBlock(\n",
       "       (conv1): Conv2d(128, 256, kernel_size=(3, 3), stride=(2, 2), padding=(1, 1), bias=False)\n",
       "       (bn1): BatchNorm2d(256, eps=1e-05, momentum=0.1, affine=True, track_running_stats=True)\n",
       "       (relu): ReLU(inplace=True)\n",
       "       (conv2): Conv2d(256, 256, kernel_size=(3, 3), stride=(1, 1), padding=(1, 1), bias=False)\n",
       "       (bn2): BatchNorm2d(256, eps=1e-05, momentum=0.1, affine=True, track_running_stats=True)\n",
       "       (downsample): Sequential(\n",
       "         (0): Conv2d(128, 256, kernel_size=(1, 1), stride=(2, 2), bias=False)\n",
       "         (1): BatchNorm2d(256, eps=1e-05, momentum=0.1, affine=True, track_running_stats=True)\n",
       "       )\n",
       "     )\n",
       "     (1): BasicBlock(\n",
       "       (conv1): Conv2d(256, 256, kernel_size=(3, 3), stride=(1, 1), padding=(1, 1), bias=False)\n",
       "       (bn1): BatchNorm2d(256, eps=1e-05, momentum=0.1, affine=True, track_running_stats=True)\n",
       "       (relu): ReLU(inplace=True)\n",
       "       (conv2): Conv2d(256, 256, kernel_size=(3, 3), stride=(1, 1), padding=(1, 1), bias=False)\n",
       "       (bn2): BatchNorm2d(256, eps=1e-05, momentum=0.1, affine=True, track_running_stats=True)\n",
       "     )\n",
       "   )\n",
       "   (layer4): Sequential(\n",
       "     (0): BasicBlock(\n",
       "       (conv1): Conv2d(256, 512, kernel_size=(3, 3), stride=(2, 2), padding=(1, 1), bias=False)\n",
       "       (bn1): BatchNorm2d(512, eps=1e-05, momentum=0.1, affine=True, track_running_stats=True)\n",
       "       (relu): ReLU(inplace=True)\n",
       "       (conv2): Conv2d(512, 512, kernel_size=(3, 3), stride=(1, 1), padding=(1, 1), bias=False)\n",
       "       (bn2): BatchNorm2d(512, eps=1e-05, momentum=0.1, affine=True, track_running_stats=True)\n",
       "       (downsample): Sequential(\n",
       "         (0): Conv2d(256, 512, kernel_size=(1, 1), stride=(2, 2), bias=False)\n",
       "         (1): BatchNorm2d(512, eps=1e-05, momentum=0.1, affine=True, track_running_stats=True)\n",
       "       )\n",
       "     )\n",
       "     (1): BasicBlock(\n",
       "       (conv1): Conv2d(512, 512, kernel_size=(3, 3), stride=(1, 1), padding=(1, 1), bias=False)\n",
       "       (bn1): BatchNorm2d(512, eps=1e-05, momentum=0.1, affine=True, track_running_stats=True)\n",
       "       (relu): ReLU(inplace=True)\n",
       "       (conv2): Conv2d(512, 512, kernel_size=(3, 3), stride=(1, 1), padding=(1, 1), bias=False)\n",
       "       (bn2): BatchNorm2d(512, eps=1e-05, momentum=0.1, affine=True, track_running_stats=True)\n",
       "     )\n",
       "   )\n",
       "   (avgpool): AdaptiveAvgPool2d(output_size=(1, 1))\n",
       "   (fc): Linear(in_features=512, out_features=10, bias=True)\n",
       " )}"
      ]
     },
     "execution_count": 26,
     "metadata": {},
     "output_type": "execute_result"
    }
   ],
   "source": [
    "ret"
   ]
  },
  {
   "cell_type": "code",
   "execution_count": 27,
   "metadata": {
    "execution": {
     "iopub.execute_input": "2023-12-10T03:37:02.372441Z",
     "iopub.status.busy": "2023-12-10T03:37:02.372114Z",
     "iopub.status.idle": "2023-12-10T03:37:12.002964Z",
     "shell.execute_reply": "2023-12-10T03:37:12.001841Z",
     "shell.execute_reply.started": "2023-12-10T03:37:02.372413Z"
    }
   },
   "outputs": [],
   "source": [
    "def compute_losses(net, loader):\n",
    "    \"\"\"Auxiliary function to compute per-sample losses\"\"\"\n",
    "\n",
    "    criterion = nn.CrossEntropyLoss(reduction=\"none\")\n",
    "    all_losses = []\n",
    "\n",
    "    for inputs, targets in loader:\n",
    "        inputs, targets = inputs.to(DEVICE), targets.to(DEVICE)\n",
    "\n",
    "        logits = net(inputs)\n",
    "        losses = criterion(logits, targets).numpy(force=True)\n",
    "        for l in losses:\n",
    "            all_losses.append(l)\n",
    "\n",
    "    return np.array(all_losses)\n",
    "\n",
    "\n",
    "ut_train_losses = compute_losses(u_model, train_loader)\n",
    "ut_test_losses = compute_losses(u_model, test_loader)\n",
    "ut_forget_losses = compute_losses(u_model, forget_loader)"
   ]
  },
  {
   "cell_type": "code",
   "execution_count": 28,
   "metadata": {
    "execution": {
     "iopub.execute_input": "2023-12-10T03:37:12.007985Z",
     "iopub.status.busy": "2023-12-10T03:37:12.007638Z",
     "iopub.status.idle": "2023-12-10T03:37:21.408359Z",
     "shell.execute_reply": "2023-12-10T03:37:21.407255Z",
     "shell.execute_reply.started": "2023-12-10T03:37:12.007951Z"
    }
   },
   "outputs": [],
   "source": [
    "rt_train_losses = compute_losses(rt_model, train_loader)\n",
    "rt_test_losses = compute_losses(rt_model, test_loader)\n",
    "rt_forget_losses = compute_losses(rt_model, forget_loader)"
   ]
  },
  {
   "cell_type": "code",
   "execution_count": 29,
   "metadata": {
    "execution": {
     "iopub.execute_input": "2023-12-10T03:37:21.410518Z",
     "iopub.status.busy": "2023-12-10T03:37:21.410101Z",
     "iopub.status.idle": "2023-12-10T03:37:22.919376Z",
     "shell.execute_reply": "2023-12-10T03:37:22.918388Z",
     "shell.execute_reply.started": "2023-12-10T03:37:21.410481Z"
    }
   },
   "outputs": [
    {
     "data": {
      "image/png": "[encoded data removed]",
      "text/plain": [
       "<Figure size 1600x600 with 2 Axes>"
      ]
     },
     "metadata": {},
     "output_type": "display_data"
    }
   ],
   "source": [
    "fig, (ax1, ax2) = plt.subplots(1, 2, figsize=(16, 6))\n",
    "\n",
    "ax1.set_title(f\"Unlearned model test and forget graphs\")\n",
    "ax1.hist(ut_test_losses, density=True, alpha=0.5, bins=50, label=\"Test set\")\n",
    "ax1.hist(ut_forget_losses, density=True, alpha=0.5, bins=50, label=\"Forget set\")\n",
    "\n",
    "ax2.set_title(\n",
    "    f\"Retrain test and forget graphs\"\n",
    ")\n",
    "ax2.hist(rt_test_losses, density=True, alpha=0.5, bins=50, label=\"Test set\")\n",
    "ax2.hist(rt_forget_losses, density=True, alpha=0.5, bins=50, label=\"Forget set\")\n",
    "\n",
    "ax1.set_xlabel(\"Loss\")\n",
    "ax2.set_xlabel(\"Loss\")\n",
    "ax1.set_ylabel(\"Frequency\")\n",
    "ax1.set_yscale(\"log\")\n",
    "ax2.set_yscale(\"log\")\n",
    "ax1.set_xlim((0, np.max(ut_test_losses)))\n",
    "ax2.set_xlim((0, np.max(ut_forget_losses)))\n",
    "for ax in (ax1, ax2):\n",
    "    ax.spines[\"top\"].set_visible(False)\n",
    "    ax.spines[\"right\"].set_visible(False)\n",
    "ax1.legend(frameon=False, fontsize=14)\n",
    "plt.show()"
   ]
  },
  {
   "cell_type": "code",
   "execution_count": 30,
   "metadata": {
    "execution": {
     "iopub.execute_input": "2023-12-10T03:37:22.920983Z",
     "iopub.status.busy": "2023-12-10T03:37:22.920658Z",
     "iopub.status.idle": "2023-12-10T03:37:24.507967Z",
     "shell.execute_reply": "2023-12-10T03:37:24.507029Z",
     "shell.execute_reply.started": "2023-12-10T03:37:22.920957Z"
    }
   },
   "outputs": [
    {
     "data": {
      "image/png": "[encoded data removed]",
      "text/plain": [
       "<Figure size 1600x600 with 2 Axes>"
      ]
     },
     "metadata": {},
     "output_type": "display_data"
    }
   ],
   "source": [
    "fig, (ax1, ax2) = plt.subplots(1, 2, figsize=(16, 6))\n",
    "\n",
    "ax1.set_title(f\"Unlearned model and retrained model forget graphs\")\n",
    "ax1.hist(ut_forget_losses, density=True, alpha=0.5, bins=50, label=\"unlearned forget set graph\")\n",
    "ax1.hist(rt_forget_losses, density=True, alpha=0.5, bins=50, label=\"retrained forget set graph\")\n",
    "\n",
    "ax2.set_title(\n",
    "    f\"Test graphs for the unlearned and retrained model\"\n",
    ")\n",
    "ax2.hist(ut_test_losses, density=True, alpha=0.5, bins=50, label=\"Test set\")\n",
    "ax2.hist(rt_test_losses, density=True, alpha=0.5, bins=50, label=\"Forget set\")\n",
    "\n",
    "ax1.set_xlabel(\"Loss\")\n",
    "ax2.set_xlabel(\"Loss\")\n",
    "ax1.set_ylabel(\"Frequency\")\n",
    "ax1.set_yscale(\"log\")\n",
    "ax2.set_yscale(\"log\")\n",
    "ax1.set_xlim((0, np.max(ut_test_losses)))\n",
    "ax2.set_xlim((0, np.max(ut_forget_losses)))\n",
    "for ax in (ax1, ax2):\n",
    "    ax.spines[\"top\"].set_visible(False)\n",
    "    ax.spines[\"right\"].set_visible(False)\n",
    "ax1.legend(frameon=False, fontsize=14)\n",
    "plt.show()"
   ]
  }
 ],
 "metadata": {
  "kaggle": {
   "accelerator": "gpu",
   "dataSources": [],
   "dockerImageVersionId": 30588,
   "isGpuEnabled": true,
   "isInternetEnabled": true,
   "language": "python",
   "sourceType": "notebook"
  },
  "kernelspec": {
   "display_name": "Python 3 (ipykernel)",
   "language": "python",
   "name": "python3"
  },
  "language_info": {
   "codemirror_mode": {
    "name": "ipython",
    "version": 3
   },
   "file_extension": ".py",
   "mimetype": "text/x-python",
   "name": "python",
   "nbconvert_exporter": "python",
   "pygments_lexer": "ipython3",
   "version": "3.11.6"
  }
 },
 "nbformat": 4,
 "nbformat_minor": 4
}
